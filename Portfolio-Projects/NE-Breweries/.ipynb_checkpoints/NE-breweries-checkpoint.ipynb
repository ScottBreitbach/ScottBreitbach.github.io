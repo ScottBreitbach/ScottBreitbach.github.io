{
 "cells": [
  {
   "cell_type": "markdown",
   "metadata": {},
   "source": [
    "# Nebraska Breweries: \n",
    "## - [Web scraping](#web_scraping)\n",
    "## - <a href='#web_scraping'>Web scraping</a>\n",
    "## - [Address](#address) and [phone number standardization](#phone)\n",
    "## - Combining [SQL](#sql) tables\n",
    "## - [Mapping / visualization](#mapping) of data"
   ]
  },
  {
   "cell_type": "markdown",
   "metadata": {},
   "source": [
    "# Scott Breitbach"
   ]
  },
  {
   "cell_type": "code",
   "execution_count": 1,
   "metadata": {},
   "outputs": [],
   "source": [
    "# !pip install phonenumbers\n",
    "# conda install -c conda-forge python-crfsuite # for pandas_usaddress"
   ]
  },
  {
   "cell_type": "code",
   "execution_count": 2,
   "metadata": {},
   "outputs": [],
   "source": [
    "# Load libraries\n",
    "import pandas as pd\n",
    "import numpy as np\n",
    "import requests\n",
    "import os\n",
    "import matplotlib.pyplot as plt\n",
    "import phonenumbers as pn\n",
    "from fuzzywuzzy import fuzz\n",
    "from fuzzywuzzy import process\n",
    "# import json\n",
    "from dotenv import load_dotenv\n",
    "import urllib\n",
    "import sqlite3\n",
    "import pandas_usaddress\n"
   ]
  },
  {
   "cell_type": "markdown",
   "metadata": {},
   "source": [
    "# Cleaning / Formatting Flat File Source"
   ]
  },
  {
   "cell_type": "markdown",
   "metadata": {},
   "source": [
    "## Load data\n",
    "Nebraska brewery data pulled from [Open Brewery DB Dataset](https://github.com/openbrewerydb/openbrewerydb)"
   ]
  },
  {
   "cell_type": "code",
   "execution_count": 3,
   "metadata": {},
   "outputs": [
    {
     "data": {
      "text/html": [
       "<div>\n",
       "<style scoped>\n",
       "    .dataframe tbody tr th:only-of-type {\n",
       "        vertical-align: middle;\n",
       "    }\n",
       "\n",
       "    .dataframe tbody tr th {\n",
       "        vertical-align: top;\n",
       "    }\n",
       "\n",
       "    .dataframe thead th {\n",
       "        text-align: right;\n",
       "    }\n",
       "</style>\n",
       "<table border=\"1\" class=\"dataframe\">\n",
       "  <thead>\n",
       "    <tr style=\"text-align: right;\">\n",
       "      <th></th>\n",
       "      <th>id</th>\n",
       "      <th>name</th>\n",
       "      <th>brewery_type</th>\n",
       "      <th>street</th>\n",
       "      <th>address_2</th>\n",
       "      <th>address_3</th>\n",
       "      <th>city</th>\n",
       "      <th>state</th>\n",
       "      <th>county_province</th>\n",
       "      <th>postal_code</th>\n",
       "      <th>website_url</th>\n",
       "      <th>phone</th>\n",
       "      <th>country</th>\n",
       "      <th>longitude</th>\n",
       "      <th>latitude</th>\n",
       "      <th>tags</th>\n",
       "    </tr>\n",
       "  </thead>\n",
       "  <tbody>\n",
       "    <tr>\n",
       "      <th>0</th>\n",
       "      <td>backswing-brewing-co-lincoln</td>\n",
       "      <td>Backswing Brewing Co.</td>\n",
       "      <td>micro</td>\n",
       "      <td>500 W South St Ste 8</td>\n",
       "      <td>NaN</td>\n",
       "      <td>NaN</td>\n",
       "      <td>Lincoln</td>\n",
       "      <td>Nebraska</td>\n",
       "      <td>NaN</td>\n",
       "      <td>68522-1744</td>\n",
       "      <td>http://www.backswingbrewing.com</td>\n",
       "      <td>4.025154e+09</td>\n",
       "      <td>United States</td>\n",
       "      <td>NaN</td>\n",
       "      <td>NaN</td>\n",
       "      <td>NaN</td>\n",
       "    </tr>\n",
       "    <tr>\n",
       "      <th>1</th>\n",
       "      <td>barley-boys-brewery-omaha</td>\n",
       "      <td>Barley Boys Brewery</td>\n",
       "      <td>planning</td>\n",
       "      <td>NaN</td>\n",
       "      <td>NaN</td>\n",
       "      <td>NaN</td>\n",
       "      <td>Omaha</td>\n",
       "      <td>Nebraska</td>\n",
       "      <td>NaN</td>\n",
       "      <td>68144-1922</td>\n",
       "      <td>http://www.barleyboysbrewery.com</td>\n",
       "      <td>4.025986e+09</td>\n",
       "      <td>United States</td>\n",
       "      <td>NaN</td>\n",
       "      <td>NaN</td>\n",
       "      <td>NaN</td>\n",
       "    </tr>\n",
       "    <tr>\n",
       "      <th>2</th>\n",
       "      <td>benson-brewery-omaha</td>\n",
       "      <td>Benson Brewery</td>\n",
       "      <td>brewpub</td>\n",
       "      <td>6059 Maple St</td>\n",
       "      <td>NaN</td>\n",
       "      <td>NaN</td>\n",
       "      <td>Omaha</td>\n",
       "      <td>Nebraska</td>\n",
       "      <td>NaN</td>\n",
       "      <td>68104-4050</td>\n",
       "      <td>http://www.bensonbrewery.com</td>\n",
       "      <td>4.029349e+09</td>\n",
       "      <td>United States</td>\n",
       "      <td>-96.006345</td>\n",
       "      <td>41.284898</td>\n",
       "      <td>NaN</td>\n",
       "    </tr>\n",
       "    <tr>\n",
       "      <th>3</th>\n",
       "      <td>blue-blood-brewing-company-lincoln</td>\n",
       "      <td>Blue Blood Brewing Company</td>\n",
       "      <td>brewpub</td>\n",
       "      <td>925 Robbers Cave Rd</td>\n",
       "      <td>NaN</td>\n",
       "      <td>NaN</td>\n",
       "      <td>Lincoln</td>\n",
       "      <td>Nebraska</td>\n",
       "      <td>NaN</td>\n",
       "      <td>68502</td>\n",
       "      <td>http://www.bluebloodbrewing.com</td>\n",
       "      <td>4.024772e+09</td>\n",
       "      <td>United States</td>\n",
       "      <td>-96.707014</td>\n",
       "      <td>40.779996</td>\n",
       "      <td>NaN</td>\n",
       "    </tr>\n",
       "    <tr>\n",
       "      <th>4</th>\n",
       "      <td>boiler-brewing-company-lincoln</td>\n",
       "      <td>Boiler Brewing Company</td>\n",
       "      <td>micro</td>\n",
       "      <td>129 N 10th St Ste 8</td>\n",
       "      <td>NaN</td>\n",
       "      <td>NaN</td>\n",
       "      <td>Lincoln</td>\n",
       "      <td>Nebraska</td>\n",
       "      <td>NaN</td>\n",
       "      <td>68508-3633</td>\n",
       "      <td>http://www.boilerbrewingcompany.com</td>\n",
       "      <td>4.022619e+09</td>\n",
       "      <td>United States</td>\n",
       "      <td>NaN</td>\n",
       "      <td>NaN</td>\n",
       "      <td>NaN</td>\n",
       "    </tr>\n",
       "  </tbody>\n",
       "</table>\n",
       "</div>"
      ],
      "text/plain": [
       "                                   id                        name  \\\n",
       "0        backswing-brewing-co-lincoln       Backswing Brewing Co.   \n",
       "1           barley-boys-brewery-omaha         Barley Boys Brewery   \n",
       "2                benson-brewery-omaha              Benson Brewery   \n",
       "3  blue-blood-brewing-company-lincoln  Blue Blood Brewing Company   \n",
       "4      boiler-brewing-company-lincoln      Boiler Brewing Company   \n",
       "\n",
       "  brewery_type                street  address_2  address_3     city     state  \\\n",
       "0        micro  500 W South St Ste 8        NaN        NaN  Lincoln  Nebraska   \n",
       "1     planning                   NaN        NaN        NaN    Omaha  Nebraska   \n",
       "2      brewpub         6059 Maple St        NaN        NaN    Omaha  Nebraska   \n",
       "3      brewpub   925 Robbers Cave Rd        NaN        NaN  Lincoln  Nebraska   \n",
       "4        micro   129 N 10th St Ste 8        NaN        NaN  Lincoln  Nebraska   \n",
       "\n",
       "   county_province postal_code                          website_url  \\\n",
       "0              NaN  68522-1744      http://www.backswingbrewing.com   \n",
       "1              NaN  68144-1922     http://www.barleyboysbrewery.com   \n",
       "2              NaN  68104-4050         http://www.bensonbrewery.com   \n",
       "3              NaN       68502      http://www.bluebloodbrewing.com   \n",
       "4              NaN  68508-3633  http://www.boilerbrewingcompany.com   \n",
       "\n",
       "          phone        country  longitude   latitude  tags  \n",
       "0  4.025154e+09  United States        NaN        NaN   NaN  \n",
       "1  4.025986e+09  United States        NaN        NaN   NaN  \n",
       "2  4.029349e+09  United States -96.006345  41.284898   NaN  \n",
       "3  4.024772e+09  United States -96.707014  40.779996   NaN  \n",
       "4  4.022619e+09  United States        NaN        NaN   NaN  "
      ]
     },
     "execution_count": 3,
     "metadata": {},
     "output_type": "execute_result"
    }
   ],
   "source": [
    "# Read NE breweries CSV file\n",
    "brewersDF = pd.read_csv('nebraska.csv')\n",
    "brewersDF.head()"
   ]
  },
  {
   "cell_type": "code",
   "execution_count": 4,
   "metadata": {},
   "outputs": [
    {
     "name": "stdout",
     "output_type": "stream",
     "text": [
      "<class 'pandas.core.frame.DataFrame'>\n",
      "RangeIndex: 57 entries, 0 to 56\n",
      "Data columns (total 16 columns):\n",
      " #   Column           Non-Null Count  Dtype  \n",
      "---  ------           --------------  -----  \n",
      " 0   id               57 non-null     object \n",
      " 1   name             57 non-null     object \n",
      " 2   brewery_type     57 non-null     object \n",
      " 3   street           49 non-null     object \n",
      " 4   address_2        0 non-null      float64\n",
      " 5   address_3        0 non-null      float64\n",
      " 6   city             57 non-null     object \n",
      " 7   state            57 non-null     object \n",
      " 8   county_province  0 non-null      float64\n",
      " 9   postal_code      57 non-null     object \n",
      " 10  website_url      49 non-null     object \n",
      " 11  phone            53 non-null     float64\n",
      " 12  country          57 non-null     object \n",
      " 13  longitude        31 non-null     float64\n",
      " 14  latitude         31 non-null     float64\n",
      " 15  tags             0 non-null      float64\n",
      "dtypes: float64(7), object(9)\n",
      "memory usage: 7.2+ KB\n"
     ]
    }
   ],
   "source": [
    "# Look at data\n",
    "brewersDF.info()"
   ]
  },
  {
   "cell_type": "markdown",
   "metadata": {},
   "source": [
    "### Remove columns consisting entirely of Null values"
   ]
  },
  {
   "cell_type": "code",
   "execution_count": 5,
   "metadata": {},
   "outputs": [],
   "source": [
    "# Drop columns with all Null values\n",
    "brewersDF.dropna(axis=1, how='all', inplace=True) "
   ]
  },
  {
   "cell_type": "markdown",
   "metadata": {},
   "source": [
    "### Remove breweries that are in planning"
   ]
  },
  {
   "cell_type": "code",
   "execution_count": 6,
   "metadata": {},
   "outputs": [],
   "source": [
    "# Remove brewery types listed as 'planning'\n",
    "brewersDF = brewersDF[brewersDF['brewery_type'] != 'planning']"
   ]
  },
  {
   "cell_type": "markdown",
   "metadata": {
    "tags": []
   },
   "source": [
    "### Remove 'country' column (all US)"
   ]
  },
  {
   "cell_type": "code",
   "execution_count": 7,
   "metadata": {},
   "outputs": [],
   "source": [
    "# Remove 'country column\n",
    "brewersDF.drop(['country'], axis=1, inplace=True)"
   ]
  },
  {
   "cell_type": "markdown",
   "metadata": {},
   "source": [
    "### Create column with 5-digit zipcode"
   ]
  },
  {
   "cell_type": "code",
   "execution_count": 8,
   "metadata": {},
   "outputs": [],
   "source": [
    "# Create column 'zip5' containing 5-digit zip\n",
    "brewersDF['zip5'] = brewersDF['postal_code'].str[:5]\n",
    "# Remove a trailing hyphen from one of the rows\n",
    "brewersDF['postal_code'] = brewersDF['postal_code'].map(lambda x: x.rstrip('-'))"
   ]
  },
  {
   "cell_type": "markdown",
   "metadata": {},
   "source": [
    "### Look for columns with duplicates"
   ]
  },
  {
   "cell_type": "code",
   "execution_count": 9,
   "metadata": {},
   "outputs": [
    {
     "name": "stdout",
     "output_type": "stream",
     "text": [
      "Duplicates in:\n",
      "             id: False\n",
      "           name: True\n",
      "   brewery_type: True\n",
      "         street: False\n",
      "           city: True\n",
      "          state: True\n",
      "    postal_code: False\n",
      "    website_url: True\n",
      "          phone: True\n",
      "      longitude: True\n",
      "       latitude: True\n",
      "           zip5: True\n"
     ]
    }
   ],
   "source": [
    "# Show which columns contain duplicates\n",
    "print(\"Duplicates in:\")\n",
    "for name in brewersDF.columns:\n",
    "    print(\"{:>15}:\".format(name), any(brewersDF[name].duplicated()))"
   ]
  },
  {
   "cell_type": "markdown",
   "metadata": {},
   "source": [
    "Unique streets is a good sign that there aren't duplicated locations. Everything looks pretty good here."
   ]
  },
  {
   "cell_type": "markdown",
   "metadata": {},
   "source": [
    "### Fix phone numbers showing up in scientific notation"
   ]
  },
  {
   "cell_type": "code",
   "execution_count": 10,
   "metadata": {},
   "outputs": [],
   "source": [
    "# Convert Null values to 0 before converting to integers\n",
    "brewersDF['phone'] = brewersDF['phone'].fillna(0.0).apply(np.int64)"
   ]
  },
  {
   "cell_type": "code",
   "execution_count": 11,
   "metadata": {},
   "outputs": [
    {
     "data": {
      "text/html": [
       "<div>\n",
       "<style scoped>\n",
       "    .dataframe tbody tr th:only-of-type {\n",
       "        vertical-align: middle;\n",
       "    }\n",
       "\n",
       "    .dataframe tbody tr th {\n",
       "        vertical-align: top;\n",
       "    }\n",
       "\n",
       "    .dataframe thead th {\n",
       "        text-align: right;\n",
       "    }\n",
       "</style>\n",
       "<table border=\"1\" class=\"dataframe\">\n",
       "  <thead>\n",
       "    <tr style=\"text-align: right;\">\n",
       "      <th></th>\n",
       "      <th>id</th>\n",
       "      <th>name</th>\n",
       "      <th>brewery_type</th>\n",
       "      <th>street</th>\n",
       "      <th>city</th>\n",
       "      <th>state</th>\n",
       "      <th>postal_code</th>\n",
       "      <th>website_url</th>\n",
       "      <th>phone</th>\n",
       "      <th>longitude</th>\n",
       "      <th>latitude</th>\n",
       "      <th>zip5</th>\n",
       "    </tr>\n",
       "  </thead>\n",
       "  <tbody>\n",
       "    <tr>\n",
       "      <th>5</th>\n",
       "      <td>bolo-beer-co-valentine</td>\n",
       "      <td>Bolo Beer Co</td>\n",
       "      <td>micro</td>\n",
       "      <td>420 E 1st St</td>\n",
       "      <td>Valentine</td>\n",
       "      <td>Nebraska</td>\n",
       "      <td>69201-1904</td>\n",
       "      <td>http://www.bolobeer.com</td>\n",
       "      <td>0</td>\n",
       "      <td>-100.545728</td>\n",
       "      <td>42.872047</td>\n",
       "      <td>69201</td>\n",
       "    </tr>\n",
       "    <tr>\n",
       "      <th>22</th>\n",
       "      <td>green-flash-brewing-co-lincoln</td>\n",
       "      <td>Green Flash Brewing Co</td>\n",
       "      <td>brewpub</td>\n",
       "      <td>1630 P St</td>\n",
       "      <td>Lincoln</td>\n",
       "      <td>Nebraska</td>\n",
       "      <td>68508-1644</td>\n",
       "      <td>NaN</td>\n",
       "      <td>0</td>\n",
       "      <td>-96.697680</td>\n",
       "      <td>40.814811</td>\n",
       "      <td>68508</td>\n",
       "    </tr>\n",
       "    <tr>\n",
       "      <th>24</th>\n",
       "      <td>highway-14-brewing-company-albion</td>\n",
       "      <td>Highway 14 Brewing Company</td>\n",
       "      <td>micro</td>\n",
       "      <td>134 South 4th Street</td>\n",
       "      <td>Albion</td>\n",
       "      <td>Nebraska</td>\n",
       "      <td>68620</td>\n",
       "      <td>NaN</td>\n",
       "      <td>0</td>\n",
       "      <td>NaN</td>\n",
       "      <td>NaN</td>\n",
       "      <td>68620</td>\n",
       "    </tr>\n",
       "  </tbody>\n",
       "</table>\n",
       "</div>"
      ],
      "text/plain": [
       "                                   id                        name  \\\n",
       "5              bolo-beer-co-valentine                Bolo Beer Co   \n",
       "22     green-flash-brewing-co-lincoln      Green Flash Brewing Co   \n",
       "24  highway-14-brewing-company-albion  Highway 14 Brewing Company   \n",
       "\n",
       "   brewery_type                street       city     state postal_code  \\\n",
       "5         micro          420 E 1st St  Valentine  Nebraska  69201-1904   \n",
       "22      brewpub             1630 P St    Lincoln  Nebraska  68508-1644   \n",
       "24        micro  134 South 4th Street     Albion  Nebraska       68620   \n",
       "\n",
       "                website_url  phone   longitude   latitude   zip5  \n",
       "5   http://www.bolobeer.com      0 -100.545728  42.872047  69201  \n",
       "22                      NaN      0  -96.697680  40.814811  68508  \n",
       "24                      NaN      0         NaN        NaN  68620  "
      ]
     },
     "execution_count": 11,
     "metadata": {},
     "output_type": "execute_result"
    }
   ],
   "source": [
    "# Look at missing phone numbers\n",
    "brewersDF[brewersDF['phone'] == 0]"
   ]
  },
  {
   "cell_type": "markdown",
   "metadata": {},
   "source": [
    "Green Flash Brewing has closed and I looked up the phone numbers for Bolo and Hwy 14."
   ]
  },
  {
   "cell_type": "code",
   "execution_count": 12,
   "metadata": {},
   "outputs": [],
   "source": [
    "# Add Bolo phone number\n",
    "brewersDF.loc[brewersDF['name'] == 'Bolo Beer Co', 'phone'] = 4022595180\n",
    "# Add Hwy 14 phone number\n",
    "brewersDF.loc[brewersDF['name'] == 'Highway 14 Brewing Company', 'phone'] = 4023958733\n",
    "# Remove Green Flash entry\n",
    "brewersDF.drop(brewersDF[brewersDF['name'] == 'Green Flash Brewing Co'].index, inplace=True)\n",
    "# Blue Blood is closed and also needs removed\n",
    "brewersDF.drop(brewersDF[brewersDF['name'] == 'Blue Blood Brewing Company'].index, inplace=True)\n",
    "# Fix typo in Monolithic \"Monolitch Brewing Company\"\n",
    "brewersDF.loc[brewersDF['name'] == 'Monolitch Brewing Company', 'name'] = 'Monolithic Brewing Company'\n",
    "# Remove \"Lazlo's\" because it's a restaurant associated with Empyrean Brewing (already listed)\n",
    "brewersDF.drop(brewersDF[brewersDF['name'] == \"Lazlo's Brewery & Grill - Haymarket\"].index, inplace=True)"
   ]
  },
  {
   "cell_type": "code",
   "execution_count": 13,
   "metadata": {},
   "outputs": [],
   "source": [
    "# # Look at missing phone numbers\n",
    "# brewersDF[brewersDF['phone'] == 0]"
   ]
  },
  {
   "cell_type": "code",
   "execution_count": 14,
   "metadata": {},
   "outputs": [],
   "source": [
    "# Reformat phone numbers to be more readable (XXX) XXX-XXXX\n",
    "brewersDF['phone'] = brewersDF['phone'].astype(str).map(lambda x: pn.format_number(\n",
    "    pn.parse(x, 'US'), pn.PhoneNumberFormat.NATIONAL))"
   ]
  },
  {
   "cell_type": "code",
   "execution_count": 15,
   "metadata": {},
   "outputs": [
    {
     "data": {
      "text/plain": [
       "0    (402) 515-4263\n",
       "2    (402) 934-8668\n",
       "4    (402) 261-8775\n",
       "Name: phone, dtype: object"
      ]
     },
     "execution_count": 15,
     "metadata": {},
     "output_type": "execute_result"
    }
   ],
   "source": [
    "# Trust but verify\n",
    "brewersDF['phone'].head(3)"
   ]
  },
  {
   "cell_type": "code",
   "execution_count": 16,
   "metadata": {},
   "outputs": [],
   "source": [
    "# Make brewery type uppercase\n",
    "brewersDF['brewery_type'] = brewersDF['brewery_type'].apply(lambda x: x.title())"
   ]
  },
  {
   "cell_type": "markdown",
   "metadata": {},
   "source": [
    "### Rearrange & rename column headers"
   ]
  },
  {
   "cell_type": "code",
   "execution_count": 17,
   "metadata": {},
   "outputs": [],
   "source": [
    "# set new column order\n",
    "newColOrder = ['id', 'name', 'brewery_type', 'street', 'city', 'state', 'postal_code', \n",
    "               'zip5', 'website_url', 'phone', 'longitude', 'latitude']\n",
    "brewersDF = brewersDF[newColOrder]\n",
    "\n",
    "# set new column names, for readability\n",
    "newColNames = ['Brewery ID', 'Brewery Name', 'Type of Brewery', 'Street Address', \n",
    "               'City', 'State', 'Postal Code', '5-digit Zip', 'Website', 'Phone',\n",
    "               'Longitude', 'Latitude']\n",
    "brewersDF.columns = newColNames"
   ]
  },
  {
   "cell_type": "markdown",
   "metadata": {},
   "source": [
    "### Data visualization"
   ]
  },
  {
   "cell_type": "code",
   "execution_count": 18,
   "metadata": {},
   "outputs": [
    {
     "data": {
      "image/png": "[encoded data removed]",
      "text/plain": [
       "<Figure size 432x288 with 1 Axes>"
      ]
     },
     "metadata": {
      "needs_background": "light"
     },
     "output_type": "display_data"
    }
   ],
   "source": [
    "# Compare types of breweries\n",
    "brewersDF['Type of Brewery'].value_counts().plot(kind='bar')\n",
    "\n",
    "plt.title('NE Breweries by Type')\n",
    "plt.ylabel('# of Breweries')\n",
    "plt.show()"
   ]
  },
  {
   "cell_type": "code",
   "execution_count": 19,
   "metadata": {},
   "outputs": [
    {
     "data": {
      "image/png": "[encoded data removed]",
      "text/plain": [
       "<Figure size 432x288 with 1 Axes>"
      ]
     },
     "metadata": {
      "needs_background": "light"
     },
     "output_type": "display_data"
    }
   ],
   "source": [
    "# Compare number of breweries by zipcode\n",
    "brewersDF['5-digit Zip'].value_counts().plot(kind='bar')\n",
    "\n",
    "plt.title('NE Breweries by Zip Code')\n",
    "plt.xlabel('5-digit Zip')\n",
    "plt.ylabel('# of Breweries')\n",
    "plt.yticks([0,1,2,3])\n",
    "plt.show()"
   ]
  },
  {
   "cell_type": "markdown",
   "metadata": {},
   "source": [
    "Nebraska zip codes range from 68001 to 69367. All of these appear to be within that range, so no unusual values here."
   ]
  },
  {
   "cell_type": "code",
   "execution_count": 20,
   "metadata": {},
   "outputs": [],
   "source": [
    "# Save as CSV\n",
    "brewersDF.to_csv('CSV_nebraskaCleaned.csv', index=False)"
   ]
  },
  {
   "cell_type": "code",
   "execution_count": 21,
   "metadata": {},
   "outputs": [
    {
     "data": {
      "text/plain": [
       "0                           Backswing Brewing Co.\n",
       "2                                  Benson Brewery\n",
       "4                          Boiler Brewing Company\n",
       "5                                    Bolo Beer Co\n",
       "6     Bootleg Brewers - Sandhills Brewing Company\n",
       "7                        Bottle Rocket Brewing Co\n",
       "9                 Brickway Brewery and Distillery\n",
       "10                    Brush Creek Brewing Company\n",
       "11                                  Code Beer Co.\n",
       "13                                 Divots Brewery\n",
       "14                            Empyrean Brewing Co\n",
       "15                  Fairfield Opera House Brewery\n",
       "16                   Farnam House Brewing Company\n",
       "17                           First Street Brewing\n",
       "19                              Gottberg Brew Pub\n",
       "20              Granite City Food & Brewery (#16)\n",
       "21               Granite City Food & Brewery (#7)\n",
       "23              Hanging Horseshoe Brewing Company\n",
       "24                     Highway 14 Brewing Company\n",
       "25                       Infusion Brewing Company\n",
       "26                       Infusion Brewing Company\n",
       "27                  Jaipur Restaurant and Brewpub\n",
       "29                   Johnnie Byrd Brewing Company\n",
       "31                           Kinkaider Brewing Co\n",
       "32                    Kros Strain Brewing Company\n",
       "34                             Lazy Horse Brewing\n",
       "35                                Loop Brewing Co\n",
       "36                               Lost Way Brewery\n",
       "37                        Lucky Bucket Brewing Co\n",
       "39                     Monolithic Brewing Company\n",
       "40                 Nebraska Brewing Co - La Vista\n",
       "41                Nebraska Brewing Co - Papillion\n",
       "42                           Pals Brewing Company\n",
       "43                                         Pint 9\n",
       "44                          Prairie Pride Brewery\n",
       "46          SchillingBridge Winery & Microbrewery\n",
       "47                    Scratchtown Brewing Company\n",
       "48                      Scriptown Brewing Company\n",
       "49                          Soaring Wings Brewing\n",
       "50                             Steeple Brewing Co\n",
       "51                   Stone Hollow Brewing Company\n",
       "52                         Thunderhead Brewing Co\n",
       "53                       Upstream Brewing Co (#1)\n",
       "54                           Vis Major Brewing Co\n",
       "55                           White Elm Brewing Co\n",
       "56                             Zipline Brewing Co\n",
       "Name: Brewery Name, dtype: object"
      ]
     },
     "execution_count": 21,
     "metadata": {},
     "output_type": "execute_result"
    }
   ],
   "source": [
    "brewersDF['Brewery Name']"
   ]
  },
  {
   "cell_type": "markdown",
   "metadata": {},
   "source": [
    "<a id='web_scraping'></a>"
   ]
  },
  {
   "cell_type": "markdown",
   "metadata": {},
   "source": [
    "# Scrape Brewery data from Nebraska Beer subreddit"
   ]
  },
  {
   "cell_type": "markdown",
   "metadata": {},
   "source": [
    "## Retrieve data tables from HTML data"
   ]
  },
  {
   "cell_type": "code",
   "execution_count": 22,
   "metadata": {},
   "outputs": [],
   "source": [
    "# This didn't work every time so I added some redundancy:\n",
    "try:\n",
    "    listOfDF = pd.read_html(\"https://www.reddit.com/r/nebraskabeer/wiki/beer_list/\")\n",
    "except:\n",
    "    try:\n",
    "        listOfDF = pd.read_html(\"https://www.reddit.com/r/nebraskabeer/wiki/beer_list/\")\n",
    "    except:\n",
    "        try:\n",
    "            listOfDF = pd.read_html(\"https://www.reddit.com/r/nebraskabeer/wiki/beer_list/\")\n",
    "        except:\n",
    "            print(\"Failed to connect; try again later.\")"
   ]
  },
  {
   "cell_type": "code",
   "execution_count": 23,
   "metadata": {},
   "outputs": [
    {
     "name": "stdout",
     "output_type": "stream",
     "text": [
      "There are 7 tables on the page.\n"
     ]
    }
   ],
   "source": [
    "# Get the number of tables from the site\n",
    "numTables = len(listOfDF)\n",
    "print(\"There are {} tables on the page.\".format(numTables))"
   ]
  },
  {
   "cell_type": "code",
   "execution_count": 24,
   "metadata": {},
   "outputs": [
    {
     "data": {
      "text/html": [
       "<div>\n",
       "<style scoped>\n",
       "    .dataframe tbody tr th:only-of-type {\n",
       "        vertical-align: middle;\n",
       "    }\n",
       "\n",
       "    .dataframe tbody tr th {\n",
       "        vertical-align: top;\n",
       "    }\n",
       "\n",
       "    .dataframe thead th {\n",
       "        text-align: right;\n",
       "    }\n",
       "</style>\n",
       "<table border=\"1\" class=\"dataframe\">\n",
       "  <thead>\n",
       "    <tr style=\"text-align: right;\">\n",
       "      <th></th>\n",
       "      <th>Name</th>\n",
       "      <th>City</th>\n",
       "      <th>Type</th>\n",
       "      <th>Distribution</th>\n",
       "      <th>Notes</th>\n",
       "    </tr>\n",
       "  </thead>\n",
       "  <tbody>\n",
       "    <tr>\n",
       "      <th>0</th>\n",
       "      <td>Backswing Brewing Co.</td>\n",
       "      <td>Lincoln</td>\n",
       "      <td>Micro</td>\n",
       "      <td>On-tap at the brewery and at select locations</td>\n",
       "      <td>Distro planned for 2016</td>\n",
       "    </tr>\n",
       "    <tr>\n",
       "      <th>1</th>\n",
       "      <td>Bearded Brewer</td>\n",
       "      <td>Omaha - West</td>\n",
       "      <td>Taproom</td>\n",
       "      <td>Beer onsite, Crowlers available</td>\n",
       "      <td>May 1 2021 Opening.</td>\n",
       "    </tr>\n",
       "    <tr>\n",
       "      <th>2</th>\n",
       "      <td>Benson Brewery</td>\n",
       "      <td>Omaha</td>\n",
       "      <td>Taproom</td>\n",
       "      <td>On tap only at the brewery</td>\n",
       "      <td>Other beers, locals included, on tap. Omaha Br...</td>\n",
       "    </tr>\n",
       "  </tbody>\n",
       "</table>\n",
       "</div>"
      ],
      "text/plain": [
       "                    Name          City     Type  \\\n",
       "0  Backswing Brewing Co.       Lincoln    Micro   \n",
       "1         Bearded Brewer  Omaha - West  Taproom   \n",
       "2         Benson Brewery         Omaha  Taproom   \n",
       "\n",
       "                                    Distribution  \\\n",
       "0  On-tap at the brewery and at select locations   \n",
       "1                Beer onsite, Crowlers available   \n",
       "2                     On tap only at the brewery   \n",
       "\n",
       "                                               Notes  \n",
       "0                            Distro planned for 2016  \n",
       "1                                May 1 2021 Opening.  \n",
       "2  Other beers, locals included, on tap. Omaha Br...  "
      ]
     },
     "execution_count": 24,
     "metadata": {},
     "output_type": "execute_result"
    }
   ],
   "source": [
    "# Find the correct table\n",
    "listOfDF[0].head(3)"
   ]
  },
  {
   "cell_type": "markdown",
   "metadata": {},
   "source": [
    "The very first table, excellent!"
   ]
  },
  {
   "cell_type": "code",
   "execution_count": 25,
   "metadata": {},
   "outputs": [],
   "source": [
    "# Assign table to a dataframe\n",
    "breweriesDF = listOfDF[0]"
   ]
  },
  {
   "cell_type": "code",
   "execution_count": 26,
   "metadata": {},
   "outputs": [
    {
     "data": {
      "text/html": [
       "<div>\n",
       "<style scoped>\n",
       "    .dataframe tbody tr th:only-of-type {\n",
       "        vertical-align: middle;\n",
       "    }\n",
       "\n",
       "    .dataframe tbody tr th {\n",
       "        vertical-align: top;\n",
       "    }\n",
       "\n",
       "    .dataframe thead th {\n",
       "        text-align: right;\n",
       "    }\n",
       "</style>\n",
       "<table border=\"1\" class=\"dataframe\">\n",
       "  <thead>\n",
       "    <tr style=\"text-align: right;\">\n",
       "      <th></th>\n",
       "      <th>Name</th>\n",
       "      <th>City</th>\n",
       "      <th>Type</th>\n",
       "      <th>Distribution</th>\n",
       "      <th>Notes</th>\n",
       "    </tr>\n",
       "  </thead>\n",
       "  <tbody>\n",
       "    <tr>\n",
       "      <th>count</th>\n",
       "      <td>62</td>\n",
       "      <td>62</td>\n",
       "      <td>62</td>\n",
       "      <td>54</td>\n",
       "      <td>43</td>\n",
       "    </tr>\n",
       "    <tr>\n",
       "      <th>unique</th>\n",
       "      <td>62</td>\n",
       "      <td>47</td>\n",
       "      <td>5</td>\n",
       "      <td>25</td>\n",
       "      <td>42</td>\n",
       "    </tr>\n",
       "    <tr>\n",
       "      <th>top</th>\n",
       "      <td>Backswing Brewing Co.</td>\n",
       "      <td>Lincoln</td>\n",
       "      <td>Micro</td>\n",
       "      <td>On tap at the brewery</td>\n",
       "      <td>Winery</td>\n",
       "    </tr>\n",
       "    <tr>\n",
       "      <th>freq</th>\n",
       "      <td>1</td>\n",
       "      <td>6</td>\n",
       "      <td>22</td>\n",
       "      <td>16</td>\n",
       "      <td>2</td>\n",
       "    </tr>\n",
       "  </tbody>\n",
       "</table>\n",
       "</div>"
      ],
      "text/plain": [
       "                         Name     City   Type           Distribution   Notes\n",
       "count                      62       62     62                     54      43\n",
       "unique                     62       47      5                     25      42\n",
       "top     Backswing Brewing Co.  Lincoln  Micro  On tap at the brewery  Winery\n",
       "freq                        1        6     22                     16       2"
      ]
     },
     "execution_count": 26,
     "metadata": {},
     "output_type": "execute_result"
    }
   ],
   "source": [
    "# Get an overview of the data\n",
    "breweriesDF.describe()"
   ]
  },
  {
   "cell_type": "markdown",
   "metadata": {},
   "source": [
    "## Identify Null values"
   ]
  },
  {
   "cell_type": "code",
   "execution_count": 27,
   "metadata": {},
   "outputs": [
    {
     "name": "stdout",
     "output_type": "stream",
     "text": [
      "<class 'pandas.core.frame.DataFrame'>\n",
      "RangeIndex: 62 entries, 0 to 61\n",
      "Data columns (total 5 columns):\n",
      " #   Column        Non-Null Count  Dtype \n",
      "---  ------        --------------  ----- \n",
      " 0   Name          62 non-null     object\n",
      " 1   City          62 non-null     object\n",
      " 2   Type          62 non-null     object\n",
      " 3   Distribution  54 non-null     object\n",
      " 4   Notes         43 non-null     object\n",
      "dtypes: object(5)\n",
      "memory usage: 2.5+ KB\n"
     ]
    }
   ],
   "source": [
    "# Review data info\n",
    "breweriesDF.info()"
   ]
  },
  {
   "cell_type": "markdown",
   "metadata": {},
   "source": [
    "No Null values in Name, City, or Type, which are my main columns of interest."
   ]
  },
  {
   "cell_type": "markdown",
   "metadata": {},
   "source": [
    "## Rename headers"
   ]
  },
  {
   "cell_type": "code",
   "execution_count": 28,
   "metadata": {},
   "outputs": [],
   "source": [
    "# Make lists of old and new column names\n",
    "oldCols = breweriesDF.columns\n",
    "newCols = ['Brewery Name', \n",
    "           'City', \n",
    "           'Type of Brewery', \n",
    "           'Type of Distribution', \n",
    "           'Notes']\n",
    "\n",
    "# Replace column names\n",
    "breweriesDF.columns = newCols"
   ]
  },
  {
   "cell_type": "markdown",
   "metadata": {},
   "source": [
    "## Check for duplicates"
   ]
  },
  {
   "cell_type": "code",
   "execution_count": 29,
   "metadata": {},
   "outputs": [
    {
     "name": "stdout",
     "output_type": "stream",
     "text": [
      "Duplicates in:\n",
      "Brewery Name.................. False\n",
      "City.......................... True\n",
      "Type of Brewery............... True\n",
      "Type of Distribution.......... True\n",
      "Notes......................... True\n"
     ]
    }
   ],
   "source": [
    "# Which columns have duplicates\n",
    "print(\"Duplicates in:\")\n",
    "for name in breweriesDF.columns:\n",
    "    print(\"{:.<30}\".format(name), any(breweriesDF[name].duplicated()))"
   ]
  },
  {
   "cell_type": "markdown",
   "metadata": {},
   "source": [
    "All Brewery Names are unique; other duplicates are acceptable."
   ]
  },
  {
   "cell_type": "markdown",
   "metadata": {},
   "source": [
    "## Look at brewery counts by city"
   ]
  },
  {
   "cell_type": "code",
   "execution_count": 30,
   "metadata": {},
   "outputs": [
    {
     "data": {
      "text/plain": [
       "Lincoln                                                                                                    6\n",
       "Omaha                                                                                                      5\n",
       "North Platte                                                                                               2\n",
       "Omaha - West                                                                                               2\n",
       "LaVista                                                                                                    2\n",
       "Omaha - Downtown                                                                                           2\n",
       "Hastings                                                                                                   2\n",
       "Omaha - Midtown                                                                                            2\n",
       "Broken Bow / Grand Island / Lincoln Haymarket / Lincoln Boombox Social                                     1\n",
       "LaVista / Downtown Omaha                                                                                   1\n",
       "Ohiowa                                                                                                     1\n",
       "McCook                                                                                                     1\n",
       "Holdrege                                                                                                   1\n",
       "Lexington                                                                                                  1\n",
       "Papillion                                                                                                  1\n",
       "Wayne                                                                                                      1\n",
       "Grand Island                                                                                               1\n",
       "Syracuse                                                                                                   1\n",
       "Pawnee City / Lincoln                                                                                      1\n",
       "Ord                                                                                                        1\n",
       "Springfield                                                                                                1\n",
       "Beatrice                                                                                                   1\n",
       "Kearney / Omaha - West / Omaha - Downtown / Axtell                                                         1\n",
       "Kearney                                                                                                    1\n",
       "Lincoln / Lincoln - Haymarket                                                                              1\n",
       "Elkhorn                                                                                                    1\n",
       "Imperial                                                                                                   1\n",
       "Benson / Omaha - SW / Omaha - Little Bohemia / Omaha - The Switch                                          1\n",
       "Albion / Columbus coming soon                                                                              1\n",
       "Hartington                                                                                                 1\n",
       "Lincoln / Lincoln - South                                                                                  1\n",
       "Valentine                                                                                                  1\n",
       "Taylor                                                                                                     1\n",
       "Sidney                                                                                                     1\n",
       "Seward                                                                                                     1\n",
       "Alliance                                                                                                   1\n",
       "Atkinson                                                                                                   1\n",
       "Johnson Lake                                                                                               1\n",
       "Norfolk                                                                                                    1\n",
       "Lincoln - Haymarket                                                                                        1\n",
       "Fairfield                                                                                                  1\n",
       "Fremont                                                                                                    1\n",
       "Scottsbluff                                                                                                1\n",
       "Ashland / Palmyra                                                                                          1\n",
       "Columbus                                                                                                   1\n",
       "Omaha / Lincoln                                                                                            1\n",
       "Lincoln - West / Lincoln - SE (Beer Hall) / Omaha - West (Beer Lounge) / Omaha - Downtown (Culture Lab)    1\n",
       "Name: City, dtype: int64"
      ]
     },
     "execution_count": 30,
     "metadata": {},
     "output_type": "execute_result"
    }
   ],
   "source": [
    "breweriesDF['City'].value_counts()"
   ]
  },
  {
   "cell_type": "markdown",
   "metadata": {},
   "source": [
    "As expected, larger cities have more breweries, but some breweries have multiple locations, which is problematic.  \n",
    "Since I am interested in the breweries, I will assign the primary location and add a column showing number of breweries."
   ]
  },
  {
   "cell_type": "code",
   "execution_count": 31,
   "metadata": {},
   "outputs": [],
   "source": [
    "# Rename City column header\n",
    "breweriesDF = breweriesDF.rename(columns={'City':'Locations'})"
   ]
  },
  {
   "cell_type": "code",
   "execution_count": 32,
   "metadata": {},
   "outputs": [],
   "source": [
    "# Create column with number of locations based on location dividers\n",
    "breweriesDF['# Locations'] = breweriesDF['Locations'].str.count('/') + 1"
   ]
  },
  {
   "cell_type": "markdown",
   "metadata": {},
   "source": [
    "## Get Primary city for each brewery\n",
    "Keeping the column with all locations as it may be useful data."
   ]
  },
  {
   "cell_type": "code",
   "execution_count": 33,
   "metadata": {},
   "outputs": [],
   "source": [
    "# Create 'City' column from the info before the first '/' in the 'Location' column\n",
    "breweriesDF['City'] = breweriesDF['Locations'].str.partition('/')[0]\n",
    "\n",
    "# Keep only the information before the hyphen ('-') in the 'City' column\n",
    "breweriesDF['City'] = breweriesDF['City'].str.partition('-')[0]\n",
    "\n",
    "# Remove extra spaces in the 'City' column\n",
    "breweriesDF['City'] = breweriesDF['City'].str.strip()\n",
    "\n",
    "# # This can be used to split the multiple locations into a list, if needed:\n",
    "# breweriesDF['Locations'] = breweriesDF['Locations'].str.split('/')"
   ]
  },
  {
   "cell_type": "code",
   "execution_count": 34,
   "metadata": {},
   "outputs": [],
   "source": [
    "# Add a state column (redundant, but could be useful)\n",
    "breweriesDF['State'] = 'Nebraska'"
   ]
  },
  {
   "cell_type": "markdown",
   "metadata": {},
   "source": [
    "### Rearrange columns"
   ]
  },
  {
   "cell_type": "code",
   "execution_count": 35,
   "metadata": {},
   "outputs": [
    {
     "data": {
      "text/plain": [
       "Index(['Brewery Name', 'Locations', 'Type of Brewery', 'Type of Distribution',\n",
       "       'Notes', '# Locations', 'City', 'State'],\n",
       "      dtype='object')"
      ]
     },
     "execution_count": 35,
     "metadata": {},
     "output_type": "execute_result"
    }
   ],
   "source": [
    "# Get existing columns\n",
    "dfCols = breweriesDF.columns\n",
    "dfCols"
   ]
  },
  {
   "cell_type": "code",
   "execution_count": 36,
   "metadata": {},
   "outputs": [],
   "source": [
    "# Set new column order and rearrange\n",
    "newColOrder = ['Brewery Name', 'City', 'State', 'Type of Brewery', \n",
    "               'Type of Distribution', 'Notes', '# Locations', 'Locations']\n",
    "breweriesDF = breweriesDF[newColOrder]"
   ]
  },
  {
   "cell_type": "markdown",
   "metadata": {
    "tags": []
   },
   "source": [
    "## Fuzzy matching\n",
    "[Reference](https://medium.com/analytics-vidhya/matching-messy-pandas-columns-with-fuzzywuzzy-4adda6c7994f)"
   ]
  },
  {
   "cell_type": "markdown",
   "metadata": {},
   "source": [
    "### Try out different FuzzyWuzzy scorers:"
   ]
  },
  {
   "cell_type": "code",
   "execution_count": 37,
   "metadata": {},
   "outputs": [],
   "source": [
    "# Prep data\n",
    "actualDF = breweriesDF.copy()\n",
    "checkDF = pd.read_csv('CSV_nebraskaCleaned.csv')\n",
    "testDF = pd.DataFrame()\n",
    "testDF['NamesToCheck'] = checkDF['Brewery Name']"
   ]
  },
  {
   "cell_type": "code",
   "execution_count": 38,
   "metadata": {},
   "outputs": [],
   "source": [
    "# Set up dictionary of abbreviations for FuzzyWuzzy scorers:\n",
    "scorer_dict = { 'R':fuzz.ratio, \n",
    "                'PR': fuzz.partial_ratio, \n",
    "                'TSeR': fuzz.token_set_ratio, \n",
    "                'TSoR': fuzz.token_sort_ratio,\n",
    "                'PTSeR': fuzz.partial_token_set_ratio, \n",
    "                'PTSoR': fuzz.partial_token_sort_ratio, \n",
    "                'WR': fuzz.WRatio, \n",
    "                'QR': fuzz.QRatio,\n",
    "                'UWR': fuzz.UWRatio, \n",
    "                'UQR': fuzz.UQRatio }"
   ]
  },
  {
   "cell_type": "code",
   "execution_count": 39,
   "metadata": {},
   "outputs": [],
   "source": [
    "def scorerTesterFunction(x):\n",
    "    '''\n",
    "    Input FuzzyWuzzy scorer abbreviation as argument;\n",
    "    returns DF of matched names and scores, plus average score.\n",
    "    '''\n",
    "    testDF = pd.DataFrame()\n",
    "    testDF['NamesToCheck'] = checkDF['Brewery Name']\n",
    "    \n",
    "    actualName = []\n",
    "    similarity = []\n",
    "    \n",
    "    for i in testDF['NamesToCheck']:\n",
    "        ratio = process.extract(i, actualDF['Brewery Name'], limit=1,\n",
    "                               scorer=scorer_dict[x])\n",
    "        actualName.append(ratio[0][0])\n",
    "        similarity.append(ratio[0][1])\n",
    "        \n",
    "        testDF[x+'-Name'] = pd.Series(actualName)\n",
    "        testDF[x+'-Score'] = pd.Series(similarity)\n",
    "        \n",
    "    print('Average Score: {0:.2f}'.format(testDF[x+'-Score'].mean()))\n",
    "        \n",
    "    return testDF.sort_values(x+'-Score', ascending=False)"
   ]
  },
  {
   "cell_type": "markdown",
   "metadata": {},
   "source": [
    "#### - 'R':"
   ]
  },
  {
   "cell_type": "code",
   "execution_count": 40,
   "metadata": {},
   "outputs": [
    {
     "name": "stdout",
     "output_type": "stream",
     "text": [
      "Average Score: 89.83\n"
     ]
    },
    {
     "data": {
      "text/html": [
       "<div>\n",
       "<style scoped>\n",
       "    .dataframe tbody tr th:only-of-type {\n",
       "        vertical-align: middle;\n",
       "    }\n",
       "\n",
       "    .dataframe tbody tr th {\n",
       "        vertical-align: top;\n",
       "    }\n",
       "\n",
       "    .dataframe thead th {\n",
       "        text-align: right;\n",
       "    }\n",
       "</style>\n",
       "<table border=\"1\" class=\"dataframe\">\n",
       "  <thead>\n",
       "    <tr style=\"text-align: right;\">\n",
       "      <th></th>\n",
       "      <th>NamesToCheck</th>\n",
       "      <th>R-Name</th>\n",
       "      <th>R-Score</th>\n",
       "    </tr>\n",
       "  </thead>\n",
       "  <tbody>\n",
       "    <tr>\n",
       "      <th>0</th>\n",
       "      <td>Backswing Brewing Co.</td>\n",
       "      <td>Backswing Brewing Co.</td>\n",
       "      <td>100</td>\n",
       "    </tr>\n",
       "    <tr>\n",
       "      <th>14</th>\n",
       "      <td>Gottberg Brew Pub</td>\n",
       "      <td>Gottberg Brew Pub</td>\n",
       "      <td>100</td>\n",
       "    </tr>\n",
       "    <tr>\n",
       "      <th>40</th>\n",
       "      <td>Stone Hollow Brewing Company</td>\n",
       "      <td>Stone Hollow Brewing Company</td>\n",
       "      <td>100</td>\n",
       "    </tr>\n",
       "    <tr>\n",
       "      <th>39</th>\n",
       "      <td>Steeple Brewing Co</td>\n",
       "      <td>Steeple Brewing Co.</td>\n",
       "      <td>100</td>\n",
       "    </tr>\n",
       "    <tr>\n",
       "      <th>37</th>\n",
       "      <td>Scriptown Brewing Company</td>\n",
       "      <td>Scriptown Brewing Company</td>\n",
       "      <td>100</td>\n",
       "    </tr>\n",
       "    <tr>\n",
       "      <th>36</th>\n",
       "      <td>Scratchtown Brewing Company</td>\n",
       "      <td>Scratchtown Brewing Company</td>\n",
       "      <td>100</td>\n",
       "    </tr>\n",
       "    <tr>\n",
       "      <th>32</th>\n",
       "      <td>Pals Brewing Company</td>\n",
       "      <td>Pals Brewing Company</td>\n",
       "      <td>100</td>\n",
       "    </tr>\n",
       "    <tr>\n",
       "      <th>27</th>\n",
       "      <td>Lost Way Brewery</td>\n",
       "      <td>Lost Way Brewery</td>\n",
       "      <td>100</td>\n",
       "    </tr>\n",
       "    <tr>\n",
       "      <th>24</th>\n",
       "      <td>Kros Strain Brewing Company</td>\n",
       "      <td>Kros Strain Brewing Company</td>\n",
       "      <td>100</td>\n",
       "    </tr>\n",
       "    <tr>\n",
       "      <th>1</th>\n",
       "      <td>Benson Brewery</td>\n",
       "      <td>Benson Brewery</td>\n",
       "      <td>100</td>\n",
       "    </tr>\n",
       "    <tr>\n",
       "      <th>22</th>\n",
       "      <td>Johnnie Byrd Brewing Company</td>\n",
       "      <td>Johnnie Byrd Brewing Company</td>\n",
       "      <td>100</td>\n",
       "    </tr>\n",
       "    <tr>\n",
       "      <th>20</th>\n",
       "      <td>Infusion Brewing Company</td>\n",
       "      <td>Infusion Brewing Company</td>\n",
       "      <td>100</td>\n",
       "    </tr>\n",
       "    <tr>\n",
       "      <th>19</th>\n",
       "      <td>Infusion Brewing Company</td>\n",
       "      <td>Infusion Brewing Company</td>\n",
       "      <td>100</td>\n",
       "    </tr>\n",
       "    <tr>\n",
       "      <th>17</th>\n",
       "      <td>Hanging Horseshoe Brewing Company</td>\n",
       "      <td>Hanging Horseshoe Brewing Company</td>\n",
       "      <td>100</td>\n",
       "    </tr>\n",
       "    <tr>\n",
       "      <th>45</th>\n",
       "      <td>Zipline Brewing Co</td>\n",
       "      <td>Zipline Brewing Co.</td>\n",
       "      <td>100</td>\n",
       "    </tr>\n",
       "    <tr>\n",
       "      <th>12</th>\n",
       "      <td>Farnam House Brewing Company</td>\n",
       "      <td>Farnam House Brewing Company</td>\n",
       "      <td>100</td>\n",
       "    </tr>\n",
       "    <tr>\n",
       "      <th>2</th>\n",
       "      <td>Boiler Brewing Company</td>\n",
       "      <td>Boiler Brewing Company</td>\n",
       "      <td>100</td>\n",
       "    </tr>\n",
       "    <tr>\n",
       "      <th>9</th>\n",
       "      <td>Divots Brewery</td>\n",
       "      <td>Divots Brewery</td>\n",
       "      <td>100</td>\n",
       "    </tr>\n",
       "    <tr>\n",
       "      <th>3</th>\n",
       "      <td>Bolo Beer Co</td>\n",
       "      <td>Bolo Beer Co.</td>\n",
       "      <td>100</td>\n",
       "    </tr>\n",
       "    <tr>\n",
       "      <th>7</th>\n",
       "      <td>Brush Creek Brewing Company</td>\n",
       "      <td>Brush Creek Brewing Company</td>\n",
       "      <td>100</td>\n",
       "    </tr>\n",
       "    <tr>\n",
       "      <th>16</th>\n",
       "      <td>Granite City Food &amp; Brewery (#7)</td>\n",
       "      <td>Granite City Food &amp; Brewery</td>\n",
       "      <td>93</td>\n",
       "    </tr>\n",
       "    <tr>\n",
       "      <th>6</th>\n",
       "      <td>Brickway Brewery and Distillery</td>\n",
       "      <td>Brickway Brewery &amp; Distillery</td>\n",
       "      <td>93</td>\n",
       "    </tr>\n",
       "    <tr>\n",
       "      <th>15</th>\n",
       "      <td>Granite City Food &amp; Brewery (#16)</td>\n",
       "      <td>Granite City Food &amp; Brewery</td>\n",
       "      <td>92</td>\n",
       "    </tr>\n",
       "    <tr>\n",
       "      <th>18</th>\n",
       "      <td>Highway 14 Brewing Company</td>\n",
       "      <td>Hwy 14 Brewing Company</td>\n",
       "      <td>92</td>\n",
       "    </tr>\n",
       "    <tr>\n",
       "      <th>4</th>\n",
       "      <td>Bootleg Brewers - Sandhills Brewing Company</td>\n",
       "      <td>Bootleg Brewers, Sandhills Brewing Co.</td>\n",
       "      <td>92</td>\n",
       "    </tr>\n",
       "    <tr>\n",
       "      <th>5</th>\n",
       "      <td>Bottle Rocket Brewing Co</td>\n",
       "      <td>Bottle Rocket Brewing Company</td>\n",
       "      <td>91</td>\n",
       "    </tr>\n",
       "    <tr>\n",
       "      <th>41</th>\n",
       "      <td>Thunderhead Brewing Co</td>\n",
       "      <td>Thunderhead Brewing Company</td>\n",
       "      <td>90</td>\n",
       "    </tr>\n",
       "    <tr>\n",
       "      <th>28</th>\n",
       "      <td>Lucky Bucket Brewing Co</td>\n",
       "      <td>Lucky Bucket Brewing Company</td>\n",
       "      <td>90</td>\n",
       "    </tr>\n",
       "    <tr>\n",
       "      <th>44</th>\n",
       "      <td>White Elm Brewing Co</td>\n",
       "      <td>White Elm Brewing Company</td>\n",
       "      <td>89</td>\n",
       "    </tr>\n",
       "    <tr>\n",
       "      <th>43</th>\n",
       "      <td>Vis Major Brewing Co</td>\n",
       "      <td>Vis Major Brewing Company</td>\n",
       "      <td>89</td>\n",
       "    </tr>\n",
       "    <tr>\n",
       "      <th>23</th>\n",
       "      <td>Kinkaider Brewing Co</td>\n",
       "      <td>Kinkaider Brewing Company</td>\n",
       "      <td>89</td>\n",
       "    </tr>\n",
       "    <tr>\n",
       "      <th>10</th>\n",
       "      <td>Empyrean Brewing Co</td>\n",
       "      <td>Empyrean Brewing Company</td>\n",
       "      <td>88</td>\n",
       "    </tr>\n",
       "    <tr>\n",
       "      <th>11</th>\n",
       "      <td>Fairfield Opera House Brewery</td>\n",
       "      <td>Fairfield Opera House Brewery &amp; Grill</td>\n",
       "      <td>88</td>\n",
       "    </tr>\n",
       "    <tr>\n",
       "      <th>26</th>\n",
       "      <td>Loop Brewing Co</td>\n",
       "      <td>Loop Brewing Company</td>\n",
       "      <td>86</td>\n",
       "    </tr>\n",
       "    <tr>\n",
       "      <th>8</th>\n",
       "      <td>Code Beer Co.</td>\n",
       "      <td>Code Beer Company</td>\n",
       "      <td>83</td>\n",
       "    </tr>\n",
       "    <tr>\n",
       "      <th>13</th>\n",
       "      <td>First Street Brewing</td>\n",
       "      <td>First Street Brewing Company</td>\n",
       "      <td>83</td>\n",
       "    </tr>\n",
       "    <tr>\n",
       "      <th>29</th>\n",
       "      <td>Monolithic Brewing Company</td>\n",
       "      <td>Monolithic Brewing</td>\n",
       "      <td>82</td>\n",
       "    </tr>\n",
       "    <tr>\n",
       "      <th>42</th>\n",
       "      <td>Upstream Brewing Co (#1)</td>\n",
       "      <td>Upstream Brewing Company</td>\n",
       "      <td>81</td>\n",
       "    </tr>\n",
       "    <tr>\n",
       "      <th>31</th>\n",
       "      <td>Nebraska Brewing Co - Papillion</td>\n",
       "      <td>Nebraska Brewing Company</td>\n",
       "      <td>80</td>\n",
       "    </tr>\n",
       "    <tr>\n",
       "      <th>25</th>\n",
       "      <td>Lazy Horse Brewing</td>\n",
       "      <td>Lazy Horse Brewing &amp; Winery</td>\n",
       "      <td>80</td>\n",
       "    </tr>\n",
       "    <tr>\n",
       "      <th>38</th>\n",
       "      <td>Soaring Wings Brewing</td>\n",
       "      <td>Soaring Wings Vineyard &amp; Brewing</td>\n",
       "      <td>79</td>\n",
       "    </tr>\n",
       "    <tr>\n",
       "      <th>34</th>\n",
       "      <td>Prairie Pride Brewery</td>\n",
       "      <td>Prairie Pride Brewing Company</td>\n",
       "      <td>76</td>\n",
       "    </tr>\n",
       "    <tr>\n",
       "      <th>30</th>\n",
       "      <td>Nebraska Brewing Co - La Vista</td>\n",
       "      <td>Nebraska Brewing Company</td>\n",
       "      <td>74</td>\n",
       "    </tr>\n",
       "    <tr>\n",
       "      <th>35</th>\n",
       "      <td>SchillingBridge Winery &amp; Microbrewery</td>\n",
       "      <td>Schillingbridge Brewing Company</td>\n",
       "      <td>68</td>\n",
       "    </tr>\n",
       "    <tr>\n",
       "      <th>21</th>\n",
       "      <td>Jaipur Restaurant and Brewpub</td>\n",
       "      <td>Jaipur Brewing Company</td>\n",
       "      <td>51</td>\n",
       "    </tr>\n",
       "    <tr>\n",
       "      <th>33</th>\n",
       "      <td>Pint 9</td>\n",
       "      <td>Steeple Brewing Co.</td>\n",
       "      <td>33</td>\n",
       "    </tr>\n",
       "  </tbody>\n",
       "</table>\n",
       "</div>"
      ],
      "text/plain": [
       "                                   NamesToCheck  \\\n",
       "0                         Backswing Brewing Co.   \n",
       "14                            Gottberg Brew Pub   \n",
       "40                 Stone Hollow Brewing Company   \n",
       "39                           Steeple Brewing Co   \n",
       "37                    Scriptown Brewing Company   \n",
       "36                  Scratchtown Brewing Company   \n",
       "32                         Pals Brewing Company   \n",
       "27                             Lost Way Brewery   \n",
       "24                  Kros Strain Brewing Company   \n",
       "1                                Benson Brewery   \n",
       "22                 Johnnie Byrd Brewing Company   \n",
       "20                     Infusion Brewing Company   \n",
       "19                     Infusion Brewing Company   \n",
       "17            Hanging Horseshoe Brewing Company   \n",
       "45                           Zipline Brewing Co   \n",
       "12                 Farnam House Brewing Company   \n",
       "2                        Boiler Brewing Company   \n",
       "9                                Divots Brewery   \n",
       "3                                  Bolo Beer Co   \n",
       "7                   Brush Creek Brewing Company   \n",
       "16             Granite City Food & Brewery (#7)   \n",
       "6               Brickway Brewery and Distillery   \n",
       "15            Granite City Food & Brewery (#16)   \n",
       "18                   Highway 14 Brewing Company   \n",
       "4   Bootleg Brewers - Sandhills Brewing Company   \n",
       "5                      Bottle Rocket Brewing Co   \n",
       "41                       Thunderhead Brewing Co   \n",
       "28                      Lucky Bucket Brewing Co   \n",
       "44                         White Elm Brewing Co   \n",
       "43                         Vis Major Brewing Co   \n",
       "23                         Kinkaider Brewing Co   \n",
       "10                          Empyrean Brewing Co   \n",
       "11                Fairfield Opera House Brewery   \n",
       "26                              Loop Brewing Co   \n",
       "8                                 Code Beer Co.   \n",
       "13                         First Street Brewing   \n",
       "29                   Monolithic Brewing Company   \n",
       "42                     Upstream Brewing Co (#1)   \n",
       "31              Nebraska Brewing Co - Papillion   \n",
       "25                           Lazy Horse Brewing   \n",
       "38                        Soaring Wings Brewing   \n",
       "34                        Prairie Pride Brewery   \n",
       "30               Nebraska Brewing Co - La Vista   \n",
       "35        SchillingBridge Winery & Microbrewery   \n",
       "21                Jaipur Restaurant and Brewpub   \n",
       "33                                       Pint 9   \n",
       "\n",
       "                                    R-Name  R-Score  \n",
       "0                    Backswing Brewing Co.      100  \n",
       "14                       Gottberg Brew Pub      100  \n",
       "40            Stone Hollow Brewing Company      100  \n",
       "39                     Steeple Brewing Co.      100  \n",
       "37               Scriptown Brewing Company      100  \n",
       "36             Scratchtown Brewing Company      100  \n",
       "32                    Pals Brewing Company      100  \n",
       "27                        Lost Way Brewery      100  \n",
       "24             Kros Strain Brewing Company      100  \n",
       "1                           Benson Brewery      100  \n",
       "22            Johnnie Byrd Brewing Company      100  \n",
       "20                Infusion Brewing Company      100  \n",
       "19                Infusion Brewing Company      100  \n",
       "17       Hanging Horseshoe Brewing Company      100  \n",
       "45                     Zipline Brewing Co.      100  \n",
       "12            Farnam House Brewing Company      100  \n",
       "2                   Boiler Brewing Company      100  \n",
       "9                           Divots Brewery      100  \n",
       "3                            Bolo Beer Co.      100  \n",
       "7              Brush Creek Brewing Company      100  \n",
       "16             Granite City Food & Brewery       93  \n",
       "6            Brickway Brewery & Distillery       93  \n",
       "15             Granite City Food & Brewery       92  \n",
       "18                  Hwy 14 Brewing Company       92  \n",
       "4   Bootleg Brewers, Sandhills Brewing Co.       92  \n",
       "5            Bottle Rocket Brewing Company       91  \n",
       "41             Thunderhead Brewing Company       90  \n",
       "28            Lucky Bucket Brewing Company       90  \n",
       "44               White Elm Brewing Company       89  \n",
       "43               Vis Major Brewing Company       89  \n",
       "23               Kinkaider Brewing Company       89  \n",
       "10                Empyrean Brewing Company       88  \n",
       "11   Fairfield Opera House Brewery & Grill       88  \n",
       "26                    Loop Brewing Company       86  \n",
       "8                        Code Beer Company       83  \n",
       "13            First Street Brewing Company       83  \n",
       "29                      Monolithic Brewing       82  \n",
       "42                Upstream Brewing Company       81  \n",
       "31                Nebraska Brewing Company       80  \n",
       "25             Lazy Horse Brewing & Winery       80  \n",
       "38        Soaring Wings Vineyard & Brewing       79  \n",
       "34           Prairie Pride Brewing Company       76  \n",
       "30                Nebraska Brewing Company       74  \n",
       "35         Schillingbridge Brewing Company       68  \n",
       "21                  Jaipur Brewing Company       51  \n",
       "33                     Steeple Brewing Co.       33  "
      ]
     },
     "execution_count": 40,
     "metadata": {},
     "output_type": "execute_result"
    }
   ],
   "source": [
    "scorerTesterFunction('R')"
   ]
  },
  {
   "cell_type": "markdown",
   "metadata": {},
   "source": [
    "##### Scorer: `fuzz.ratio`  \n",
    "1 incorrect:\n",
    "* Pint 9"
   ]
  },
  {
   "cell_type": "markdown",
   "metadata": {},
   "source": [
    "#### - 'PR':"
   ]
  },
  {
   "cell_type": "code",
   "execution_count": 41,
   "metadata": {},
   "outputs": [
    {
     "name": "stdout",
     "output_type": "stream",
     "text": [
      "Average Score: 95.89\n"
     ]
    },
    {
     "data": {
      "text/html": [
       "<div>\n",
       "<style scoped>\n",
       "    .dataframe tbody tr th:only-of-type {\n",
       "        vertical-align: middle;\n",
       "    }\n",
       "\n",
       "    .dataframe tbody tr th {\n",
       "        vertical-align: top;\n",
       "    }\n",
       "\n",
       "    .dataframe thead th {\n",
       "        text-align: right;\n",
       "    }\n",
       "</style>\n",
       "<table border=\"1\" class=\"dataframe\">\n",
       "  <thead>\n",
       "    <tr style=\"text-align: right;\">\n",
       "      <th></th>\n",
       "      <th>NamesToCheck</th>\n",
       "      <th>PR-Name</th>\n",
       "      <th>PR-Score</th>\n",
       "    </tr>\n",
       "  </thead>\n",
       "  <tbody>\n",
       "    <tr>\n",
       "      <th>0</th>\n",
       "      <td>Backswing Brewing Co.</td>\n",
       "      <td>Backswing Brewing Co.</td>\n",
       "      <td>100</td>\n",
       "    </tr>\n",
       "    <tr>\n",
       "      <th>29</th>\n",
       "      <td>Monolithic Brewing Company</td>\n",
       "      <td>Monolithic Brewing</td>\n",
       "      <td>100</td>\n",
       "    </tr>\n",
       "    <tr>\n",
       "      <th>22</th>\n",
       "      <td>Johnnie Byrd Brewing Company</td>\n",
       "      <td>Johnnie Byrd Brewing Company</td>\n",
       "      <td>100</td>\n",
       "    </tr>\n",
       "    <tr>\n",
       "      <th>1</th>\n",
       "      <td>Benson Brewery</td>\n",
       "      <td>Benson Brewery</td>\n",
       "      <td>100</td>\n",
       "    </tr>\n",
       "    <tr>\n",
       "      <th>24</th>\n",
       "      <td>Kros Strain Brewing Company</td>\n",
       "      <td>Kros Strain Brewing Company</td>\n",
       "      <td>100</td>\n",
       "    </tr>\n",
       "    <tr>\n",
       "      <th>25</th>\n",
       "      <td>Lazy Horse Brewing</td>\n",
       "      <td>Lazy Horse Brewing &amp; Winery</td>\n",
       "      <td>100</td>\n",
       "    </tr>\n",
       "    <tr>\n",
       "      <th>26</th>\n",
       "      <td>Loop Brewing Co</td>\n",
       "      <td>Loop Brewing Company</td>\n",
       "      <td>100</td>\n",
       "    </tr>\n",
       "    <tr>\n",
       "      <th>27</th>\n",
       "      <td>Lost Way Brewery</td>\n",
       "      <td>Lost Way Brewery</td>\n",
       "      <td>100</td>\n",
       "    </tr>\n",
       "    <tr>\n",
       "      <th>28</th>\n",
       "      <td>Lucky Bucket Brewing Co</td>\n",
       "      <td>Lucky Bucket Brewing Company</td>\n",
       "      <td>100</td>\n",
       "    </tr>\n",
       "    <tr>\n",
       "      <th>32</th>\n",
       "      <td>Pals Brewing Company</td>\n",
       "      <td>Pals Brewing Company</td>\n",
       "      <td>100</td>\n",
       "    </tr>\n",
       "    <tr>\n",
       "      <th>19</th>\n",
       "      <td>Infusion Brewing Company</td>\n",
       "      <td>Infusion Brewing Company</td>\n",
       "      <td>100</td>\n",
       "    </tr>\n",
       "    <tr>\n",
       "      <th>36</th>\n",
       "      <td>Scratchtown Brewing Company</td>\n",
       "      <td>Scratchtown Brewing Company</td>\n",
       "      <td>100</td>\n",
       "    </tr>\n",
       "    <tr>\n",
       "      <th>37</th>\n",
       "      <td>Scriptown Brewing Company</td>\n",
       "      <td>Scriptown Brewing Company</td>\n",
       "      <td>100</td>\n",
       "    </tr>\n",
       "    <tr>\n",
       "      <th>39</th>\n",
       "      <td>Steeple Brewing Co</td>\n",
       "      <td>Steeple Brewing Co.</td>\n",
       "      <td>100</td>\n",
       "    </tr>\n",
       "    <tr>\n",
       "      <th>40</th>\n",
       "      <td>Stone Hollow Brewing Company</td>\n",
       "      <td>Stone Hollow Brewing Company</td>\n",
       "      <td>100</td>\n",
       "    </tr>\n",
       "    <tr>\n",
       "      <th>41</th>\n",
       "      <td>Thunderhead Brewing Co</td>\n",
       "      <td>Thunderhead Brewing Company</td>\n",
       "      <td>100</td>\n",
       "    </tr>\n",
       "    <tr>\n",
       "      <th>43</th>\n",
       "      <td>Vis Major Brewing Co</td>\n",
       "      <td>Vis Major Brewing Company</td>\n",
       "      <td>100</td>\n",
       "    </tr>\n",
       "    <tr>\n",
       "      <th>44</th>\n",
       "      <td>White Elm Brewing Co</td>\n",
       "      <td>White Elm Brewing Company</td>\n",
       "      <td>100</td>\n",
       "    </tr>\n",
       "    <tr>\n",
       "      <th>20</th>\n",
       "      <td>Infusion Brewing Company</td>\n",
       "      <td>Infusion Brewing Company</td>\n",
       "      <td>100</td>\n",
       "    </tr>\n",
       "    <tr>\n",
       "      <th>23</th>\n",
       "      <td>Kinkaider Brewing Co</td>\n",
       "      <td>Kinkaider Brewing Company</td>\n",
       "      <td>100</td>\n",
       "    </tr>\n",
       "    <tr>\n",
       "      <th>45</th>\n",
       "      <td>Zipline Brewing Co</td>\n",
       "      <td>Zipline Brewing Co.</td>\n",
       "      <td>100</td>\n",
       "    </tr>\n",
       "    <tr>\n",
       "      <th>8</th>\n",
       "      <td>Code Beer Co.</td>\n",
       "      <td>Code Beer Company</td>\n",
       "      <td>100</td>\n",
       "    </tr>\n",
       "    <tr>\n",
       "      <th>17</th>\n",
       "      <td>Hanging Horseshoe Brewing Company</td>\n",
       "      <td>Hanging Horseshoe Brewing Company</td>\n",
       "      <td>100</td>\n",
       "    </tr>\n",
       "    <tr>\n",
       "      <th>16</th>\n",
       "      <td>Granite City Food &amp; Brewery (#7)</td>\n",
       "      <td>Granite City Food &amp; Brewery</td>\n",
       "      <td>100</td>\n",
       "    </tr>\n",
       "    <tr>\n",
       "      <th>15</th>\n",
       "      <td>Granite City Food &amp; Brewery (#16)</td>\n",
       "      <td>Granite City Food &amp; Brewery</td>\n",
       "      <td>100</td>\n",
       "    </tr>\n",
       "    <tr>\n",
       "      <th>14</th>\n",
       "      <td>Gottberg Brew Pub</td>\n",
       "      <td>Gottberg Brew Pub</td>\n",
       "      <td>100</td>\n",
       "    </tr>\n",
       "    <tr>\n",
       "      <th>13</th>\n",
       "      <td>First Street Brewing</td>\n",
       "      <td>First Street Brewing Company</td>\n",
       "      <td>100</td>\n",
       "    </tr>\n",
       "    <tr>\n",
       "      <th>12</th>\n",
       "      <td>Farnam House Brewing Company</td>\n",
       "      <td>Farnam House Brewing Company</td>\n",
       "      <td>100</td>\n",
       "    </tr>\n",
       "    <tr>\n",
       "      <th>11</th>\n",
       "      <td>Fairfield Opera House Brewery</td>\n",
       "      <td>Fairfield Opera House Brewery &amp; Grill</td>\n",
       "      <td>100</td>\n",
       "    </tr>\n",
       "    <tr>\n",
       "      <th>10</th>\n",
       "      <td>Empyrean Brewing Co</td>\n",
       "      <td>Empyrean Brewing Company</td>\n",
       "      <td>100</td>\n",
       "    </tr>\n",
       "    <tr>\n",
       "      <th>2</th>\n",
       "      <td>Boiler Brewing Company</td>\n",
       "      <td>Boiler Brewing Company</td>\n",
       "      <td>100</td>\n",
       "    </tr>\n",
       "    <tr>\n",
       "      <th>3</th>\n",
       "      <td>Bolo Beer Co</td>\n",
       "      <td>Bolo Beer Co.</td>\n",
       "      <td>100</td>\n",
       "    </tr>\n",
       "    <tr>\n",
       "      <th>9</th>\n",
       "      <td>Divots Brewery</td>\n",
       "      <td>Divots Brewery</td>\n",
       "      <td>100</td>\n",
       "    </tr>\n",
       "    <tr>\n",
       "      <th>5</th>\n",
       "      <td>Bottle Rocket Brewing Co</td>\n",
       "      <td>Bottle Rocket Brewing Company</td>\n",
       "      <td>100</td>\n",
       "    </tr>\n",
       "    <tr>\n",
       "      <th>7</th>\n",
       "      <td>Brush Creek Brewing Company</td>\n",
       "      <td>Brush Creek Brewing Company</td>\n",
       "      <td>100</td>\n",
       "    </tr>\n",
       "    <tr>\n",
       "      <th>4</th>\n",
       "      <td>Bootleg Brewers - Sandhills Brewing Company</td>\n",
       "      <td>Bootleg Brewers, Sandhills Brewing Co.</td>\n",
       "      <td>97</td>\n",
       "    </tr>\n",
       "    <tr>\n",
       "      <th>18</th>\n",
       "      <td>Highway 14 Brewing Company</td>\n",
       "      <td>Hwy 14 Brewing Company</td>\n",
       "      <td>95</td>\n",
       "    </tr>\n",
       "    <tr>\n",
       "      <th>6</th>\n",
       "      <td>Brickway Brewery and Distillery</td>\n",
       "      <td>Brickway Brewery &amp; Distillery</td>\n",
       "      <td>90</td>\n",
       "    </tr>\n",
       "    <tr>\n",
       "      <th>31</th>\n",
       "      <td>Nebraska Brewing Co - Papillion</td>\n",
       "      <td>Nebraska Brewing Company</td>\n",
       "      <td>88</td>\n",
       "    </tr>\n",
       "    <tr>\n",
       "      <th>34</th>\n",
       "      <td>Prairie Pride Brewery</td>\n",
       "      <td>Prairie Pride Brewing Company</td>\n",
       "      <td>86</td>\n",
       "    </tr>\n",
       "    <tr>\n",
       "      <th>42</th>\n",
       "      <td>Upstream Brewing Co (#1)</td>\n",
       "      <td>Upstream Brewing Company</td>\n",
       "      <td>83</td>\n",
       "    </tr>\n",
       "    <tr>\n",
       "      <th>30</th>\n",
       "      <td>Nebraska Brewing Co - La Vista</td>\n",
       "      <td>Nebraska Brewing Company</td>\n",
       "      <td>83</td>\n",
       "    </tr>\n",
       "    <tr>\n",
       "      <th>33</th>\n",
       "      <td>Pint 9</td>\n",
       "      <td>Pint Nine Brewing Company</td>\n",
       "      <td>83</td>\n",
       "    </tr>\n",
       "    <tr>\n",
       "      <th>38</th>\n",
       "      <td>Soaring Wings Brewing</td>\n",
       "      <td>Soaring Wings Vineyard &amp; Brewing</td>\n",
       "      <td>76</td>\n",
       "    </tr>\n",
       "    <tr>\n",
       "      <th>35</th>\n",
       "      <td>SchillingBridge Winery &amp; Microbrewery</td>\n",
       "      <td>Schillingbridge Brewing Company</td>\n",
       "      <td>71</td>\n",
       "    </tr>\n",
       "    <tr>\n",
       "      <th>21</th>\n",
       "      <td>Jaipur Restaurant and Brewpub</td>\n",
       "      <td>Jaipur Brewing Company</td>\n",
       "      <td>59</td>\n",
       "    </tr>\n",
       "  </tbody>\n",
       "</table>\n",
       "</div>"
      ],
      "text/plain": [
       "                                   NamesToCheck  \\\n",
       "0                         Backswing Brewing Co.   \n",
       "29                   Monolithic Brewing Company   \n",
       "22                 Johnnie Byrd Brewing Company   \n",
       "1                                Benson Brewery   \n",
       "24                  Kros Strain Brewing Company   \n",
       "25                           Lazy Horse Brewing   \n",
       "26                              Loop Brewing Co   \n",
       "27                             Lost Way Brewery   \n",
       "28                      Lucky Bucket Brewing Co   \n",
       "32                         Pals Brewing Company   \n",
       "19                     Infusion Brewing Company   \n",
       "36                  Scratchtown Brewing Company   \n",
       "37                    Scriptown Brewing Company   \n",
       "39                           Steeple Brewing Co   \n",
       "40                 Stone Hollow Brewing Company   \n",
       "41                       Thunderhead Brewing Co   \n",
       "43                         Vis Major Brewing Co   \n",
       "44                         White Elm Brewing Co   \n",
       "20                     Infusion Brewing Company   \n",
       "23                         Kinkaider Brewing Co   \n",
       "45                           Zipline Brewing Co   \n",
       "8                                 Code Beer Co.   \n",
       "17            Hanging Horseshoe Brewing Company   \n",
       "16             Granite City Food & Brewery (#7)   \n",
       "15            Granite City Food & Brewery (#16)   \n",
       "14                            Gottberg Brew Pub   \n",
       "13                         First Street Brewing   \n",
       "12                 Farnam House Brewing Company   \n",
       "11                Fairfield Opera House Brewery   \n",
       "10                          Empyrean Brewing Co   \n",
       "2                        Boiler Brewing Company   \n",
       "3                                  Bolo Beer Co   \n",
       "9                                Divots Brewery   \n",
       "5                      Bottle Rocket Brewing Co   \n",
       "7                   Brush Creek Brewing Company   \n",
       "4   Bootleg Brewers - Sandhills Brewing Company   \n",
       "18                   Highway 14 Brewing Company   \n",
       "6               Brickway Brewery and Distillery   \n",
       "31              Nebraska Brewing Co - Papillion   \n",
       "34                        Prairie Pride Brewery   \n",
       "42                     Upstream Brewing Co (#1)   \n",
       "30               Nebraska Brewing Co - La Vista   \n",
       "33                                       Pint 9   \n",
       "38                        Soaring Wings Brewing   \n",
       "35        SchillingBridge Winery & Microbrewery   \n",
       "21                Jaipur Restaurant and Brewpub   \n",
       "\n",
       "                                   PR-Name  PR-Score  \n",
       "0                    Backswing Brewing Co.       100  \n",
       "29                      Monolithic Brewing       100  \n",
       "22            Johnnie Byrd Brewing Company       100  \n",
       "1                           Benson Brewery       100  \n",
       "24             Kros Strain Brewing Company       100  \n",
       "25             Lazy Horse Brewing & Winery       100  \n",
       "26                    Loop Brewing Company       100  \n",
       "27                        Lost Way Brewery       100  \n",
       "28            Lucky Bucket Brewing Company       100  \n",
       "32                    Pals Brewing Company       100  \n",
       "19                Infusion Brewing Company       100  \n",
       "36             Scratchtown Brewing Company       100  \n",
       "37               Scriptown Brewing Company       100  \n",
       "39                     Steeple Brewing Co.       100  \n",
       "40            Stone Hollow Brewing Company       100  \n",
       "41             Thunderhead Brewing Company       100  \n",
       "43               Vis Major Brewing Company       100  \n",
       "44               White Elm Brewing Company       100  \n",
       "20                Infusion Brewing Company       100  \n",
       "23               Kinkaider Brewing Company       100  \n",
       "45                     Zipline Brewing Co.       100  \n",
       "8                        Code Beer Company       100  \n",
       "17       Hanging Horseshoe Brewing Company       100  \n",
       "16             Granite City Food & Brewery       100  \n",
       "15             Granite City Food & Brewery       100  \n",
       "14                       Gottberg Brew Pub       100  \n",
       "13            First Street Brewing Company       100  \n",
       "12            Farnam House Brewing Company       100  \n",
       "11   Fairfield Opera House Brewery & Grill       100  \n",
       "10                Empyrean Brewing Company       100  \n",
       "2                   Boiler Brewing Company       100  \n",
       "3                            Bolo Beer Co.       100  \n",
       "9                           Divots Brewery       100  \n",
       "5            Bottle Rocket Brewing Company       100  \n",
       "7              Brush Creek Brewing Company       100  \n",
       "4   Bootleg Brewers, Sandhills Brewing Co.        97  \n",
       "18                  Hwy 14 Brewing Company        95  \n",
       "6            Brickway Brewery & Distillery        90  \n",
       "31                Nebraska Brewing Company        88  \n",
       "34           Prairie Pride Brewing Company        86  \n",
       "42                Upstream Brewing Company        83  \n",
       "30                Nebraska Brewing Company        83  \n",
       "33               Pint Nine Brewing Company        83  \n",
       "38        Soaring Wings Vineyard & Brewing        76  \n",
       "35         Schillingbridge Brewing Company        71  \n",
       "21                  Jaipur Brewing Company        59  "
      ]
     },
     "execution_count": 41,
     "metadata": {},
     "output_type": "execute_result"
    }
   ],
   "source": [
    "scorerTesterFunction('PR')"
   ]
  },
  {
   "cell_type": "markdown",
   "metadata": {},
   "source": [
    "##### Scorer: `fuzz.partial_ratio`  \n",
    "All correct!"
   ]
  },
  {
   "cell_type": "markdown",
   "metadata": {},
   "source": [
    "#### - 'TSeR':"
   ]
  },
  {
   "cell_type": "code",
   "execution_count": 42,
   "metadata": {},
   "outputs": [],
   "source": [
    "# scorerTesterFunction('TSeR')"
   ]
  },
  {
   "cell_type": "markdown",
   "metadata": {},
   "source": [
    "##### Scorer: `fuzz.token_set_ratio`\n",
    "1 incorrect:\n",
    "* Prairie Pride Brewery"
   ]
  },
  {
   "cell_type": "markdown",
   "metadata": {},
   "source": [
    "#### - 'TSoR':"
   ]
  },
  {
   "cell_type": "code",
   "execution_count": 43,
   "metadata": {},
   "outputs": [],
   "source": [
    "# scorerTesterFunction('TSoR')"
   ]
  },
  {
   "cell_type": "markdown",
   "metadata": {},
   "source": [
    "##### Scorer: `fuzz.token_sort_ratio`\n",
    "2 incorrect:\n",
    "* Code\n",
    "* Pint 9"
   ]
  },
  {
   "cell_type": "markdown",
   "metadata": {},
   "source": [
    "#### - 'PTSeR':"
   ]
  },
  {
   "cell_type": "code",
   "execution_count": 44,
   "metadata": {},
   "outputs": [],
   "source": [
    "# scorerTesterFunction('PTSeR')"
   ]
  },
  {
   "cell_type": "markdown",
   "metadata": {},
   "source": [
    "##### Scorer: `fuzz.partial_token_set_ratio`\n",
    "Very bad. Only 5 correct."
   ]
  },
  {
   "cell_type": "markdown",
   "metadata": {},
   "source": [
    "#### - 'PTSoR':"
   ]
  },
  {
   "cell_type": "code",
   "execution_count": 45,
   "metadata": {},
   "outputs": [],
   "source": [
    "# scorerTesterFunction('PTSoR')"
   ]
  },
  {
   "cell_type": "markdown",
   "metadata": {},
   "source": [
    "##### Scorer: `fuzz.partial_token_sort_ratio`\n",
    "8 incorrect"
   ]
  },
  {
   "cell_type": "markdown",
   "metadata": {},
   "source": [
    "#### - 'WR':"
   ]
  },
  {
   "cell_type": "code",
   "execution_count": 46,
   "metadata": {},
   "outputs": [],
   "source": [
    "# scorerTesterFunction('WR')"
   ]
  },
  {
   "cell_type": "markdown",
   "metadata": {},
   "source": [
    "##### Scorer: `fuzz.WRatio`\n",
    "7 incorrect"
   ]
  },
  {
   "cell_type": "markdown",
   "metadata": {},
   "source": [
    "#### - 'QR':"
   ]
  },
  {
   "cell_type": "code",
   "execution_count": 47,
   "metadata": {},
   "outputs": [],
   "source": [
    "# scorerTesterFunction('QR')"
   ]
  },
  {
   "cell_type": "markdown",
   "metadata": {},
   "source": [
    "##### Scorer: `fuzz.QRatio`\n",
    "1 incorrect:\n",
    "* Pint 9"
   ]
  },
  {
   "cell_type": "markdown",
   "metadata": {},
   "source": [
    "#### - 'UWR':"
   ]
  },
  {
   "cell_type": "code",
   "execution_count": 48,
   "metadata": {},
   "outputs": [],
   "source": [
    "# scorerTesterFunction('UWR')"
   ]
  },
  {
   "cell_type": "markdown",
   "metadata": {},
   "source": [
    "##### Scorer: `fuzz.UWRatio`\n",
    "7 incorrect"
   ]
  },
  {
   "cell_type": "markdown",
   "metadata": {},
   "source": [
    "### - 'UQR':"
   ]
  },
  {
   "cell_type": "code",
   "execution_count": 49,
   "metadata": {},
   "outputs": [],
   "source": [
    "# scorerTesterFunction('UQR')"
   ]
  },
  {
   "cell_type": "markdown",
   "metadata": {},
   "source": [
    "##### Scorer: `fuzz.UQRatio`\n",
    "1 incorrect:\n",
    "* Pint 9"
   ]
  },
  {
   "cell_type": "markdown",
   "metadata": {},
   "source": [
    "### Fuzzy Matching Analysis:\n",
    "6 of the 10 FuzzyWuzzy scoring methods gave pretty good results, missing only 2 or fewer brewery names. I will go with the `fuzz.partial_ratio` method, which had the \"best\" score and was the only method to get all of the matches correct. The odd exception was `fuzz.partial_token_set_ratio`, which was overconfident with a score of 100, but was the worst performer, getting only 5 correct."
   ]
  },
  {
   "cell_type": "code",
   "execution_count": 50,
   "metadata": {},
   "outputs": [],
   "source": [
    "# Save as CSV\n",
    "breweriesDF.to_csv('WEB_NEbeerReddit.csv', index=False)"
   ]
  },
  {
   "cell_type": "markdown",
   "metadata": {
    "tags": []
   },
   "source": [
    "# Use BeerMapping.com API to retrieve data on Nebraska breweries"
   ]
  },
  {
   "cell_type": "code",
   "execution_count": 51,
   "metadata": {},
   "outputs": [],
   "source": [
    "# Load beermapping.com API key and set target URL\n",
    "%load_ext dotenv\n",
    "%dotenv\n",
    "load_dotenv(\"BEERMAPPING_KEY\")\n",
    "\n",
    "apiKey = os.environ.get(\"BEERMAPPING_KEY\")\n",
    "baseURL = \"http://beermapping.com/webservice/\""
   ]
  },
  {
   "cell_type": "markdown",
   "metadata": {},
   "source": [
    "### Retrieve Brewery Data as JSON:"
   ]
  },
  {
   "cell_type": "code",
   "execution_count": 52,
   "metadata": {},
   "outputs": [],
   "source": [
    "def getStateBreweries(state):\n",
    "    '''\n",
    "    Retrieves data about breweries within a US State\n",
    "    '''\n",
    "    # Assign URL Service to search by State:\n",
    "    service = \"locstate\"\n",
    "    # Assign search term:\n",
    "    query = state\n",
    "    # Assemble URL:\n",
    "    requestURL = f\"{baseURL}{service}/{apiKey}/{query}&s=json\"\n",
    "        # Note '&s=json' appended to return JSON formatted data\n",
    "    \n",
    "    response = requests.request(\"GET\", requestURL)\n",
    "    print(response.status_code)\n",
    "    if response.status_code != 200:\n",
    "        raise Exception(response.status_code, response.text)\n",
    "    jsonResponse = response.json()\n",
    "    \n",
    "    return jsonResponse"
   ]
  },
  {
   "cell_type": "markdown",
   "metadata": {},
   "source": [
    "### Search by State (2-letter abbr):"
   ]
  },
  {
   "cell_type": "code",
   "execution_count": 53,
   "metadata": {},
   "outputs": [
    {
     "name": "stdin",
     "output_type": "stream",
     "text": [
      "Enter 2-letter US State abbreviation: NE\n"
     ]
    },
    {
     "name": "stdout",
     "output_type": "stream",
     "text": [
      "200\n"
     ]
    }
   ],
   "source": [
    "# Request user input for state\n",
    "state = str(input(\"Enter 2-letter US State abbreviation:\"))\n",
    "breweryJSON = getStateBreweries(state)"
   ]
  },
  {
   "cell_type": "markdown",
   "metadata": {},
   "source": [
    "## Build a DataFrame from the returned JSON data:"
   ]
  },
  {
   "cell_type": "code",
   "execution_count": 54,
   "metadata": {},
   "outputs": [
    {
     "data": {
      "text/plain": [
       "dict_keys(['id', 'name', 'status', 'reviewlink', 'proxylink', 'blogmap', 'street', 'city', 'state', 'zip', 'country', 'phone', 'url', 'overall', 'imagecount'])"
      ]
     },
     "execution_count": 54,
     "metadata": {},
     "output_type": "execute_result"
    }
   ],
   "source": [
    "# Check the keys from one of the returned JSON dictionaries\n",
    "breweryJSON[0].keys()"
   ]
  },
  {
   "cell_type": "markdown",
   "metadata": {},
   "source": [
    "### Use the keys to build a dictionary from the data and return a DataFrame:  \n",
    "#### [Replace Headers / Format data into a more readable format]"
   ]
  },
  {
   "cell_type": "code",
   "execution_count": 55,
   "metadata": {},
   "outputs": [],
   "source": [
    "def buildBreweryDB(listBreweries):\n",
    "    '''\n",
    "    Take a list of Brewery data in JSON format.\n",
    "    Output a DF with key information about those breweries.\n",
    "    '''\n",
    "    # Define an empty dictionary, with keys:\n",
    "    # [Replace Headers]\n",
    "    breweryDict = {'BreweryID': [], 'BreweryName': [], 'Type': [], 'ReviewLink': [],\n",
    "                   'ProxyLink': [], 'Map': [], 'StreetAddress': [], 'City': [],\n",
    "                   'State': [], 'Zip': [], 'Country': [], 'PhoneNum': [],\n",
    "                   'Website': [], 'Rating': [], 'ImageCount': []}\n",
    "    \n",
    "    for b in listBreweries:\n",
    "        breweryDict['BreweryID'].append(b['id'])\n",
    "        breweryDict['BreweryName'].append(b['name'])\n",
    "        breweryDict['Type'].append(b['status'])\n",
    "        breweryDict['ReviewLink'].append(b['reviewlink'])\n",
    "        breweryDict['ProxyLink'].append(b['proxylink'])\n",
    "        breweryDict['Map'].append(b['blogmap'])\n",
    "        breweryDict['StreetAddress'].append(b['street'])\n",
    "        breweryDict['City'].append(b['city'])\n",
    "        breweryDict['State'].append(b['state'])\n",
    "        breweryDict['Zip'].append(b['zip'])\n",
    "        breweryDict['Country'].append(b['country'])\n",
    "        breweryDict['PhoneNum'].append(b['phone'])\n",
    "        breweryDict['Website'].append(urllib.parse.unquote(b['url'])) # Fix parsed URLs\n",
    "        breweryDict['Rating'].append(b['overall'])\n",
    "        breweryDict['ImageCount'].append(b['imagecount'])\n",
    "        \n",
    "    return pd.DataFrame(breweryDict)"
   ]
  },
  {
   "cell_type": "code",
   "execution_count": 56,
   "metadata": {},
   "outputs": [
    {
     "data": {
      "text/html": [
       "<div>\n",
       "<style scoped>\n",
       "    .dataframe tbody tr th:only-of-type {\n",
       "        vertical-align: middle;\n",
       "    }\n",
       "\n",
       "    .dataframe tbody tr th {\n",
       "        vertical-align: top;\n",
       "    }\n",
       "\n",
       "    .dataframe thead th {\n",
       "        text-align: right;\n",
       "    }\n",
       "</style>\n",
       "<table border=\"1\" class=\"dataframe\">\n",
       "  <thead>\n",
       "    <tr style=\"text-align: right;\">\n",
       "      <th></th>\n",
       "      <th>BreweryID</th>\n",
       "      <th>BreweryName</th>\n",
       "      <th>Type</th>\n",
       "      <th>ReviewLink</th>\n",
       "      <th>ProxyLink</th>\n",
       "      <th>Map</th>\n",
       "      <th>StreetAddress</th>\n",
       "      <th>City</th>\n",
       "      <th>State</th>\n",
       "      <th>Zip</th>\n",
       "      <th>Country</th>\n",
       "      <th>PhoneNum</th>\n",
       "      <th>Website</th>\n",
       "      <th>Rating</th>\n",
       "      <th>ImageCount</th>\n",
       "    </tr>\n",
       "  </thead>\n",
       "  <tbody>\n",
       "    <tr>\n",
       "      <th>0</th>\n",
       "      <td>21938</td>\n",
       "      <td>5168 Brewing</td>\n",
       "      <td>Brewery</td>\n",
       "      <td>https://beermapping.com/location/21938</td>\n",
       "      <td>http://beermapping.com/maps/proxymaps.php?loci...</td>\n",
       "      <td>http://beermapping.com/maps/blogproxy.php?loci...</td>\n",
       "      <td>5730 Hidcote Drive</td>\n",
       "      <td>Lincoln</td>\n",
       "      <td>NE</td>\n",
       "      <td>68516</td>\n",
       "      <td>United States</td>\n",
       "      <td>402-875-5588</td>\n",
       "      <td></td>\n",
       "      <td>0</td>\n",
       "      <td>0</td>\n",
       "    </tr>\n",
       "    <tr>\n",
       "      <th>1</th>\n",
       "      <td>22335</td>\n",
       "      <td>5168 Taproom</td>\n",
       "      <td>Beer Bar</td>\n",
       "      <td>https://beermapping.com/location/22335</td>\n",
       "      <td>http://beermapping.com/maps/proxymaps.php?loci...</td>\n",
       "      <td>http://beermapping.com/maps/blogproxy.php?loci...</td>\n",
       "      <td>3201 Farnam Street</td>\n",
       "      <td>Omaha</td>\n",
       "      <td>NE</td>\n",
       "      <td>68131</td>\n",
       "      <td>United States</td>\n",
       "      <td>402-934-5168</td>\n",
       "      <td>http://www.5168brewing.com/</td>\n",
       "      <td>0</td>\n",
       "      <td>0</td>\n",
       "    </tr>\n",
       "    <tr>\n",
       "      <th>2</th>\n",
       "      <td>21215</td>\n",
       "      <td>Alamo Draft House</td>\n",
       "      <td>Beer Bar</td>\n",
       "      <td>https://beermapping.com/location/21215</td>\n",
       "      <td>http://beermapping.com/maps/proxymaps.php?loci...</td>\n",
       "      <td>http://beermapping.com/maps/blogproxy.php?loci...</td>\n",
       "      <td>12750 Westport Pkwy</td>\n",
       "      <td>La Vista</td>\n",
       "      <td>NE</td>\n",
       "      <td>68138</td>\n",
       "      <td>United States</td>\n",
       "      <td>402-505-9979</td>\n",
       "      <td>https://drafthouse.com/omaha</td>\n",
       "      <td>0</td>\n",
       "      <td>0</td>\n",
       "    </tr>\n",
       "    <tr>\n",
       "      <th>3</th>\n",
       "      <td>19644</td>\n",
       "      <td>Backswing Brewing</td>\n",
       "      <td>Brewery</td>\n",
       "      <td>https://beermapping.com/location/19644</td>\n",
       "      <td>http://beermapping.com/maps/proxymaps.php?loci...</td>\n",
       "      <td>http://beermapping.com/maps/blogproxy.php?loci...</td>\n",
       "      <td>500 W South St #8</td>\n",
       "      <td>Lincoln</td>\n",
       "      <td>NE</td>\n",
       "      <td>68522</td>\n",
       "      <td>United States</td>\n",
       "      <td>(402) 515-4263</td>\n",
       "      <td>facebook.com/BackswingBrewingCo/timeline</td>\n",
       "      <td>0</td>\n",
       "      <td>0</td>\n",
       "    </tr>\n",
       "    <tr>\n",
       "      <th>4</th>\n",
       "      <td>21194</td>\n",
       "      <td>Backswing Brewing Company</td>\n",
       "      <td>Brewery</td>\n",
       "      <td>https://beermapping.com/location/21194</td>\n",
       "      <td>http://beermapping.com/maps/proxymaps.php?loci...</td>\n",
       "      <td>http://beermapping.com/maps/blogproxy.php?loci...</td>\n",
       "      <td>500 W South St #8</td>\n",
       "      <td>Lincoln</td>\n",
       "      <td>NE</td>\n",
       "      <td>68522</td>\n",
       "      <td>United States</td>\n",
       "      <td>402-515-4263</td>\n",
       "      <td></td>\n",
       "      <td>0</td>\n",
       "      <td>0</td>\n",
       "    </tr>\n",
       "  </tbody>\n",
       "</table>\n",
       "</div>"
      ],
      "text/plain": [
       "   BreweryID                BreweryName      Type  \\\n",
       "0      21938               5168 Brewing   Brewery   \n",
       "1      22335               5168 Taproom  Beer Bar   \n",
       "2      21215          Alamo Draft House  Beer Bar   \n",
       "3      19644          Backswing Brewing   Brewery   \n",
       "4      21194  Backswing Brewing Company   Brewery   \n",
       "\n",
       "                               ReviewLink  \\\n",
       "0  https://beermapping.com/location/21938   \n",
       "1  https://beermapping.com/location/22335   \n",
       "2  https://beermapping.com/location/21215   \n",
       "3  https://beermapping.com/location/19644   \n",
       "4  https://beermapping.com/location/21194   \n",
       "\n",
       "                                           ProxyLink  \\\n",
       "0  http://beermapping.com/maps/proxymaps.php?loci...   \n",
       "1  http://beermapping.com/maps/proxymaps.php?loci...   \n",
       "2  http://beermapping.com/maps/proxymaps.php?loci...   \n",
       "3  http://beermapping.com/maps/proxymaps.php?loci...   \n",
       "4  http://beermapping.com/maps/proxymaps.php?loci...   \n",
       "\n",
       "                                                 Map        StreetAddress  \\\n",
       "0  http://beermapping.com/maps/blogproxy.php?loci...   5730 Hidcote Drive   \n",
       "1  http://beermapping.com/maps/blogproxy.php?loci...   3201 Farnam Street   \n",
       "2  http://beermapping.com/maps/blogproxy.php?loci...  12750 Westport Pkwy   \n",
       "3  http://beermapping.com/maps/blogproxy.php?loci...    500 W South St #8   \n",
       "4  http://beermapping.com/maps/blogproxy.php?loci...    500 W South St #8   \n",
       "\n",
       "       City State    Zip        Country        PhoneNum  \\\n",
       "0   Lincoln    NE  68516  United States    402-875-5588   \n",
       "1     Omaha    NE  68131  United States    402-934-5168   \n",
       "2  La Vista    NE  68138  United States    402-505-9979   \n",
       "3   Lincoln    NE  68522  United States  (402) 515-4263   \n",
       "4   Lincoln    NE  68522  United States    402-515-4263   \n",
       "\n",
       "                                    Website Rating ImageCount  \n",
       "0                                                0          0  \n",
       "1               http://www.5168brewing.com/      0          0  \n",
       "2              https://drafthouse.com/omaha      0          0  \n",
       "3  facebook.com/BackswingBrewingCo/timeline      0          0  \n",
       "4                                                0          0  "
      ]
     },
     "execution_count": 56,
     "metadata": {},
     "output_type": "execute_result"
    }
   ],
   "source": [
    "# Set up dataframe of brewery info\n",
    "beerDF = buildBreweryDB(breweryJSON)\n",
    "# Look at data\n",
    "beerDF.head()"
   ]
  },
  {
   "cell_type": "code",
   "execution_count": 57,
   "metadata": {},
   "outputs": [
    {
     "data": {
      "text/plain": [
       "array(['Brewery', 'Beer Bar', 'Beer Store', 'Brewpub', 'Homebrew'],\n",
       "      dtype=object)"
      ]
     },
     "execution_count": 57,
     "metadata": {},
     "output_type": "execute_result"
    }
   ],
   "source": [
    "# Check the types of beer venues\n",
    "beerDF.Type.unique()"
   ]
  },
  {
   "cell_type": "markdown",
   "metadata": {},
   "source": [
    "One restaurant owned by Empyrean Brewing was categorized as 'Brewery' and needed to be reclassified as 'Beer Bar' to match their other restaurants:"
   ]
  },
  {
   "cell_type": "code",
   "execution_count": 58,
   "metadata": {},
   "outputs": [],
   "source": [
    "# Fix 'Type' for a specific BreweryID\n",
    "beerDF.loc[beerDF['BreweryID'] == 6413, 'Type'] = 'Beer Bar'"
   ]
  },
  {
   "cell_type": "code",
   "execution_count": 59,
   "metadata": {},
   "outputs": [],
   "source": [
    "# Create a DataFrame containing only breweries (brewery/brewpub):\n",
    "breweryDF = beerDF[(beerDF['Type'] == 'Brewery') | (beerDF['Type'] == 'Brewpub')]"
   ]
  },
  {
   "cell_type": "code",
   "execution_count": 60,
   "metadata": {},
   "outputs": [
    {
     "data": {
      "text/plain": [
       "array(['5168 Brewing', 'Backswing Brewing', 'Backswing Brewing Company',\n",
       "       'Benson Brewery', 'Boiler Brewing Company', 'Bolo Beer Co',\n",
       "       'Bootleg Brewers', 'Bootleg Brewers / Sandhills Brewing Company',\n",
       "       'Bottle Rocket Brewing Company', 'Brewery 719',\n",
       "       'Brickway Brewery and Distillery',\n",
       "       'Broken Arrow Cellars and Brewery', 'Brush Creek Brewing Company',\n",
       "       'Canyon Lakes Brewing Company', 'Code Beer Company',\n",
       "       'Cosmic Eye Brewing Company', 'Empyrean Ales - Lazlos',\n",
       "       'Fairfield Opera House Brewery and Grill',\n",
       "       'Farnam House Brewing Company', 'First Street Brewing Company',\n",
       "       'Flyover Brewing Company', 'Gottberg Brewpub',\n",
       "       'Granite City Food and Brewery - Lincoln',\n",
       "       'Granite City Food and Brewery - Omaha', 'Hwy 14 Brewing Co',\n",
       "       'Infusion Brewing Company', 'Jaipur Restaurant and Brewpub',\n",
       "       'Johnnie Byrd Brewing Company', 'Jukes Ale Works',\n",
       "       'Kinkaider Brewing Company', 'Kros Strain Brewing Company',\n",
       "       'Lazy Horse Vineyard and Brewery', 'Loop Brewing',\n",
       "       'Lost Way Brewery', 'Lucky Bucket Brewing Co',\n",
       "       \"Mac's Creek Winery & Brewery\", \"Misty's Steakhouse And Brewery\",\n",
       "       'Monolithic Brewing', 'Nebraska Brewing Company',\n",
       "       'Pals Brewing Company', 'Peg Leg Brewing',\n",
       "       'Pint Nine Brewing Company', 'Platte Valley Brewery',\n",
       "       'Prairie Pride Brewing Company', 'Roc Hopper Brewing Company',\n",
       "       'Schilling Bridge Winery and Microbrewery',\n",
       "       'Scratchtown Brewing Company', 'Scriptown Brewing',\n",
       "       'Site-1 Brewing', 'Soaring Wings', 'Steeple Brewing Company',\n",
       "       'Stone Hollow Brewing Company', 'The Brewery at Divots',\n",
       "       'Thunderhead Brewing Company', 'Upper Room Brewery',\n",
       "       'Upstream Brewing Company', 'Vis Major Brewing Co.',\n",
       "       'White Elm Brewing Company', 'Zipline Brewing Company'],\n",
       "      dtype=object)"
      ]
     },
     "execution_count": 60,
     "metadata": {},
     "output_type": "execute_result"
    }
   ],
   "source": [
    "# Review brewery names to identify bad data:\n",
    "breweryDF['BreweryName'].unique()"
   ]
  },
  {
   "cell_type": "markdown",
   "metadata": {},
   "source": [
    "Data Fixes:  \n",
    "* [Rename] **5168 Brewing** changed their name to **Catalyst Brewing Co** in 2020.  \n",
    "* [Remove] **Beaver View**, **Blue Blood**, **Misty's**, **Platte Valley**, and **Spilker** have all closed and should be removed.  \n",
    "* [Remove] **Granite City** is a chain and not a local Nebraska brewery.\n",
    "* [Rename] **Broken Arrow** is the parent winery for **Hanging Horseshoe**.\n",
    "* [Rename] Remove 'Lazlos' from **Empyrean** as it is the restaurant portion.\n",
    "\n",
    "Duplicates:  \n",
    "* Backswing  \n",
    "* Bootleg"
   ]
  },
  {
   "cell_type": "markdown",
   "metadata": {},
   "source": [
    "### Remove closed and non-NE breweries"
   ]
  },
  {
   "cell_type": "code",
   "execution_count": 61,
   "metadata": {},
   "outputs": [],
   "source": [
    "def removeBreweries(df, col, values):\n",
    "    '''\n",
    "    Remove rows based based on values in a specified \n",
    "    column that match a list of passed values.\n",
    "    '''\n",
    "    return df[df[col].isin(values) == False]"
   ]
  },
  {
   "cell_type": "code",
   "execution_count": 62,
   "metadata": {},
   "outputs": [],
   "source": [
    "# Create list of breweries to remove\n",
    "closed = ['Beaver View Brewing', \n",
    "          'Blue Blood Brewing Company',\n",
    "          'Granite City Food and Brewery - Lincoln',\n",
    "          'Granite City Food and Brewery - Omaha',\n",
    "          \"Misty's Steakhouse And Brewery\", \n",
    "          'Platte Valley Brewery',\n",
    "          'Spilker Ales']\n",
    "\n",
    "# Remove closed breweries from dataframe\n",
    "breweryDF = removeBreweries(breweryDF, 'BreweryName', closed)"
   ]
  },
  {
   "cell_type": "markdown",
   "metadata": {},
   "source": [
    "### Rename some breweries"
   ]
  },
  {
   "cell_type": "code",
   "execution_count": 63,
   "metadata": {},
   "outputs": [],
   "source": [
    "def updateNames(df, col, replaceDict):\n",
    "    '''\n",
    "    Rename values in a specified column, using a \n",
    "    dictonary of old names and new names.\n",
    "    '''\n",
    "    for k, v in replaceDict.items():\n",
    "        df[col].replace(k, v, inplace=True)"
   ]
  },
  {
   "cell_type": "code",
   "execution_count": 64,
   "metadata": {},
   "outputs": [],
   "source": [
    "# Create dictionary of name changes\n",
    "nameChanges = {\n",
    "    '5168 Brewing': 'Catalyst Brewing Company',\n",
    "    'Broken Arrow Cellars and Brewery': 'Hanging Horseshoe Brewing Company',\n",
    "    'Empyrean Ales - Lazlos': 'Empyrean Brewing Company',\n",
    "    'Backswing Brewing': 'Backswing Brewing Co.'\n",
    "}\n",
    "# Update brewery names in dataframe\n",
    "updateNames(breweryDF, 'BreweryName', nameChanges)"
   ]
  },
  {
   "cell_type": "markdown",
   "metadata": {},
   "source": [
    "### Review duplicates"
   ]
  },
  {
   "cell_type": "code",
   "execution_count": 65,
   "metadata": {},
   "outputs": [
    {
     "data": {
      "text/html": [
       "<div>\n",
       "<style scoped>\n",
       "    .dataframe tbody tr th:only-of-type {\n",
       "        vertical-align: middle;\n",
       "    }\n",
       "\n",
       "    .dataframe tbody tr th {\n",
       "        vertical-align: top;\n",
       "    }\n",
       "\n",
       "    .dataframe thead th {\n",
       "        text-align: right;\n",
       "    }\n",
       "</style>\n",
       "<table border=\"1\" class=\"dataframe\">\n",
       "  <thead>\n",
       "    <tr style=\"text-align: right;\">\n",
       "      <th></th>\n",
       "      <th>BreweryID</th>\n",
       "      <th>BreweryName</th>\n",
       "      <th>Type</th>\n",
       "      <th>ReviewLink</th>\n",
       "      <th>ProxyLink</th>\n",
       "      <th>Map</th>\n",
       "      <th>StreetAddress</th>\n",
       "      <th>City</th>\n",
       "      <th>State</th>\n",
       "      <th>Zip</th>\n",
       "      <th>Country</th>\n",
       "      <th>PhoneNum</th>\n",
       "      <th>Website</th>\n",
       "      <th>Rating</th>\n",
       "      <th>ImageCount</th>\n",
       "    </tr>\n",
       "  </thead>\n",
       "  <tbody>\n",
       "    <tr>\n",
       "      <th>9</th>\n",
       "      <td>22957</td>\n",
       "      <td>Benson Brewery</td>\n",
       "      <td>Brewery</td>\n",
       "      <td>https://beermapping.com/location/22957</td>\n",
       "      <td>http://beermapping.com/maps/proxymaps.php?loci...</td>\n",
       "      <td>http://beermapping.com/maps/blogproxy.php?loci...</td>\n",
       "      <td>6059 Maple St</td>\n",
       "      <td>Omaha</td>\n",
       "      <td>NE</td>\n",
       "      <td>NE 68104</td>\n",
       "      <td>United States</td>\n",
       "      <td>(402) 934-8668</td>\n",
       "      <td>https://www.bensonbrewery.com/</td>\n",
       "      <td>0</td>\n",
       "      <td>0</td>\n",
       "    </tr>\n",
       "    <tr>\n",
       "      <th>49</th>\n",
       "      <td>20515</td>\n",
       "      <td>Infusion Brewing Company</td>\n",
       "      <td>Brewery</td>\n",
       "      <td>https://beermapping.com/location/20515</td>\n",
       "      <td>http://beermapping.com/maps/proxymaps.php?loci...</td>\n",
       "      <td>http://beermapping.com/maps/blogproxy.php?loci...</td>\n",
       "      <td>6271 South 118th Street</td>\n",
       "      <td>Omaha</td>\n",
       "      <td>NE</td>\n",
       "      <td>68137</td>\n",
       "      <td>United States</td>\n",
       "      <td>402-934-2064</td>\n",
       "      <td>infusionbrewing.com</td>\n",
       "      <td>0</td>\n",
       "      <td>0</td>\n",
       "    </tr>\n",
       "    <tr>\n",
       "      <th>106</th>\n",
       "      <td>16272</td>\n",
       "      <td>Thunderhead Brewing Company</td>\n",
       "      <td>Brewery</td>\n",
       "      <td>https://beermapping.com/location/16272</td>\n",
       "      <td>http://beermapping.com/maps/proxymaps.php?loci...</td>\n",
       "      <td>http://beermapping.com/maps/blogproxy.php?loci...</td>\n",
       "      <td>201 Avenue F</td>\n",
       "      <td>Axtell</td>\n",
       "      <td>NE</td>\n",
       "      <td>68924</td>\n",
       "      <td>United States</td>\n",
       "      <td>(308) 237-1558</td>\n",
       "      <td>thunderheadbrewing.com</td>\n",
       "      <td>0</td>\n",
       "      <td>0</td>\n",
       "    </tr>\n",
       "    <tr>\n",
       "      <th>116</th>\n",
       "      <td>21370</td>\n",
       "      <td>Zipline Brewing Company</td>\n",
       "      <td>Brewery</td>\n",
       "      <td>https://beermapping.com/location/21370</td>\n",
       "      <td>http://beermapping.com/maps/proxymaps.php?loci...</td>\n",
       "      <td>http://beermapping.com/maps/blogproxy.php?loci...</td>\n",
       "      <td>721 N 14th St</td>\n",
       "      <td>Omaha</td>\n",
       "      <td>NE</td>\n",
       "      <td>68102</td>\n",
       "      <td>United States</td>\n",
       "      <td></td>\n",
       "      <td>http://ziplinebrewing.com/</td>\n",
       "      <td>0</td>\n",
       "      <td>0</td>\n",
       "    </tr>\n",
       "  </tbody>\n",
       "</table>\n",
       "</div>"
      ],
      "text/plain": [
       "     BreweryID                  BreweryName     Type  \\\n",
       "9        22957               Benson Brewery  Brewery   \n",
       "49       20515     Infusion Brewing Company  Brewery   \n",
       "106      16272  Thunderhead Brewing Company  Brewery   \n",
       "116      21370      Zipline Brewing Company  Brewery   \n",
       "\n",
       "                                 ReviewLink  \\\n",
       "9    https://beermapping.com/location/22957   \n",
       "49   https://beermapping.com/location/20515   \n",
       "106  https://beermapping.com/location/16272   \n",
       "116  https://beermapping.com/location/21370   \n",
       "\n",
       "                                             ProxyLink  \\\n",
       "9    http://beermapping.com/maps/proxymaps.php?loci...   \n",
       "49   http://beermapping.com/maps/proxymaps.php?loci...   \n",
       "106  http://beermapping.com/maps/proxymaps.php?loci...   \n",
       "116  http://beermapping.com/maps/proxymaps.php?loci...   \n",
       "\n",
       "                                                   Map  \\\n",
       "9    http://beermapping.com/maps/blogproxy.php?loci...   \n",
       "49   http://beermapping.com/maps/blogproxy.php?loci...   \n",
       "106  http://beermapping.com/maps/blogproxy.php?loci...   \n",
       "116  http://beermapping.com/maps/blogproxy.php?loci...   \n",
       "\n",
       "               StreetAddress    City State       Zip        Country  \\\n",
       "9              6059 Maple St   Omaha    NE  NE 68104  United States   \n",
       "49   6271 South 118th Street   Omaha    NE     68137  United States   \n",
       "106             201 Avenue F  Axtell    NE     68924  United States   \n",
       "116            721 N 14th St   Omaha    NE     68102  United States   \n",
       "\n",
       "           PhoneNum                         Website Rating ImageCount  \n",
       "9    (402) 934-8668  https://www.bensonbrewery.com/      0          0  \n",
       "49     402-934-2064             infusionbrewing.com      0          0  \n",
       "106  (308) 237-1558          thunderheadbrewing.com      0          0  \n",
       "116                      http://ziplinebrewing.com/      0          0  "
      ]
     },
     "execution_count": 65,
     "metadata": {},
     "output_type": "execute_result"
    }
   ],
   "source": [
    "# Show duplicates\n",
    "breweryDF[breweryDF['BreweryName'].duplicated()]"
   ]
  },
  {
   "cell_type": "code",
   "execution_count": 66,
   "metadata": {},
   "outputs": [],
   "source": [
    "# breweryDF[breweryDF['BreweryName'] == 'Zipline Brewing Company']"
   ]
  },
  {
   "cell_type": "markdown",
   "metadata": {},
   "source": [
    "#### Checking duplicates:  \n",
    "* **Benson**: Appears to be an actual duplicate. The second entry [ID 22957] has the correct phone number so the first entry [ID 17706] will be removed.\n",
    "* **Infusion**: Two separate locations; keep both.  \n",
    "* **Thunderhead**: Two separate locations; keep both.  \n",
    "* **Zipline**: Two separate locations; keep both."
   ]
  },
  {
   "cell_type": "code",
   "execution_count": 67,
   "metadata": {},
   "outputs": [
    {
     "name": "stdout",
     "output_type": "stream",
     "text": [
      "     BreweryID                                  BreweryName\n",
      "3        19644                        Backswing Brewing Co.\n",
      "4        21194                    Backswing Brewing Company\n",
      "8        17706                               Benson Brewery\n",
      "9        22957                               Benson Brewery\n",
      "13       20376                       Boiler Brewing Company\n",
      "14       20287                                 Bolo Beer Co\n",
      "15       20835                              Bootleg Brewers\n",
      "16       21191  Bootleg Brewers / Sandhills Brewing Company\n",
      "17       20099                Bottle Rocket Brewing Company\n",
      "19       22958                                  Brewery 719\n",
      "20       18888              Brickway Brewery and Distillery\n",
      "22       20832                  Brush Creek Brewing Company\n",
      "24       22959                 Canyon Lakes Brewing Company\n",
      "0        21938                     Catalyst Brewing Company\n",
      "26       21721                            Code Beer Company\n",
      "27       22356                   Cosmic Eye Brewing Company\n",
      "33         417                     Empyrean Brewing Company\n",
      "34       20101      Fairfield Opera House Brewery and Grill\n",
      "35       19001                 Farnam House Brewing Company\n",
      "38       20801                 First Street Brewing Company\n",
      "39       22330                      Flyover Brewing Company\n",
      "40         519                             Gottberg Brewpub\n",
      "21       19643            Hanging Horseshoe Brewing Company\n",
      "46       22960                            Hwy 14 Brewing Co\n",
      "48       18081                     Infusion Brewing Company\n",
      "49       20515                     Infusion Brewing Company\n",
      "50         685                Jaipur Restaurant and Brewpub\n",
      "54       21775                 Johnnie Byrd Brewing Company\n",
      "55       22961                              Jukes Ale Works\n",
      "56       19390                    Kinkaider Brewing Company\n",
      "58       22962                  Kros Strain Brewing Company\n",
      "63       20080              Lazy Horse Vineyard and Brewery\n",
      "68       14327                                 Loop Brewing\n",
      "69       21777                             Lost Way Brewery\n",
      "71       10511                      Lucky Bucket Brewing Co\n",
      "72       22963                 Mac's Creek Winery & Brewery\n",
      "74       22964                           Monolithic Brewing\n",
      "75       18889                     Nebraska Brewing Company\n",
      "85       21316                         Pals Brewing Company\n",
      "87       22965                              Peg Leg Brewing\n",
      "88       22966                    Pint Nine Brewing Company\n",
      "90       20833                Prairie Pride Brewing Company\n",
      "91       22967                   Roc Hopper Brewing Company\n",
      "92        3113     Schilling Bridge Winery and Microbrewery\n",
      "93       15203                  Scratchtown Brewing Company\n",
      "94       19366                            Scriptown Brewing\n",
      "95       22968                               Site-1 Brewing\n",
      "96       14325                                Soaring Wings\n",
      "98       21776                      Steeple Brewing Company\n",
      "99       22969                 Stone Hollow Brewing Company\n",
      "100      20079                        The Brewery at Divots\n",
      "105       1326                  Thunderhead Brewing Company\n",
      "106      16272                  Thunderhead Brewing Company\n",
      "108      22970                           Upper Room Brewery\n",
      "109       1374                     Upstream Brewing Company\n",
      "110      21720                        Vis Major Brewing Co.\n",
      "111      21193                    White Elm Brewing Company\n",
      "115      16511                      Zipline Brewing Company\n",
      "116      21370                      Zipline Brewing Company\n"
     ]
    }
   ],
   "source": [
    "# Visually inspect brewery names\n",
    "print(breweryDF[['BreweryID', \"BreweryName\"]].sort_values('BreweryName'))"
   ]
  },
  {
   "cell_type": "markdown",
   "metadata": {},
   "source": [
    "Backswing and Bootleg both have entries under separate but unique names and need to be reviewed:"
   ]
  },
  {
   "cell_type": "code",
   "execution_count": 68,
   "metadata": {},
   "outputs": [
    {
     "data": {
      "text/html": [
       "<div>\n",
       "<style scoped>\n",
       "    .dataframe tbody tr th:only-of-type {\n",
       "        vertical-align: middle;\n",
       "    }\n",
       "\n",
       "    .dataframe tbody tr th {\n",
       "        vertical-align: top;\n",
       "    }\n",
       "\n",
       "    .dataframe thead th {\n",
       "        text-align: right;\n",
       "    }\n",
       "</style>\n",
       "<table border=\"1\" class=\"dataframe\">\n",
       "  <thead>\n",
       "    <tr style=\"text-align: right;\">\n",
       "      <th></th>\n",
       "      <th>BreweryID</th>\n",
       "      <th>BreweryName</th>\n",
       "      <th>Type</th>\n",
       "      <th>ReviewLink</th>\n",
       "      <th>ProxyLink</th>\n",
       "      <th>Map</th>\n",
       "      <th>StreetAddress</th>\n",
       "      <th>City</th>\n",
       "      <th>State</th>\n",
       "      <th>Zip</th>\n",
       "      <th>Country</th>\n",
       "      <th>PhoneNum</th>\n",
       "      <th>Website</th>\n",
       "      <th>Rating</th>\n",
       "      <th>ImageCount</th>\n",
       "    </tr>\n",
       "  </thead>\n",
       "  <tbody>\n",
       "    <tr>\n",
       "      <th>3</th>\n",
       "      <td>19644</td>\n",
       "      <td>Backswing Brewing Co.</td>\n",
       "      <td>Brewery</td>\n",
       "      <td>https://beermapping.com/location/19644</td>\n",
       "      <td>http://beermapping.com/maps/proxymaps.php?loci...</td>\n",
       "      <td>http://beermapping.com/maps/blogproxy.php?loci...</td>\n",
       "      <td>500 W South St #8</td>\n",
       "      <td>Lincoln</td>\n",
       "      <td>NE</td>\n",
       "      <td>68522</td>\n",
       "      <td>United States</td>\n",
       "      <td>(402) 515-4263</td>\n",
       "      <td>facebook.com/BackswingBrewingCo/timeline</td>\n",
       "      <td>0</td>\n",
       "      <td>0</td>\n",
       "    </tr>\n",
       "    <tr>\n",
       "      <th>4</th>\n",
       "      <td>21194</td>\n",
       "      <td>Backswing Brewing Company</td>\n",
       "      <td>Brewery</td>\n",
       "      <td>https://beermapping.com/location/21194</td>\n",
       "      <td>http://beermapping.com/maps/proxymaps.php?loci...</td>\n",
       "      <td>http://beermapping.com/maps/blogproxy.php?loci...</td>\n",
       "      <td>500 W South St #8</td>\n",
       "      <td>Lincoln</td>\n",
       "      <td>NE</td>\n",
       "      <td>68522</td>\n",
       "      <td>United States</td>\n",
       "      <td>402-515-4263</td>\n",
       "      <td></td>\n",
       "      <td>0</td>\n",
       "      <td>0</td>\n",
       "    </tr>\n",
       "  </tbody>\n",
       "</table>\n",
       "</div>"
      ],
      "text/plain": [
       "   BreweryID                BreweryName     Type  \\\n",
       "3      19644      Backswing Brewing Co.  Brewery   \n",
       "4      21194  Backswing Brewing Company  Brewery   \n",
       "\n",
       "                               ReviewLink  \\\n",
       "3  https://beermapping.com/location/19644   \n",
       "4  https://beermapping.com/location/21194   \n",
       "\n",
       "                                           ProxyLink  \\\n",
       "3  http://beermapping.com/maps/proxymaps.php?loci...   \n",
       "4  http://beermapping.com/maps/proxymaps.php?loci...   \n",
       "\n",
       "                                                 Map      StreetAddress  \\\n",
       "3  http://beermapping.com/maps/blogproxy.php?loci...  500 W South St #8   \n",
       "4  http://beermapping.com/maps/blogproxy.php?loci...  500 W South St #8   \n",
       "\n",
       "      City State    Zip        Country        PhoneNum  \\\n",
       "3  Lincoln    NE  68522  United States  (402) 515-4263   \n",
       "4  Lincoln    NE  68522  United States    402-515-4263   \n",
       "\n",
       "                                    Website Rating ImageCount  \n",
       "3  facebook.com/BackswingBrewingCo/timeline      0          0  \n",
       "4                                                0          0  "
      ]
     },
     "execution_count": 68,
     "metadata": {},
     "output_type": "execute_result"
    }
   ],
   "source": [
    "# Compare Backswing entries\n",
    "breweryDF[(breweryDF['BreweryID'] == 19644) | (breweryDF['BreweryID'] == 21194)]"
   ]
  },
  {
   "cell_type": "markdown",
   "metadata": {},
   "source": [
    "Entries are indeed duplicate locations. The first [ID 19644] has more information and will be kept."
   ]
  },
  {
   "cell_type": "code",
   "execution_count": 69,
   "metadata": {},
   "outputs": [
    {
     "data": {
      "text/html": [
       "<div>\n",
       "<style scoped>\n",
       "    .dataframe tbody tr th:only-of-type {\n",
       "        vertical-align: middle;\n",
       "    }\n",
       "\n",
       "    .dataframe tbody tr th {\n",
       "        vertical-align: top;\n",
       "    }\n",
       "\n",
       "    .dataframe thead th {\n",
       "        text-align: right;\n",
       "    }\n",
       "</style>\n",
       "<table border=\"1\" class=\"dataframe\">\n",
       "  <thead>\n",
       "    <tr style=\"text-align: right;\">\n",
       "      <th></th>\n",
       "      <th>BreweryID</th>\n",
       "      <th>BreweryName</th>\n",
       "      <th>Type</th>\n",
       "      <th>ReviewLink</th>\n",
       "      <th>ProxyLink</th>\n",
       "      <th>Map</th>\n",
       "      <th>StreetAddress</th>\n",
       "      <th>City</th>\n",
       "      <th>State</th>\n",
       "      <th>Zip</th>\n",
       "      <th>Country</th>\n",
       "      <th>PhoneNum</th>\n",
       "      <th>Website</th>\n",
       "      <th>Rating</th>\n",
       "      <th>ImageCount</th>\n",
       "    </tr>\n",
       "  </thead>\n",
       "  <tbody>\n",
       "    <tr>\n",
       "      <th>15</th>\n",
       "      <td>20835</td>\n",
       "      <td>Bootleg Brewers</td>\n",
       "      <td>Brewpub</td>\n",
       "      <td>https://beermapping.com/location/20835</td>\n",
       "      <td>http://beermapping.com/maps/proxymaps.php?loci...</td>\n",
       "      <td>http://beermapping.com/maps/blogproxy.php?loci...</td>\n",
       "      <td>45145 829th Rd</td>\n",
       "      <td>Taylor</td>\n",
       "      <td>NE</td>\n",
       "      <td>68879</td>\n",
       "      <td>United States</td>\n",
       "      <td>308-942-3440</td>\n",
       "      <td>bootlegbrewers.com</td>\n",
       "      <td>0</td>\n",
       "      <td>0</td>\n",
       "    </tr>\n",
       "    <tr>\n",
       "      <th>16</th>\n",
       "      <td>21191</td>\n",
       "      <td>Bootleg Brewers / Sandhills Brewing Company</td>\n",
       "      <td>Brewpub</td>\n",
       "      <td>https://beermapping.com/location/21191</td>\n",
       "      <td>http://beermapping.com/maps/proxymaps.php?loci...</td>\n",
       "      <td>http://beermapping.com/maps/blogproxy.php?loci...</td>\n",
       "      <td>45145 829th Rd</td>\n",
       "      <td>Taylor</td>\n",
       "      <td>NE</td>\n",
       "      <td>68879</td>\n",
       "      <td>United States</td>\n",
       "      <td>308-942-3440</td>\n",
       "      <td>bootlegbrewers.com</td>\n",
       "      <td>0</td>\n",
       "      <td>0</td>\n",
       "    </tr>\n",
       "  </tbody>\n",
       "</table>\n",
       "</div>"
      ],
      "text/plain": [
       "    BreweryID                                  BreweryName     Type  \\\n",
       "15      20835                              Bootleg Brewers  Brewpub   \n",
       "16      21191  Bootleg Brewers / Sandhills Brewing Company  Brewpub   \n",
       "\n",
       "                                ReviewLink  \\\n",
       "15  https://beermapping.com/location/20835   \n",
       "16  https://beermapping.com/location/21191   \n",
       "\n",
       "                                            ProxyLink  \\\n",
       "15  http://beermapping.com/maps/proxymaps.php?loci...   \n",
       "16  http://beermapping.com/maps/proxymaps.php?loci...   \n",
       "\n",
       "                                                  Map   StreetAddress    City  \\\n",
       "15  http://beermapping.com/maps/blogproxy.php?loci...  45145 829th Rd  Taylor   \n",
       "16  http://beermapping.com/maps/blogproxy.php?loci...  45145 829th Rd  Taylor   \n",
       "\n",
       "   State    Zip        Country      PhoneNum             Website Rating  \\\n",
       "15    NE  68879  United States  308-942-3440  bootlegbrewers.com      0   \n",
       "16    NE  68879  United States  308-942-3440  bootlegbrewers.com      0   \n",
       "\n",
       "   ImageCount  \n",
       "15          0  \n",
       "16          0  "
      ]
     },
     "execution_count": 69,
     "metadata": {},
     "output_type": "execute_result"
    }
   ],
   "source": [
    "# Compare Bootleg entries\n",
    "breweryDF[(breweryDF['BreweryID'] == 20835) | (breweryDF['BreweryID'] == 21191)]"
   ]
  },
  {
   "cell_type": "markdown",
   "metadata": {},
   "source": [
    "Again, duplicate locations. The map for the first entry [ID 20835] appears incorrect and will be removed."
   ]
  },
  {
   "cell_type": "markdown",
   "metadata": {},
   "source": [
    "#### Remove duplicates:"
   ]
  },
  {
   "cell_type": "code",
   "execution_count": 70,
   "metadata": {},
   "outputs": [],
   "source": [
    "# Make list of IDs to remove\n",
    "removeID = [17706, 21194, 21191, 20835]\n",
    "# Remove duplicate entries from dataframe\n",
    "breweryDF = removeBreweries(breweryDF, 'BreweryID', removeID)"
   ]
  },
  {
   "cell_type": "code",
   "execution_count": 71,
   "metadata": {},
   "outputs": [],
   "source": [
    "# Manually fix Benson zipcode\n",
    "breweryDF.loc[breweryDF['BreweryName'] == 'Benson Brewery', 'Zip'] = 68104"
   ]
  },
  {
   "cell_type": "markdown",
   "metadata": {},
   "source": [
    "#### Export as CSV:"
   ]
  },
  {
   "cell_type": "code",
   "execution_count": 72,
   "metadata": {},
   "outputs": [],
   "source": [
    "# Reset the index for the remaining breweries\n",
    "breweryDF.reset_index(drop=True, inplace=True)"
   ]
  },
  {
   "cell_type": "code",
   "execution_count": 73,
   "metadata": {},
   "outputs": [],
   "source": [
    "# Save as CSV\n",
    "breweryDF.to_csv('API_beerMapping.csv', index=False)"
   ]
  },
  {
   "cell_type": "code",
   "execution_count": 74,
   "metadata": {},
   "outputs": [
    {
     "data": {
      "text/html": [
       "<div>\n",
       "<style scoped>\n",
       "    .dataframe tbody tr th:only-of-type {\n",
       "        vertical-align: middle;\n",
       "    }\n",
       "\n",
       "    .dataframe tbody tr th {\n",
       "        vertical-align: top;\n",
       "    }\n",
       "\n",
       "    .dataframe thead th {\n",
       "        text-align: right;\n",
       "    }\n",
       "</style>\n",
       "<table border=\"1\" class=\"dataframe\">\n",
       "  <thead>\n",
       "    <tr style=\"text-align: right;\">\n",
       "      <th></th>\n",
       "      <th>BreweryID</th>\n",
       "      <th>BreweryName</th>\n",
       "      <th>Type</th>\n",
       "      <th>ReviewLink</th>\n",
       "      <th>ProxyLink</th>\n",
       "      <th>Map</th>\n",
       "      <th>StreetAddress</th>\n",
       "      <th>City</th>\n",
       "      <th>State</th>\n",
       "      <th>Zip</th>\n",
       "      <th>Country</th>\n",
       "      <th>PhoneNum</th>\n",
       "      <th>Website</th>\n",
       "      <th>Rating</th>\n",
       "      <th>ImageCount</th>\n",
       "    </tr>\n",
       "  </thead>\n",
       "  <tbody>\n",
       "    <tr>\n",
       "      <th>0</th>\n",
       "      <td>21938</td>\n",
       "      <td>Catalyst Brewing Company</td>\n",
       "      <td>Brewery</td>\n",
       "      <td>https://beermapping.com/location/21938</td>\n",
       "      <td>http://beermapping.com/maps/proxymaps.php?loci...</td>\n",
       "      <td>http://beermapping.com/maps/blogproxy.php?loci...</td>\n",
       "      <td>5730 Hidcote Drive</td>\n",
       "      <td>Lincoln</td>\n",
       "      <td>NE</td>\n",
       "      <td>68516</td>\n",
       "      <td>United States</td>\n",
       "      <td>402-875-5588</td>\n",
       "      <td></td>\n",
       "      <td>0</td>\n",
       "      <td>0</td>\n",
       "    </tr>\n",
       "    <tr>\n",
       "      <th>1</th>\n",
       "      <td>19644</td>\n",
       "      <td>Backswing Brewing Co.</td>\n",
       "      <td>Brewery</td>\n",
       "      <td>https://beermapping.com/location/19644</td>\n",
       "      <td>http://beermapping.com/maps/proxymaps.php?loci...</td>\n",
       "      <td>http://beermapping.com/maps/blogproxy.php?loci...</td>\n",
       "      <td>500 W South St #8</td>\n",
       "      <td>Lincoln</td>\n",
       "      <td>NE</td>\n",
       "      <td>68522</td>\n",
       "      <td>United States</td>\n",
       "      <td>(402) 515-4263</td>\n",
       "      <td>facebook.com/BackswingBrewingCo/timeline</td>\n",
       "      <td>0</td>\n",
       "      <td>0</td>\n",
       "    </tr>\n",
       "    <tr>\n",
       "      <th>2</th>\n",
       "      <td>22957</td>\n",
       "      <td>Benson Brewery</td>\n",
       "      <td>Brewery</td>\n",
       "      <td>https://beermapping.com/location/22957</td>\n",
       "      <td>http://beermapping.com/maps/proxymaps.php?loci...</td>\n",
       "      <td>http://beermapping.com/maps/blogproxy.php?loci...</td>\n",
       "      <td>6059 Maple St</td>\n",
       "      <td>Omaha</td>\n",
       "      <td>NE</td>\n",
       "      <td>68104</td>\n",
       "      <td>United States</td>\n",
       "      <td>(402) 934-8668</td>\n",
       "      <td>https://www.bensonbrewery.com/</td>\n",
       "      <td>0</td>\n",
       "      <td>0</td>\n",
       "    </tr>\n",
       "    <tr>\n",
       "      <th>3</th>\n",
       "      <td>20376</td>\n",
       "      <td>Boiler Brewing Company</td>\n",
       "      <td>Brewery</td>\n",
       "      <td>https://beermapping.com/location/20376</td>\n",
       "      <td>http://beermapping.com/maps/proxymaps.php?loci...</td>\n",
       "      <td>http://beermapping.com/maps/blogproxy.php?loci...</td>\n",
       "      <td>129 N 10th St, Suite 8</td>\n",
       "      <td>Lincoln</td>\n",
       "      <td>NE</td>\n",
       "      <td>68508</td>\n",
       "      <td>United States</td>\n",
       "      <td>402-261-8775</td>\n",
       "      <td>boilerbrewingcompany.com</td>\n",
       "      <td>0</td>\n",
       "      <td>0</td>\n",
       "    </tr>\n",
       "    <tr>\n",
       "      <th>4</th>\n",
       "      <td>20287</td>\n",
       "      <td>Bolo Beer Co</td>\n",
       "      <td>Brewery</td>\n",
       "      <td>https://beermapping.com/location/20287</td>\n",
       "      <td>http://beermapping.com/maps/proxymaps.php?loci...</td>\n",
       "      <td>http://beermapping.com/maps/blogproxy.php?loci...</td>\n",
       "      <td>420 East 1st St</td>\n",
       "      <td>Valentine</td>\n",
       "      <td>NE</td>\n",
       "      <td>69201</td>\n",
       "      <td>United States</td>\n",
       "      <td></td>\n",
       "      <td>facebook.com/BoloBeerCo</td>\n",
       "      <td>0</td>\n",
       "      <td>0</td>\n",
       "    </tr>\n",
       "  </tbody>\n",
       "</table>\n",
       "</div>"
      ],
      "text/plain": [
       "   BreweryID               BreweryName     Type  \\\n",
       "0      21938  Catalyst Brewing Company  Brewery   \n",
       "1      19644     Backswing Brewing Co.  Brewery   \n",
       "2      22957            Benson Brewery  Brewery   \n",
       "3      20376    Boiler Brewing Company  Brewery   \n",
       "4      20287              Bolo Beer Co  Brewery   \n",
       "\n",
       "                               ReviewLink  \\\n",
       "0  https://beermapping.com/location/21938   \n",
       "1  https://beermapping.com/location/19644   \n",
       "2  https://beermapping.com/location/22957   \n",
       "3  https://beermapping.com/location/20376   \n",
       "4  https://beermapping.com/location/20287   \n",
       "\n",
       "                                           ProxyLink  \\\n",
       "0  http://beermapping.com/maps/proxymaps.php?loci...   \n",
       "1  http://beermapping.com/maps/proxymaps.php?loci...   \n",
       "2  http://beermapping.com/maps/proxymaps.php?loci...   \n",
       "3  http://beermapping.com/maps/proxymaps.php?loci...   \n",
       "4  http://beermapping.com/maps/proxymaps.php?loci...   \n",
       "\n",
       "                                                 Map           StreetAddress  \\\n",
       "0  http://beermapping.com/maps/blogproxy.php?loci...      5730 Hidcote Drive   \n",
       "1  http://beermapping.com/maps/blogproxy.php?loci...       500 W South St #8   \n",
       "2  http://beermapping.com/maps/blogproxy.php?loci...           6059 Maple St   \n",
       "3  http://beermapping.com/maps/blogproxy.php?loci...  129 N 10th St, Suite 8   \n",
       "4  http://beermapping.com/maps/blogproxy.php?loci...         420 East 1st St   \n",
       "\n",
       "        City State    Zip        Country        PhoneNum  \\\n",
       "0    Lincoln    NE  68516  United States    402-875-5588   \n",
       "1    Lincoln    NE  68522  United States  (402) 515-4263   \n",
       "2      Omaha    NE  68104  United States  (402) 934-8668   \n",
       "3    Lincoln    NE  68508  United States    402-261-8775   \n",
       "4  Valentine    NE  69201  United States                   \n",
       "\n",
       "                                    Website Rating ImageCount  \n",
       "0                                                0          0  \n",
       "1  facebook.com/BackswingBrewingCo/timeline      0          0  \n",
       "2            https://www.bensonbrewery.com/      0          0  \n",
       "3                  boilerbrewingcompany.com      0          0  \n",
       "4                   facebook.com/BoloBeerCo      0          0  "
      ]
     },
     "execution_count": 74,
     "metadata": {},
     "output_type": "execute_result"
    }
   ],
   "source": [
    "breweryDF.head()"
   ]
  },
  {
   "cell_type": "markdown",
   "metadata": {
    "tags": []
   },
   "source": [
    "## Load data into an SQL database, each as an individual table."
   ]
  },
  {
   "cell_type": "code",
   "execution_count": 75,
   "metadata": {},
   "outputs": [],
   "source": [
    "# Load the previously cleaned data from CSV files:\n",
    "csvData = pd.read_csv(\"CSV_nebraskaCleaned.csv\")\n",
    "webData = pd.read_csv(\"WEB_NEbeerReddit.csv\")\n",
    "apiData = pd.read_csv(\"API_beerMapping.csv\")"
   ]
  },
  {
   "cell_type": "markdown",
   "metadata": {},
   "source": [
    "## First, a little extra cleaning"
   ]
  },
  {
   "cell_type": "markdown",
   "metadata": {},
   "source": [
    "#### Replace spaces in column names with underscores:"
   ]
  },
  {
   "cell_type": "code",
   "execution_count": 76,
   "metadata": {},
   "outputs": [],
   "source": [
    "def colSpaceToUnderscore(df):\n",
    "    '''\n",
    "    Replaces spaces with underscores in the column names of a DataFrame\n",
    "    '''\n",
    "    newCols = []\n",
    "    for c in df.columns:\n",
    "        newCols.append(c.replace(' ', '_'))\n",
    "    df.columns = newCols\n",
    "    print(f\"New column names:\\n{df.columns}\")  "
   ]
  },
  {
   "cell_type": "code",
   "execution_count": 77,
   "metadata": {},
   "outputs": [
    {
     "name": "stdout",
     "output_type": "stream",
     "text": [
      "New column names:\n",
      "Index(['Brewery_ID', 'Brewery_Name', 'Type_of_Brewery', 'Street_Address',\n",
      "       'City', 'State', 'Postal_Code', '5-digit_Zip', 'Website', 'Phone',\n",
      "       'Longitude', 'Latitude'],\n",
      "      dtype='object')\n",
      "New column names:\n",
      "Index(['Brewery_Name', 'City', 'State', 'Type_of_Brewery',\n",
      "       'Type_of_Distribution', 'Notes', '#_Locations', 'Locations'],\n",
      "      dtype='object')\n",
      "New column names:\n",
      "Index(['BreweryID', 'BreweryName', 'Type', 'ReviewLink', 'ProxyLink', 'Map',\n",
      "       'StreetAddress', 'City', 'State', 'Zip', 'Country', 'PhoneNum',\n",
      "       'Website', 'Rating', 'ImageCount'],\n",
      "      dtype='object')\n"
     ]
    }
   ],
   "source": [
    "# Replace spaces with underscores in headers\n",
    "colSpaceToUnderscore(csvData)\n",
    "colSpaceToUnderscore(webData)\n",
    "colSpaceToUnderscore(apiData)"
   ]
  },
  {
   "cell_type": "markdown",
   "metadata": {},
   "source": [
    "<a id='address'></a>"
   ]
  },
  {
   "cell_type": "markdown",
   "metadata": {},
   "source": [
    "#### Make street addresses a uniform format:"
   ]
  },
  {
   "cell_type": "code",
   "execution_count": 78,
   "metadata": {},
   "outputs": [],
   "source": [
    "def standardizeAddress(df, colName):\n",
    "    '''\n",
    "    Creates street address uniformity and makes Title Case;\n",
    "    Replaces existing street address column.\n",
    "    '''\n",
    "    tempDF = pd.DataFrame()\n",
    "    addressDF = pd.DataFrame()\n",
    "    \n",
    "    tempDF = pandas_usaddress.tag(df, [colName], granularity='single', standardize=True) \n",
    "    addressDF['Address'] = tempDF.SingleLine.str.title()\n",
    "    tempDF = pandas_usaddress.tag(df, [colName], granularity='medium', standardize=True) \n",
    "    addressDF['Suffix'] = tempDF.OccupancySuite.str.title()\n",
    "    \n",
    "    for i in range(len(addressDF.Address)):\n",
    "        addressDF['Address'][i] = addressDF.Address[i].rstrip(str(addressDF.Suffix[i])).strip()\n",
    "        \n",
    "    df[colName] = addressDF['Address']"
   ]
  },
  {
   "cell_type": "code",
   "execution_count": 79,
   "metadata": {},
   "outputs": [
    {
     "name": "stderr",
     "output_type": "stream",
     "text": [
      "C:\\ProgramData\\Anaconda3\\lib\\site-packages\\pandas_usaddress\\__init__.py:94: FutureWarning: The default value of regex will change from True to False in a future version.\n",
      "  df['odictaddress'] = df['odictaddress'].str.replace('[^\\w\\s\\-]','')\n"
     ]
    }
   ],
   "source": [
    "# Standardize addresses\n",
    "standardizeAddress(csvData, 'Street_Address')\n",
    "standardizeAddress(apiData, 'StreetAddress')"
   ]
  },
  {
   "cell_type": "code",
   "execution_count": 80,
   "metadata": {},
   "outputs": [],
   "source": [
    "# A few manual fixes:\n",
    "csvData['Street_Address'] = csvData['Street_Address'].str.replace(' Blackstone District', '')\n",
    "csvData['Street_Address'] = csvData['Street_Address'].str.replace('500 W South', '500 W South St')\n",
    "apiData['StreetAddress'] = apiData['StreetAddress'].str.replace('710Th Rd', '62193 710Th Rd')\n",
    "csvData.State = 'NE'\n",
    "webData.State = 'NE'"
   ]
  },
  {
   "cell_type": "markdown",
   "metadata": {},
   "source": [
    "#### Add a column for consolidating Omaha suburbs:\n",
    "https://en.wikipedia.org/wiki/Neighborhoods_of_Omaha,_Nebraska"
   ]
  },
  {
   "cell_type": "markdown",
   "metadata": {},
   "source": [
    "##### Fix for URL Error:\n",
    "> URLError: <urlopen error [SSL: CERTIFICATE_VERIFY_FAILED] certificate verify failed: certificate has expired (_ssl.c:1129)>  \n",
    "\n",
    "[Source](https://clay-atlas.com/us/blog/2021/09/26/python-en-urllib-error-ssl-certificate/)"
   ]
  },
  {
   "cell_type": "code",
   "execution_count": 81,
   "metadata": {},
   "outputs": [
    {
     "name": "stdout",
     "output_type": "stream",
     "text": [
      "200\n",
      "<http.client.HTTPResponse object at 0x0000014065D47B50>\n"
     ]
    }
   ],
   "source": [
    "# Fix for URLError\n",
    "import urllib.request\n",
    "import ssl\n",
    "\n",
    "def main():\n",
    "    ssl._create_default_https_context = ssl._create_unverified_context\n",
    "    r = urllib.request.urlopen('https://en.wikipedia.org/wiki/Neighborhoods_of_Omaha,_Nebraska')\n",
    "    print(r.status)\n",
    "    print(r)\n",
    "\n",
    "\n",
    "if __name__ == '__main__':\n",
    "    main()"
   ]
  },
  {
   "cell_type": "code",
   "execution_count": 82,
   "metadata": {},
   "outputs": [],
   "source": [
    "# Use table from Wikipedia page to generage a list of suburbs:\n",
    "url = \"https://en.wikipedia.org/wiki/Neighborhoods_of_Omaha,_Nebraska\"\n",
    "listOfTables = pd.read_html(url)\n",
    "# get relevant table\n",
    "omahaSubsDF = listOfTables[1]\n",
    "# get list of suburbs from table\n",
    "omahaSubs = list(omahaSubsDF['Neighborhoods in Omaha alphabetical order'][1:])"
   ]
  },
  {
   "cell_type": "code",
   "execution_count": 83,
   "metadata": {},
   "outputs": [],
   "source": [
    "def fixCitySpacing(df):\n",
    "    '''\n",
    "    Fixes spacing for a couple of cities\n",
    "    '''\n",
    "    df['City'].replace('Mc Cook', 'McCook', inplace=True)\n",
    "    df['City'].replace('LaVista', 'La Vista', inplace=True)"
   ]
  },
  {
   "cell_type": "code",
   "execution_count": 84,
   "metadata": {},
   "outputs": [],
   "source": [
    "# Fix spacing\n",
    "fixCitySpacing(csvData)\n",
    "fixCitySpacing(webData)\n",
    "fixCitySpacing(apiData)"
   ]
  },
  {
   "cell_type": "code",
   "execution_count": 85,
   "metadata": {},
   "outputs": [],
   "source": [
    "def omahaSuburbs(df, colName):\n",
    "    '''\n",
    "    Creates a copy of the City column as a primary location and converts \n",
    "    any locations found in the list of Omaha suburbs to \"Omaha\"\n",
    "    '''\n",
    "    df['Central_City'] = df[colName]\n",
    "    df.loc[(df['Central_City'].isin(omahaSubs) == True), 'Central_City'] = \"Omaha\""
   ]
  },
  {
   "cell_type": "code",
   "execution_count": 86,
   "metadata": {},
   "outputs": [],
   "source": [
    "# Convert Omaha suburbs to Omaha\n",
    "omahaSuburbs(csvData, 'City')\n",
    "omahaSuburbs(webData, 'City')\n",
    "omahaSuburbs(apiData, 'City')"
   ]
  },
  {
   "cell_type": "markdown",
   "metadata": {},
   "source": [
    "<a id='phone'></a>"
   ]
  },
  {
   "cell_type": "markdown",
   "metadata": {},
   "source": [
    "#### Standardize phone numbers:"
   ]
  },
  {
   "cell_type": "code",
   "execution_count": 87,
   "metadata": {},
   "outputs": [],
   "source": [
    "def fixPhoneNums(df, colName):\n",
    "    '''\n",
    "    Attempts to convert each phone number to a standardized format and add\n",
    "    to a list, adding NaN if it fails. Assigns the list back to the DF column.\n",
    "    '''\n",
    "    phList = []\n",
    "    for i in range(len(df[colName])):\n",
    "        try:\n",
    "            phList.append(pn.format_number(pn.parse(df[colName][i], 'US'), \n",
    "                                           pn.PhoneNumberFormat.NATIONAL))\n",
    "        except:\n",
    "            phList.append(np.nan)\n",
    "    df[colName] = phList"
   ]
  },
  {
   "cell_type": "code",
   "execution_count": 88,
   "metadata": {},
   "outputs": [],
   "source": [
    "# Standardize phone number formats\n",
    "fixPhoneNums(apiData, 'PhoneNum')"
   ]
  },
  {
   "cell_type": "markdown",
   "metadata": {},
   "source": [
    "#### Standardize Brewery Names:"
   ]
  },
  {
   "cell_type": "code",
   "execution_count": 89,
   "metadata": {},
   "outputs": [],
   "source": [
    "def fuzzyMatch(df, colName, scorer=fuzz.ratio, display=False):\n",
    "    '''\n",
    "    Fuzzy matches a column of brewery names against a standard set of names.\n",
    "    `display=True`  returns a DF comparing old with new names plus a score.\n",
    "    `display=False` returns a Series of the corrected names.\n",
    "    '''\n",
    "    checkDF = df.copy()\n",
    "    actualDF = webData.copy()\n",
    "    testDF = pd.DataFrame()\n",
    "    testDF['NamesToCheck'] = checkDF[colName]\n",
    "    \n",
    "    actualName = []\n",
    "    similarity = []\n",
    "    for i in testDF['NamesToCheck']:\n",
    "        ratio = process.extract(i, actualDF['Brewery_Name'], \n",
    "                                limit=1, scorer=scorer) \n",
    "        actualName.append(ratio[0][0])\n",
    "        similarity.append(ratio[0][1])\n",
    "        testDF['NameMatch'] = pd.Series(actualName)\n",
    "        testDF['Score'] = pd.Series(similarity)\n",
    "    \n",
    "    if display == True:\n",
    "        print('Average Score: {0:.2f}'.format(testDF['Score'].mean()))\n",
    "        return testDF.sort_values('Score', ascending=False)\n",
    "    elif display == False:\n",
    "        return testDF['NameMatch']"
   ]
  },
  {
   "cell_type": "code",
   "execution_count": 90,
   "metadata": {},
   "outputs": [],
   "source": [
    "# Compare fuzzy matching on brewery names\n",
    "csvData['Brewery_Name'] = fuzzyMatch(csvData, 'Brewery_Name', \n",
    "                                     fuzz.partial_ratio, display=False)\n",
    "apiData['BreweryName'] = fuzzyMatch(apiData, 'BreweryName', \n",
    "                                    fuzz.token_sort_ratio, display=False)"
   ]
  },
  {
   "cell_type": "markdown",
   "metadata": {},
   "source": [
    "#### Remove Granite City (not a Nebraska brewery):"
   ]
  },
  {
   "cell_type": "code",
   "execution_count": 91,
   "metadata": {},
   "outputs": [],
   "source": [
    "def removeGC(df, colName):\n",
    "    '''\n",
    "    Removes Granite City, which is not a Nebraska brewery.\n",
    "    '''\n",
    "    return df[df[colName] != 'Granite City Food & Brewery']"
   ]
  },
  {
   "cell_type": "code",
   "execution_count": 92,
   "metadata": {},
   "outputs": [],
   "source": [
    "# Remove non-NE brewery, Granite City\n",
    "csvData = removeGC(csvData, 'Brewery_Name')\n",
    "webData = removeGC(webData, 'Brewery_Name')\n",
    "apiData = removeGC(apiData, 'BreweryName')"
   ]
  },
  {
   "cell_type": "markdown",
   "metadata": {},
   "source": [
    "#### Fix an incorrect zip code:"
   ]
  },
  {
   "cell_type": "code",
   "execution_count": 93,
   "metadata": {},
   "outputs": [],
   "source": [
    "# Update Code Beer's incorrect zipcode\n",
    "apiData.loc[apiData['BreweryName'] == 'Code Beer Company', ['Zip']] = 68510"
   ]
  },
  {
   "cell_type": "markdown",
   "metadata": {},
   "source": [
    "<a id='sql'></a>"
   ]
  },
  {
   "cell_type": "markdown",
   "metadata": {
    "tags": []
   },
   "source": [
    "## Load DataFrames into an SQL Database"
   ]
  },
  {
   "cell_type": "code",
   "execution_count": 94,
   "metadata": {},
   "outputs": [],
   "source": [
    "# Load data into an SQL database, each as an individual table:\n",
    "with sqlite3.connect('Nebeerska.db') as conn:\n",
    "    cursor = conn.cursor()\n",
    "    csvData.to_sql('csvtable', conn, if_exists='replace', index=False)\n",
    "    webData.to_sql('webtable', conn, if_exists='replace', index=False)\n",
    "    apiData.to_sql('apitable', conn, if_exists='replace', index=False)"
   ]
  },
  {
   "cell_type": "markdown",
   "metadata": {},
   "source": [
    "### Get a list of the tables:"
   ]
  },
  {
   "cell_type": "code",
   "execution_count": 95,
   "metadata": {},
   "outputs": [
    {
     "name": "stdout",
     "output_type": "stream",
     "text": [
      "csvtable\n",
      "webtable\n",
      "apitable\n"
     ]
    }
   ],
   "source": [
    "# print a list of the SQL tables\n",
    "res = conn.execute('''SELECT name FROM sqlite_master WHERE type='table';''')\n",
    "tableList = []\n",
    "for name in res:\n",
    "    print(name[0])\n",
    "    tableList.append(name[0])"
   ]
  },
  {
   "cell_type": "markdown",
   "metadata": {},
   "source": [
    "### Check out the first few rows of each table:"
   ]
  },
  {
   "cell_type": "code",
   "execution_count": 96,
   "metadata": {},
   "outputs": [],
   "source": [
    "def head(table, nRows=5):\n",
    "    '''Prints the first n rows of the table specified'''\n",
    "    cursor.execute(f'''SELECT * FROM {table}''')\n",
    "    for row in cursor.fetchall()[:nRows]:\n",
    "        print(row)"
   ]
  },
  {
   "cell_type": "code",
   "execution_count": 97,
   "metadata": {},
   "outputs": [
    {
     "name": "stdout",
     "output_type": "stream",
     "text": [
      "Table: 'csvtable' - \n",
      "('backswing-brewing-co-lincoln', 'Backswing Brewing Co.', 'Micro', '500 W South St', 'Lincoln', 'NE', '68522-1744', 68522, 'http://www.backswingbrewing.com', '(402) 515-4263', None, None, 'Lincoln')\n",
      "('benson-brewery-omaha', 'Benson Brewery', 'Brewpub', '6059 Maple St', 'Omaha', 'NE', '68104-4050', 68104, 'http://www.bensonbrewery.com', '(402) 934-8668', -96.00634511, 41.28489756, 'Omaha')\n",
      "('boiler-brewing-company-lincoln', 'Boiler Brewing Company', 'Micro', '129 N 10Th', 'Lincoln', 'NE', '68508-3633', 68508, 'http://www.boilerbrewingcompany.com', '(402) 261-8775', None, None, 'Lincoln')\n",
      "\n",
      "Table: 'webtable' - \n",
      "('Backswing Brewing Co.', 'Lincoln', 'NE', 'Micro', 'On-tap at the brewery and at select locations', 'Distro planned for 2016', 1, 'Lincoln', 'Lincoln')\n",
      "('Bearded Brewer', 'Omaha', 'NE', 'Taproom', 'Beer onsite, Crowlers available', 'May 1 2021 Opening.', 1, 'Omaha - West', 'Omaha')\n",
      "('Benson Brewery', 'Omaha', 'NE', 'Taproom', 'On tap only at the brewery', 'Other beers, locals included, on tap. Omaha Brewing is the parent company', 1, 'Omaha', 'Omaha')\n",
      "\n",
      "Table: 'apitable' - \n",
      "(21938, 'Catalyst Brewing Company', 'Brewery', 'https://beermapping.com/location/21938', 'http://beermapping.com/maps/proxymaps.php?locid=21938&amp;d=5', 'http://beermapping.com/maps/blogproxy.php?locid=21938&amp;d=1&amp;type=norm', '5730 Hidcote Dr', 'Lincoln', 'NE', 68516, 'United States', '(402) 875-5588', None, 0.0, 0, 'Lincoln')\n",
      "(19644, 'Backswing Brewing Co.', 'Brewery', 'https://beermapping.com/location/19644', 'http://beermapping.com/maps/proxymaps.php?locid=19644&amp;d=5', 'http://beermapping.com/maps/blogproxy.php?locid=19644&amp;d=1&amp;type=norm', '500 W South St', 'Lincoln', 'NE', 68522, 'United States', '(402) 515-4263', 'facebook.com/BackswingBrewingCo/timeline', 0.0, 0, 'Lincoln')\n",
      "(22957, 'Benson Brewery', 'Brewery', 'https://beermapping.com/location/22957', 'http://beermapping.com/maps/proxymaps.php?locid=22957&amp;d=5', 'http://beermapping.com/maps/blogproxy.php?locid=22957&amp;d=1&amp;type=norm', '6059 Maple St', 'Omaha', 'NE', 68104, 'United States', '(402) 934-8668', 'https://www.bensonbrewery.com/', 0.0, 0, 'Omaha')\n",
      "\n"
     ]
    }
   ],
   "source": [
    "# print first few rows of each table\n",
    "for i in tableList:\n",
    "    print(f\"Table: '{i}' - \")\n",
    "    head(i, 3)\n",
    "    print()"
   ]
  },
  {
   "cell_type": "code",
   "execution_count": 98,
   "metadata": {},
   "outputs": [],
   "source": [
    "# pd.read_sql_query('select * from csvTable limit 3', conn)"
   ]
  },
  {
   "cell_type": "code",
   "execution_count": 99,
   "metadata": {},
   "outputs": [],
   "source": [
    "# pd.read_sql_query('select * from webTable limit 3', conn)"
   ]
  },
  {
   "cell_type": "code",
   "execution_count": 100,
   "metadata": {},
   "outputs": [],
   "source": [
    "# pd.read_sql_query('select * from apiTable limit 3', conn)"
   ]
  },
  {
   "cell_type": "markdown",
   "metadata": {},
   "source": [
    "# Join the datasets together into 1 dataset."
   ]
  },
  {
   "cell_type": "markdown",
   "metadata": {},
   "source": [
    "#### Use `UNION` to merge two similar datasets:"
   ]
  },
  {
   "cell_type": "code",
   "execution_count": 101,
   "metadata": {},
   "outputs": [],
   "source": [
    "# Merge tables\n",
    "with sqlite3.connect('Nebeerska.db') as conn:\n",
    "    cursor = conn.cursor()\n",
    "    cursor.execute(\"PRAGMA foreign_keys = 1\") \n",
    "    sql = \"\"\"\n",
    "        CREATE TABLE brewAddresses AS\n",
    "            SELECT BreweryName, StreetAddress, City, State, Zip\n",
    "                FROM apitable\n",
    "            UNION\n",
    "            SELECT Brewery_Name, Street_Address, City, State, `5-digit_Zip`\n",
    "                FROM csvtable;\n",
    "    \"\"\"\n",
    "    cursor.execute(sql)"
   ]
  },
  {
   "cell_type": "code",
   "execution_count": 102,
   "metadata": {},
   "outputs": [
    {
     "data": {
      "text/html": [
       "<div>\n",
       "<style scoped>\n",
       "    .dataframe tbody tr th:only-of-type {\n",
       "        vertical-align: middle;\n",
       "    }\n",
       "\n",
       "    .dataframe tbody tr th {\n",
       "        vertical-align: top;\n",
       "    }\n",
       "\n",
       "    .dataframe thead th {\n",
       "        text-align: right;\n",
       "    }\n",
       "</style>\n",
       "<table border=\"1\" class=\"dataframe\">\n",
       "  <thead>\n",
       "    <tr style=\"text-align: right;\">\n",
       "      <th></th>\n",
       "      <th>BreweryName</th>\n",
       "      <th>StreetAddress</th>\n",
       "      <th>City</th>\n",
       "      <th>State</th>\n",
       "      <th>Zip</th>\n",
       "    </tr>\n",
       "  </thead>\n",
       "  <tbody>\n",
       "    <tr>\n",
       "      <th>0</th>\n",
       "      <td>Backswing Brewing Co.</td>\n",
       "      <td>500 W South St</td>\n",
       "      <td>Lincoln</td>\n",
       "      <td>NE</td>\n",
       "      <td>68522</td>\n",
       "    </tr>\n",
       "    <tr>\n",
       "      <th>1</th>\n",
       "      <td>Benson Brewery</td>\n",
       "      <td>6059 Maple St</td>\n",
       "      <td>Omaha</td>\n",
       "      <td>NE</td>\n",
       "      <td>68104</td>\n",
       "    </tr>\n",
       "    <tr>\n",
       "      <th>2</th>\n",
       "      <td>Boiler Brewing Company</td>\n",
       "      <td>129 N 10Th</td>\n",
       "      <td>Lincoln</td>\n",
       "      <td>NE</td>\n",
       "      <td>68508</td>\n",
       "    </tr>\n",
       "  </tbody>\n",
       "</table>\n",
       "</div>"
      ],
      "text/plain": [
       "              BreweryName   StreetAddress     City State    Zip\n",
       "0   Backswing Brewing Co.  500 W South St  Lincoln    NE  68522\n",
       "1          Benson Brewery   6059 Maple St    Omaha    NE  68104\n",
       "2  Boiler Brewing Company      129 N 10Th  Lincoln    NE  68508"
      ]
     },
     "execution_count": 102,
     "metadata": {},
     "output_type": "execute_result"
    }
   ],
   "source": [
    "# Show first rows of merged table\n",
    "pd.read_sql_query('SELECT * FROM brewAddresses LIMIT 3', conn)"
   ]
  },
  {
   "cell_type": "markdown",
   "metadata": {},
   "source": [
    "#### Use 'JOIN' to add data to that merged table"
   ]
  },
  {
   "cell_type": "code",
   "execution_count": 103,
   "metadata": {},
   "outputs": [],
   "source": [
    "# Add data to merged table\n",
    "combinedData = pd.read_sql_query(\"SELECT \"\n",
    "    \"webTable.Brewery_Name, brewAddresses.StreetAddress, webTable.City, \"\n",
    "                                 \"webTable.State, brewAddresses.Zip, csvTable.Longitude, csvTable.Latitude \"\n",
    "    \"FROM webTable \"\n",
    "    \"LEFT JOIN \"\n",
    "    \"brewAddresses ON webTable.Brewery_Name = brewAddresses.BreweryName AND webTable.City = brewAddresses.City \"\n",
    "    \"LEFT JOIN \"\n",
    "    \"csvTable ON webTable.Brewery_Name = csvTable.Brewery_Name AND webTable.City = csvTable.City;\", conn)"
   ]
  },
  {
   "cell_type": "code",
   "execution_count": 104,
   "metadata": {},
   "outputs": [],
   "source": [
    "# Convert Omaha suburbs to Omaha\n",
    "omahaSuburbs(combinedData, 'City')"
   ]
  },
  {
   "cell_type": "code",
   "execution_count": 105,
   "metadata": {},
   "outputs": [
    {
     "data": {
      "text/html": [
       "<div>\n",
       "<style scoped>\n",
       "    .dataframe tbody tr th:only-of-type {\n",
       "        vertical-align: middle;\n",
       "    }\n",
       "\n",
       "    .dataframe tbody tr th {\n",
       "        vertical-align: top;\n",
       "    }\n",
       "\n",
       "    .dataframe thead th {\n",
       "        text-align: right;\n",
       "    }\n",
       "</style>\n",
       "<table border=\"1\" class=\"dataframe\">\n",
       "  <thead>\n",
       "    <tr style=\"text-align: right;\">\n",
       "      <th></th>\n",
       "      <th>Brewery_Name</th>\n",
       "      <th>StreetAddress</th>\n",
       "      <th>City</th>\n",
       "      <th>State</th>\n",
       "      <th>Zip</th>\n",
       "      <th>Longitude</th>\n",
       "      <th>Latitude</th>\n",
       "      <th>Central_City</th>\n",
       "    </tr>\n",
       "  </thead>\n",
       "  <tbody>\n",
       "    <tr>\n",
       "      <th>0</th>\n",
       "      <td>Backswing Brewing Co.</td>\n",
       "      <td>500 W South St</td>\n",
       "      <td>Lincoln</td>\n",
       "      <td>NE</td>\n",
       "      <td>68522.0</td>\n",
       "      <td>NaN</td>\n",
       "      <td>NaN</td>\n",
       "      <td>Lincoln</td>\n",
       "    </tr>\n",
       "    <tr>\n",
       "      <th>1</th>\n",
       "      <td>Bearded Brewer</td>\n",
       "      <td>None</td>\n",
       "      <td>Omaha</td>\n",
       "      <td>NE</td>\n",
       "      <td>NaN</td>\n",
       "      <td>NaN</td>\n",
       "      <td>NaN</td>\n",
       "      <td>Omaha</td>\n",
       "    </tr>\n",
       "    <tr>\n",
       "      <th>2</th>\n",
       "      <td>Benson Brewery</td>\n",
       "      <td>6059 Maple St</td>\n",
       "      <td>Omaha</td>\n",
       "      <td>NE</td>\n",
       "      <td>68104.0</td>\n",
       "      <td>-96.006345</td>\n",
       "      <td>41.284898</td>\n",
       "      <td>Omaha</td>\n",
       "    </tr>\n",
       "    <tr>\n",
       "      <th>3</th>\n",
       "      <td>Big Hair Brewhaus</td>\n",
       "      <td>None</td>\n",
       "      <td>Hartington</td>\n",
       "      <td>NE</td>\n",
       "      <td>NaN</td>\n",
       "      <td>NaN</td>\n",
       "      <td>NaN</td>\n",
       "      <td>Hartington</td>\n",
       "    </tr>\n",
       "    <tr>\n",
       "      <th>4</th>\n",
       "      <td>Boiler Brewing Company</td>\n",
       "      <td>129 N 10Th</td>\n",
       "      <td>Lincoln</td>\n",
       "      <td>NE</td>\n",
       "      <td>68508.0</td>\n",
       "      <td>NaN</td>\n",
       "      <td>NaN</td>\n",
       "      <td>Lincoln</td>\n",
       "    </tr>\n",
       "  </tbody>\n",
       "</table>\n",
       "</div>"
      ],
      "text/plain": [
       "             Brewery_Name   StreetAddress        City State      Zip  \\\n",
       "0   Backswing Brewing Co.  500 W South St     Lincoln    NE  68522.0   \n",
       "1          Bearded Brewer            None       Omaha    NE      NaN   \n",
       "2          Benson Brewery   6059 Maple St       Omaha    NE  68104.0   \n",
       "3       Big Hair Brewhaus            None  Hartington    NE      NaN   \n",
       "4  Boiler Brewing Company      129 N 10Th     Lincoln    NE  68508.0   \n",
       "\n",
       "   Longitude   Latitude Central_City  \n",
       "0        NaN        NaN      Lincoln  \n",
       "1        NaN        NaN        Omaha  \n",
       "2 -96.006345  41.284898        Omaha  \n",
       "3        NaN        NaN   Hartington  \n",
       "4        NaN        NaN      Lincoln  "
      ]
     },
     "execution_count": 105,
     "metadata": {},
     "output_type": "execute_result"
    }
   ],
   "source": [
    "combinedData.head()"
   ]
  },
  {
   "cell_type": "markdown",
   "metadata": {
    "tags": []
   },
   "source": [
    "#### Create a table of all brewery types"
   ]
  },
  {
   "cell_type": "code",
   "execution_count": 106,
   "metadata": {},
   "outputs": [],
   "source": [
    "# Create table showing combined types of breweries\n",
    "with sqlite3.connect('Nebeerska.db') as conn:\n",
    "    cursor = conn.cursor()\n",
    "    cursor.execute(\"PRAGMA foreign_keys = 1\") \n",
    "    sql = \"\"\"\n",
    "        CREATE TABLE brewTypes AS\n",
    "            SELECT Brewery_Name, Type_of_Brewery\n",
    "                FROM webTable\n",
    "            UNION\n",
    "            SELECT BreweryName, Type\n",
    "                FROM apiTable\n",
    "            UNION\n",
    "            SELECT Brewery_Name, Type_of_Brewery\n",
    "                FROM csvTable;\n",
    "    \"\"\"\n",
    "    cursor.execute(sql)"
   ]
  },
  {
   "cell_type": "code",
   "execution_count": 107,
   "metadata": {},
   "outputs": [],
   "source": [
    "# Save to dataframe\n",
    "typesDF = pd.read_sql_query(\"SELECT * FROM brewTypes\", conn)"
   ]
  },
  {
   "cell_type": "code",
   "execution_count": 108,
   "metadata": {},
   "outputs": [
    {
     "data": {
      "text/html": [
       "<div>\n",
       "<style scoped>\n",
       "    .dataframe tbody tr th:only-of-type {\n",
       "        vertical-align: middle;\n",
       "    }\n",
       "\n",
       "    .dataframe tbody tr th {\n",
       "        vertical-align: top;\n",
       "    }\n",
       "\n",
       "    .dataframe thead th {\n",
       "        text-align: right;\n",
       "    }\n",
       "</style>\n",
       "<table border=\"1\" class=\"dataframe\">\n",
       "  <thead>\n",
       "    <tr style=\"text-align: right;\">\n",
       "      <th></th>\n",
       "      <th>Brewery_Name</th>\n",
       "      <th>Type_of_Brewery</th>\n",
       "    </tr>\n",
       "  </thead>\n",
       "  <tbody>\n",
       "    <tr>\n",
       "      <th>0</th>\n",
       "      <td>Backswing Brewing Co.</td>\n",
       "      <td>Brewery</td>\n",
       "    </tr>\n",
       "    <tr>\n",
       "      <th>1</th>\n",
       "      <td>Backswing Brewing Co.</td>\n",
       "      <td>Micro</td>\n",
       "    </tr>\n",
       "    <tr>\n",
       "      <th>2</th>\n",
       "      <td>Bearded Brewer</td>\n",
       "      <td>Taproom</td>\n",
       "    </tr>\n",
       "    <tr>\n",
       "      <th>3</th>\n",
       "      <td>Benson Brewery</td>\n",
       "      <td>Brewery</td>\n",
       "    </tr>\n",
       "    <tr>\n",
       "      <th>4</th>\n",
       "      <td>Benson Brewery</td>\n",
       "      <td>Brewpub</td>\n",
       "    </tr>\n",
       "  </tbody>\n",
       "</table>\n",
       "</div>"
      ],
      "text/plain": [
       "            Brewery_Name Type_of_Brewery\n",
       "0  Backswing Brewing Co.         Brewery\n",
       "1  Backswing Brewing Co.           Micro\n",
       "2         Bearded Brewer         Taproom\n",
       "3         Benson Brewery         Brewery\n",
       "4         Benson Brewery         Brewpub"
      ]
     },
     "execution_count": 108,
     "metadata": {},
     "output_type": "execute_result"
    }
   ],
   "source": [
    "typesDF.head()"
   ]
  },
  {
   "cell_type": "markdown",
   "metadata": {},
   "source": [
    "<a id='mapping'></a>"
   ]
  },
  {
   "cell_type": "markdown",
   "metadata": {},
   "source": [
    "# Visualizations"
   ]
  },
  {
   "cell_type": "markdown",
   "metadata": {},
   "source": [
    "### Map of Breweries in Nebraska"
   ]
  },
  {
   "cell_type": "code",
   "execution_count": 109,
   "metadata": {},
   "outputs": [],
   "source": [
    "# Set up bounding box using lat/lon coordinates\n",
    "BBox = (-104.194, -95.219, 43.117, 39.884)"
   ]
  },
  {
   "cell_type": "code",
   "execution_count": 110,
   "metadata": {},
   "outputs": [
    {
     "data": {
      "text/plain": [
       "<matplotlib.image.AxesImage at 0x14065dae6a0>"
      ]
     },
     "execution_count": 110,
     "metadata": {},
     "output_type": "execute_result"
    },
    {
     "data": {
      "image/png": "[encoded data removed]",
      "text/plain": [
       "<Figure size 1080x576 with 1 Axes>"
      ]
     },
     "metadata": {
      "needs_background": "light"
     },
     "output_type": "display_data"
    }
   ],
   "source": [
    "# Set up map image\n",
    "mymap = plt.imread(\"NEmapInverted.png\")\n",
    "\n",
    "plt.subplots(figsize = (15, 8))\n",
    "plt.scatter(combinedData.Longitude, combinedData.Latitude, zorder=1, alpha=0.5, c='r', s=15)\n",
    "plt.title('Plotting Breweries on Nebraska Map')\n",
    "plt.xlim(BBox[0], BBox[1])\n",
    "plt.ylim(BBox[3], BBox[2])\n",
    "\n",
    "plt.imshow(mymap, zorder=0, extent = BBox, aspect='equal')"
   ]
  },
  {
   "cell_type": "markdown",
   "metadata": {},
   "source": [
    "### Number of Breweries by City"
   ]
  },
  {
   "cell_type": "code",
   "execution_count": 111,
   "metadata": {},
   "outputs": [
    {
     "data": {
      "image/png": "[encoded data removed]",
      "text/plain": [
       "<Figure size 432x288 with 1 Axes>"
      ]
     },
     "metadata": {
      "needs_background": "light"
     },
     "output_type": "display_data"
    }
   ],
   "source": [
    "# Plot brewery density by city\n",
    "combinedData['City'].value_counts().plot(kind='bar')\n",
    "\n",
    "plt.title('NE Breweries by City')\n",
    "plt.xlabel('City')\n",
    "plt.ylabel('# of Breweries')\n",
    "plt.yticks(range(0,11))\n",
    "plt.show()"
   ]
  },
  {
   "cell_type": "markdown",
   "metadata": {},
   "source": [
    "Some of these cities are suburbs of Omaha. Let's fix that and see how Omaha really compares:"
   ]
  },
  {
   "cell_type": "code",
   "execution_count": 112,
   "metadata": {},
   "outputs": [
    {
     "data": {
      "image/png": "[encoded data removed]",
      "text/plain": [
       "<Figure size 432x288 with 1 Axes>"
      ]
     },
     "metadata": {
      "needs_background": "light"
     },
     "output_type": "display_data"
    }
   ],
   "source": [
    "# Plot brewery density by city location\n",
    "combinedData['Central_City'].value_counts().plot(kind='bar')\n",
    "\n",
    "plt.title('NE Breweries by City')\n",
    "plt.xlabel('Overall City')\n",
    "plt.ylabel('# of Breweries')\n",
    "plt.yticks(range(0,17))\n",
    "plt.show()"
   ]
  },
  {
   "cell_type": "markdown",
   "metadata": {},
   "source": [
    "### Compare Brewery Ratings\n",
    "Note: There were only a limited number of breweries with ratings available."
   ]
  },
  {
   "cell_type": "code",
   "execution_count": 113,
   "metadata": {},
   "outputs": [],
   "source": [
    "# Set up dataframe specifically for ratings\n",
    "ratingsDF = apiData[apiData['Rating'] != 0]\n",
    "ratingsDF = ratingsDF.sort_values('Rating', ascending=False)"
   ]
  },
  {
   "cell_type": "code",
   "execution_count": 114,
   "metadata": {},
   "outputs": [
    {
     "data": {
      "image/png": "[encoded data removed]",
      "text/plain": [
       "<Figure size 432x288 with 1 Axes>"
      ]
     },
     "metadata": {
      "needs_background": "light"
     },
     "output_type": "display_data"
    }
   ],
   "source": [
    "# Show top breweries with ratings\n",
    "ratingsDF.plot('BreweryName', 'Rating', kind='bar')\n",
    "\n",
    "plt.title('NE Breweries by City')\n",
    "plt.xlabel('Brewery')\n",
    "plt.ylabel('Rating out of 100')\n",
    "plt.show()"
   ]
  },
  {
   "cell_type": "markdown",
   "metadata": {},
   "source": [
    "### Compare Types of Breweries"
   ]
  },
  {
   "cell_type": "code",
   "execution_count": 115,
   "metadata": {},
   "outputs": [
    {
     "data": {
      "image/png": "[encoded data removed]",
      "text/plain": [
       "<Figure size 432x288 with 1 Axes>"
      ]
     },
     "metadata": {
      "needs_background": "light"
     },
     "output_type": "display_data"
    }
   ],
   "source": [
    "# Show distribution of brewery types\n",
    "typesDF['Type_of_Brewery'].value_counts().plot(kind='bar')\n",
    "\n",
    "plt.title('Number of NE Breweries by Category')\n",
    "plt.xlabel('Category')\n",
    "plt.ylabel('# of Breweries')\n",
    "plt.show()"
   ]
  },
  {
   "cell_type": "code",
   "execution_count": null,
   "metadata": {},
   "outputs": [],
   "source": []
  }
 ],
 "metadata": {
  "kernelspec": {
   "display_name": "Python 3 (ipykernel)",
   "language": "python",
   "name": "python3"
  },
  "language_info": {
   "codemirror_mode": {
    "name": "ipython",
    "version": 3
   },
   "file_extension": ".py",
   "mimetype": "text/x-python",
   "name": "python",
   "nbconvert_exporter": "python",
   "pygments_lexer": "ipython3",
   "version": "3.9.7"
  }
 },
 "nbformat": 4,
 "nbformat_minor": 4
}
