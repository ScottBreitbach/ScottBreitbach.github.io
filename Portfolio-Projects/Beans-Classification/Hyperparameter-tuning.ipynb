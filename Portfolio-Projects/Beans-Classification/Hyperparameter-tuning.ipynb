{
 "cells": [
  {
   "cell_type": "markdown",
   "id": "f7df55b6-6ade-4e02-9181-b71bd699a8c4",
   "metadata": {},
   "source": [
    "# Scott Breitbach\n",
    "# Hyperparameter Tuning"
   ]
  },
  {
   "cell_type": "code",
   "execution_count": 1,
   "id": "df5ac69b-d25b-4bb6-860c-979aa53943be",
   "metadata": {},
   "outputs": [],
   "source": [
    "# Load Libraries\n",
    "import pandas as pd\n",
    "import numpy as np\n",
    "\n",
    "# Set random seed\n",
    "np.random.seed(42)"
   ]
  },
  {
   "cell_type": "markdown",
   "id": "8222dfd6-0143-458a-848b-c1ea40d2f788",
   "metadata": {},
   "source": [
    "### Load Data"
   ]
  },
  {
   "cell_type": "code",
   "execution_count": 2,
   "id": "8cbb1a98-af34-4e45-90f0-17fba03ad656",
   "metadata": {},
   "outputs": [],
   "source": [
    "# Load data to a DataFrame\n",
    "beanDF = pd.read_excel('data/Dry_Bean_Dataset.xlsx')"
   ]
  },
  {
   "cell_type": "code",
   "execution_count": 3,
   "id": "344f571e-2bae-4d39-a728-fc649d04a7ea",
   "metadata": {},
   "outputs": [],
   "source": [
    "# Drop least useful features\n",
    "beanDF.drop(columns=['Extent', 'Solidity', 'Eccentricity', 'ShapeFactor3'], inplace=True)"
   ]
  },
  {
   "cell_type": "markdown",
   "id": "a8dcfb84-adc0-4f3b-8f8c-84e0bc041471",
   "metadata": {},
   "source": [
    "## Model Selection & Evaluation\n",
    "Used GridSearchCV or RandomizedSearchCV to find the best hyperparameters for each modeling type"
   ]
  },
  {
   "cell_type": "code",
   "execution_count": 4,
   "id": "75ef2c42-6d75-4a00-a273-477cfaf7e0dd",
   "metadata": {},
   "outputs": [],
   "source": [
    "# Load libraries\n",
    "from sklearn.model_selection import train_test_split\n",
    "from sklearn.preprocessing import StandardScaler\n",
    "from sklearn.model_selection import GridSearchCV, RandomizedSearchCV"
   ]
  },
  {
   "cell_type": "markdown",
   "id": "0cf9f25d-e839-4b2b-9303-88be348d2b02",
   "metadata": {},
   "source": [
    "### Split Training and Testing Data"
   ]
  },
  {
   "cell_type": "code",
   "execution_count": 5,
   "id": "9ba0b605-f32e-4668-abd1-edbc8c93800d",
   "metadata": {},
   "outputs": [],
   "source": [
    "# Set up features target sets\n",
    "X = beanDF[beanDF.columns[:-1]]\n",
    "y = beanDF.Class\n",
    "\n",
    "# Split the data\n",
    "X_train, X_test, y_train, y_test = train_test_split(X, y, test_size =0.3, \n",
    "                                                    random_state=42)\n",
    "\n",
    "# Standardize Features\n",
    "scaler = StandardScaler()\n",
    "X_train = scaler.fit_transform(X_train) \n",
    "X_test  = scaler.transform(X_test)"
   ]
  },
  {
   "cell_type": "code",
   "execution_count": 6,
   "id": "5bb12856-88a1-41d0-8b83-f2f3d85ba978",
   "metadata": {},
   "outputs": [],
   "source": [
    "# Set up dictionary for model results\n",
    "models_dict = {}"
   ]
  },
  {
   "cell_type": "markdown",
   "id": "0db1e1ff-1497-44c3-bf7e-da10a7c86c55",
   "metadata": {},
   "source": [
    "### Logistic Regression"
   ]
  },
  {
   "cell_type": "code",
   "execution_count": 7,
   "id": "89889236-c134-49f2-b4a8-6a4d98f9babd",
   "metadata": {},
   "outputs": [],
   "source": [
    "# Load libraries\n",
    "from sklearn.linear_model import LogisticRegression\n",
    "\n",
    "# Create logistic regression\n",
    "logistic = LogisticRegression(class_weight='balanced', \n",
    "                              random_state=42, \n",
    "                              max_iter=300, \n",
    "                              multi_class='auto',\n",
    "                              n_jobs=-1)\n",
    "\n",
    "# Get a baseline model\n",
    "baseline = logistic.fit(X_train, y_train)\n",
    "\n",
    "# Create range of candidate penalty hyperparameter values\n",
    "parameter_space = {\n",
    "    'penalty': ['l1', 'l2', 'elasticnet', 'none'], \n",
    "    'tol': [1e-3, 1e-4, 1e-5],\n",
    "    'C': np.logspace(0, 5, 6), \n",
    "    'solver': ['newton-cg', 'lbfgs', 'liblinear', 'sag', 'saga'], \n",
    "}\n",
    "grid = GridSearchCV(logistic, parameter_space, n_jobs=-1, cv=5)"
   ]
  },
  {
   "cell_type": "code",
   "execution_count": 8,
   "id": "2628c55a-38d9-4d36-9e90-6efe7ed2cfc8",
   "metadata": {},
   "outputs": [
    {
     "name": "stderr",
     "output_type": "stream",
     "text": [
      "C:\\ProgramData\\Anaconda3\\lib\\site-packages\\sklearn\\model_selection\\_search.py:922: UserWarning: One or more of the test scores are non-finite: [       nan        nan        nan        nan        nan        nan\n",
      " 0.91823147 0.91802166 0.91833657        nan        nan        nan\n",
      " 0.91455809 0.91455809 0.91455809 0.91466297 0.91466297 0.91466297\n",
      " 0.91455803 0.91455803 0.91455803 0.91329874 0.91329874 0.91329874\n",
      " 0.9144531  0.91455803 0.91455803 0.91466297 0.9144531  0.9144531\n",
      "        nan        nan        nan        nan        nan        nan\n",
      "        nan        nan        nan        nan        nan        nan\n",
      "        nan        nan        nan 0.92012091 0.92012085 0.9201208\n",
      " 0.91865147 0.91865147 0.91865147        nan        nan        nan\n",
      " 0.91550269 0.91550269 0.91550269 0.91518779 0.91518779 0.91518779\n",
      "        nan        nan        nan        nan        nan        nan\n",
      " 0.91718188 0.91938633 0.91928123        nan        nan        nan\n",
      " 0.91518773 0.91518773 0.91518773 0.91623744 0.91623744 0.91623744\n",
      " 0.91623744 0.91623744 0.91623744 0.91728676 0.91728676 0.91728676\n",
      " 0.91571267 0.91571267 0.91571267 0.91529267 0.91529267 0.91529267\n",
      "        nan        nan        nan        nan        nan        nan\n",
      "        nan        nan        nan        nan        nan        nan\n",
      "        nan        nan        nan 0.92012091 0.92012085 0.9201208\n",
      " 0.91865147 0.91865147 0.91865147        nan        nan        nan\n",
      " 0.91550269 0.91550269 0.91550269 0.91518779 0.91518779 0.91518779\n",
      "        nan        nan        nan        nan        nan        nan\n",
      " 0.91854649 0.92033099 0.91970123        nan        nan        nan\n",
      " 0.91518779 0.91518779 0.91518779 0.91749695 0.91749695 0.91749695\n",
      " 0.91728698 0.91728698 0.91728698 0.91844139 0.91812654 0.91823147\n",
      " 0.91539771 0.91539771 0.91539771 0.91518779 0.91518779 0.91518779\n",
      "        nan        nan        nan        nan        nan        nan\n",
      "        nan        nan        nan        nan        nan        nan\n",
      "        nan        nan        nan 0.92012091 0.92012085 0.9201208\n",
      " 0.91865147 0.91865147 0.91865147        nan        nan        nan\n",
      " 0.91550269 0.91550269 0.91550269 0.91518779 0.91518779 0.91518779\n",
      "        nan        nan        nan        nan        nan        nan\n",
      " 0.91833657 0.92054102 0.9199111         nan        nan        nan\n",
      " 0.91518779 0.91518779 0.91518779 0.92043609 0.92043609 0.92043609\n",
      " 0.9182318  0.9182318  0.9182318  0.91928134 0.91991093 0.92001592\n",
      " 0.91550269 0.91550269 0.91550269 0.91518779 0.91518779 0.91518779\n",
      "        nan        nan        nan        nan        nan        nan\n",
      "        nan        nan        nan        nan        nan        nan\n",
      "        nan        nan        nan 0.92012091 0.92012085 0.9201208\n",
      " 0.91865147 0.91865147 0.91865147        nan        nan        nan\n",
      " 0.91550269 0.91550269 0.91550269 0.91518779 0.91518779 0.91518779\n",
      "        nan        nan        nan        nan        nan        nan\n",
      " 0.91823164 0.92054102 0.91980617        nan        nan        nan\n",
      " 0.91518779 0.91518779 0.91518779 0.91980606 0.91980606 0.91980606\n",
      " 0.91812687 0.91812687 0.91812687 0.9191763  0.91970123 0.91959636\n",
      " 0.91550269 0.91550269 0.91550269 0.91518779 0.91518779 0.91518779\n",
      "        nan        nan        nan        nan        nan        nan\n",
      "        nan        nan        nan        nan        nan        nan\n",
      "        nan        nan        nan 0.92012091 0.92012085 0.9201208\n",
      " 0.91865147 0.91865147 0.91865147        nan        nan        nan\n",
      " 0.91550269 0.91550269 0.91550269 0.91518779 0.91518779 0.91518779\n",
      "        nan        nan        nan        nan        nan        nan\n",
      " 0.91823164 0.92054102 0.920226          nan        nan        nan\n",
      " 0.91518779 0.91518779 0.91518779 0.91970101 0.919806   0.919806\n",
      " 0.91865164 0.91865164 0.91865164 0.91917635 0.91959625 0.92001603\n",
      " 0.91550269 0.91550269 0.91550269 0.91518779 0.91518779 0.91518779\n",
      "        nan        nan        nan        nan        nan        nan\n",
      "        nan        nan        nan        nan        nan        nan\n",
      "        nan        nan        nan 0.92012091 0.92012085 0.9201208\n",
      " 0.91865147 0.91865147 0.91865147        nan        nan        nan\n",
      " 0.91550269 0.91550269 0.91550269 0.91518779 0.91518779 0.91518779]\n",
      "  warnings.warn(\n",
      "C:\\ProgramData\\Anaconda3\\lib\\site-packages\\sklearn\\linear_model\\_logistic.py:1355: UserWarning: 'n_jobs' > 1 does not have any effect when 'solver' is set to 'liblinear'. Got 'n_jobs' = 8.\n",
      "  warnings.warn(\"'n_jobs' > 1 does not have any effect when\"\n"
     ]
    },
    {
     "name": "stdout",
     "output_type": "stream",
     "text": [
      "Wall time: 55min 29s\n"
     ]
    }
   ],
   "source": [
    "%%time\n",
    "# Fit models\n",
    "grid_result = grid.fit(X_train, y_train)"
   ]
  },
  {
   "cell_type": "code",
   "execution_count": 9,
   "id": "efaa3489-1e89-45d2-9aa6-7f207bd21172",
   "metadata": {},
   "outputs": [
    {
     "name": "stdout",
     "output_type": "stream",
     "text": [
      "Best parameters found:\n",
      " {'C': 1000.0, 'penalty': 'l1', 'solver': 'liblinear', 'tol': 0.0001} \n",
      "\n",
      "Baseline Accuracy:\t91.92\n",
      "Tuned Accuracy:\t\t92.24\n"
     ]
    }
   ],
   "source": [
    "# Show best parameters\n",
    "print('Best parameters found:\\n', grid_result.best_params_, '\\n')\n",
    "# Get accuracy scores\n",
    "baseScore = round(baseline.score(X_test, y_test)*100, 2)\n",
    "score = round(grid_result.score(X_test, y_test)*100, 2)\n",
    "print(f\"Baseline Accuracy:\\t{baseScore}\")\n",
    "print(f\"Tuned Accuracy:\\t\\t{score}\")"
   ]
  },
  {
   "cell_type": "code",
   "execution_count": null,
   "id": "6fa40f2e-1e5f-4200-902f-4deda16d592b",
   "metadata": {},
   "outputs": [],
   "source": []
  },
  {
   "cell_type": "markdown",
   "id": "1f5f2936-1a61-4739-8467-6baa2a4a92b5",
   "metadata": {},
   "source": [
    "### Random Forest"
   ]
  },
  {
   "cell_type": "code",
   "execution_count": 10,
   "id": "47373ca8-a80b-4822-8c2f-e4c6bdbea8f6",
   "metadata": {},
   "outputs": [],
   "source": [
    "# Load libraries\n",
    "from sklearn.ensemble import RandomForestClassifier\n",
    "\n",
    "# Create classifier\n",
    "rfc = RandomForestClassifier(random_state=42,\n",
    "                             class_weight='balanced', \n",
    "                             n_jobs=-1)\n",
    "\n",
    "# Get a baseline model\n",
    "baseline = rfc.fit(X_train, y_train)\n",
    "\n",
    "# Create range of candidate penalty hyperparameter values\n",
    "parameter_space = {\n",
    "    'n_estimators': [30, 100, 300, 1000], \n",
    "    'criterion': ['gini', 'entropy'], \n",
    "    'max_features': ['sqrt', 'log2', None], \n",
    "}\n",
    "grid = GridSearchCV(rfc, parameter_space, n_jobs=-1, cv=5)"
   ]
  },
  {
   "cell_type": "code",
   "execution_count": 11,
   "id": "b08df66a-5a9b-4f1f-90ec-36e25ad54ba7",
   "metadata": {},
   "outputs": [
    {
     "name": "stdout",
     "output_type": "stream",
     "text": [
      "Wall time: 11min 5s\n"
     ]
    }
   ],
   "source": [
    "%%time\n",
    "# Fit models\n",
    "grid_result = grid.fit(X_train, y_train)"
   ]
  },
  {
   "cell_type": "code",
   "execution_count": 12,
   "id": "a3010f43-af0a-4cdb-ac1b-175fd1a6b336",
   "metadata": {},
   "outputs": [
    {
     "name": "stdout",
     "output_type": "stream",
     "text": [
      "Best parameters found:\n",
      " {'criterion': 'entropy', 'max_features': 'sqrt', 'n_estimators': 300} \n",
      "\n",
      "Baseline Accuracy:\t92.07\n",
      "Tuned Accuracy:\t\t92.19\n"
     ]
    }
   ],
   "source": [
    "# Show best parameters\n",
    "print('Best parameters found:\\n', grid_result.best_params_, '\\n')\n",
    "# Get accuracy scores\n",
    "baseScore = round(baseline.score(X_test, y_test)*100, 2)\n",
    "score = round(grid_result.score(X_test, y_test)*100, 2)\n",
    "print(f\"Baseline Accuracy:\\t{baseScore}\")\n",
    "print(f\"Tuned Accuracy:\\t\\t{score}\")"
   ]
  },
  {
   "cell_type": "code",
   "execution_count": null,
   "id": "878805f3-cae3-46a9-ae68-735b3a4eae04",
   "metadata": {},
   "outputs": [],
   "source": []
  },
  {
   "cell_type": "markdown",
   "id": "577098f5-21a8-4949-bc7c-494628f40d9a",
   "metadata": {},
   "source": [
    "### Decision Tree"
   ]
  },
  {
   "cell_type": "code",
   "execution_count": 13,
   "id": "061910e1-4ea0-44ee-a8fc-2628580a7677",
   "metadata": {},
   "outputs": [],
   "source": [
    "# Load libraries\n",
    "from sklearn.tree import DecisionTreeClassifier\n",
    "\n",
    "# Create decision tree regressor object\n",
    "decisiontree = DecisionTreeClassifier(random_state=42, class_weight='balanced')\n",
    "\n",
    "# Get a baseline model\n",
    "baseline = decisiontree.fit(X_train, y_train)\n",
    "\n",
    "# Create range of candidate penalty hyperparameter values\n",
    "parameter_space = {\n",
    "    'criterion': ['gini', 'entropy'], \n",
    "    'splitter': ['best', 'random'], \n",
    "    'max_features': ['sqrt', 'log2', None], \n",
    "}\n",
    "grid = GridSearchCV(decisiontree, parameter_space, verbose=2, n_jobs=-1, cv=5)"
   ]
  },
  {
   "cell_type": "code",
   "execution_count": 14,
   "id": "edd24d11-9e72-4d32-8277-fc0c16c97961",
   "metadata": {},
   "outputs": [
    {
     "name": "stdout",
     "output_type": "stream",
     "text": [
      "Fitting 5 folds for each of 12 candidates, totalling 60 fits\n",
      "Wall time: 1.24 s\n"
     ]
    }
   ],
   "source": [
    "%%time\n",
    "# Fit models\n",
    "grid_result = grid.fit(X_train, y_train)"
   ]
  },
  {
   "cell_type": "code",
   "execution_count": 15,
   "id": "bb6d70fc-56d2-411b-8ab8-dd9106e84c10",
   "metadata": {},
   "outputs": [
    {
     "name": "stdout",
     "output_type": "stream",
     "text": [
      "Best parameters found:\n",
      " {'criterion': 'entropy', 'max_features': None, 'splitter': 'random'} \n",
      "\n",
      "Baseline Accuracy:\t89.42\n",
      "Tuned Accuracy:\t\t88.96\n"
     ]
    }
   ],
   "source": [
    "# Show best parameters\n",
    "print('Best parameters found:\\n', grid_result.best_params_, '\\n')\n",
    "# Get accuracy scores\n",
    "baseScore = round(baseline.score(X_test, y_test)*100, 2)\n",
    "score = round(grid_result.score(X_test, y_test)*100, 2)\n",
    "print(f\"Baseline Accuracy:\\t{baseScore}\")\n",
    "print(f\"Tuned Accuracy:\\t\\t{score}\")"
   ]
  },
  {
   "cell_type": "code",
   "execution_count": 15,
   "id": "1640d4aa-d408-4cf6-9a63-58e35ef62c8a",
   "metadata": {},
   "outputs": [
    {
     "name": "stdout",
     "output_type": "stream",
     "text": [
      "Best parameters found:\n",
      " {'criterion': 'entropy', 'max_features': 'sqrt', 'splitter': 'best'} \n",
      "\n",
      "Baseline Accuracy:\t89.42\n",
      "Tuned Accuracy:\t\t89.03\n"
     ]
    }
   ],
   "source": [
    "# Show best parameters\n",
    "print('Best parameters found:\\n', grid_result.best_params_, '\\n')\n",
    "# Get accuracy scores\n",
    "baseScore = round(baseline.score(X_test, y_test)*100, 2)\n",
    "score = round(grid_result.score(X_test, y_test)*100, 2)\n",
    "print(f\"Baseline Accuracy:\\t{baseScore}\")\n",
    "print(f\"Tuned Accuracy:\\t\\t{score}\")"
   ]
  },
  {
   "cell_type": "code",
   "execution_count": null,
   "id": "e5482eeb-1f67-49be-baef-31683a3511d1",
   "metadata": {},
   "outputs": [],
   "source": []
  },
  {
   "cell_type": "markdown",
   "id": "1c9b63cf-685a-4016-94a9-b54c28418d68",
   "metadata": {},
   "source": [
    "### AdaBoost"
   ]
  },
  {
   "cell_type": "code",
   "execution_count": 16,
   "id": "17845a5f-ad8a-4b52-8b1b-bea5fe5d8198",
   "metadata": {},
   "outputs": [],
   "source": [
    "# Load libraries\n",
    "from sklearn.ensemble import AdaBoostClassifier\n",
    "\n",
    "# Create classifier\n",
    "adaboost = AdaBoostClassifier(random_state=42)\n",
    "\n",
    "# Get a baseline model\n",
    "baseline = adaboost.fit(X_train, y_train)\n",
    "\n",
    "# Create range of candidate penalty hyperparameter values\n",
    "parameter_space = {\n",
    "    'n_estimators': [10, 30, 100, 300, 1000], \n",
    "    'learning_rate': [0.1, 1, 10],\n",
    "    'algorithm': ['SAMME', 'SAMME.R'], \n",
    "}\n",
    "grid = GridSearchCV(adaboost, parameter_space, n_jobs=-1, cv=5)"
   ]
  },
  {
   "cell_type": "code",
   "execution_count": 17,
   "id": "b46cfac3-4a0e-4224-bf53-777f8e967f65",
   "metadata": {},
   "outputs": [
    {
     "name": "stderr",
     "output_type": "stream",
     "text": [
      "C:\\ProgramData\\Anaconda3\\lib\\site-packages\\sklearn\\model_selection\\_search.py:922: UserWarning: One or more of the test scores are non-finite: [0.37734448 0.52114995 0.64322474 0.79353383 0.81158722 0.67785923\n",
      " 0.80539476 0.83488539 0.80256579 0.73024812 0.2585314         nan\n",
      "        nan        nan        nan 0.45984858 0.52534618 0.59021287\n",
      " 0.54812536 0.60323719 0.67177583 0.67177583 0.67177583 0.67177583\n",
      " 0.67177583 0.39173082 0.48839482 0.52913314 0.51790985 0.48326418]\n",
      "  warnings.warn(\n"
     ]
    },
    {
     "name": "stdout",
     "output_type": "stream",
     "text": [
      "Wall time: 4min\n"
     ]
    }
   ],
   "source": [
    "%%time\n",
    "# Fit models\n",
    "grid_result = grid.fit(X_train, y_train)"
   ]
  },
  {
   "cell_type": "code",
   "execution_count": 18,
   "id": "3d5b87e4-ddf5-4c2b-be14-35496114fea7",
   "metadata": {},
   "outputs": [
    {
     "name": "stdout",
     "output_type": "stream",
     "text": [
      "Best parameters found:\n",
      " {'algorithm': 'SAMME', 'learning_rate': 1, 'n_estimators': 100} \n",
      "\n",
      "Baseline Accuracy:\t64.67\n",
      "Tuned Accuracy:\t\t86.29\n"
     ]
    }
   ],
   "source": [
    "# Show best parameters\n",
    "print('Best parameters found:\\n', grid_result.best_params_, '\\n')\n",
    "# Get accuracy scores\n",
    "baseScore = round(baseline.score(X_test, y_test)*100, 2)\n",
    "score = round(grid_result.score(X_test, y_test)*100, 2)\n",
    "print(f\"Baseline Accuracy:\\t{baseScore}\")\n",
    "print(f\"Tuned Accuracy:\\t\\t{score}\")"
   ]
  },
  {
   "cell_type": "code",
   "execution_count": null,
   "id": "d004a2ab-b132-456c-bd8c-6ad6b85864d9",
   "metadata": {},
   "outputs": [],
   "source": []
  },
  {
   "cell_type": "markdown",
   "id": "9b816732-79e6-4cca-9a42-6fc4dbbc62df",
   "metadata": {},
   "source": [
    "### Support Vector Classifier (Linear)"
   ]
  },
  {
   "cell_type": "code",
   "execution_count": 20,
   "id": "ee9d362e-0dba-4d65-b3bf-d4eb49e188ff",
   "metadata": {},
   "outputs": [],
   "source": [
    "# Load libraries\n",
    "from sklearn.svm import LinearSVC\n",
    "\n",
    "# Create support vector classifier\n",
    "svc = LinearSVC(random_state=42, dual=False, class_weight='balanced', max_iter=100000)\n",
    "\n",
    "# Get a baseline model\n",
    "baseline = svc.fit(X_train, y_train)\n",
    "\n",
    "# Create range of candidate penalty hyperparameter values\n",
    "parameter_space = {\n",
    "    'penalty': ['l1', 'l2'], \n",
    "    'loss': ['hinge', 'squared_hinge'], \n",
    "    'dual': [True, False], \n",
    "    'tol': [1e-3, 1e-4, 1e-5],\n",
    "    'C': [1, 5, 30, 200, 1000], \n",
    "    'multi_class': ['ovr', 'crammer_singer'], \n",
    "}\n",
    "grid = GridSearchCV(svc, parameter_space, n_jobs=-1, cv=5)"
   ]
  },
  {
   "cell_type": "code",
   "execution_count": 21,
   "id": "a07b891c-f607-4223-a3a0-0fa7a4d5358d",
   "metadata": {},
   "outputs": [
    {
     "name": "stderr",
     "output_type": "stream",
     "text": [
      "C:\\ProgramData\\Anaconda3\\lib\\site-packages\\sklearn\\model_selection\\_search.py:922: UserWarning: One or more of the test scores are non-finite: [       nan        nan        nan 0.91424318 0.91424318 0.91424318\n",
      " 0.91518806 0.91508308 0.91508308 0.91518806 0.91508308 0.91508308\n",
      "        nan        nan        nan 0.9159222  0.9159222  0.9159222\n",
      " 0.91518806 0.91508308 0.91508308 0.91518806 0.91508308 0.91508308\n",
      "        nan        nan        nan        nan        nan        nan\n",
      " 0.91518806 0.91508308 0.91508308 0.91518806 0.91508308 0.91508308\n",
      " 0.91655179 0.91707673 0.91718171 0.91613207 0.9159222  0.9159222\n",
      " 0.91518806 0.91508308 0.91508308 0.91518806 0.91508308 0.91508308\n",
      "        nan        nan        nan 0.91833662 0.91833662 0.91844156\n",
      " 0.91644747 0.91644747 0.91644747 0.91644747 0.91644747 0.91644747\n",
      "        nan        nan        nan 0.91707662 0.91707662 0.91707662\n",
      " 0.91644747 0.91644747 0.91644747 0.91644747 0.91644747 0.91644747\n",
      "        nan        nan        nan        nan        nan        nan\n",
      " 0.91644747 0.91644747 0.91644747 0.91644747 0.91644747 0.91644747\n",
      " 0.91728676 0.91844123 0.91875608 0.91697168 0.91697163 0.91697163\n",
      " 0.91644747 0.91644747 0.91644747 0.91644747 0.91644747 0.91644747\n",
      "        nan        nan        nan 0.91896627 0.91886134 0.9190712\n",
      " 0.91812676 0.91812676 0.91812676 0.91812676 0.91812676 0.91812676\n",
      "        nan        nan        nan 0.91802161 0.91802161 0.91802161\n",
      " 0.91812676 0.91812676 0.91812676 0.91812676 0.91812676 0.91812676\n",
      "        nan        nan        nan        nan        nan        nan\n",
      " 0.91812676 0.91812676 0.91812676 0.91812676 0.91812676 0.91812676\n",
      " 0.91791662 0.9183364  0.91907104 0.91844139 0.91802161 0.91791662\n",
      " 0.91812676 0.91812676 0.91812676 0.91812676 0.91812676 0.91812676\n",
      "        nan        nan        nan 0.91351015 0.91351015 0.91351015\n",
      " 0.91970123 0.91970123 0.91970123 0.91970123 0.91970123 0.91970123\n",
      "        nan        nan        nan 0.90500709 0.90175454 0.90311882\n",
      " 0.91970123 0.91970123 0.91970123 0.91970123 0.91970123 0.91970123\n",
      "        nan        nan        nan        nan        nan        nan\n",
      " 0.91970123 0.91970123 0.91970123 0.91970123 0.91970123 0.91970123\n",
      " 0.91781169 0.9186512  0.91928101 0.91875597 0.91844134 0.91865131\n",
      " 0.91970123 0.91970123 0.91970123 0.91970123 0.91970123 0.91970123\n",
      "        nan        nan        nan 0.87582564 0.87551085 0.87614066\n",
      " 0.90805006 0.90805006 0.90805006 0.90805006 0.90805006 0.90805006\n",
      "        nan        nan        nan 0.84265701 0.84381175 0.84507088\n",
      " 0.90805006 0.90805006 0.90805006 0.90805006 0.90805006 0.90805006\n",
      "        nan        nan        nan        nan        nan        nan\n",
      " 0.90805006 0.90805006 0.90805006 0.90805006 0.90805006 0.90805006\n",
      " 0.91781169 0.9186512  0.91928101 0.91781147 0.91928101 0.91886117\n",
      " 0.90805006 0.90805006 0.90805006 0.90805006 0.90805006 0.90805006]\n",
      "  warnings.warn(\n"
     ]
    },
    {
     "name": "stdout",
     "output_type": "stream",
     "text": [
      "Wall time: 1h 19min 11s\n"
     ]
    },
    {
     "name": "stderr",
     "output_type": "stream",
     "text": [
      "C:\\ProgramData\\Anaconda3\\lib\\site-packages\\sklearn\\svm\\_base.py:985: ConvergenceWarning: Liblinear failed to converge, increase the number of iterations.\n",
      "  warnings.warn(\"Liblinear failed to converge, increase \"\n"
     ]
    }
   ],
   "source": [
    "%%time\n",
    "# Fit models\n",
    "grid_result = grid.fit(X_train, y_train)"
   ]
  },
  {
   "cell_type": "code",
   "execution_count": 22,
   "id": "c893bf92-f5f4-4167-bbde-13396221b5f8",
   "metadata": {},
   "outputs": [
    {
     "name": "stdout",
     "output_type": "stream",
     "text": [
      "Best parameters found:\n",
      " {'C': 200, 'dual': True, 'loss': 'hinge', 'multi_class': 'crammer_singer', 'penalty': 'l1', 'tol': 0.001} \n",
      "\n",
      "Baseline Accuracy:\t91.58\n",
      "Tuned Accuracy:\t\t92.38\n"
     ]
    }
   ],
   "source": [
    "# Show best parameters\n",
    "print('Best parameters found:\\n', grid_result.best_params_, '\\n')\n",
    "# Get accuracy scores\n",
    "baseScore = round(baseline.score(X_test, y_test)*100, 2)\n",
    "score = round(grid_result.score(X_test, y_test)*100, 2)\n",
    "print(f\"Baseline Accuracy:\\t{baseScore}\")\n",
    "print(f\"Tuned Accuracy:\\t\\t{score}\")"
   ]
  },
  {
   "cell_type": "code",
   "execution_count": null,
   "id": "d8395064-a1de-4fa9-824e-9f7ae6d81448",
   "metadata": {},
   "outputs": [],
   "source": []
  },
  {
   "cell_type": "markdown",
   "id": "7e31905a-884e-4c95-9711-88742dac2dcf",
   "metadata": {},
   "source": [
    "### Support Vector Classifier (SVC)"
   ]
  },
  {
   "cell_type": "code",
   "execution_count": 23,
   "id": "975a629e-11fe-4ddb-aea2-475163d81e13",
   "metadata": {},
   "outputs": [],
   "source": [
    "# Load libraries\n",
    "from sklearn.svm import SVC\n",
    "\n",
    "# Create support vector classifier\n",
    "svc = SVC(random_state=42, class_weight='balanced', max_iter=10000)\n",
    "\n",
    "# Get a baseline model\n",
    "baseline = svc.fit(X_train, y_train)\n",
    "\n",
    "# Create range of candidate penalty hyperparameter values\n",
    "parameter_space = {\n",
    "    'C': [10, 30, 100, 300, 1000], \n",
    "    'kernel': ['linear', 'poly', 'rbf', 'sigmoid'],\n",
    "    'gamma': ['scale', 'auto'], \n",
    "    'shrinking': [True, False], \n",
    "    'tol': [1e-2, 1e-3, 1e-4],\n",
    "    'decision_function_shape': ['ovo', 'ovr'], \n",
    "    'break_ties': [True],\n",
    "}\n",
    "grid = GridSearchCV(svc, parameter_space, n_jobs=-1, cv=5)"
   ]
  },
  {
   "cell_type": "code",
   "execution_count": 24,
   "id": "f52d4fd5-26cb-4b96-a8d8-33fc18bbf6bd",
   "metadata": {},
   "outputs": [
    {
     "name": "stderr",
     "output_type": "stream",
     "text": [
      "C:\\ProgramData\\Anaconda3\\lib\\site-packages\\sklearn\\model_selection\\_search.py:922: UserWarning: One or more of the test scores are non-finite: [       nan        nan        nan        nan        nan        nan\n",
      "        nan        nan        nan        nan        nan        nan\n",
      "        nan        nan        nan        nan        nan        nan\n",
      "        nan        nan        nan        nan        nan        nan\n",
      "        nan        nan        nan        nan        nan        nan\n",
      "        nan        nan        nan        nan        nan        nan\n",
      "        nan        nan        nan        nan        nan        nan\n",
      "        nan        nan        nan        nan        nan        nan\n",
      " 0.91991137 0.92022628 0.92012129 0.91991137 0.92012129 0.92012129\n",
      " 0.9153971  0.91539716 0.91539716 0.9153971  0.91539716 0.91539716\n",
      " 0.92347993 0.92347993 0.92347993 0.92347993 0.92347993 0.92347993\n",
      " 0.60354703 0.60365196 0.60365196 0.60354703 0.60365196 0.60365196\n",
      " 0.91991137 0.92022628 0.92012129 0.91991137 0.92012129 0.92012129\n",
      " 0.91539716 0.91529217 0.91529217 0.91539716 0.91529217 0.91529217\n",
      " 0.92358492 0.92347993 0.92347993 0.92358492 0.92347993 0.92347993\n",
      " 0.60354697 0.6036519  0.6036519  0.60354697 0.6036519  0.6036519\n",
      "        nan        nan        nan        nan        nan        nan\n",
      "        nan        nan        nan        nan        nan        nan\n",
      "        nan        nan        nan        nan        nan        nan\n",
      "        nan        nan        nan        nan        nan        nan\n",
      "        nan        nan        nan        nan        nan        nan\n",
      "        nan        nan        nan        nan        nan        nan\n",
      "        nan        nan        nan        nan        nan        nan\n",
      "        nan        nan        nan        nan        nan        nan\n",
      " 0.92022606 0.91928162 0.91970134 0.91959636 0.91980633 0.91980633\n",
      " 0.91896649 0.91907148 0.91907148 0.91896649 0.91907148 0.91907148\n",
      " 0.92473967 0.92463468 0.92463468 0.92452975 0.92463468 0.92463468\n",
      " 0.59997835 0.59997835 0.59997835 0.59997835 0.59997835 0.59997835\n",
      " 0.92022606 0.91928162 0.91970134 0.91959636 0.91980633 0.91980633\n",
      " 0.91907148 0.91907148 0.91907148 0.91907148 0.91907148 0.91907148\n",
      " 0.92463468 0.92463468 0.92463468 0.92452975 0.92463468 0.92463468\n",
      " 0.60008334 0.60008334 0.60008334 0.60008334 0.60008334 0.60008334\n",
      "        nan        nan        nan        nan        nan        nan\n",
      "        nan        nan        nan        nan        nan        nan\n",
      "        nan        nan        nan        nan        nan        nan\n",
      "        nan        nan        nan        nan        nan        nan\n",
      "        nan        nan        nan        nan        nan        nan\n",
      "        nan        nan        nan        nan        nan        nan\n",
      "        nan        nan        nan        nan        nan        nan\n",
      "        nan        nan        nan        nan        nan        nan\n",
      " 0.91928134 0.91917635 0.91917635 0.91980595 0.91980595 0.91980595\n",
      " 0.92012124 0.91991132 0.91991132 0.92012124 0.92001625 0.92001625\n",
      " 0.92515978 0.92526477 0.92515978 0.92515978 0.92526477 0.92515978\n",
      " 0.59966361 0.59966361 0.59966361 0.59966361 0.59966361 0.59966361\n",
      " 0.91928134 0.91917635 0.91917635 0.91980595 0.91980595 0.91980595\n",
      " 0.92022622 0.92001625 0.92001625 0.92022622 0.92001625 0.92001625\n",
      " 0.92515978 0.92515978 0.92526477 0.92515978 0.92515978 0.92515978\n",
      " 0.59966367 0.59966367 0.59966367 0.59966367 0.59966367 0.59966367\n",
      "        nan        nan        nan        nan        nan        nan\n",
      "        nan        nan        nan        nan        nan        nan\n",
      "        nan        nan        nan        nan        nan        nan\n",
      "        nan        nan        nan        nan        nan        nan\n",
      "        nan        nan        nan        nan        nan        nan\n",
      "        nan        nan        nan        nan        nan        nan\n",
      "        nan        nan        nan        nan        nan        nan\n",
      "        nan        nan        nan        nan        nan        nan\n",
      " 0.89912854 0.89912854 0.89912854 0.91466396 0.91466396 0.91466396\n",
      " 0.92096091 0.92085598 0.92075099 0.92096091 0.92075099 0.92075099\n",
      " 0.92505479 0.92526471 0.92526471 0.92505479 0.92515972 0.92515972\n",
      " 0.59903375 0.59903375 0.59903375 0.59903375 0.59903375 0.59903375\n",
      " 0.89912854 0.89912854 0.89912854 0.91466396 0.91466396 0.91466396\n",
      " 0.92106584 0.92075094 0.92075094 0.92096097 0.92054107 0.92054107\n",
      " 0.92505479 0.92515972 0.92515972 0.92515972 0.92526466 0.92526466\n",
      " 0.59913873 0.59913873 0.59913873 0.59913873 0.59913873 0.59913873\n",
      "        nan        nan        nan        nan        nan        nan\n",
      "        nan        nan        nan        nan        nan        nan\n",
      "        nan        nan        nan        nan        nan        nan\n",
      "        nan        nan        nan        nan        nan        nan\n",
      "        nan        nan        nan        nan        nan        nan\n",
      "        nan        nan        nan        nan        nan        nan\n",
      "        nan        nan        nan        nan        nan        nan\n",
      "        nan        nan        nan        nan        nan        nan\n",
      " 0.82816722 0.82827226 0.82764267 0.81117053 0.81201031 0.81201031\n",
      " 0.92085625 0.92064634 0.92064634 0.92232552 0.92211555 0.92211555\n",
      " 0.92421517 0.92411019 0.92411019 0.92421517 0.92421517 0.92421517\n",
      " 0.59892892 0.59892892 0.59892892 0.59892892 0.59892892 0.59892892\n",
      " 0.82816722 0.82827226 0.82764267 0.81117053 0.81201031 0.81201031\n",
      " 0.92169565 0.92159072 0.92159072 0.92148579 0.92148579 0.92148579\n",
      " 0.92369029 0.92379528 0.92379528 0.92411013 0.92411013 0.92411013\n",
      " 0.59913884 0.59913884 0.59913884 0.59913884 0.59913884 0.59913884]\n",
      "  warnings.warn(\n"
     ]
    },
    {
     "name": "stdout",
     "output_type": "stream",
     "text": [
      "Wall time: 14min 38s\n"
     ]
    }
   ],
   "source": [
    "%%time\n",
    "# Fit models\n",
    "grid_result = grid.fit(X_train, y_train)"
   ]
  },
  {
   "cell_type": "code",
   "execution_count": 25,
   "id": "b12b9586-ea5c-42b1-88ef-15ca9b70e131",
   "metadata": {},
   "outputs": [
    {
     "name": "stdout",
     "output_type": "stream",
     "text": [
      "Best parameters found:\n",
      " {'C': 100, 'break_ties': True, 'decision_function_shape': 'ovr', 'gamma': 'scale', 'kernel': 'rbf', 'shrinking': True, 'tol': 0.001} \n",
      "\n",
      "Baseline Accuracy:\t92.83\n",
      "Tuned Accuracy:\t\t92.85\n"
     ]
    }
   ],
   "source": [
    "# Show best parameters\n",
    "print('Best parameters found:\\n', grid_result.best_params_, '\\n')\n",
    "# Get accuracy scores\n",
    "baseScore = round(baseline.score(X_test, y_test)*100, 2)\n",
    "score = round(grid_result.score(X_test, y_test)*100, 2)\n",
    "print(f\"Baseline Accuracy:\\t{baseScore}\")\n",
    "print(f\"Tuned Accuracy:\\t\\t{score}\")"
   ]
  },
  {
   "cell_type": "code",
   "execution_count": 26,
   "id": "d55c3df9-bcc3-4929-8c22-6f5de8b0755c",
   "metadata": {},
   "outputs": [
    {
     "name": "stdout",
     "output_type": "stream",
     "text": [
      "Best parameters found:\n",
      " {'C': 300, 'decision_function_shape': 'ovo', 'gamma': 'scale', 'kernel': 'rbf', 'shrinking': False} \n",
      "\n",
      "Baseline Accuracy:\t92.83\n",
      "Tuned Accuracy:\t\t92.97\n"
     ]
    }
   ],
   "source": [
    "# Show best parameters\n",
    "print('Best parameters found:\\n', grid_result.best_params_, '\\n')\n",
    "# Get accuracy scores\n",
    "baseScore = round(baseline.score(X_test, y_test)*100, 2)\n",
    "score = round(grid_result.score(X_test, y_test)*100, 2)\n",
    "print(f\"Baseline Accuracy:\\t{baseScore}\")\n",
    "print(f\"Tuned Accuracy:\\t\\t{score}\")"
   ]
  },
  {
   "cell_type": "code",
   "execution_count": null,
   "id": "241327a9-0389-4677-bcc7-52bf065b9eb8",
   "metadata": {},
   "outputs": [],
   "source": []
  },
  {
   "cell_type": "markdown",
   "id": "76dc209a-b0fc-46d7-80f6-14d9859ff488",
   "metadata": {},
   "source": [
    "### Gaussian Naive Bayes Classifier"
   ]
  },
  {
   "cell_type": "code",
   "execution_count": 26,
   "id": "43f3efd5-f477-400a-aef2-b4b958c16951",
   "metadata": {},
   "outputs": [],
   "source": [
    "# Load libraries\n",
    "from sklearn.naive_bayes import GaussianNB\n",
    "\n",
    "# Create Gaussian naive Bayes object\n",
    "nBayes = GaussianNB()\n",
    "\n",
    "# Get a baseline model\n",
    "baseline = nBayes.fit(X_train, y_train)\n",
    "\n",
    "# Create range of candidate hyperparameter values\n",
    "parameter_space = {\n",
    "    'var_smoothing': np.logspace(-10, -1, 10),\n",
    "}\n",
    "grid = GridSearchCV(nBayes, parameter_space, n_jobs=-1, cv=5)"
   ]
  },
  {
   "cell_type": "code",
   "execution_count": 27,
   "id": "e0cda614-f8bd-4d87-8aba-5d0271080b85",
   "metadata": {},
   "outputs": [
    {
     "name": "stdout",
     "output_type": "stream",
     "text": [
      "Wall time: 241 ms\n"
     ]
    }
   ],
   "source": [
    "%%time\n",
    "# Fit models\n",
    "grid_result = grid.fit(X_train, y_train)"
   ]
  },
  {
   "cell_type": "code",
   "execution_count": 28,
   "id": "a465aa4d-7b90-43a5-832e-c43dd5ed5c11",
   "metadata": {},
   "outputs": [
    {
     "name": "stdout",
     "output_type": "stream",
     "text": [
      "Best parameters found:\n",
      " {'var_smoothing': 0.01} \n",
      "\n",
      "Baseline Accuracy:\t89.96\n",
      "Tuned Accuracy:\t\t89.99\n"
     ]
    }
   ],
   "source": [
    "# Show best parameters\n",
    "print('Best parameters found:\\n', grid_result.best_params_, '\\n')\n",
    "# Get accuracy scores\n",
    "baseScore = round(baseline.score(X_test, y_test)*100, 2)\n",
    "score = round(grid_result.score(X_test, y_test)*100, 2)\n",
    "print(f\"Baseline Accuracy:\\t{baseScore}\")\n",
    "print(f\"Tuned Accuracy:\\t\\t{score}\")"
   ]
  },
  {
   "cell_type": "code",
   "execution_count": null,
   "id": "839ffd6f-6cc5-4ee5-b4a9-0bd5e3ea8f43",
   "metadata": {},
   "outputs": [],
   "source": []
  },
  {
   "cell_type": "markdown",
   "id": "a9749d95-6c1c-44b1-b936-db91b3341007",
   "metadata": {},
   "source": [
    "### MLPClassifier"
   ]
  },
  {
   "cell_type": "code",
   "execution_count": 35,
   "id": "671a152c-019f-4f95-a9fc-0b163048219c",
   "metadata": {},
   "outputs": [],
   "source": [
    "# Load libraries\n",
    "from sklearn.neural_network import MLPClassifier\n",
    "from sklearn.model_selection import RandomizedSearchCV\n",
    "import random as rd\n",
    "from scipy.stats import uniform, randint\n",
    "\n",
    "# Create classifier\n",
    "mlp = MLPClassifier(max_iter=5000)\n",
    "\n",
    "# Get a baseline model\n",
    "baseline = mlp.fit(X_train, y_train)\n",
    "\n",
    "# Create range of candidate hyperparameter values\n",
    "parameter_space = {\n",
    "    'hidden_layer_sizes': [(rd.randint(10,100), rd.randint(10,100), rd.randint(10,100))],\n",
    "    'activation': ['relu'], #'tanh', 'identity', 'logistic'], \n",
    "    'solver': ['adam'], #'sgd', 'lbfgs'], \n",
    "    'alpha': [0.001, 0.0001, 0.00001], #uniform(loc=0, scale=0.0005), \n",
    "#     'learning_rate': ['constant', 'adaptive', 'invscaling'], # only when solver='sgd' \n",
    "    'learning_rate_init': [0.01, 0.001, 0.0001], \n",
    "    'tol': [1e-3, 1e-4, 1e-5],\n",
    "    'early_stopping': [True], \n",
    "    'beta_1': [0.9, 0.99], \n",
    "    'beta_2': [0.99, 0.999, 0.9999],\n",
    "    'epsilon': [1e-9, 1e-8, 1e-7],\n",
    "}\n",
    "rand = RandomizedSearchCV(mlp, parameter_space, random_state=42, n_iter=500, n_jobs=-1, cv=5)"
   ]
  },
  {
   "cell_type": "markdown",
   "id": "151a6f1c-595f-4826-8e85-050ff0429e8a",
   "metadata": {},
   "source": [
    "Note: ~1.14min / iteration"
   ]
  },
  {
   "cell_type": "code",
   "execution_count": 36,
   "id": "14f1d78c-04c0-4f89-858e-a773e91adf5d",
   "metadata": {},
   "outputs": [
    {
     "name": "stderr",
     "output_type": "stream",
     "text": [
      "C:\\ProgramData\\Anaconda3\\lib\\site-packages\\sklearn\\model_selection\\_search.py:285: UserWarning: The total space of parameters 486 is smaller than n_iter=500. Running 486 iterations. For exhaustive searches, use GridSearchCV.\n",
      "  warnings.warn(\n"
     ]
    },
    {
     "name": "stdout",
     "output_type": "stream",
     "text": [
      "Wall time: 34min 3s\n"
     ]
    }
   ],
   "source": [
    "%%time\n",
    "# Fit models\n",
    "rand_result = rand.fit(X_train, y_train)"
   ]
  },
  {
   "cell_type": "code",
   "execution_count": 37,
   "id": "1804151a-86b6-41bb-b3c6-4ec3f220e8db",
   "metadata": {},
   "outputs": [
    {
     "name": "stdout",
     "output_type": "stream",
     "text": [
      "Best parameters found:\n",
      " {'tol': 0.001, 'solver': 'adam', 'learning_rate_init': 0.001, 'hidden_layer_sizes': (77, 67, 65), 'epsilon': 1e-09, 'early_stopping': True, 'beta_2': 0.999, 'beta_1': 0.9, 'alpha': 0.0001, 'activation': 'relu'} \n",
      "\n",
      "Baseline Accuracy:\t92.97\n",
      "Tuned Accuracy:\t\t92.56\n"
     ]
    }
   ],
   "source": [
    "# Show best parameters\n",
    "print('Best parameters found:\\n', rand_result.best_params_, '\\n')\n",
    "# Get accuracy scores\n",
    "baseScore = round(baseline.score(X_test, y_test)*100, 2)\n",
    "score = round(rand_result.score(X_test, y_test)*100, 2)\n",
    "print(f\"Baseline Accuracy:\\t{baseScore}\")\n",
    "print(f\"Tuned Accuracy:\\t\\t{score}\")"
   ]
  },
  {
   "cell_type": "markdown",
   "id": "ef89212f-8d29-40a7-a148-d7aaec964748",
   "metadata": {},
   "source": [
    "`n_iter=500`: 9h 30min"
   ]
  },
  {
   "cell_type": "code",
   "execution_count": 40,
   "id": "246786f3-d1b2-4937-9346-45d2a6b55cb5",
   "metadata": {},
   "outputs": [
    {
     "name": "stdout",
     "output_type": "stream",
     "text": [
      "Best parameters found:\n",
      " {'activation': 'relu', 'alpha': 0.00020919989433382637, 'early_stopping': True, 'hidden_layer_sizes': (18, 72, 45), 'learning_rate': 'invscaling', 'solver': 'adam'} \n",
      "\n",
      "Baseline Accuracy:\t93.0\n",
      "Tuned Accuracy:\t\t92.7\n"
     ]
    }
   ],
   "source": [
    "# Show best parameters\n",
    "print('Best parameters found:\\n', rand_result.best_params_, '\\n')\n",
    "# Get accuracy scores\n",
    "baseScore = round(baseline.score(X_test, y_test)*100, 2)\n",
    "score = round(rand_result.score(X_test, y_test)*100, 2)\n",
    "print(f\"Baseline Accuracy:\\t{baseScore}\")\n",
    "print(f\"Tuned Accuracy:\\t\\t{score}\")"
   ]
  },
  {
   "cell_type": "markdown",
   "id": "f225d0e9-a258-45d1-8f74-89c6804d512f",
   "metadata": {},
   "source": [
    "`n_iter=108`: 2h 4min"
   ]
  },
  {
   "cell_type": "code",
   "execution_count": 36,
   "id": "aa3e1476-a94a-4c40-90b5-b4da7a9a8d69",
   "metadata": {},
   "outputs": [
    {
     "name": "stdout",
     "output_type": "stream",
     "text": [
      "Best parameters found:\n",
      " {'solver': 'adam', 'learning_rate': 'invscaling', 'hidden_layer_sizes': (77, 62, 33), 'early_stopping': True, 'alpha': 0.0001, 'activation': 'relu'} \n",
      "\n",
      "Baseline Accuracy:\t92.85\n",
      "Tuned Accuracy:\t\t93.02\n"
     ]
    }
   ],
   "source": [
    "# Show best parameters\n",
    "print('Best parameters found:\\n', rand_result.best_params_, '\\n')\n",
    "# Get accuracy scores\n",
    "baseScore = round(baseline.score(X_test, y_test)*100, 2)\n",
    "score = round(rand_result.score(X_test, y_test)*100, 2)\n",
    "print(f\"Baseline Accuracy:\\t{baseScore}\")\n",
    "print(f\"Tuned Accuracy:\\t\\t{score}\")"
   ]
  },
  {
   "cell_type": "code",
   "execution_count": null,
   "id": "b64d67a3-99ca-416f-b8e5-d7a75fb77d32",
   "metadata": {},
   "outputs": [],
   "source": []
  },
  {
   "cell_type": "markdown",
   "id": "7c08df29-6425-451d-b9d1-bae5a0616b7f",
   "metadata": {},
   "source": [
    "## Neural Network - Keras"
   ]
  },
  {
   "cell_type": "code",
   "execution_count": 38,
   "id": "fe21bb0b-7a16-4ec9-8a51-bda87e9fb5cc",
   "metadata": {},
   "outputs": [],
   "source": [
    "# Load libraries\n",
    "from sklearn.preprocessing import LabelEncoder\n",
    "from keras.utils.np_utils import to_categorical"
   ]
  },
  {
   "cell_type": "code",
   "execution_count": 39,
   "id": "11146a8b-7f28-4ce2-888e-cb21393cfddc",
   "metadata": {},
   "outputs": [],
   "source": [
    "# Encode the target variables\n",
    "le = LabelEncoder()\n",
    "le.fit(y)\n",
    "\n",
    "le_y_train = le.transform(y_train)\n",
    "le_y_test  = le.transform(y_test)\n",
    "\n",
    "cat_y_train = to_categorical(le_y_train)\n",
    "cat_y_test  = to_categorical(le_y_test)"
   ]
  },
  {
   "cell_type": "code",
   "execution_count": 40,
   "id": "d7edd346-b01a-4192-9fb8-4470c657bab6",
   "metadata": {},
   "outputs": [],
   "source": [
    "# Load libraries\n",
    "import numpy as np\n",
    "import tensorflow as tf\n",
    "from keras.models import Sequential\n",
    "from keras.layers import Dense, Dropout\n",
    "from tensorflow.keras.optimizers import Adam\n",
    "from keras.wrappers.scikit_learn import KerasClassifier\n",
    "from sklearn.model_selection import GridSearchCV, RandomizedSearchCV\n",
    "\n",
    "# Set random seed\n",
    "np.random.seed(42)"
   ]
  },
  {
   "cell_type": "code",
   "execution_count": 41,
   "id": "8c719e72-3799-4c2a-b71b-15be97034bd9",
   "metadata": {},
   "outputs": [],
   "source": [
    "# Number of features\n",
    "number_of_features = X.shape[1]\n",
    "\n",
    "# Create function returning a compiled network\n",
    "def create_network(optimizer='rmsprop', hiddenLayerOne=48, hiddenLayerTwo=24, \n",
    "                   initDrop=0.2, hiddenDrop=0.5, learnRate=0.01):\n",
    "    \n",
    "    # Start neural network\n",
    "    network = Sequential()\n",
    "    \n",
    "    # Add a dropout layer for input layer\n",
    "    network.add(Dropout(initDrop, input_shape=(number_of_features,)))\n",
    "    \n",
    "    # Add fully connected layer w/a ReLU activation function\n",
    "    network.add(Dense(units=hiddenLayerOne, activation='relu'))#,\n",
    "#                       input_shape=(number_of_features,)))\n",
    "    \n",
    "    # Add a dropout layer for previous hidden layer\n",
    "    network.add(Dropout(hiddenDrop))\n",
    "\n",
    "    # Add fully connected layer w/a ReLU activation function\n",
    "    network.add(Dense(units=hiddenLayerTwo, activation='relu'))\n",
    "                \n",
    "    # Add a dropout layer for previous hidden layer\n",
    "    network.add(Dropout(hiddenDrop))\n",
    "\n",
    "    # Add fully connected layer w/a softmax activation function\n",
    "    network.add(Dense(units=7, activation='softmax'))\n",
    "\n",
    "    # Compile neural network\n",
    "    network.compile(loss='categorical_crossentropy', \n",
    "                    optimizer=Adam(learning_rate=learnRate),\n",
    "                    metrics=['accuracy'])\n",
    "\n",
    "    # Return compiled network\n",
    "    return network"
   ]
  },
  {
   "cell_type": "code",
   "execution_count": 51,
   "id": "ef73026a-a52b-4082-9346-1463638dc14f",
   "metadata": {},
   "outputs": [
    {
     "name": "stdout",
     "output_type": "stream",
     "text": [
      "Epoch 1/10\n",
      "1191/1191 [==============================] - 3s 2ms/step - loss: 1.0571 - accuracy: 0.6083 - val_loss: 0.3083 - val_accuracy: 0.9057\n",
      "Epoch 2/10\n",
      "1191/1191 [==============================] - 2s 2ms/step - loss: 0.7357 - accuracy: 0.7467 - val_loss: 0.3133 - val_accuracy: 0.8976\n",
      "Epoch 3/10\n",
      "1191/1191 [==============================] - 2s 2ms/step - loss: 0.6728 - accuracy: 0.7697 - val_loss: 0.3227 - val_accuracy: 0.9079\n",
      "Epoch 4/10\n",
      "1191/1191 [==============================] - 2s 2ms/step - loss: 0.7122 - accuracy: 0.7533 - val_loss: 0.3359 - val_accuracy: 0.9092\n",
      "Epoch 5/10\n",
      "1191/1191 [==============================] - 2s 2ms/step - loss: 0.7059 - accuracy: 0.7605 - val_loss: 0.2982 - val_accuracy: 0.8903\n",
      "Epoch 6/10\n",
      "1191/1191 [==============================] - 2s 2ms/step - loss: 0.6603 - accuracy: 0.7798 - val_loss: 0.2892 - val_accuracy: 0.9060\n",
      "Epoch 7/10\n",
      "1191/1191 [==============================] - 2s 2ms/step - loss: 0.6635 - accuracy: 0.7748 - val_loss: 0.3212 - val_accuracy: 0.8935\n",
      "Epoch 8/10\n",
      "1191/1191 [==============================] - 2s 2ms/step - loss: 0.6958 - accuracy: 0.7637 - val_loss: 0.2823 - val_accuracy: 0.9165\n",
      "Epoch 9/10\n",
      "1191/1191 [==============================] - 2s 2ms/step - loss: 0.6489 - accuracy: 0.7735 - val_loss: 0.3150 - val_accuracy: 0.8817\n",
      "Epoch 10/10\n",
      "1191/1191 [==============================] - 2s 2ms/step - loss: 0.7111 - accuracy: 0.7632 - val_loss: 0.3053 - val_accuracy: 0.9050\n",
      "128/128 [==============================] - 0s 1ms/step - loss: 0.3053 - accuracy: 0.9050\n",
      "\n",
      "Accuracy:  90.5\n"
     ]
    }
   ],
   "source": [
    "# Get a baseline model\n",
    "model = create_network()\n",
    "baseline = model.fit(X_train, cat_y_train, \n",
    "              validation_data=(X_test, cat_y_test), \n",
    "              batch_size=8, \n",
    "              epochs=10)\n",
    "\n",
    "accuracy = model.evaluate(X_test, cat_y_test)[1]\n",
    "print(f\"\\nAccuracy:  {round(accuracy*100, 2)}\")"
   ]
  },
  {
   "cell_type": "code",
   "execution_count": 43,
   "id": "35aa3f27-550f-43bd-856e-aa9770efe018",
   "metadata": {
    "tags": []
   },
   "outputs": [],
   "source": [
    "# Wrap Keras model so it can be used by scikit-learn\n",
    "keras = KerasClassifier(build_fn=create_network, verbose=0)\n",
    "\n",
    "# Create hyperparameter space and initialize random search\n",
    "parameter_space = {\n",
    "    'epochs': [5, 10, 15],\n",
    "    'batch_size': [4, 8, 16, 32],\n",
    "    'hiddenLayerOne': [48, 96, 120],\n",
    "    'hiddenLayerTwo': [24, 48, 96],\n",
    "    'initDrop': [0.1, 0.2],\n",
    "    'hiddenDrop': [0.3, 0.4, 0.5], \n",
    "    'learnRate': [1e-4, 1e-3, 1e-2],\n",
    "}\n",
    "rand = RandomizedSearchCV(keras, parameter_space, random_state=42, n_iter=200, \n",
    "                          scoring='accuracy', n_jobs=-1, cv=3)"
   ]
  },
  {
   "cell_type": "code",
   "execution_count": 44,
   "id": "a847e210-a8b5-4511-bb5d-90207ba78571",
   "metadata": {},
   "outputs": [
    {
     "name": "stderr",
     "output_type": "stream",
     "text": [
      "C:\\ProgramData\\Anaconda3\\lib\\site-packages\\joblib\\externals\\loky\\process_executor.py:688: UserWarning: A worker stopped while some jobs were given to the executor. This can be caused by a too short worker timeout or by a memory leak.\n",
      "  warnings.warn(\n",
      "C:\\ProgramData\\Anaconda3\\lib\\site-packages\\sklearn\\model_selection\\_search.py:922: UserWarning: One or more of the test scores are non-finite: [nan nan nan nan nan nan nan nan nan nan nan nan nan nan nan nan nan nan\n",
      " nan nan nan nan nan nan nan nan nan nan nan nan nan nan nan nan nan nan\n",
      " nan nan nan nan nan nan nan nan nan nan nan nan nan nan nan nan nan nan\n",
      " nan nan nan nan nan nan nan nan nan nan nan nan nan nan nan nan nan nan\n",
      " nan nan nan nan nan nan nan nan nan nan nan nan nan nan nan nan nan nan\n",
      " nan nan nan nan nan nan nan nan nan nan nan nan nan nan nan nan nan nan\n",
      " nan nan nan nan nan nan nan nan nan nan nan nan nan nan nan nan nan nan\n",
      " nan nan nan nan nan nan nan nan nan nan nan nan nan nan nan nan nan nan\n",
      " nan nan nan nan nan nan nan nan nan nan nan nan nan nan nan nan nan nan\n",
      " nan nan nan nan nan nan nan nan nan nan nan nan nan nan nan nan nan nan\n",
      " nan nan nan nan nan nan nan nan nan nan nan nan nan nan nan nan nan nan\n",
      " nan nan]\n",
      "  warnings.warn(\n"
     ]
    },
    {
     "name": "stdout",
     "output_type": "stream",
     "text": [
      "Wall time: 51min 43s\n"
     ]
    }
   ],
   "source": [
    "%%time\n",
    "# Fit models\n",
    "rand_result = rand.fit(X_train, cat_y_train, \n",
    "                       validation_data=(X_test, cat_y_test))"
   ]
  },
  {
   "cell_type": "code",
   "execution_count": 45,
   "id": "72ff50e2-4f94-4462-89a3-0cc2fce0dd56",
   "metadata": {},
   "outputs": [
    {
     "name": "stdout",
     "output_type": "stream",
     "text": [
      "Best score is nan using {'learnRate': 0.01, 'initDrop': 0.1, 'hiddenLayerTwo': 48, 'hiddenLayerOne': 120, 'hiddenDrop': 0.5, 'epochs': 5, 'batch_size': 32}\n"
     ]
    }
   ],
   "source": [
    "# Summarize search information\n",
    "bestScore = rand_result.best_score_\n",
    "bestParams = rand_result.best_params_\n",
    "print(f\"Best score is {round(bestScore*100, 2)} using {bestParams}\")"
   ]
  },
  {
   "cell_type": "code",
   "execution_count": 49,
   "id": "bd886163-82b6-435f-87a2-7f9b2ec19a52",
   "metadata": {},
   "outputs": [
    {
     "name": "stdout",
     "output_type": "stream",
     "text": [
      "Best parameters found:\n",
      " {'learnRate': 0.01, 'initDrop': 0.1, 'hiddenLayerTwo': 48, 'hiddenLayerOne': 120, 'hiddenDrop': 0.5, 'epochs': 5, 'batch_size': 32} \n",
      "\n",
      "Baseline Accuracy:\t78.48\n",
      "Tuned Accuracy:\t\tnan\n"
     ]
    }
   ],
   "source": [
    "# Show best parameters\n",
    "print('Best parameters found:\\n', rand_result.best_params_, '\\n')\n",
    "# Get accuracy scores\n",
    "baseScore = round(baseline.history['accuracy'][np.argmin(baseline.history['loss'])]*100, 2)\n",
    "score = round(rand_result.best_score_*100, 2)\n",
    "print(f\"Baseline Accuracy:\\t{baseScore}\")\n",
    "print(f\"Tuned Accuracy:\\t\\t{score}\")"
   ]
  },
  {
   "cell_type": "code",
   "execution_count": 52,
   "id": "9d5daa4a-6aa1-4911-9cd4-bcc097db4cd2",
   "metadata": {},
   "outputs": [
    {
     "name": "stdout",
     "output_type": "stream",
     "text": [
      "Epoch 1/5\n",
      "298/298 [==============================] - 2s 3ms/step - loss: 0.7865 - accuracy: 0.7204 - val_loss: 0.2557 - val_accuracy: 0.9119\n",
      "Epoch 2/5\n",
      "298/298 [==============================] - 1s 2ms/step - loss: 0.4687 - accuracy: 0.8476 - val_loss: 0.2285 - val_accuracy: 0.9187\n",
      "Epoch 3/5\n",
      "298/298 [==============================] - 1s 3ms/step - loss: 0.4223 - accuracy: 0.8617 - val_loss: 0.2390 - val_accuracy: 0.9145\n",
      "Epoch 4/5\n",
      "298/298 [==============================] - 1s 3ms/step - loss: 0.4466 - accuracy: 0.8542 - val_loss: 0.2216 - val_accuracy: 0.9221\n",
      "Epoch 5/5\n",
      "298/298 [==============================] - 1s 4ms/step - loss: 0.4219 - accuracy: 0.8550 - val_loss: 0.2298 - val_accuracy: 0.9136\n",
      "128/128 [==============================] - 0s 2ms/step - loss: 0.2298 - accuracy: 0.9136\n",
      "\n",
      "Accuracy:  91.36\n"
     ]
    }
   ],
   "source": [
    "# Initialize model with best parameters\n",
    "model = create_network( \n",
    "              learnRate=0.01, \n",
    "              initDrop=0.1, \n",
    "              hiddenLayerOne=120, \n",
    "              hiddenLayerTwo=48, \n",
    "              hiddenDrop=0.5)\n",
    "\n",
    "# Train network \n",
    "H = model.fit(X_train, cat_y_train,\n",
    "              validation_data=(X_test, cat_y_test), \n",
    "              batch_size=32, \n",
    "              epochs=5)\n",
    "\n",
    "accuracy = model.evaluate(X_test, cat_y_test)[1]\n",
    "print(f\"\\nAccuracy:  {round(accuracy*100, 2)}\")"
   ]
  },
  {
   "cell_type": "markdown",
   "id": "257100ff-65c2-4378-b5f4-c7292d7b45f3",
   "metadata": {},
   "source": [
    "### Try Keras without Dropout"
   ]
  },
  {
   "cell_type": "code",
   "execution_count": 59,
   "id": "c5ad8d5b-d4ae-41f4-ae60-c1aa2b02f185",
   "metadata": {},
   "outputs": [],
   "source": [
    "# Number of features\n",
    "number_of_features = X.shape[1]\n",
    "\n",
    "# Create function returning a compiled network\n",
    "def create_network(optimizer='rmsprop', hiddenLayerOne=48, hiddenLayerTwo=24, \n",
    "                   learnRate=0.01):\n",
    "    \n",
    "    # Start neural network\n",
    "    network = Sequential()\n",
    "    \n",
    "    # Add fully connected layer w/a ReLU activation function\n",
    "    network.add(Dense(units=hiddenLayerOne, activation='relu', \n",
    "                input_shape=(number_of_features,)))\n",
    "\n",
    "    # Add fully connected layer w/a ReLU activation function\n",
    "    network.add(Dense(units=hiddenLayerTwo, activation='relu'))\n",
    "\n",
    "    # Add fully connected layer w/a softmax activation function\n",
    "    network.add(Dense(units=7, activation='softmax'))\n",
    "\n",
    "    # Compile neural network\n",
    "    network.compile(loss='categorical_crossentropy', \n",
    "                    optimizer=Adam(learning_rate=learnRate),\n",
    "                    metrics=['accuracy'])\n",
    "\n",
    "    # Return compiled network\n",
    "    return network"
   ]
  },
  {
   "cell_type": "code",
   "execution_count": 60,
   "id": "2e7edf47-e3ec-4950-9069-53d4020ade5a",
   "metadata": {
    "tags": []
   },
   "outputs": [],
   "source": [
    "# Wrap Keras model so it can be used by scikit-learn\n",
    "keras = KerasClassifier(build_fn=create_network, verbose=0)\n",
    "\n",
    "# Create hyperparameter space and initialize random search\n",
    "parameter_space = {\n",
    "    'epochs': [5, 10, 15],\n",
    "    'batch_size': [4, 8, 16, 32],\n",
    "    'hiddenLayerOne': [96, 120, 144],\n",
    "    'hiddenLayerTwo': [48, 96, 120],\n",
    "    'learnRate': [1e-5, 1e-4, 1e-3],\n",
    "}\n",
    "rand = RandomizedSearchCV(keras, parameter_space, random_state=42, n_iter=200, \n",
    "                          scoring='accuracy', n_jobs=-1, cv=3)"
   ]
  },
  {
   "cell_type": "code",
   "execution_count": 61,
   "id": "a284fca4-274b-4a27-86c7-fb629eff46dd",
   "metadata": {},
   "outputs": [
    {
     "name": "stdout",
     "output_type": "stream",
     "text": [
      "Wall time: 54min 2s\n"
     ]
    }
   ],
   "source": [
    "%%time\n",
    "# Fit models\n",
    "rand_result = rand.fit(X_train, cat_y_train, \n",
    "                       validation_data=(X_test, cat_y_test))"
   ]
  },
  {
   "cell_type": "code",
   "execution_count": 65,
   "id": "ce17130a-61d9-4527-9550-029ffd0df8c9",
   "metadata": {},
   "outputs": [
    {
     "name": "stdout",
     "output_type": "stream",
     "text": [
      "Best parameters found:\n",
      " {'learnRate': 0.0001, 'hiddenLayerTwo': 96, 'hiddenLayerOne': 120, 'epochs': 10, 'batch_size': 8} \n",
      "\n",
      "Baseline Accuracy:\t77.53\n",
      "Tuned Accuracy:\t\tnan\n"
     ]
    }
   ],
   "source": [
    "# Show best parameters\n",
    "print('Best parameters found:\\n', rand_result.best_params_, '\\n')\n",
    "# Get accuracy scores\n",
    "baseScore = round(baseline.history['accuracy'][np.argmin(baseline.history['loss'])]*100, 2)\n",
    "score = round(rand_result.best_score_*100, 2)\n",
    "print(f\"Baseline Accuracy:\\t{baseScore}\")\n",
    "print(f\"Tuned Accuracy:\\t\\t{score}\")"
   ]
  },
  {
   "cell_type": "code",
   "execution_count": 68,
   "id": "5521fa23-1218-4cc3-8abb-a489ac8f70d1",
   "metadata": {},
   "outputs": [
    {
     "name": "stdout",
     "output_type": "stream",
     "text": [
      "Epoch 1/10\n",
      "1191/1191 [==============================] - 3s 2ms/step - loss: 1.2491 - accuracy: 0.6438 - val_loss: 0.3831 - val_accuracy: 0.8962\n",
      "Epoch 2/10\n",
      "1191/1191 [==============================] - 3s 2ms/step - loss: 0.3355 - accuracy: 0.9020 - val_loss: 0.2483 - val_accuracy: 0.9158\n",
      "Epoch 3/10\n",
      "1191/1191 [==============================] - 2s 2ms/step - loss: 0.2354 - accuracy: 0.9227 - val_loss: 0.2227 - val_accuracy: 0.9175\n",
      "Epoch 4/10\n",
      "1191/1191 [==============================] - 2s 2ms/step - loss: 0.2339 - accuracy: 0.9205 - val_loss: 0.2116 - val_accuracy: 0.9204\n",
      "Epoch 5/10\n",
      "1191/1191 [==============================] - 2s 2ms/step - loss: 0.2267 - accuracy: 0.9153 - val_loss: 0.2096 - val_accuracy: 0.9204\n",
      "Epoch 6/10\n",
      "1191/1191 [==============================] - 2s 2ms/step - loss: 0.2155 - accuracy: 0.9196 - val_loss: 0.2046 - val_accuracy: 0.9224\n",
      "Epoch 7/10\n",
      "1191/1191 [==============================] - 2s 2ms/step - loss: 0.2160 - accuracy: 0.9223 - val_loss: 0.2041 - val_accuracy: 0.9209\n",
      "Epoch 8/10\n",
      "1191/1191 [==============================] - 2s 2ms/step - loss: 0.2063 - accuracy: 0.9232 - val_loss: 0.2017 - val_accuracy: 0.9251\n",
      "Epoch 9/10\n",
      "1191/1191 [==============================] - 2s 2ms/step - loss: 0.2018 - accuracy: 0.9225 - val_loss: 0.2004 - val_accuracy: 0.9229\n",
      "Epoch 10/10\n",
      "1191/1191 [==============================] - 2s 2ms/step - loss: 0.2131 - accuracy: 0.9177 - val_loss: 0.2002 - val_accuracy: 0.9265\n",
      "128/128 [==============================] - 0s 1ms/step - loss: 0.2002 - accuracy: 0.9265\n",
      "\n",
      "Accuracy:  92.65\n"
     ]
    }
   ],
   "source": [
    "# Initialize model with default values\n",
    "keras = create_network( \n",
    "              learnRate=0.0001, \n",
    "              hiddenLayerOne=120, \n",
    "              hiddenLayerTwo=96)\n",
    "\n",
    "# Train network \n",
    "history = keras.fit(X_train, cat_y_train,\n",
    "              validation_data=(X_test, cat_y_test), \n",
    "              batch_size=8, \n",
    "              epochs=10)\n",
    "\n",
    "accuracy = keras.evaluate(X_test, cat_y_test)[1]\n",
    "print(f\"\\nAccuracy:  {round(accuracy*100, 2)}\")"
   ]
  },
  {
   "cell_type": "code",
   "execution_count": 71,
   "id": "d2795578-f7d4-4bf9-b7c8-e0c0277a1b81",
   "metadata": {},
   "outputs": [
    {
     "name": "stdout",
     "output_type": "stream",
     "text": [
      "128/128 [==============================] - 0s 1ms/step - loss: 0.2002 - accuracy: 0.9265\n",
      "\n",
      "Accuracy:  92.65\n"
     ]
    }
   ],
   "source": [
    "history = keras.evaluate(X_test, cat_y_test)[1]\n",
    "print(f\"\\nAccuracy:  {round(accuracy*100, 2)}\")"
   ]
  },
  {
   "cell_type": "code",
   "execution_count": null,
   "id": "f8fb0b4e-a9d2-4d32-bdfd-3bec071accaa",
   "metadata": {},
   "outputs": [],
   "source": []
  }
 ],
 "metadata": {
  "kernelspec": {
   "display_name": "Python 3 (ipykernel)",
   "language": "python",
   "name": "python3"
  },
  "language_info": {
   "codemirror_mode": {
    "name": "ipython",
    "version": 3
   },
   "file_extension": ".py",
   "mimetype": "text/x-python",
   "name": "python",
   "nbconvert_exporter": "python",
   "pygments_lexer": "ipython3",
   "version": "3.9.7"
  }
 },
 "nbformat": 4,
 "nbformat_minor": 5
}
