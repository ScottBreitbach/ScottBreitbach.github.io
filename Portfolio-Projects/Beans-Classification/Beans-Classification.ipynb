{
  "cells": [
    {
      "cell_type": "markdown",
      "id": "5de107b1-5130-43b9-b510-7ab4240c202b",
      "metadata": {
        "id": "5de107b1-5130-43b9-b510-7ab4240c202b"
      },
      "source": [
        "# Scott Breitbach"
      ]
    },
    {
      "cell_type": "markdown",
      "id": "4daa1548-ad3c-46e3-8481-9d37ae297ca0",
      "metadata": {
        "id": "4daa1548-ad3c-46e3-8481-9d37ae297ca0"
      },
      "source": [
        "# Case Study: Beans"
      ]
    },
    {
      "cell_type": "markdown",
      "id": "9d499cc9-d480-4e96-bd1b-6a13b8370242",
      "metadata": {
        "id": "9d499cc9-d480-4e96-bd1b-6a13b8370242"
      },
      "source": [
        "## Introduction\n",
        "My initial intention with this project was to utilize a data set from a project I’ve been working on in my job in the hopes of getting not just a better understanding of the process, but hopefully gaining some insights into how the process could be improved. Unfortunately, I quickly realized that the data set I was using was maybe not ideal for applying the techniques I wanted. There is quite a bit of missing data and by the time the useful data was sorted out, there really wasn’t enough left to work with.  \n",
        "\n",
        "Following this minor setback, I was able to find another data set about dry beans that was not just a better fit, but also appealed to some of my interests. I grew up farming and considered going into plant genetics before falling into microbiology.  So a data set about a food crop felt like a good option with which to proceed."
      ]
    },
    {
      "cell_type": "markdown",
      "id": "413b580f-d066-416a-ad86-3ab4c963886d",
      "metadata": {
        "id": "413b580f-d066-416a-ad86-3ab4c963886d"
      },
      "source": [
        "## Business Problem / Data\n",
        "Dry beans are an important food crop worldwide. There is a lot of diversity in bean varieties and both classification and seed quality are important factors in the agricultural industry for maximizing production in order to feed the growing world population.  \n",
        "\n",
        "This data set was created utilizing computer vision to automatically generate 16 features based on high resolution images of 13,611 individuals from 7 different kinds of beans. These features are based on various measurements of the beans on 12 form dimensions (such as area, length, and perimeter) and 4 shape factors.  \n",
        "\n",
        "With an effective method to classify beans, the agricultural needs of bean uniformity can be met, both in regards to sorting beans as well as quality and consistency within bean varieties.  \n",
        "\n",
        "Data source: https://archive.ics.uci.edu/ml/datasets/Dry+Bean+Dataset"
      ]
    },
    {
      "cell_type": "code",
      "source": [
        "# !pip install catboost\n",
        "# !pip install mrmr_selection"
      ],
      "metadata": {
        "id": "Gn8HQkJYR7-3"
      },
      "id": "Gn8HQkJYR7-3",
      "execution_count": 1,
      "outputs": []
    },
    {
      "cell_type": "code",
      "execution_count": 2,
      "id": "2bc9cb21-0d74-42af-a164-8b9be32ab416",
      "metadata": {
        "id": "2bc9cb21-0d74-42af-a164-8b9be32ab416"
      },
      "outputs": [],
      "source": [
        "# Load Libraries\n",
        "import pandas as pd\n",
        "import numpy as np\n",
        "import tensorflow as tf\n",
        "\n",
        "from sklearn.preprocessing import StandardScaler\n",
        "from sklearn.preprocessing import LabelEncoder\n",
        "from sklearn.model_selection import train_test_split\n",
        "from catboost import CatBoostClassifier\n",
        "from sklearn.metrics import accuracy_score, roc_auc_score\n",
        "from sklearn.feature_selection import f_classif\n",
        "from sklearn.feature_selection import mutual_info_classif\n",
        "from sklearn.linear_model import LogisticRegression\n",
        "from lightgbm import LGBMClassifier\n",
        "from mrmr import mrmr_classif\n",
        "from sklearn.ensemble import RandomForestClassifier\n",
        "from sklearn.tree import DecisionTreeClassifier\n",
        "from sklearn.ensemble import AdaBoostClassifier\n",
        "from sklearn.svm import LinearSVC\n",
        "from sklearn.svm import SVC\n",
        "from sklearn.naive_bayes import GaussianNB\n",
        "from sklearn.neural_network import MLPClassifier\n",
        "from tensorflow.keras.utils import to_categorical\n",
        "from tensorflow.keras.models import Sequential\n",
        "from tensorflow.keras.layers import Dense\n",
        "from tensorflow.keras.optimizers import Adam\n",
        "from sklearn.metrics import classification_report, confusion_matrix\n",
        "\n",
        "# Set random seed\n",
        "np.random.seed(42)"
      ]
    },
    {
      "cell_type": "markdown",
      "id": "937569b6-9dac-4ce2-9b19-d446fd66fdac",
      "metadata": {
        "id": "937569b6-9dac-4ce2-9b19-d446fd66fdac"
      },
      "source": [
        "### Load Data"
      ]
    },
    {
      "cell_type": "code",
      "execution_count": 3,
      "id": "c3a4c223-cdd3-4bde-a24e-c888fb3a7ead",
      "metadata": {
        "id": "c3a4c223-cdd3-4bde-a24e-c888fb3a7ead"
      },
      "outputs": [],
      "source": [
        "# # Load data to a DataFrame\n",
        "# beanDF = pd.read_excel('data/Dry_Bean_Dataset.xlsx')"
      ]
    },
    {
      "cell_type": "code",
      "source": [
        "# import files to colab\n",
        "from google.colab import files\n",
        "\n",
        "uploaded = files.upload()\n",
        "\n",
        "for fn in uploaded.keys():\n",
        "  print('User uploaded file \"{name}\" with length {length} bytes'.format(\n",
        "      name=fn, length=len(uploaded[fn])))\n",
        "  \n",
        "def load_dataframe(path):\n",
        "  # load dataset as pandas DataFrame\n",
        "  DF = pd.read_csv(path, index_col=0)\n",
        "  return DF\n",
        "\n",
        "# load the dataframe\n",
        "beanDF = pd.read_excel('/content/Dry_Bean_Dataset.xlsx')"
      ],
      "metadata": {
        "colab": {
          "resources": {
            "http://localhost:8080/nbextensions/google.colab/files.js": {
              "data": "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",
              "ok": true,
              "headers": [
                [
                  "content-type",
                  "application/javascript"
                ]
              ],
              "status": 200,
              "status_text": ""
            }
          },
          "base_uri": "https://localhost:8080/",
          "height": 90
        },
        "id": "Il_TU0IlTS_8",
        "outputId": "e7ca1bd7-8c0d-42a6-fc2a-d5c75fbd2450"
      },
      "id": "Il_TU0IlTS_8",
      "execution_count": 4,
      "outputs": [
        {
          "output_type": "display_data",
          "data": {
            "text/plain": [
              "<IPython.core.display.HTML object>"
            ],
            "text/html": [
              "\n",
              "     <input type=\"file\" id=\"files-de8f35ae-21ed-4db6-82e1-c639bfde9fc2\" name=\"files[]\" multiple disabled\n",
              "        style=\"border:none\" />\n",
              "     <output id=\"result-de8f35ae-21ed-4db6-82e1-c639bfde9fc2\">\n",
              "      Upload widget is only available when the cell has been executed in the\n",
              "      current browser session. Please rerun this cell to enable.\n",
              "      </output>\n",
              "      <script src=\"/nbextensions/google.colab/files.js\"></script> "
            ]
          },
          "metadata": {}
        },
        {
          "output_type": "stream",
          "name": "stdout",
          "text": [
            "Saving Dry_Bean_Dataset.xlsx to Dry_Bean_Dataset.xlsx\n",
            "User uploaded file \"Dry_Bean_Dataset.xlsx\" with length 3043341 bytes\n"
          ]
        }
      ]
    },
    {
      "cell_type": "code",
      "execution_count": 5,
      "id": "2a32ba66-c2c4-440c-86e6-7f367f3e9a16",
      "metadata": {
        "colab": {
          "base_uri": "https://localhost:8080/",
          "height": 206
        },
        "id": "2a32ba66-c2c4-440c-86e6-7f367f3e9a16",
        "outputId": "8487bef1-efd1-4f25-aec1-1cc7ace807b4"
      },
      "outputs": [
        {
          "output_type": "execute_result",
          "data": {
            "text/plain": [
              "    Area  Perimeter  MajorAxisLength  MinorAxisLength  AspectRation  \\\n",
              "0  28395    610.291       208.178117       173.888747      1.197191   \n",
              "1  28734    638.018       200.524796       182.734419      1.097356   \n",
              "2  29380    624.110       212.826130       175.931143      1.209713   \n",
              "3  30008    645.884       210.557999       182.516516      1.153638   \n",
              "4  30140    620.134       201.847882       190.279279      1.060798   \n",
              "\n",
              "   Eccentricity  ConvexArea  EquivDiameter    Extent  Solidity  roundness  \\\n",
              "0      0.549812       28715     190.141097  0.763923  0.988856   0.958027   \n",
              "1      0.411785       29172     191.272750  0.783968  0.984986   0.887034   \n",
              "2      0.562727       29690     193.410904  0.778113  0.989559   0.947849   \n",
              "3      0.498616       30724     195.467062  0.782681  0.976696   0.903936   \n",
              "4      0.333680       30417     195.896503  0.773098  0.990893   0.984877   \n",
              "\n",
              "   Compactness  ShapeFactor1  ShapeFactor2  ShapeFactor3  ShapeFactor4  Class  \n",
              "0     0.913358      0.007332      0.003147      0.834222      0.998724  SEKER  \n",
              "1     0.953861      0.006979      0.003564      0.909851      0.998430  SEKER  \n",
              "2     0.908774      0.007244      0.003048      0.825871      0.999066  SEKER  \n",
              "3     0.928329      0.007017      0.003215      0.861794      0.994199  SEKER  \n",
              "4     0.970516      0.006697      0.003665      0.941900      0.999166  SEKER  "
            ],
            "text/html": [
              "\n",
              "  <div id=\"df-3bac0886-abfd-4816-ad5a-e3a45ffc34b9\">\n",
              "    <div class=\"colab-df-container\">\n",
              "      <div>\n",
              "<style scoped>\n",
              "    .dataframe tbody tr th:only-of-type {\n",
              "        vertical-align: middle;\n",
              "    }\n",
              "\n",
              "    .dataframe tbody tr th {\n",
              "        vertical-align: top;\n",
              "    }\n",
              "\n",
              "    .dataframe thead th {\n",
              "        text-align: right;\n",
              "    }\n",
              "</style>\n",
              "<table border=\"1\" class=\"dataframe\">\n",
              "  <thead>\n",
              "    <tr style=\"text-align: right;\">\n",
              "      <th></th>\n",
              "      <th>Area</th>\n",
              "      <th>Perimeter</th>\n",
              "      <th>MajorAxisLength</th>\n",
              "      <th>MinorAxisLength</th>\n",
              "      <th>AspectRation</th>\n",
              "      <th>Eccentricity</th>\n",
              "      <th>ConvexArea</th>\n",
              "      <th>EquivDiameter</th>\n",
              "      <th>Extent</th>\n",
              "      <th>Solidity</th>\n",
              "      <th>roundness</th>\n",
              "      <th>Compactness</th>\n",
              "      <th>ShapeFactor1</th>\n",
              "      <th>ShapeFactor2</th>\n",
              "      <th>ShapeFactor3</th>\n",
              "      <th>ShapeFactor4</th>\n",
              "      <th>Class</th>\n",
              "    </tr>\n",
              "  </thead>\n",
              "  <tbody>\n",
              "    <tr>\n",
              "      <th>0</th>\n",
              "      <td>28395</td>\n",
              "      <td>610.291</td>\n",
              "      <td>208.178117</td>\n",
              "      <td>173.888747</td>\n",
              "      <td>1.197191</td>\n",
              "      <td>0.549812</td>\n",
              "      <td>28715</td>\n",
              "      <td>190.141097</td>\n",
              "      <td>0.763923</td>\n",
              "      <td>0.988856</td>\n",
              "      <td>0.958027</td>\n",
              "      <td>0.913358</td>\n",
              "      <td>0.007332</td>\n",
              "      <td>0.003147</td>\n",
              "      <td>0.834222</td>\n",
              "      <td>0.998724</td>\n",
              "      <td>SEKER</td>\n",
              "    </tr>\n",
              "    <tr>\n",
              "      <th>1</th>\n",
              "      <td>28734</td>\n",
              "      <td>638.018</td>\n",
              "      <td>200.524796</td>\n",
              "      <td>182.734419</td>\n",
              "      <td>1.097356</td>\n",
              "      <td>0.411785</td>\n",
              "      <td>29172</td>\n",
              "      <td>191.272750</td>\n",
              "      <td>0.783968</td>\n",
              "      <td>0.984986</td>\n",
              "      <td>0.887034</td>\n",
              "      <td>0.953861</td>\n",
              "      <td>0.006979</td>\n",
              "      <td>0.003564</td>\n",
              "      <td>0.909851</td>\n",
              "      <td>0.998430</td>\n",
              "      <td>SEKER</td>\n",
              "    </tr>\n",
              "    <tr>\n",
              "      <th>2</th>\n",
              "      <td>29380</td>\n",
              "      <td>624.110</td>\n",
              "      <td>212.826130</td>\n",
              "      <td>175.931143</td>\n",
              "      <td>1.209713</td>\n",
              "      <td>0.562727</td>\n",
              "      <td>29690</td>\n",
              "      <td>193.410904</td>\n",
              "      <td>0.778113</td>\n",
              "      <td>0.989559</td>\n",
              "      <td>0.947849</td>\n",
              "      <td>0.908774</td>\n",
              "      <td>0.007244</td>\n",
              "      <td>0.003048</td>\n",
              "      <td>0.825871</td>\n",
              "      <td>0.999066</td>\n",
              "      <td>SEKER</td>\n",
              "    </tr>\n",
              "    <tr>\n",
              "      <th>3</th>\n",
              "      <td>30008</td>\n",
              "      <td>645.884</td>\n",
              "      <td>210.557999</td>\n",
              "      <td>182.516516</td>\n",
              "      <td>1.153638</td>\n",
              "      <td>0.498616</td>\n",
              "      <td>30724</td>\n",
              "      <td>195.467062</td>\n",
              "      <td>0.782681</td>\n",
              "      <td>0.976696</td>\n",
              "      <td>0.903936</td>\n",
              "      <td>0.928329</td>\n",
              "      <td>0.007017</td>\n",
              "      <td>0.003215</td>\n",
              "      <td>0.861794</td>\n",
              "      <td>0.994199</td>\n",
              "      <td>SEKER</td>\n",
              "    </tr>\n",
              "    <tr>\n",
              "      <th>4</th>\n",
              "      <td>30140</td>\n",
              "      <td>620.134</td>\n",
              "      <td>201.847882</td>\n",
              "      <td>190.279279</td>\n",
              "      <td>1.060798</td>\n",
              "      <td>0.333680</td>\n",
              "      <td>30417</td>\n",
              "      <td>195.896503</td>\n",
              "      <td>0.773098</td>\n",
              "      <td>0.990893</td>\n",
              "      <td>0.984877</td>\n",
              "      <td>0.970516</td>\n",
              "      <td>0.006697</td>\n",
              "      <td>0.003665</td>\n",
              "      <td>0.941900</td>\n",
              "      <td>0.999166</td>\n",
              "      <td>SEKER</td>\n",
              "    </tr>\n",
              "  </tbody>\n",
              "</table>\n",
              "</div>\n",
              "      <button class=\"colab-df-convert\" onclick=\"convertToInteractive('df-3bac0886-abfd-4816-ad5a-e3a45ffc34b9')\"\n",
              "              title=\"Convert this dataframe to an interactive table.\"\n",
              "              style=\"display:none;\">\n",
              "        \n",
              "  <svg xmlns=\"http://www.w3.org/2000/svg\" height=\"24px\"viewBox=\"0 0 24 24\"\n",
              "       width=\"24px\">\n",
              "    <path d=\"M0 0h24v24H0V0z\" fill=\"none\"/>\n",
              "    <path d=\"M18.56 5.44l.94 2.06.94-2.06 2.06-.94-2.06-.94-.94-2.06-.94 2.06-2.06.94zm-11 1L8.5 8.5l.94-2.06 2.06-.94-2.06-.94L8.5 2.5l-.94 2.06-2.06.94zm10 10l.94 2.06.94-2.06 2.06-.94-2.06-.94-.94-2.06-.94 2.06-2.06.94z\"/><path d=\"M17.41 7.96l-1.37-1.37c-.4-.4-.92-.59-1.43-.59-.52 0-1.04.2-1.43.59L10.3 9.45l-7.72 7.72c-.78.78-.78 2.05 0 2.83L4 21.41c.39.39.9.59 1.41.59.51 0 1.02-.2 1.41-.59l7.78-7.78 2.81-2.81c.8-.78.8-2.07 0-2.86zM5.41 20L4 18.59l7.72-7.72 1.47 1.35L5.41 20z\"/>\n",
              "  </svg>\n",
              "      </button>\n",
              "      \n",
              "  <style>\n",
              "    .colab-df-container {\n",
              "      display:flex;\n",
              "      flex-wrap:wrap;\n",
              "      gap: 12px;\n",
              "    }\n",
              "\n",
              "    .colab-df-convert {\n",
              "      background-color: #E8F0FE;\n",
              "      border: none;\n",
              "      border-radius: 50%;\n",
              "      cursor: pointer;\n",
              "      display: none;\n",
              "      fill: #1967D2;\n",
              "      height: 32px;\n",
              "      padding: 0 0 0 0;\n",
              "      width: 32px;\n",
              "    }\n",
              "\n",
              "    .colab-df-convert:hover {\n",
              "      background-color: #E2EBFA;\n",
              "      box-shadow: 0px 1px 2px rgba(60, 64, 67, 0.3), 0px 1px 3px 1px rgba(60, 64, 67, 0.15);\n",
              "      fill: #174EA6;\n",
              "    }\n",
              "\n",
              "    [theme=dark] .colab-df-convert {\n",
              "      background-color: #3B4455;\n",
              "      fill: #D2E3FC;\n",
              "    }\n",
              "\n",
              "    [theme=dark] .colab-df-convert:hover {\n",
              "      background-color: #434B5C;\n",
              "      box-shadow: 0px 1px 3px 1px rgba(0, 0, 0, 0.15);\n",
              "      filter: drop-shadow(0px 1px 2px rgba(0, 0, 0, 0.3));\n",
              "      fill: #FFFFFF;\n",
              "    }\n",
              "  </style>\n",
              "\n",
              "      <script>\n",
              "        const buttonEl =\n",
              "          document.querySelector('#df-3bac0886-abfd-4816-ad5a-e3a45ffc34b9 button.colab-df-convert');\n",
              "        buttonEl.style.display =\n",
              "          google.colab.kernel.accessAllowed ? 'block' : 'none';\n",
              "\n",
              "        async function convertToInteractive(key) {\n",
              "          const element = document.querySelector('#df-3bac0886-abfd-4816-ad5a-e3a45ffc34b9');\n",
              "          const dataTable =\n",
              "            await google.colab.kernel.invokeFunction('convertToInteractive',\n",
              "                                                     [key], {});\n",
              "          if (!dataTable) return;\n",
              "\n",
              "          const docLinkHtml = 'Like what you see? Visit the ' +\n",
              "            '<a target=\"_blank\" href=https://colab.research.google.com/notebooks/data_table.ipynb>data table notebook</a>'\n",
              "            + ' to learn more about interactive tables.';\n",
              "          element.innerHTML = '';\n",
              "          dataTable['output_type'] = 'display_data';\n",
              "          await google.colab.output.renderOutput(dataTable, element);\n",
              "          const docLink = document.createElement('div');\n",
              "          docLink.innerHTML = docLinkHtml;\n",
              "          element.appendChild(docLink);\n",
              "        }\n",
              "      </script>\n",
              "    </div>\n",
              "  </div>\n",
              "  "
            ]
          },
          "metadata": {},
          "execution_count": 5
        }
      ],
      "source": [
        "# Get a look at the data\n",
        "beanDF.head()"
      ]
    },
    {
      "cell_type": "markdown",
      "id": "484ab08e-d8c2-4ead-97a0-f3902fd9666f",
      "metadata": {
        "id": "484ab08e-d8c2-4ead-97a0-f3902fd9666f"
      },
      "source": [
        "The values for different features vary by orders of magnitude, so these will need to be scaled prior to modeling. "
      ]
    },
    {
      "cell_type": "code",
      "execution_count": 6,
      "id": "7f399f2c-8cc9-462a-90c2-8054a39367db",
      "metadata": {
        "colab": {
          "base_uri": "https://localhost:8080/"
        },
        "id": "7f399f2c-8cc9-462a-90c2-8054a39367db",
        "outputId": "cd66cca3-a09e-4c12-a25f-e5438d530567"
      },
      "outputs": [
        {
          "output_type": "execute_result",
          "data": {
            "text/plain": [
              "(13611, 17)"
            ]
          },
          "metadata": {},
          "execution_count": 6
        }
      ],
      "source": [
        "# Look at the shape of the DataFrame\n",
        "beanDF.shape"
      ]
    },
    {
      "cell_type": "code",
      "execution_count": 7,
      "id": "e2dfa622-fd58-4532-81a0-65870e9481a7",
      "metadata": {
        "colab": {
          "base_uri": "https://localhost:8080/"
        },
        "id": "e2dfa622-fd58-4532-81a0-65870e9481a7",
        "outputId": "1902330c-78dc-482b-ad0a-9ee6610fe766"
      },
      "outputs": [
        {
          "output_type": "execute_result",
          "data": {
            "text/plain": [
              "Class\n",
              "DERMASON    3546\n",
              "SIRA        2636\n",
              "SEKER       2027\n",
              "HOROZ       1928\n",
              "CALI        1630\n",
              "BARBUNYA    1322\n",
              "BOMBAY       522\n",
              "dtype: int64"
            ]
          },
          "metadata": {},
          "execution_count": 7
        }
      ],
      "source": [
        "# See the relative numbers of each target category\n",
        "beanDF.value_counts('Class')"
      ]
    },
    {
      "cell_type": "markdown",
      "id": "17ca62bc-b4cf-48d6-aef4-7f85cd437f97",
      "metadata": {
        "id": "17ca62bc-b4cf-48d6-aef4-7f85cd437f97"
      },
      "source": [
        "We can see here that an immediate improvement to the data set would be to increase the number of data points for beans like 'CALI', 'BARBUNYA', and particularly 'BOMBAY', or better yet make the entire data set more uniform by increasing the data points for each bean to around 3,500 in order to match 'DERMASON'. "
      ]
    },
    {
      "cell_type": "markdown",
      "id": "14668dd5-bbdc-4b71-b057-592c10ba415e",
      "metadata": {
        "id": "14668dd5-bbdc-4b71-b057-592c10ba415e"
      },
      "source": [
        "## Graphical Analysis"
      ]
    },
    {
      "cell_type": "code",
      "execution_count": 8,
      "id": "dcaafbaf-5d9f-4ce2-b72b-4f58748fff46",
      "metadata": {
        "id": "dcaafbaf-5d9f-4ce2-b72b-4f58748fff46"
      },
      "outputs": [],
      "source": [
        "# Load libraries\n",
        "import matplotlib.pyplot as plt\n",
        "\n",
        "# Set up figure size\n",
        "plt.rcParams['figure.figsize'] = (12, 8)"
      ]
    },
    {
      "cell_type": "markdown",
      "id": "3884a534-13df-40f6-9da1-81dc6bfc8368",
      "metadata": {
        "id": "3884a534-13df-40f6-9da1-81dc6bfc8368"
      },
      "source": [
        "### Visualize Relative Counts by Class (the target variable)"
      ]
    },
    {
      "cell_type": "code",
      "execution_count": 9,
      "id": "11f82b8c-be1b-44b8-9e19-593db46d2870",
      "metadata": {
        "colab": {
          "base_uri": "https://localhost:8080/",
          "height": 0
        },
        "id": "11f82b8c-be1b-44b8-9e19-593db46d2870",
        "outputId": "1ee4abbc-0cbd-4b78-ba8f-94f7f856ffcc"
      },
      "outputs": [
        {
          "output_type": "display_data",
          "data": {
            "text/plain": [
              "<Figure size 864x576 with 1 Axes>"
            ],
            "image/png": "[encoded data removed]"
          },
          "metadata": {
            "needs_background": "light"
          }
        }
      ],
      "source": [
        "# Get the data ready to feed into the visualizer\n",
        "X_Class = beanDF.groupby('Class').size().reset_index(name='Counts')['Class']\n",
        "Y_Class = beanDF.groupby('Class').size().reset_index(name='Counts')['Counts']\n",
        "\n",
        "# Make the 1st bar plot\n",
        "plt.bar(X_Class, Y_Class)\n",
        "plt.title('Counts by Class', fontsize=25)\n",
        "plt.xlabel('Class of Bean', fontsize=15)\n",
        "plt.ylabel('Counts', fontsize=15)\n",
        "plt.tick_params(axis='both', labelsize=12)\n",
        "\n",
        "plt.show()"
      ]
    },
    {
      "cell_type": "markdown",
      "id": "750f24c8-9b44-4804-9bca-6c9ea6385641",
      "metadata": {
        "id": "750f24c8-9b44-4804-9bca-6c9ea6385641"
      },
      "source": [
        "### Visualize Average Values for Each Attribute by Bean Type"
      ]
    },
    {
      "cell_type": "code",
      "execution_count": 10,
      "id": "19e7b4fe-9edb-422f-aa10-87088bec03ff",
      "metadata": {
        "colab": {
          "base_uri": "https://localhost:8080/",
          "height": 0
        },
        "id": "19e7b4fe-9edb-422f-aa10-87088bec03ff",
        "outputId": "cbb9f95a-bf23-418c-b5f1-2dfa88862334"
      },
      "outputs": [
        {
          "output_type": "display_data",
          "data": {
            "text/plain": [
              "<Figure size 1440x1080 with 12 Axes>"
            ],
            "image/png": "[encoded data removed]"
          },
          "metadata": {
            "needs_background": "light"
          }
        }
      ],
      "source": [
        "# Set up figure size\n",
        "plt.rcParams['figure.figsize'] = (20, 15)\n",
        "\n",
        "# Make subplots\n",
        "fig, axes = plt.subplots(nrows=4, ncols=3, sharex='col')\n",
        "\n",
        "# Set font sizes\n",
        "title  = 15\n",
        "yLabel = 12\n",
        "ticks  = 8\n",
        "# Set up axes / ticks\n",
        "for ax in fig.axes:\n",
        "    plt.sca(ax)\n",
        "    plt.xticks(rotation=45)\n",
        "    plt.ylabel('Mean', fontsize=yLabel)\n",
        "\n",
        "## PLOT 1 - AREA\n",
        "# Group by 'Class'\n",
        "X_Axis = beanDF.groupby('Class').aggregate({'Area':'mean'}).reset_index('Class')['Class']\n",
        "Y_Axis = beanDF.groupby('Class').aggregate({'Area':'mean'}).reset_index('Class')['Area']\n",
        "# Build chart\n",
        "axes[0, 0].bar(X_Axis, Y_Axis)\n",
        "axes[0, 0].set_title('Area', fontsize=title)\n",
        "\n",
        "\n",
        "## PLOT 2 - PERIMETER\n",
        "# Group by 'Class'\n",
        "X_Axis = beanDF.groupby('Class').aggregate({'Perimeter':'mean'}).reset_index('Class')['Class']\n",
        "Y_Axis = beanDF.groupby('Class').aggregate({'Perimeter':'mean'}).reset_index('Class')['Perimeter']\n",
        "# Build chart\n",
        "axes[0, 1].bar(X_Axis, Y_Axis)\n",
        "axes[0, 1].set_title('Perimeter', fontsize=title)\n",
        "\n",
        "## PLOT 3 - MAJOR AXIS LENGTH\n",
        "# Group by 'Class'\n",
        "X_Axis = beanDF.groupby('Class').aggregate({'MajorAxisLength':'mean'}).reset_index('Class')['Class']\n",
        "Y_Axis = beanDF.groupby('Class').aggregate({'MajorAxisLength':'mean'}).reset_index('Class')['MajorAxisLength']\n",
        "# Build chart\n",
        "axes[0, 2].bar(X_Axis, Y_Axis)\n",
        "axes[0, 2].set_title('Major Axis Length', fontsize=title)\n",
        "\n",
        "## PLOT 4 - MINOR AXIS LENGTH\n",
        "# Group by 'Class'\n",
        "X_Axis = beanDF.groupby('Class').aggregate({'MinorAxisLength':'mean'}).reset_index('Class')['Class']\n",
        "Y_Axis = beanDF.groupby('Class').aggregate({'MinorAxisLength':'mean'}).reset_index('Class')['MinorAxisLength']\n",
        "# Build chart\n",
        "axes[1, 0].bar(X_Axis, Y_Axis)\n",
        "axes[1, 0].set_title('Minor Axis Length', fontsize=title)\n",
        "\n",
        "## PLOT 5 - ASPECT RATIO\n",
        "# Group by 'Class'\n",
        "X_Axis = beanDF.groupby('Class').aggregate({'AspectRation':'mean'}).reset_index('Class')['Class']\n",
        "Y_Axis = beanDF.groupby('Class').aggregate({'AspectRation':'mean'}).reset_index('Class')['AspectRation']\n",
        "# Build chart\n",
        "axes[1, 1].bar(X_Axis, Y_Axis)\n",
        "axes[1, 1].set_title('Aspect Ratio', fontsize=title)\n",
        "\n",
        "## PLOT 6 - ECCENTRICITY\n",
        "# Group by 'Class'\n",
        "X_Axis = beanDF.groupby('Class').aggregate({'Eccentricity':'mean'}).reset_index('Class')['Class']\n",
        "Y_Axis = beanDF.groupby('Class').aggregate({'Eccentricity':'mean'}).reset_index('Class')['Eccentricity']\n",
        "# Build chart\n",
        "axes[1, 2].bar(X_Axis, Y_Axis)\n",
        "axes[1, 2].set_title('Eccentricity', fontsize=title)\n",
        "\n",
        "## PLOT 7 - CONVEX AREA\n",
        "# Group by 'Class'\n",
        "X_Axis = beanDF.groupby('Class').aggregate({'ConvexArea':'mean'}).reset_index('Class')['Class']\n",
        "Y_Axis = beanDF.groupby('Class').aggregate({'ConvexArea':'mean'}).reset_index('Class')['ConvexArea']\n",
        "# Build chart\n",
        "axes[2, 0].bar(X_Axis, Y_Axis)\n",
        "axes[2, 0].set_title('Convex Area', fontsize=title)\n",
        "\n",
        "## PLOT 8 - EQUIV DIAMETER\n",
        "# Group by 'Class'\n",
        "X_Axis = beanDF.groupby('Class').aggregate({'EquivDiameter':'mean'}).reset_index('Class')['Class']\n",
        "Y_Axis = beanDF.groupby('Class').aggregate({'EquivDiameter':'mean'}).reset_index('Class')['EquivDiameter']\n",
        "# Build chart\n",
        "axes[2, 1].bar(X_Axis, Y_Axis)\n",
        "axes[2, 1].set_title('Equiv Diameter', fontsize=title)\n",
        "\n",
        "## PLOT 9 - EXTENT\n",
        "# Group by 'Class'\n",
        "X_Axis = beanDF.groupby('Class').aggregate({'Extent':'mean'}).reset_index('Class')['Class']\n",
        "Y_Axis = beanDF.groupby('Class').aggregate({'Extent':'mean'}).reset_index('Class')['Extent']\n",
        "# Build chart\n",
        "axes[2, 2].bar(X_Axis, Y_Axis)\n",
        "axes[2, 2].set_title('Extent', fontsize=title)\n",
        "\n",
        "## PLOT 10 - SOLIDITY\n",
        "# Group by 'Class'\n",
        "X_Axis = beanDF.groupby('Class').aggregate({'Solidity':'mean'}).reset_index('Class')['Class']\n",
        "Y_Axis = beanDF.groupby('Class').aggregate({'Solidity':'mean'}).reset_index('Class')['Solidity']\n",
        "# Build chart\n",
        "axes[3, 0].bar(X_Axis, Y_Axis)\n",
        "axes[3, 0].set_title('Solidity', fontsize=title)\n",
        "\n",
        "## PLOT 11 - ROUNDNESS\n",
        "# Group by 'Class'\n",
        "X_Axis = beanDF.groupby('Class').aggregate({'roundness':'mean'}).reset_index('Class')['Class']\n",
        "Y_Axis = beanDF.groupby('Class').aggregate({'roundness':'mean'}).reset_index('Class')['roundness']\n",
        "# Build chart\n",
        "axes[3, 1].bar(X_Axis, Y_Axis)\n",
        "axes[3, 1].set_title('Roundness', fontsize=title)\n",
        "\n",
        "## PLOT 12 - COMPACTNESS\n",
        "# Group by 'Class'\n",
        "X_Axis = beanDF.groupby('Class').aggregate({'Compactness':'mean'}).reset_index('Class')['Class']\n",
        "Y_Axis = beanDF.groupby('Class').aggregate({'Compactness':'mean'}).reset_index('Class')['Compactness']\n",
        "# Build chart\n",
        "axes[3, 2].bar(X_Axis, Y_Axis)\n",
        "axes[3, 2].set_title('Compactness', fontsize=title)\n",
        "\n",
        "plt.show()"
      ]
    },
    {
      "cell_type": "markdown",
      "id": "19501349-e615-4ddc-bb61-17f474055cc2",
      "metadata": {
        "id": "19501349-e615-4ddc-bb61-17f474055cc2"
      },
      "source": [
        "### Visualize Average Values for Each Shape Factor by Bean Type"
      ]
    },
    {
      "cell_type": "code",
      "execution_count": 11,
      "id": "b10e3aac-d8ab-4938-a15d-ae1756afe42e",
      "metadata": {
        "colab": {
          "base_uri": "https://localhost:8080/",
          "height": 0
        },
        "id": "b10e3aac-d8ab-4938-a15d-ae1756afe42e",
        "outputId": "edc27136-4ea5-4e02-a7b1-f346393c3adf"
      },
      "outputs": [
        {
          "output_type": "display_data",
          "data": {
            "text/plain": [
              "<Figure size 1080x720 with 4 Axes>"
            ],
            "image/png": "[encoded data removed]"
          },
          "metadata": {
            "needs_background": "light"
          }
        }
      ],
      "source": [
        "# Set up figure size\n",
        "plt.rcParams['figure.figsize'] = (15, 10)\n",
        "\n",
        "# Make subplots\n",
        "fig, axes = plt.subplots(nrows=2, ncols=2, sharex='col')\n",
        "\n",
        "# Set font sizes\n",
        "title  = 15\n",
        "yLabel = 12\n",
        "ticks  = 8\n",
        "# Set up axes / ticks\n",
        "for ax in fig.axes:\n",
        "    plt.sca(ax)\n",
        "    plt.xticks(rotation=45)\n",
        "    plt.ylabel('Mean', fontsize=yLabel)\n",
        "\n",
        "## PLOT 1 - SHAPE FACTOR 1\n",
        "# Group by 'Class'\n",
        "X_Axis = beanDF.groupby('Class').aggregate({'ShapeFactor1':'mean'}).reset_index('Class')['Class']\n",
        "Y_Axis = beanDF.groupby('Class').aggregate({'ShapeFactor1':'mean'}).reset_index('Class')['ShapeFactor1']\n",
        "# Build chart\n",
        "axes[0, 0].bar(X_Axis, Y_Axis)\n",
        "axes[0, 0].set_title('Shape Factor 1', fontsize=title)\n",
        "\n",
        "## PLOT 2 - SHAPE FACTOR 2\n",
        "# Group by 'Class'\n",
        "X_Axis = beanDF.groupby('Class').aggregate({'ShapeFactor2':'mean'}).reset_index('Class')['Class']\n",
        "Y_Axis = beanDF.groupby('Class').aggregate({'ShapeFactor2':'mean'}).reset_index('Class')['ShapeFactor2']\n",
        "# Build chart\n",
        "axes[0, 1].bar(X_Axis, Y_Axis)\n",
        "axes[0, 1].set_title('Shape Factor 2', fontsize=title)\n",
        "\n",
        "## PLOT 4 - SHAPE FACTOR 3\n",
        "# Group by 'Class'\n",
        "X_Axis = beanDF.groupby('Class').aggregate({'ShapeFactor3':'mean'}).reset_index('Class')['Class']\n",
        "Y_Axis = beanDF.groupby('Class').aggregate({'ShapeFactor3':'mean'}).reset_index('Class')['ShapeFactor3']\n",
        "# Build chart\n",
        "axes[1, 0].bar(X_Axis, Y_Axis)\n",
        "axes[1, 0].set_title('Shape Factor 3', fontsize=title)\n",
        "\n",
        "## PLOT 5 - SHAPE FACTOR 4\n",
        "# Group by 'Class'\n",
        "X_Axis = beanDF.groupby('Class').aggregate({'ShapeFactor4':'mean'}).reset_index('Class')['Class']\n",
        "Y_Axis = beanDF.groupby('Class').aggregate({'ShapeFactor4':'mean'}).reset_index('Class')['ShapeFactor4']\n",
        "# Build chart\n",
        "axes[1, 1].bar(X_Axis, Y_Axis)\n",
        "axes[1, 1].set_title('Shape Factor 4', fontsize=title)\n",
        "\n",
        "plt.show()"
      ]
    },
    {
      "cell_type": "markdown",
      "id": "e2bd4162-a633-46cc-8fe3-735e8ff52531",
      "metadata": {
        "id": "e2bd4162-a633-46cc-8fe3-735e8ff52531"
      },
      "source": [
        "Looking at these charts, I would think that the features 'Solidity' and 'ShapeFactor4' would be completely useless, but if we scale the data and chart it again, you can see the variation:"
      ]
    },
    {
      "cell_type": "markdown",
      "id": "badee52b-9abd-442f-8056-b5575bb411a7",
      "metadata": {
        "id": "badee52b-9abd-442f-8056-b5575bb411a7"
      },
      "source": [
        "### Standardize Features"
      ]
    },
    {
      "cell_type": "code",
      "execution_count": 12,
      "id": "5d4987e9-d627-49d8-830d-21ab9138d847",
      "metadata": {
        "id": "5d4987e9-d627-49d8-830d-21ab9138d847"
      },
      "outputs": [],
      "source": [
        "# Create a backup copy of the Data Frame\n",
        "copyDF = beanDF.copy()"
      ]
    },
    {
      "cell_type": "code",
      "execution_count": 13,
      "id": "de0b20b3-30b1-4215-973c-2d8d77c4b341",
      "metadata": {
        "id": "de0b20b3-30b1-4215-973c-2d8d77c4b341"
      },
      "outputs": [],
      "source": [
        "# Set up features target set\n",
        "X = beanDF[beanDF.columns[:-1]]\n",
        "\n",
        "# Standardize Features\n",
        "scaler = StandardScaler()\n",
        "X = scaler.fit_transform(X)\n",
        "\n",
        "# Reapply standardized features to Data Frame\n",
        "beanDF[beanDF.columns[:-1]] = X"
      ]
    },
    {
      "cell_type": "markdown",
      "id": "334cd57c-f860-4b61-be86-9cbba58856e6",
      "metadata": {
        "id": "334cd57c-f860-4b61-be86-9cbba58856e6"
      },
      "source": [
        "### Visualize Average Values for Standardized Attributes by Bean Type"
      ]
    },
    {
      "cell_type": "code",
      "execution_count": 14,
      "id": "5beaee69-eacc-4722-b15f-4cf26c3336fd",
      "metadata": {
        "colab": {
          "base_uri": "https://localhost:8080/",
          "height": 0
        },
        "id": "5beaee69-eacc-4722-b15f-4cf26c3336fd",
        "outputId": "16f9d91a-370b-442a-c7df-4a3d90de84c6"
      },
      "outputs": [
        {
          "output_type": "display_data",
          "data": {
            "text/plain": [
              "<Figure size 1440x1080 with 12 Axes>"
            ],
            "image/png": "[encoded data removed]"
          },
          "metadata": {
            "needs_background": "light"
          }
        }
      ],
      "source": [
        "# Set up figure size\n",
        "plt.rcParams['figure.figsize'] = (20, 15)\n",
        "\n",
        "# Make subplots\n",
        "fig, axes = plt.subplots(nrows=4, ncols=3, sharex='col')\n",
        "\n",
        "# Set font sizes\n",
        "title  = 15\n",
        "yLabel = 12\n",
        "ticks  = 8\n",
        "# Set up axes / ticks\n",
        "for ax in fig.axes:\n",
        "    plt.sca(ax)\n",
        "    plt.xticks(rotation=45)\n",
        "    plt.ylabel('Mean', fontsize=yLabel)\n",
        "\n",
        "## PLOT 1 - AREA\n",
        "# Group by 'Class'\n",
        "X_Axis = beanDF.groupby('Class').aggregate({'Area':'mean'}).reset_index('Class')['Class']\n",
        "Y_Axis = beanDF.groupby('Class').aggregate({'Area':'mean'}).reset_index('Class')['Area']\n",
        "# Build chart\n",
        "axes[0, 0].bar(X_Axis, Y_Axis)\n",
        "axes[0, 0].set_title('Area', fontsize=title)\n",
        "\n",
        "\n",
        "## PLOT 2 - PERIMETER\n",
        "# Group by 'Class'\n",
        "X_Axis = beanDF.groupby('Class').aggregate({'Perimeter':'mean'}).reset_index('Class')['Class']\n",
        "Y_Axis = beanDF.groupby('Class').aggregate({'Perimeter':'mean'}).reset_index('Class')['Perimeter']\n",
        "# Build chart\n",
        "axes[0, 1].bar(X_Axis, Y_Axis)\n",
        "axes[0, 1].set_title('Perimeter', fontsize=title)\n",
        "\n",
        "## PLOT 3 - MAJOR AXIS LENGTH\n",
        "# Group by 'Class'\n",
        "X_Axis = beanDF.groupby('Class').aggregate({'MajorAxisLength':'mean'}).reset_index('Class')['Class']\n",
        "Y_Axis = beanDF.groupby('Class').aggregate({'MajorAxisLength':'mean'}).reset_index('Class')['MajorAxisLength']\n",
        "# Build chart\n",
        "axes[0, 2].bar(X_Axis, Y_Axis)\n",
        "axes[0, 2].set_title('Major Axis Length', fontsize=title)\n",
        "\n",
        "## PLOT 4 - MINOR AXIS LENGTH\n",
        "# Group by 'Class'\n",
        "X_Axis = beanDF.groupby('Class').aggregate({'MinorAxisLength':'mean'}).reset_index('Class')['Class']\n",
        "Y_Axis = beanDF.groupby('Class').aggregate({'MinorAxisLength':'mean'}).reset_index('Class')['MinorAxisLength']\n",
        "# Build chart\n",
        "axes[1, 0].bar(X_Axis, Y_Axis)\n",
        "axes[1, 0].set_title('Minor Axis Length', fontsize=title)\n",
        "\n",
        "## PLOT 5 - ASPECT RATIO\n",
        "# Group by 'Class'\n",
        "X_Axis = beanDF.groupby('Class').aggregate({'AspectRation':'mean'}).reset_index('Class')['Class']\n",
        "Y_Axis = beanDF.groupby('Class').aggregate({'AspectRation':'mean'}).reset_index('Class')['AspectRation']\n",
        "# Build chart\n",
        "axes[1, 1].bar(X_Axis, Y_Axis)\n",
        "axes[1, 1].set_title('Aspect Ratio', fontsize=title)\n",
        "\n",
        "## PLOT 6 - ECCENTRICITY\n",
        "# Group by 'Class'\n",
        "X_Axis = beanDF.groupby('Class').aggregate({'Eccentricity':'mean'}).reset_index('Class')['Class']\n",
        "Y_Axis = beanDF.groupby('Class').aggregate({'Eccentricity':'mean'}).reset_index('Class')['Eccentricity']\n",
        "# Build chart\n",
        "axes[1, 2].bar(X_Axis, Y_Axis)\n",
        "axes[1, 2].set_title('Eccentricity', fontsize=title)\n",
        "\n",
        "## PLOT 7 - CONVEX AREA\n",
        "# Group by 'Class'\n",
        "X_Axis = beanDF.groupby('Class').aggregate({'ConvexArea':'mean'}).reset_index('Class')['Class']\n",
        "Y_Axis = beanDF.groupby('Class').aggregate({'ConvexArea':'mean'}).reset_index('Class')['ConvexArea']\n",
        "# Build chart\n",
        "axes[2, 0].bar(X_Axis, Y_Axis)\n",
        "axes[2, 0].set_title('Convex Area', fontsize=title)\n",
        "\n",
        "## PLOT 8 - EQUIV DIAMETER\n",
        "# Group by 'Class'\n",
        "X_Axis = beanDF.groupby('Class').aggregate({'EquivDiameter':'mean'}).reset_index('Class')['Class']\n",
        "Y_Axis = beanDF.groupby('Class').aggregate({'EquivDiameter':'mean'}).reset_index('Class')['EquivDiameter']\n",
        "# Build chart\n",
        "axes[2, 1].bar(X_Axis, Y_Axis)\n",
        "axes[2, 1].set_title('Equiv Diameter', fontsize=title)\n",
        "\n",
        "## PLOT 9 - EXTENT\n",
        "# Group by 'Class'\n",
        "X_Axis = beanDF.groupby('Class').aggregate({'Extent':'mean'}).reset_index('Class')['Class']\n",
        "Y_Axis = beanDF.groupby('Class').aggregate({'Extent':'mean'}).reset_index('Class')['Extent']\n",
        "# Build chart\n",
        "axes[2, 2].bar(X_Axis, Y_Axis)\n",
        "axes[2, 2].set_title('Extent', fontsize=title)\n",
        "\n",
        "## PLOT 10 - SOLIDITY\n",
        "# Group by 'Class'\n",
        "X_Axis = beanDF.groupby('Class').aggregate({'Solidity':'mean'}).reset_index('Class')['Class']\n",
        "Y_Axis = beanDF.groupby('Class').aggregate({'Solidity':'mean'}).reset_index('Class')['Solidity']\n",
        "# Build chart\n",
        "axes[3, 0].bar(X_Axis, Y_Axis)\n",
        "axes[3, 0].set_title('Solidity', fontsize=title)\n",
        "\n",
        "## PLOT 11 - ROUNDNESS\n",
        "# Group by 'Class'\n",
        "X_Axis = beanDF.groupby('Class').aggregate({'roundness':'mean'}).reset_index('Class')['Class']\n",
        "Y_Axis = beanDF.groupby('Class').aggregate({'roundness':'mean'}).reset_index('Class')['roundness']\n",
        "# Build chart\n",
        "axes[3, 1].bar(X_Axis, Y_Axis)\n",
        "axes[3, 1].set_title('Roundness', fontsize=title)\n",
        "\n",
        "## PLOT 12 - COMPACTNESS\n",
        "# Group by 'Class'\n",
        "X_Axis = beanDF.groupby('Class').aggregate({'Compactness':'mean'}).reset_index('Class')['Class']\n",
        "Y_Axis = beanDF.groupby('Class').aggregate({'Compactness':'mean'}).reset_index('Class')['Compactness']\n",
        "# Build chart\n",
        "axes[3, 2].bar(X_Axis, Y_Axis)\n",
        "axes[3, 2].set_title('Compactness', fontsize=title)\n",
        "\n",
        "plt.show()"
      ]
    },
    {
      "cell_type": "markdown",
      "id": "32dbe00b-0309-4117-a532-2278d94da6f6",
      "metadata": {
        "id": "32dbe00b-0309-4117-a532-2278d94da6f6"
      },
      "source": [
        "### Visualize Average Values for Standardized Shape Factors by Bean Type"
      ]
    },
    {
      "cell_type": "code",
      "execution_count": 15,
      "id": "969f599d-8ac3-484c-a41c-4df43d7494f9",
      "metadata": {
        "colab": {
          "base_uri": "https://localhost:8080/",
          "height": 0
        },
        "id": "969f599d-8ac3-484c-a41c-4df43d7494f9",
        "outputId": "2e49e476-692f-4ce5-c884-44aea06e0c2c"
      },
      "outputs": [
        {
          "output_type": "display_data",
          "data": {
            "text/plain": [
              "<Figure size 1080x720 with 4 Axes>"
            ],
            "image/png": "[encoded data removed]"
          },
          "metadata": {
            "needs_background": "light"
          }
        }
      ],
      "source": [
        "# Set up figure size\n",
        "plt.rcParams['figure.figsize'] = (15, 10)\n",
        "\n",
        "# Make subplots\n",
        "fig, axes = plt.subplots(nrows=2, ncols=2, sharex='col')\n",
        "\n",
        "# Set font sizes\n",
        "title  = 15\n",
        "yLabel = 12\n",
        "ticks  = 8\n",
        "# Set up axes / ticks\n",
        "for ax in fig.axes:\n",
        "    plt.sca(ax)\n",
        "    plt.xticks(rotation=45)\n",
        "    plt.ylabel('Mean', fontsize=yLabel)\n",
        "\n",
        "## PLOT 1 - SHAPE FACTOR 1\n",
        "# Group by 'Class'\n",
        "X_Axis = beanDF.groupby('Class').aggregate({'ShapeFactor1':'mean'}).reset_index('Class')['Class']\n",
        "Y_Axis = beanDF.groupby('Class').aggregate({'ShapeFactor1':'mean'}).reset_index('Class')['ShapeFactor1']\n",
        "# Build chart\n",
        "axes[0, 0].bar(X_Axis, Y_Axis)\n",
        "axes[0, 0].set_title('Shape Factor 1', fontsize=title)\n",
        "\n",
        "## PLOT 2 - SHAPE FACTOR 2\n",
        "# Group by 'Class'\n",
        "X_Axis = beanDF.groupby('Class').aggregate({'ShapeFactor2':'mean'}).reset_index('Class')['Class']\n",
        "Y_Axis = beanDF.groupby('Class').aggregate({'ShapeFactor2':'mean'}).reset_index('Class')['ShapeFactor2']\n",
        "# Build chart\n",
        "axes[0, 1].bar(X_Axis, Y_Axis)\n",
        "axes[0, 1].set_title('Shape Factor 2', fontsize=title)\n",
        "\n",
        "## PLOT 4 - SHAPE FACTOR 3\n",
        "# Group by 'Class'\n",
        "X_Axis = beanDF.groupby('Class').aggregate({'ShapeFactor3':'mean'}).reset_index('Class')['Class']\n",
        "Y_Axis = beanDF.groupby('Class').aggregate({'ShapeFactor3':'mean'}).reset_index('Class')['ShapeFactor3']\n",
        "# Build chart\n",
        "axes[1, 0].bar(X_Axis, Y_Axis)\n",
        "axes[1, 0].set_title('Shape Factor 3', fontsize=title)\n",
        "\n",
        "## PLOT 5 - SHAPE FACTOR 4\n",
        "# Group by 'Class'\n",
        "X_Axis = beanDF.groupby('Class').aggregate({'ShapeFactor4':'mean'}).reset_index('Class')['Class']\n",
        "Y_Axis = beanDF.groupby('Class').aggregate({'ShapeFactor4':'mean'}).reset_index('Class')['ShapeFactor4']\n",
        "# Build chart\n",
        "axes[1, 1].bar(X_Axis, Y_Axis)\n",
        "axes[1, 1].set_title('Shape Factor 4', fontsize=title)\n",
        "\n",
        "plt.show()"
      ]
    },
    {
      "cell_type": "code",
      "execution_count": 16,
      "id": "49c6c391-df9d-405c-bb43-714bb235a8e1",
      "metadata": {
        "id": "49c6c391-df9d-405c-bb43-714bb235a8e1"
      },
      "outputs": [],
      "source": [
        "# Restore original bean DataFrame\n",
        "beanDF = copyDF.copy()"
      ]
    },
    {
      "cell_type": "markdown",
      "id": "03fe705c-ce80-4bb0-ae8b-dbfcbdc90a20",
      "metadata": {
        "id": "03fe705c-ce80-4bb0-ae8b-dbfcbdc90a20"
      },
      "source": [
        "## Dimensionality & Feature Reduction / Engineering"
      ]
    },
    {
      "cell_type": "markdown",
      "id": "4d4a0033-11c1-4a78-9d13-bbc33473e47b",
      "metadata": {
        "id": "4d4a0033-11c1-4a78-9d13-bbc33473e47b"
      },
      "source": [
        "### Split Training and Testing Data"
      ]
    },
    {
      "cell_type": "code",
      "execution_count": 17,
      "id": "26f3ae41-2273-4c4c-a1f4-1beed3e76e8b",
      "metadata": {
        "id": "26f3ae41-2273-4c4c-a1f4-1beed3e76e8b"
      },
      "outputs": [],
      "source": [
        "# Set up features target sets\n",
        "X = beanDF[beanDF.columns[:-1]]\n",
        "y = beanDF.Class\n",
        "\n",
        "# Encode the target variables\n",
        "le = LabelEncoder()\n",
        "y = le.fit_transform(y)\n",
        "\n",
        "# Split the data\n",
        "X_train, X_test, y_train, y_test = train_test_split(X, y, test_size =0.3, \n",
        "                                                    random_state=42)\n",
        "\n",
        "# Standardize the features\n",
        "scaler = StandardScaler()\n",
        "X_train = scaler.fit_transform(X_train) \n",
        "X_test  = scaler.transform(X_test)"
      ]
    },
    {
      "cell_type": "markdown",
      "id": "0110099e-6e93-45b9-8872-cd6a8fd6904c",
      "metadata": {
        "id": "0110099e-6e93-45b9-8872-cd6a8fd6904c"
      },
      "source": [
        "### Feature Selection\n",
        "We'll try out 5 methods for selecting the best features and compare the results of each."
      ]
    },
    {
      "cell_type": "markdown",
      "id": "0871cd15-7564-4fa2-88a0-ea72dbf59957",
      "metadata": {
        "id": "0871cd15-7564-4fa2-88a0-ea72dbf59957"
      },
      "source": [
        "#### 1. F-Statistic\n",
        "The result of the ANOVA F-test, comparing variability between- and within-groups."
      ]
    },
    {
      "cell_type": "code",
      "execution_count": 18,
      "id": "650d6d24-4f6a-48e9-aee5-bd97316b0da3",
      "metadata": {
        "id": "650d6d24-4f6a-48e9-aee5-bd97316b0da3"
      },
      "outputs": [],
      "source": [
        "# Feature selection using F-statistic\n",
        "f = f_classif(X_train, y_train)[0]"
      ]
    },
    {
      "cell_type": "markdown",
      "id": "16db6bc5-73d4-4905-9b6f-b74134d0bf7f",
      "metadata": {
        "id": "16db6bc5-73d4-4905-9b6f-b74134d0bf7f"
      },
      "source": [
        "#### 2. Mutual Information\n",
        "A mesure of mutual dependence between two variables."
      ]
    },
    {
      "cell_type": "code",
      "execution_count": 19,
      "id": "5c56c4c3-9fc2-4b23-8a21-1ad7987c5257",
      "metadata": {
        "id": "5c56c4c3-9fc2-4b23-8a21-1ad7987c5257"
      },
      "outputs": [],
      "source": [
        "# Feature selection using mutual information\n",
        "mi = mutual_info_classif(X_train, y_train)"
      ]
    },
    {
      "cell_type": "markdown",
      "id": "ea6d5acf-c96c-4d90-96ca-997fabc9401b",
      "metadata": {
        "id": "ea6d5acf-c96c-4d90-96ca-997fabc9401b"
      },
      "source": [
        "#### 3. Logistic Regression\n",
        "Relative importance of features based on fitting a logistic regression to the data."
      ]
    },
    {
      "cell_type": "code",
      "execution_count": 20,
      "id": "62d0b031-fea8-4df6-9180-4de9eed777d7",
      "metadata": {
        "id": "62d0b031-fea8-4df6-9180-4de9eed777d7"
      },
      "outputs": [],
      "source": [
        "# Feature selection using logistic regression\n",
        "logreg = LogisticRegression(max_iter=500).fit(X_train, y_train)"
      ]
    },
    {
      "cell_type": "markdown",
      "id": "4926270d-a62a-4233-a380-5b102874c55b",
      "metadata": {
        "id": "4926270d-a62a-4233-a380-5b102874c55b"
      },
      "source": [
        "#### 4. LightGBM (Light Gradient Boosting Machine)\n",
        "Using another predictive model (this one based on decision tree) to fit data for estimating relative importance."
      ]
    },
    {
      "cell_type": "code",
      "execution_count": 21,
      "id": "a7d4a588-6824-448e-93dc-b22f5ea68fa3",
      "metadata": {
        "id": "a7d4a588-6824-448e-93dc-b22f5ea68fa3"
      },
      "outputs": [],
      "source": [
        "# Feature selection using light gbm\n",
        "lgbm = LGBMClassifier(\n",
        "    objective = 'multiclass',\n",
        "    metric = 'multi_logloss',\n",
        "    importance_type = 'gain'\n",
        ").fit(X_train, y_train)"
      ]
    },
    {
      "cell_type": "markdown",
      "id": "2fbcb7c8-e026-4c3a-aa36-3f12d82b33ca",
      "metadata": {
        "id": "2fbcb7c8-e026-4c3a-aa36-3f12d82b33ca"
      },
      "source": [
        "#### 5. MRMR (Maximum Relevance Minimum Redundancy)\n",
        "Identify features with high relevance to the target variable, but small redundancy with each other."
      ]
    },
    {
      "cell_type": "code",
      "execution_count": 22,
      "id": "885965c1-f501-48e0-a351-b6f746c9c828",
      "metadata": {
        "colab": {
          "base_uri": "https://localhost:8080/"
        },
        "id": "885965c1-f501-48e0-a351-b6f746c9c828",
        "outputId": "a2d3dfe5-68b2-4179-d77d-5830ef8e8b2e"
      },
      "outputs": [
        {
          "output_type": "stream",
          "name": "stderr",
          "text": [
            "100%|██████████| 16/16 [00:00<00:00, 36.32it/s]\n"
          ]
        }
      ],
      "source": [
        "# Feature selection using\n",
        "mrmr = mrmr_classif(pd.DataFrame(X_train), pd.Series(y_train), K = 784)"
      ]
    },
    {
      "cell_type": "markdown",
      "id": "f926dca0-d3d6-4b94-aeb2-e6508be7a775",
      "metadata": {
        "id": "f926dca0-d3d6-4b94-aeb2-e6508be7a775"
      },
      "source": [
        "#### Store Results"
      ]
    },
    {
      "cell_type": "code",
      "execution_count": 23,
      "id": "b26a8fd0-1d9a-4423-8fbe-1e0948258ab1",
      "metadata": {
        "id": "b26a8fd0-1d9a-4423-8fbe-1e0948258ab1"
      },
      "outputs": [],
      "source": [
        "# Create DF to store feature ranking info\n",
        "ranking = pd.DataFrame(index = range(X_train.shape[1]))\n",
        "\n",
        "# Store ranking info for each feature from each method\n",
        "ranking['feat'] = X.columns\n",
        "ranking['f'] = pd.Series(f, index = ranking.index).fillna(0).rank(ascending = False)\n",
        "ranking['mi'] = pd.Series(mi, index = ranking.index).fillna(0).rank(ascending = False)\n",
        "ranking['logreg'] = pd.Series(np.abs(logreg.coef_).mean(axis = 0), index = ranking.index).rank(ascending = False)\n",
        "ranking['lightgbm'] = pd.Series(lgbm.feature_importances_, index = ranking.index).rank(ascending = False)\n",
        "ranking['mrmr'] = pd.Series(list(range(1, len(mrmr) + 1)) + [X_train.shape[1]] * (X_train.shape[1] - len(mrmr)), index = mrmr + list(set(ranking.index) - set(mrmr))).sort_index()\n",
        "\n",
        "ranking = ranking.replace(to_replace = ranking.max(), value = X_train.shape[1])\n",
        "ranking.to_csv('ranking.csv', index = False)"
      ]
    },
    {
      "cell_type": "markdown",
      "id": "82f54c8e-4e41-4411-988c-2e11b1604e6e",
      "metadata": {
        "id": "82f54c8e-4e41-4411-988c-2e11b1604e6e"
      },
      "source": [
        "##### Compare results and sum across rows to rank overall best/worst features"
      ]
    },
    {
      "cell_type": "code",
      "execution_count": 24,
      "id": "b43a6f90-deb1-4014-8232-ea6ebc777265",
      "metadata": {
        "colab": {
          "base_uri": "https://localhost:8080/",
          "height": 0
        },
        "id": "b43a6f90-deb1-4014-8232-ea6ebc777265",
        "outputId": "64f83b2a-f185-438d-b3bd-f97d4d4ff96f"
      },
      "outputs": [
        {
          "output_type": "execute_result",
          "data": {
            "text/plain": [
              "               feat     f    mi  logreg  lightgbm  mrmr  total\n",
              "0              Area   1.0   3.0    10.0       2.0     1   17.0\n",
              "6        ConvexArea   2.0   4.0     8.0       3.0     4   21.0\n",
              "1         Perimeter   4.0   1.0     5.0       6.0     6   22.0\n",
              "3   MinorAxisLength   5.0   7.0     2.0       8.0     3   25.0\n",
              "7     EquivDiameter   3.0   2.0     6.0      14.0     5   30.0\n",
              "2   MajorAxisLength   6.0   5.0     7.0       5.0     8   31.0\n",
              "12     ShapeFactor1   8.0   8.0     1.0       4.0    10   31.0\n",
              "13     ShapeFactor2   7.0   6.0     3.0      10.0    12   38.0\n",
              "11      Compactness  10.0   9.0    14.0       1.0     7   41.0\n",
              "4      AspectRation   9.0  11.0    11.0      11.0     2   44.0\n",
              "10               16  13.0  13.0     9.0       7.0    13   55.0\n",
              "15     ShapeFactor4  14.0  14.0     4.0       9.0    14   55.0\n",
              "14     ShapeFactor3  11.0  10.0    13.0      15.0     9   58.0\n",
              "5      Eccentricity  12.0  12.0    12.0      16.0    11   63.0\n",
              "9          Solidity  15.0  15.0    15.0      12.0    16   73.0\n",
              "8            Extent  16.0  16.0    16.0      13.0    15   76.0"
            ],
            "text/html": [
              "\n",
              "  <div id=\"df-d6ac5928-42c1-40a8-8f66-e3e41b2cbe08\">\n",
              "    <div class=\"colab-df-container\">\n",
              "      <div>\n",
              "<style scoped>\n",
              "    .dataframe tbody tr th:only-of-type {\n",
              "        vertical-align: middle;\n",
              "    }\n",
              "\n",
              "    .dataframe tbody tr th {\n",
              "        vertical-align: top;\n",
              "    }\n",
              "\n",
              "    .dataframe thead th {\n",
              "        text-align: right;\n",
              "    }\n",
              "</style>\n",
              "<table border=\"1\" class=\"dataframe\">\n",
              "  <thead>\n",
              "    <tr style=\"text-align: right;\">\n",
              "      <th></th>\n",
              "      <th>feat</th>\n",
              "      <th>f</th>\n",
              "      <th>mi</th>\n",
              "      <th>logreg</th>\n",
              "      <th>lightgbm</th>\n",
              "      <th>mrmr</th>\n",
              "      <th>total</th>\n",
              "    </tr>\n",
              "  </thead>\n",
              "  <tbody>\n",
              "    <tr>\n",
              "      <th>0</th>\n",
              "      <td>Area</td>\n",
              "      <td>1.0</td>\n",
              "      <td>3.0</td>\n",
              "      <td>10.0</td>\n",
              "      <td>2.0</td>\n",
              "      <td>1</td>\n",
              "      <td>17.0</td>\n",
              "    </tr>\n",
              "    <tr>\n",
              "      <th>6</th>\n",
              "      <td>ConvexArea</td>\n",
              "      <td>2.0</td>\n",
              "      <td>4.0</td>\n",
              "      <td>8.0</td>\n",
              "      <td>3.0</td>\n",
              "      <td>4</td>\n",
              "      <td>21.0</td>\n",
              "    </tr>\n",
              "    <tr>\n",
              "      <th>1</th>\n",
              "      <td>Perimeter</td>\n",
              "      <td>4.0</td>\n",
              "      <td>1.0</td>\n",
              "      <td>5.0</td>\n",
              "      <td>6.0</td>\n",
              "      <td>6</td>\n",
              "      <td>22.0</td>\n",
              "    </tr>\n",
              "    <tr>\n",
              "      <th>3</th>\n",
              "      <td>MinorAxisLength</td>\n",
              "      <td>5.0</td>\n",
              "      <td>7.0</td>\n",
              "      <td>2.0</td>\n",
              "      <td>8.0</td>\n",
              "      <td>3</td>\n",
              "      <td>25.0</td>\n",
              "    </tr>\n",
              "    <tr>\n",
              "      <th>7</th>\n",
              "      <td>EquivDiameter</td>\n",
              "      <td>3.0</td>\n",
              "      <td>2.0</td>\n",
              "      <td>6.0</td>\n",
              "      <td>14.0</td>\n",
              "      <td>5</td>\n",
              "      <td>30.0</td>\n",
              "    </tr>\n",
              "    <tr>\n",
              "      <th>2</th>\n",
              "      <td>MajorAxisLength</td>\n",
              "      <td>6.0</td>\n",
              "      <td>5.0</td>\n",
              "      <td>7.0</td>\n",
              "      <td>5.0</td>\n",
              "      <td>8</td>\n",
              "      <td>31.0</td>\n",
              "    </tr>\n",
              "    <tr>\n",
              "      <th>12</th>\n",
              "      <td>ShapeFactor1</td>\n",
              "      <td>8.0</td>\n",
              "      <td>8.0</td>\n",
              "      <td>1.0</td>\n",
              "      <td>4.0</td>\n",
              "      <td>10</td>\n",
              "      <td>31.0</td>\n",
              "    </tr>\n",
              "    <tr>\n",
              "      <th>13</th>\n",
              "      <td>ShapeFactor2</td>\n",
              "      <td>7.0</td>\n",
              "      <td>6.0</td>\n",
              "      <td>3.0</td>\n",
              "      <td>10.0</td>\n",
              "      <td>12</td>\n",
              "      <td>38.0</td>\n",
              "    </tr>\n",
              "    <tr>\n",
              "      <th>11</th>\n",
              "      <td>Compactness</td>\n",
              "      <td>10.0</td>\n",
              "      <td>9.0</td>\n",
              "      <td>14.0</td>\n",
              "      <td>1.0</td>\n",
              "      <td>7</td>\n",
              "      <td>41.0</td>\n",
              "    </tr>\n",
              "    <tr>\n",
              "      <th>4</th>\n",
              "      <td>AspectRation</td>\n",
              "      <td>9.0</td>\n",
              "      <td>11.0</td>\n",
              "      <td>11.0</td>\n",
              "      <td>11.0</td>\n",
              "      <td>2</td>\n",
              "      <td>44.0</td>\n",
              "    </tr>\n",
              "    <tr>\n",
              "      <th>10</th>\n",
              "      <td>16</td>\n",
              "      <td>13.0</td>\n",
              "      <td>13.0</td>\n",
              "      <td>9.0</td>\n",
              "      <td>7.0</td>\n",
              "      <td>13</td>\n",
              "      <td>55.0</td>\n",
              "    </tr>\n",
              "    <tr>\n",
              "      <th>15</th>\n",
              "      <td>ShapeFactor4</td>\n",
              "      <td>14.0</td>\n",
              "      <td>14.0</td>\n",
              "      <td>4.0</td>\n",
              "      <td>9.0</td>\n",
              "      <td>14</td>\n",
              "      <td>55.0</td>\n",
              "    </tr>\n",
              "    <tr>\n",
              "      <th>14</th>\n",
              "      <td>ShapeFactor3</td>\n",
              "      <td>11.0</td>\n",
              "      <td>10.0</td>\n",
              "      <td>13.0</td>\n",
              "      <td>15.0</td>\n",
              "      <td>9</td>\n",
              "      <td>58.0</td>\n",
              "    </tr>\n",
              "    <tr>\n",
              "      <th>5</th>\n",
              "      <td>Eccentricity</td>\n",
              "      <td>12.0</td>\n",
              "      <td>12.0</td>\n",
              "      <td>12.0</td>\n",
              "      <td>16.0</td>\n",
              "      <td>11</td>\n",
              "      <td>63.0</td>\n",
              "    </tr>\n",
              "    <tr>\n",
              "      <th>9</th>\n",
              "      <td>Solidity</td>\n",
              "      <td>15.0</td>\n",
              "      <td>15.0</td>\n",
              "      <td>15.0</td>\n",
              "      <td>12.0</td>\n",
              "      <td>16</td>\n",
              "      <td>73.0</td>\n",
              "    </tr>\n",
              "    <tr>\n",
              "      <th>8</th>\n",
              "      <td>Extent</td>\n",
              "      <td>16.0</td>\n",
              "      <td>16.0</td>\n",
              "      <td>16.0</td>\n",
              "      <td>13.0</td>\n",
              "      <td>15</td>\n",
              "      <td>76.0</td>\n",
              "    </tr>\n",
              "  </tbody>\n",
              "</table>\n",
              "</div>\n",
              "      <button class=\"colab-df-convert\" onclick=\"convertToInteractive('df-d6ac5928-42c1-40a8-8f66-e3e41b2cbe08')\"\n",
              "              title=\"Convert this dataframe to an interactive table.\"\n",
              "              style=\"display:none;\">\n",
              "        \n",
              "  <svg xmlns=\"http://www.w3.org/2000/svg\" height=\"24px\"viewBox=\"0 0 24 24\"\n",
              "       width=\"24px\">\n",
              "    <path d=\"M0 0h24v24H0V0z\" fill=\"none\"/>\n",
              "    <path d=\"M18.56 5.44l.94 2.06.94-2.06 2.06-.94-2.06-.94-.94-2.06-.94 2.06-2.06.94zm-11 1L8.5 8.5l.94-2.06 2.06-.94-2.06-.94L8.5 2.5l-.94 2.06-2.06.94zm10 10l.94 2.06.94-2.06 2.06-.94-2.06-.94-.94-2.06-.94 2.06-2.06.94z\"/><path d=\"M17.41 7.96l-1.37-1.37c-.4-.4-.92-.59-1.43-.59-.52 0-1.04.2-1.43.59L10.3 9.45l-7.72 7.72c-.78.78-.78 2.05 0 2.83L4 21.41c.39.39.9.59 1.41.59.51 0 1.02-.2 1.41-.59l7.78-7.78 2.81-2.81c.8-.78.8-2.07 0-2.86zM5.41 20L4 18.59l7.72-7.72 1.47 1.35L5.41 20z\"/>\n",
              "  </svg>\n",
              "      </button>\n",
              "      \n",
              "  <style>\n",
              "    .colab-df-container {\n",
              "      display:flex;\n",
              "      flex-wrap:wrap;\n",
              "      gap: 12px;\n",
              "    }\n",
              "\n",
              "    .colab-df-convert {\n",
              "      background-color: #E8F0FE;\n",
              "      border: none;\n",
              "      border-radius: 50%;\n",
              "      cursor: pointer;\n",
              "      display: none;\n",
              "      fill: #1967D2;\n",
              "      height: 32px;\n",
              "      padding: 0 0 0 0;\n",
              "      width: 32px;\n",
              "    }\n",
              "\n",
              "    .colab-df-convert:hover {\n",
              "      background-color: #E2EBFA;\n",
              "      box-shadow: 0px 1px 2px rgba(60, 64, 67, 0.3), 0px 1px 3px 1px rgba(60, 64, 67, 0.15);\n",
              "      fill: #174EA6;\n",
              "    }\n",
              "\n",
              "    [theme=dark] .colab-df-convert {\n",
              "      background-color: #3B4455;\n",
              "      fill: #D2E3FC;\n",
              "    }\n",
              "\n",
              "    [theme=dark] .colab-df-convert:hover {\n",
              "      background-color: #434B5C;\n",
              "      box-shadow: 0px 1px 3px 1px rgba(0, 0, 0, 0.15);\n",
              "      filter: drop-shadow(0px 1px 2px rgba(0, 0, 0, 0.3));\n",
              "      fill: #FFFFFF;\n",
              "    }\n",
              "  </style>\n",
              "\n",
              "      <script>\n",
              "        const buttonEl =\n",
              "          document.querySelector('#df-d6ac5928-42c1-40a8-8f66-e3e41b2cbe08 button.colab-df-convert');\n",
              "        buttonEl.style.display =\n",
              "          google.colab.kernel.accessAllowed ? 'block' : 'none';\n",
              "\n",
              "        async function convertToInteractive(key) {\n",
              "          const element = document.querySelector('#df-d6ac5928-42c1-40a8-8f66-e3e41b2cbe08');\n",
              "          const dataTable =\n",
              "            await google.colab.kernel.invokeFunction('convertToInteractive',\n",
              "                                                     [key], {});\n",
              "          if (!dataTable) return;\n",
              "\n",
              "          const docLinkHtml = 'Like what you see? Visit the ' +\n",
              "            '<a target=\"_blank\" href=https://colab.research.google.com/notebooks/data_table.ipynb>data table notebook</a>'\n",
              "            + ' to learn more about interactive tables.';\n",
              "          element.innerHTML = '';\n",
              "          dataTable['output_type'] = 'display_data';\n",
              "          await google.colab.output.renderOutput(dataTable, element);\n",
              "          const docLink = document.createElement('div');\n",
              "          docLink.innerHTML = docLinkHtml;\n",
              "          element.appendChild(docLink);\n",
              "        }\n",
              "      </script>\n",
              "    </div>\n",
              "  </div>\n",
              "  "
            ]
          },
          "metadata": {},
          "execution_count": 24
        }
      ],
      "source": [
        "# Sum the rankings across methods\n",
        "ranking['total'] = ranking.sum(axis=1)\n",
        "# Sort by sum to get an overall idea of the most/least useful features\n",
        "ranking.sort_values('total')"
      ]
    },
    {
      "cell_type": "markdown",
      "id": "7eaf424b-13d8-470a-84cb-ac7a2cfc7981",
      "metadata": {
        "id": "7eaf424b-13d8-470a-84cb-ac7a2cfc7981"
      },
      "source": [
        "Solidity and Extent were considered the least useful in 4 of the 5 methods. They may be prime candidates for removal."
      ]
    },
    {
      "cell_type": "markdown",
      "id": "e89c0c55-1e72-4f86-8934-d3fc379aaca3",
      "metadata": {
        "id": "e89c0c55-1e72-4f86-8934-d3fc379aaca3"
      },
      "source": [
        "### Predictive Performance on Top Features\n",
        "Visualize which methods works best for feature selection"
      ]
    },
    {
      "cell_type": "code",
      "execution_count": 25,
      "id": "5b672616-2b6c-482f-8a30-210d71c7f539",
      "metadata": {
        "colab": {
          "base_uri": "https://localhost:8080/"
        },
        "id": "5b672616-2b6c-482f-8a30-210d71c7f539",
        "outputId": "38f9560a-c288-4e54-fe98-0a54170ebb6c"
      },
      "outputs": [
        {
          "output_type": "stream",
          "name": "stdout",
          "text": [
            "CPU times: user 9min 18s, sys: 15.3 s, total: 9min 33s\n",
            "Wall time: 5min 25s\n"
          ]
        }
      ],
      "source": [
        "%%time\n",
        "# Evaluate accuracy vs features using each feaure selection technique\n",
        "algos = ['f', 'mi', 'logreg', 'lightgbm', 'mrmr']\n",
        "ks = [1, 2, 3, 4, 5, 7, 9, 11, 13, 16]\n",
        "\n",
        "accuracy = pd.DataFrame(index = ks, columns = algos)\n",
        "roc = pd.DataFrame(index = ks, columns = algos)\n",
        "\n",
        "for algo in algos:\n",
        "    \n",
        "    for k in ks:\n",
        "    \n",
        "        cols = ranking[algo].sort_values().head(k).index.to_list()\n",
        "                \n",
        "        clf = CatBoostClassifier().fit(\n",
        "            X_train[:, cols], y_train,\n",
        "            eval_set = (X_test[:, cols], y_test),\n",
        "            early_stopping_rounds = 20,\n",
        "            verbose = False\n",
        "        )\n",
        "                \n",
        "        accuracy.loc[k, algo] = accuracy_score(\n",
        "            y_true = y_test, y_pred = clf.predict(X_test[:, cols]))\n",
        "        roc.loc[k, algo] = roc_auc_score(\n",
        "            y_true = y_test, y_score = clf.predict_proba(X_test[:, cols]), multi_class = 'ovr', average = 'macro')\n",
        "        \n",
        "accuracy.to_csv('accuracy.csv', index = True)\n",
        "roc.to_csv('roc.csv', index = True)"
      ]
    },
    {
      "cell_type": "code",
      "execution_count": 26,
      "id": "cb9ea96b-e869-4c8c-a0e0-06e06b00438d",
      "metadata": {
        "colab": {
          "base_uri": "https://localhost:8080/",
          "height": 543
        },
        "id": "cb9ea96b-e869-4c8c-a0e0-06e06b00438d",
        "outputId": "55530da2-b3c9-40d3-e71d-755a64297a1e"
      },
      "outputs": [
        {
          "output_type": "stream",
          "name": "stdout",
          "text": [
            "CPU times: user 3 µs, sys: 0 ns, total: 3 µs\n",
            "Wall time: 5.72 µs\n"
          ]
        },
        {
          "output_type": "display_data",
          "data": {
            "text/plain": [
              "<Figure size 864x576 with 1 Axes>"
            ],
            "image/png": "[encoded data removed]"
          },
          "metadata": {
            "needs_background": "light"
          }
        }
      ],
      "source": [
        "%time\n",
        "# Set up the figure size\n",
        "%matplotlib inline\n",
        "plt.rcParams['figure.figsize'] = (12, 8)\n",
        "\n",
        "# Plot accuracy vs features for each feature selection technique\n",
        "for algo, label, color in zip(\n",
        "    ['mrmr', 'f', 'mi', 'lightgbm', 'logreg'],\n",
        "    ['MRMR', 'F-statistic', 'Mutual Info', 'LightGBM', 'Log Reg'],\n",
        "    ['orangered', 'blue', 'yellow', 'lime', 'black']):\n",
        "        plt.plot(accuracy.index, accuracy[algo], label = label, color = color, lw = 3)\n",
        "\n",
        "plt.plot(\n",
        "    [1, 20], [pd.Series(y_test).value_counts(normalize = True).iloc[0]] * 2, \n",
        "    label = '[Random]', color = 'grey', ls = '--', lw = 3\n",
        ")\n",
        "\n",
        "plt.legend(fontsize = 13, loc = 'center left', bbox_to_anchor = (1, 0.5))\n",
        "plt.grid()\n",
        "plt.yticks(np.linspace(0, 1, 11), ['{:.0%}'.format(i) for i in np.linspace(0, 1, 11)], fontsize = 13)\n",
        "plt.xticks([1] + list(range(5, 21, 5)), fontsize = 13)\n",
        "plt.xlim(-1, 18)\n",
        "plt.ylim(0.20, 1.00)\n",
        "plt.xlabel('Number of features', fontsize = 13)\n",
        "plt.ylabel('Accuracy', fontsize = 13)\n",
        "plt.savefig('accuracy.png', dpi = 300, bbox_inches = 'tight')"
      ]
    },
    {
      "cell_type": "markdown",
      "id": "8bf1adee-edcb-4755-8261-0cb2bb0b7c45",
      "metadata": {
        "id": "8bf1adee-edcb-4755-8261-0cb2bb0b7c45"
      },
      "source": [
        "It looks like MRMR and LightGBM both do a decent job with as few as 2 features, while F-statistic doesn't really even start improving until we get to 4 features. By the time we get to 7 features, all methods are 90% and while Log Reg and LightGBM appear to peak by 11 features, all methods converge at the full 16 features.  \n",
        "Overall, there doesn't appear to be a clear winner or loser, but it does look like we should be able to get decent accuracy across the board with as few as 7 features. Since all of the methods increase only incrementally after 7 features, I may consider removing the bottom 4 features from the previous table ('Extent', 'Solidity', 'Eccentricity', and 'ShapeFactor3') since none of them are in the top 7 for any of the methods. That would still leave me with 12 features, which appears to be more than sufficient for a decent model, but will help to reduce CPU time and potentially overfitting."
      ]
    },
    {
      "cell_type": "code",
      "execution_count": 27,
      "id": "7e650d47-97a1-401d-87f8-fec2cabea38a",
      "metadata": {
        "id": "7e650d47-97a1-401d-87f8-fec2cabea38a"
      },
      "outputs": [],
      "source": [
        "# Drop least useful features\n",
        "beanDF.drop(columns=['Extent', 'Solidity', 'Eccentricity', 'ShapeFactor3'], inplace=True)"
      ]
    },
    {
      "cell_type": "markdown",
      "id": "1cf97d5e-6d6f-4af2-9750-d8b353c26564",
      "metadata": {
        "id": "1cf97d5e-6d6f-4af2-9750-d8b353c26564"
      },
      "source": [
        "## Model Selection & Evaluation\n",
        "Used GridSearchCV or RandomizedSearchCV to find the best hyperparameters for each modeling type"
      ]
    },
    {
      "cell_type": "markdown",
      "id": "b2dc3052-accd-4d31-a458-a2a7a4f2ed93",
      "metadata": {
        "id": "b2dc3052-accd-4d31-a458-a2a7a4f2ed93"
      },
      "source": [
        "### Split Training and Testing Data"
      ]
    },
    {
      "cell_type": "code",
      "execution_count": 28,
      "id": "735613be-32eb-4f8a-a690-e1fda6f1843c",
      "metadata": {
        "id": "735613be-32eb-4f8a-a690-e1fda6f1843c"
      },
      "outputs": [],
      "source": [
        "# Set up features target sets\n",
        "X = beanDF[beanDF.columns[:-1]]\n",
        "y = beanDF.Class\n",
        "\n",
        "# Split the data\n",
        "X_train, X_test, y_train, y_test = train_test_split(X, y, test_size =0.3, \n",
        "                                                    random_state=42)\n",
        "\n",
        "# Standardize Features\n",
        "scaler = StandardScaler()\n",
        "X_train = scaler.fit_transform(X_train) \n",
        "X_test  = scaler.transform(X_test)"
      ]
    },
    {
      "cell_type": "code",
      "execution_count": 29,
      "id": "8e4ec10d-d494-4895-bc6c-a5ccfa34f139",
      "metadata": {
        "id": "8e4ec10d-d494-4895-bc6c-a5ccfa34f139"
      },
      "outputs": [],
      "source": [
        "# Set up dictionary for model results\n",
        "models_dict = {}"
      ]
    },
    {
      "cell_type": "markdown",
      "id": "bda6c26d-3e10-4790-b7a7-06b81b9bc9d2",
      "metadata": {
        "id": "bda6c26d-3e10-4790-b7a7-06b81b9bc9d2"
      },
      "source": [
        "### Logistic Regression"
      ]
    },
    {
      "cell_type": "code",
      "execution_count": 30,
      "id": "d651123a-e2d6-4b12-a217-8e062402eff2",
      "metadata": {
        "id": "d651123a-e2d6-4b12-a217-8e062402eff2"
      },
      "outputs": [],
      "source": [
        "# Create classification model\n",
        "logistic = LogisticRegression(C=1000, \n",
        "                              multi_class='auto', \n",
        "                              penalty='l1', \n",
        "                              solver='liblinear', \n",
        "                              tol=0.0001,\n",
        "                              class_weight='balanced', \n",
        "                              max_iter=300,\n",
        "                              random_state=42, \n",
        "                              n_jobs=-1)"
      ]
    },
    {
      "cell_type": "code",
      "execution_count": 31,
      "id": "680dd959-e0ae-4b7c-9168-ba1bf2735fed",
      "metadata": {
        "id": "680dd959-e0ae-4b7c-9168-ba1bf2735fed"
      },
      "outputs": [],
      "source": [
        "# Fit model\n",
        "models_dict['Logistic'] = logistic.fit(X_train, y_train)"
      ]
    },
    {
      "cell_type": "markdown",
      "id": "a031c72e-0d0b-4321-8e30-77e169c19cb7",
      "metadata": {
        "id": "a031c72e-0d0b-4321-8e30-77e169c19cb7"
      },
      "source": [
        "### Random Forest"
      ]
    },
    {
      "cell_type": "code",
      "execution_count": 32,
      "id": "a916dcff-9fa8-4e41-8169-127f6f78c7a8",
      "metadata": {
        "id": "a916dcff-9fa8-4e41-8169-127f6f78c7a8"
      },
      "outputs": [],
      "source": [
        "# Create classification model\n",
        "rfclassifier = RandomForestClassifier(criterion='entropy', \n",
        "                                      max_features='sqrt', \n",
        "                                      n_estimators=300, \n",
        "                                      random_state=42,\n",
        "                                      class_weight='balanced', \n",
        "                                      n_jobs=-1)"
      ]
    },
    {
      "cell_type": "code",
      "execution_count": 33,
      "id": "fb624cde-5ced-4149-91e5-f5af789fcd6b",
      "metadata": {
        "id": "fb624cde-5ced-4149-91e5-f5af789fcd6b"
      },
      "outputs": [],
      "source": [
        "# Fit model\n",
        "models_dict['RandomForest'] = rfclassifier.fit(X_train, y_train)"
      ]
    },
    {
      "cell_type": "markdown",
      "id": "ff247699-a704-4d03-ba91-f0bbd4df1ca8",
      "metadata": {
        "id": "ff247699-a704-4d03-ba91-f0bbd4df1ca8"
      },
      "source": [
        "### Decision Tree"
      ]
    },
    {
      "cell_type": "code",
      "execution_count": 34,
      "id": "d7cf4a3b-6f7d-4cb4-bd0e-4ebe64e5e19c",
      "metadata": {
        "id": "d7cf4a3b-6f7d-4cb4-bd0e-4ebe64e5e19c"
      },
      "outputs": [],
      "source": [
        "# # Create classification model\n",
        "# decisiontree = DecisionTreeClassifier(criterion='entropy', \n",
        "#                                       max_features='sqrt', \n",
        "#                                       splitter='best', \n",
        "#                                       random_state=42, \n",
        "#                                       class_weight='balanced')"
      ]
    },
    {
      "cell_type": "code",
      "execution_count": 35,
      "id": "08718fba-f1b8-4d7a-96c2-0f2a7a1c5ed0",
      "metadata": {
        "id": "08718fba-f1b8-4d7a-96c2-0f2a7a1c5ed0"
      },
      "outputs": [],
      "source": [
        "# Create classification model\n",
        "decisiontree = DecisionTreeClassifier(random_state=42, \n",
        "                                      class_weight='balanced')"
      ]
    },
    {
      "cell_type": "code",
      "execution_count": 36,
      "id": "2acf00ba-734a-4846-8693-857a079bf712",
      "metadata": {
        "id": "2acf00ba-734a-4846-8693-857a079bf712"
      },
      "outputs": [],
      "source": [
        "# Fit model\n",
        "models_dict['DecisionTree'] = decisiontree.fit(X_train, y_train)"
      ]
    },
    {
      "cell_type": "markdown",
      "id": "9660b178-0e9e-4fa1-8bc2-79862ee5a422",
      "metadata": {
        "id": "9660b178-0e9e-4fa1-8bc2-79862ee5a422"
      },
      "source": [
        "### AdaBoost"
      ]
    },
    {
      "cell_type": "code",
      "execution_count": 37,
      "id": "2fa98c1e-f081-4305-8a80-9fafca86803a",
      "metadata": {
        "id": "2fa98c1e-f081-4305-8a80-9fafca86803a"
      },
      "outputs": [],
      "source": [
        "# Create classification model\n",
        "adaboost = AdaBoostClassifier(algorithm='SAMME', \n",
        "                              learning_rate=1, \n",
        "                              n_estimators=100, \n",
        "                              random_state=42)"
      ]
    },
    {
      "cell_type": "code",
      "execution_count": 38,
      "id": "959e5d56-4a58-49c5-915f-a4c778d578a2",
      "metadata": {
        "id": "959e5d56-4a58-49c5-915f-a4c778d578a2"
      },
      "outputs": [],
      "source": [
        "# Fit model\n",
        "models_dict['AdaBoost'] = adaboost.fit(X_train, y_train)"
      ]
    },
    {
      "cell_type": "markdown",
      "id": "be49720b-09f6-4cd7-bd72-a311f06170fd",
      "metadata": {
        "id": "be49720b-09f6-4cd7-bd72-a311f06170fd"
      },
      "source": [
        "### Support Vector Classifier (Linear)"
      ]
    },
    {
      "cell_type": "code",
      "execution_count": 39,
      "id": "8006adad-82d1-4f9a-b9de-f8506bf3ba78",
      "metadata": {
        "id": "8006adad-82d1-4f9a-b9de-f8506bf3ba78"
      },
      "outputs": [],
      "source": [
        "# Create classification model\n",
        "linSVC = LinearSVC(C=200, \n",
        "                   dual=True,\n",
        "                   loss='hinge', \n",
        "                   multi_class='crammer_singer', \n",
        "                   penalty='l1', \n",
        "                   tol=0.001,\n",
        "                   random_state=42, \n",
        "                   class_weight='balanced')"
      ]
    },
    {
      "cell_type": "code",
      "execution_count": 40,
      "id": "30815d8c-a7de-410b-be90-301d061efdd5",
      "metadata": {
        "id": "30815d8c-a7de-410b-be90-301d061efdd5"
      },
      "outputs": [],
      "source": [
        "# Fit model\n",
        "models_dict['LinearSVC'] = linSVC.fit(X_train, y_train)"
      ]
    },
    {
      "cell_type": "markdown",
      "id": "f989255e-8ed6-4990-82cd-c56ee23bec47",
      "metadata": {
        "id": "f989255e-8ed6-4990-82cd-c56ee23bec47"
      },
      "source": [
        "### Support Vector Classifier (SVC)"
      ]
    },
    {
      "cell_type": "code",
      "execution_count": 41,
      "id": "d65c40c2-7db3-482b-8336-1a50f1139faa",
      "metadata": {
        "id": "d65c40c2-7db3-482b-8336-1a50f1139faa"
      },
      "outputs": [],
      "source": [
        "# Create classification model\n",
        "svc = SVC(C=300, \n",
        "          decision_function_shape='ovo', \n",
        "          gamma='scale', \n",
        "          kernel='rbf', \n",
        "          shrinking=False, \n",
        "          random_state=42, \n",
        "          class_weight='balanced', \n",
        "          max_iter=10000)"
      ]
    },
    {
      "cell_type": "code",
      "execution_count": 42,
      "id": "256c6dac-852a-4e91-89a2-fb7dbf2cb3d3",
      "metadata": {
        "id": "256c6dac-852a-4e91-89a2-fb7dbf2cb3d3"
      },
      "outputs": [],
      "source": [
        "# Fit model\n",
        "models_dict['SVC'] = svc.fit(X_train, y_train)"
      ]
    },
    {
      "cell_type": "markdown",
      "id": "ff156378-de9c-425f-8ebd-3b2864934114",
      "metadata": {
        "id": "ff156378-de9c-425f-8ebd-3b2864934114"
      },
      "source": [
        "### Gaussian Naive Bayes Classifier"
      ]
    },
    {
      "cell_type": "code",
      "execution_count": 43,
      "id": "2f29450a-0ff5-4678-9da6-0c066a42b873",
      "metadata": {
        "id": "2f29450a-0ff5-4678-9da6-0c066a42b873"
      },
      "outputs": [],
      "source": [
        "# Create Gaussian naive Bayes object\n",
        "nBayes = GaussianNB(var_smoothing=0.01)"
      ]
    },
    {
      "cell_type": "code",
      "execution_count": 44,
      "id": "52ee4ff1-ecf7-4e7e-8965-298ae7fa4a20",
      "metadata": {
        "id": "52ee4ff1-ecf7-4e7e-8965-298ae7fa4a20"
      },
      "outputs": [],
      "source": [
        "# Fit model\n",
        "models_dict['GaussianNB'] = nBayes.fit(X_train, y_train)"
      ]
    },
    {
      "cell_type": "markdown",
      "id": "d42d954e-cc2e-4ef1-a1f5-dad2f8c0dd61",
      "metadata": {
        "id": "d42d954e-cc2e-4ef1-a1f5-dad2f8c0dd61"
      },
      "source": [
        "### MLP Classifier"
      ]
    },
    {
      "cell_type": "code",
      "execution_count": 45,
      "id": "7177f5a7-e0cb-418a-b1e3-3a5ad0a4671c",
      "metadata": {
        "id": "7177f5a7-e0cb-418a-b1e3-3a5ad0a4671c"
      },
      "outputs": [],
      "source": [
        "# Create classification model\n",
        "mlp = MLPClassifier(max_iter=5000, \n",
        "                    activation='relu', \n",
        "                    alpha=0.0001,\n",
        "                    hidden_layer_sizes=(77, 62, 33),\n",
        "                    early_stopping=True,\n",
        "                    learning_rate='invscaling', \n",
        "                    solver='adam')"
      ]
    },
    {
      "cell_type": "code",
      "execution_count": 46,
      "id": "ef1f4aca-d784-4ace-ac41-aa1579cbaa38",
      "metadata": {
        "id": "ef1f4aca-d784-4ace-ac41-aa1579cbaa38"
      },
      "outputs": [],
      "source": [
        "# Fit model\n",
        "models_dict['MLP'] = mlp.fit(X_train, y_train)"
      ]
    },
    {
      "cell_type": "markdown",
      "id": "5a467acb-510e-42b1-af7b-740241570e10",
      "metadata": {
        "id": "5a467acb-510e-42b1-af7b-740241570e10"
      },
      "source": [
        "### Keras Neural Network"
      ]
    },
    {
      "cell_type": "code",
      "execution_count": 47,
      "id": "03722d1a-eed7-47de-9bee-6d1d8f161dc7",
      "metadata": {
        "id": "03722d1a-eed7-47de-9bee-6d1d8f161dc7"
      },
      "outputs": [],
      "source": [
        "# Encode the target variables\n",
        "le = LabelEncoder()\n",
        "le.fit(y)\n",
        "\n",
        "le_y_train = le.transform(y_train)\n",
        "le_y_test  = le.transform(y_test)\n",
        "\n",
        "cat_y_train = to_categorical(le_y_train)\n",
        "cat_y_test  = to_categorical(le_y_test)"
      ]
    },
    {
      "cell_type": "markdown",
      "id": "74ad1524-aea5-4038-9f21-beb083d9623a",
      "metadata": {
        "id": "74ad1524-aea5-4038-9f21-beb083d9623a"
      },
      "source": [
        "#### Build the neural network"
      ]
    },
    {
      "cell_type": "code",
      "execution_count": 48,
      "id": "c3f7b952-54dd-4792-a9a8-5a5fe491d17b",
      "metadata": {
        "id": "c3f7b952-54dd-4792-a9a8-5a5fe491d17b"
      },
      "outputs": [],
      "source": [
        "# Number of features\n",
        "number_of_features = X.shape[1]\n",
        "\n",
        "# Create function returning a compiled network\n",
        "def create_network(optimizer='rmsprop', hiddenLayerOne=48, hiddenLayerTwo=24, \n",
        "                   learnRate=0.01):\n",
        "    \n",
        "    # Start neural network\n",
        "    network = Sequential()\n",
        "    \n",
        "    # Add fully connected layer w/a ReLU activation function\n",
        "    network.add(Dense(units=hiddenLayerOne, activation='relu', \n",
        "                input_shape=(number_of_features,)))\n",
        "\n",
        "    # Add fully connected layer w/a ReLU activation function\n",
        "    network.add(Dense(units=hiddenLayerTwo, activation='relu'))\n",
        "\n",
        "    # Add fully connected layer w/a softmax activation function\n",
        "    network.add(Dense(units=7, activation='softmax'))\n",
        "\n",
        "    # Compile neural network\n",
        "    network.compile(loss='categorical_crossentropy', \n",
        "                    optimizer=Adam(learning_rate=learnRate),\n",
        "                    metrics=['accuracy'])\n",
        "\n",
        "    # Return compiled network\n",
        "    return network"
      ]
    },
    {
      "cell_type": "code",
      "execution_count": 49,
      "id": "37385074-041c-43ca-a717-b72fc6902783",
      "metadata": {
        "colab": {
          "base_uri": "https://localhost:8080/"
        },
        "id": "37385074-041c-43ca-a717-b72fc6902783",
        "outputId": "695f09ad-c91e-450e-9c8d-5fbebcd61103"
      },
      "outputs": [
        {
          "output_type": "stream",
          "name": "stdout",
          "text": [
            "Epoch 1/10\n",
            "1191/1191 [==============================] - 4s 3ms/step - loss: 0.8144 - accuracy: 0.7818 - val_loss: 0.3841 - val_accuracy: 0.8964\n",
            "Epoch 2/10\n",
            "1191/1191 [==============================] - 3s 3ms/step - loss: 0.3015 - accuracy: 0.9110 - val_loss: 0.2464 - val_accuracy: 0.9172\n",
            "Epoch 3/10\n",
            "1191/1191 [==============================] - 3s 3ms/step - loss: 0.2389 - accuracy: 0.9181 - val_loss: 0.2202 - val_accuracy: 0.9207\n",
            "Epoch 4/10\n",
            "1191/1191 [==============================] - 3s 3ms/step - loss: 0.2226 - accuracy: 0.9192 - val_loss: 0.2093 - val_accuracy: 0.9238\n",
            "Epoch 5/10\n",
            "1191/1191 [==============================] - 3s 3ms/step - loss: 0.2148 - accuracy: 0.9210 - val_loss: 0.2055 - val_accuracy: 0.9243\n",
            "Epoch 6/10\n",
            "1191/1191 [==============================] - 3s 3ms/step - loss: 0.2099 - accuracy: 0.9239 - val_loss: 0.2038 - val_accuracy: 0.9246\n",
            "Epoch 7/10\n",
            "1191/1191 [==============================] - 3s 3ms/step - loss: 0.2065 - accuracy: 0.9247 - val_loss: 0.2020 - val_accuracy: 0.9229\n",
            "Epoch 8/10\n",
            "1191/1191 [==============================] - 3s 3ms/step - loss: 0.2047 - accuracy: 0.9235 - val_loss: 0.1994 - val_accuracy: 0.9261\n",
            "Epoch 9/10\n",
            "1191/1191 [==============================] - 3s 3ms/step - loss: 0.2024 - accuracy: 0.9241 - val_loss: 0.1992 - val_accuracy: 0.9261\n",
            "Epoch 10/10\n",
            "1191/1191 [==============================] - 4s 3ms/step - loss: 0.2005 - accuracy: 0.9255 - val_loss: 0.1970 - val_accuracy: 0.9265\n",
            "128/128 [==============================] - 0s 2ms/step - loss: 0.1970 - accuracy: 0.9265\n",
            "\n",
            "Accuracy:  92.65\n"
          ]
        }
      ],
      "source": [
        "# Initialize model with default values\n",
        "keras = create_network( \n",
        "              learnRate=0.0001, \n",
        "              hiddenLayerOne=120, \n",
        "              hiddenLayerTwo=96)\n",
        "\n",
        "# Train network \n",
        "history = keras.fit(X_train, cat_y_train,\n",
        "              validation_data=(X_test, cat_y_test), \n",
        "              batch_size=8, \n",
        "              epochs=10)\n",
        "\n",
        "accuracy = keras.evaluate(X_test, cat_y_test)[1]\n",
        "print(f\"\\nAccuracy:  {round(accuracy*100, 2)}\")"
      ]
    },
    {
      "cell_type": "code",
      "execution_count": 50,
      "id": "84a0f97b-087b-4858-b982-f8e2793e9ff9",
      "metadata": {
        "colab": {
          "base_uri": "https://localhost:8080/"
        },
        "id": "84a0f97b-087b-4858-b982-f8e2793e9ff9",
        "outputId": "8cd58eda-c085-4bd0-ab69-e9845decf70f"
      },
      "outputs": [
        {
          "output_type": "execute_result",
          "data": {
            "text/plain": [
              "92.55"
            ]
          },
          "metadata": {},
          "execution_count": 50
        }
      ],
      "source": [
        "kerasAcc = history.history['accuracy'][np.argmin(history.history['loss'])]*100\n",
        "round(kerasAcc, 2)"
      ]
    },
    {
      "cell_type": "code",
      "execution_count": 51,
      "id": "3bdcb41b-276d-4303-88e2-85743500c5db",
      "metadata": {
        "id": "3bdcb41b-276d-4303-88e2-85743500c5db"
      },
      "outputs": [],
      "source": [
        "# Set the number of features\n",
        "number_of_features = X.shape[1]\n",
        "\n",
        "# Start neural network\n",
        "network2 = Sequential()\n",
        "\n",
        "# Add fully connected layer w/a ReLU activation function\n",
        "network2.add(Dense(units=100, activation='relu', \n",
        "                  input_shape=(number_of_features,)))\n",
        "\n",
        "# Add fully connected layer w/a ReLU activation function\n",
        "network2.add(Dense(units=100, activation='relu'))\n",
        "\n",
        "# Add fully connected layer w/a softmax activation function\n",
        "network2.add(Dense(units=7, activation='softmax'))\n",
        "\n",
        "# Compile neural network\n",
        "network2.compile(loss='categorical_crossentropy', \n",
        "                optimizer='adam', \n",
        "                metrics=['accuracy'])"
      ]
    },
    {
      "cell_type": "code",
      "execution_count": 52,
      "id": "104e9236-9687-4b43-94d1-280082476537",
      "metadata": {
        "colab": {
          "base_uri": "https://localhost:8080/"
        },
        "id": "104e9236-9687-4b43-94d1-280082476537",
        "outputId": "b929c341-7ffe-4d9a-9993-72cd9f522439"
      },
      "outputs": [
        {
          "output_type": "stream",
          "name": "stdout",
          "text": [
            "Epoch 1/15\n",
            "1906/1906 [==============================] - 6s 3ms/step - loss: 0.2994 - accuracy: 0.8962 - val_loss: 0.2259 - val_accuracy: 0.9172\n",
            "Epoch 2/15\n",
            "1906/1906 [==============================] - 5s 3ms/step - loss: 0.2219 - accuracy: 0.9205 - val_loss: 0.2130 - val_accuracy: 0.9246\n",
            "Epoch 3/15\n",
            "1906/1906 [==============================] - 5s 3ms/step - loss: 0.2105 - accuracy: 0.9218 - val_loss: 0.2242 - val_accuracy: 0.9180\n",
            "Epoch 4/15\n",
            "1906/1906 [==============================] - 7s 4ms/step - loss: 0.2084 - accuracy: 0.9226 - val_loss: 0.2102 - val_accuracy: 0.9258\n",
            "Epoch 5/15\n",
            "1906/1906 [==============================] - 6s 3ms/step - loss: 0.2089 - accuracy: 0.9216 - val_loss: 0.2219 - val_accuracy: 0.9212\n",
            "Epoch 6/15\n",
            "1906/1906 [==============================] - 5s 3ms/step - loss: 0.2023 - accuracy: 0.9231 - val_loss: 0.1976 - val_accuracy: 0.9302\n",
            "Epoch 7/15\n",
            "1906/1906 [==============================] - 6s 3ms/step - loss: 0.1987 - accuracy: 0.9239 - val_loss: 0.2187 - val_accuracy: 0.9243\n",
            "Epoch 8/15\n",
            "1906/1906 [==============================] - 5s 3ms/step - loss: 0.1982 - accuracy: 0.9234 - val_loss: 0.1958 - val_accuracy: 0.9305\n",
            "Epoch 9/15\n",
            "1906/1906 [==============================] - 6s 3ms/step - loss: 0.1966 - accuracy: 0.9224 - val_loss: 0.1948 - val_accuracy: 0.9310\n",
            "Epoch 10/15\n",
            "1906/1906 [==============================] - 5s 3ms/step - loss: 0.1954 - accuracy: 0.9268 - val_loss: 0.1968 - val_accuracy: 0.9283\n",
            "Epoch 11/15\n",
            "1906/1906 [==============================] - 6s 3ms/step - loss: 0.1945 - accuracy: 0.9260 - val_loss: 0.2095 - val_accuracy: 0.9226\n",
            "Epoch 12/15\n",
            "1906/1906 [==============================] - 5s 3ms/step - loss: 0.1931 - accuracy: 0.9264 - val_loss: 0.1958 - val_accuracy: 0.9273\n",
            "Epoch 13/15\n",
            "1906/1906 [==============================] - 5s 3ms/step - loss: 0.1905 - accuracy: 0.9273 - val_loss: 0.2057 - val_accuracy: 0.9253\n",
            "Epoch 14/15\n",
            "1906/1906 [==============================] - 5s 3ms/step - loss: 0.1918 - accuracy: 0.9265 - val_loss: 0.2027 - val_accuracy: 0.9256\n",
            "Epoch 15/15\n",
            "1906/1906 [==============================] - 6s 3ms/step - loss: 0.1897 - accuracy: 0.9277 - val_loss: 0.1998 - val_accuracy: 0.9265\n",
            "128/128 [==============================] - 0s 2ms/step - loss: 0.1998 - accuracy: 0.9265\n",
            "\n",
            "Accuracy:  92.65\n"
          ]
        }
      ],
      "source": [
        "# Fit model\n",
        "history2 = network2.fit(X_train, cat_y_train, \n",
        "                      epochs=15, \n",
        "                      batch_size=5, \n",
        "                      validation_data=(X_test, cat_y_test))\n",
        "\n",
        "accuracy = network2.evaluate(X_test, cat_y_test)[1]\n",
        "print(f\"\\nAccuracy:  {round(accuracy*100, 2)}\")"
      ]
    },
    {
      "cell_type": "markdown",
      "id": "b9f2d191-6543-4a80-bc75-6e05f500c509",
      "metadata": {
        "id": "b9f2d191-6543-4a80-bc75-6e05f500c509"
      },
      "source": [
        "Note: I'm not adding this one directly to the dictionary of methods because I had to categorize my target variable."
      ]
    },
    {
      "cell_type": "markdown",
      "id": "a47eeaf0-2b46-46f1-a57b-89dc787f77d9",
      "metadata": {
        "id": "a47eeaf0-2b46-46f1-a57b-89dc787f77d9"
      },
      "source": [
        "### Compare Accuracies"
      ]
    },
    {
      "cell_type": "code",
      "execution_count": 53,
      "id": "b241ae4c-d388-40e5-a4e8-691d09755a16",
      "metadata": {
        "colab": {
          "base_uri": "https://localhost:8080/",
          "height": 0
        },
        "id": "b241ae4c-d388-40e5-a4e8-691d09755a16",
        "outputId": "e491ab1b-3e72-408f-bf50-906865a0b13d"
      },
      "outputs": [
        {
          "output_type": "execute_result",
          "data": {
            "text/plain": [
              "          Model  Accuracy\n",
              "5           SVC     92.92\n",
              "7           MLP     92.80\n",
              "8         Keras     92.65\n",
              "4     LinearSVC     92.38\n",
              "1  RandomForest     92.31\n",
              "0      Logistic     92.24\n",
              "6    GaussianNB     89.99\n",
              "2  DecisionTree     89.20\n",
              "3      AdaBoost     86.29"
            ],
            "text/html": [
              "\n",
              "  <div id=\"df-164e976e-e393-4758-9fd6-ab7a2885c130\">\n",
              "    <div class=\"colab-df-container\">\n",
              "      <div>\n",
              "<style scoped>\n",
              "    .dataframe tbody tr th:only-of-type {\n",
              "        vertical-align: middle;\n",
              "    }\n",
              "\n",
              "    .dataframe tbody tr th {\n",
              "        vertical-align: top;\n",
              "    }\n",
              "\n",
              "    .dataframe thead th {\n",
              "        text-align: right;\n",
              "    }\n",
              "</style>\n",
              "<table border=\"1\" class=\"dataframe\">\n",
              "  <thead>\n",
              "    <tr style=\"text-align: right;\">\n",
              "      <th></th>\n",
              "      <th>Model</th>\n",
              "      <th>Accuracy</th>\n",
              "    </tr>\n",
              "  </thead>\n",
              "  <tbody>\n",
              "    <tr>\n",
              "      <th>5</th>\n",
              "      <td>SVC</td>\n",
              "      <td>92.92</td>\n",
              "    </tr>\n",
              "    <tr>\n",
              "      <th>7</th>\n",
              "      <td>MLP</td>\n",
              "      <td>92.80</td>\n",
              "    </tr>\n",
              "    <tr>\n",
              "      <th>8</th>\n",
              "      <td>Keras</td>\n",
              "      <td>92.65</td>\n",
              "    </tr>\n",
              "    <tr>\n",
              "      <th>4</th>\n",
              "      <td>LinearSVC</td>\n",
              "      <td>92.38</td>\n",
              "    </tr>\n",
              "    <tr>\n",
              "      <th>1</th>\n",
              "      <td>RandomForest</td>\n",
              "      <td>92.31</td>\n",
              "    </tr>\n",
              "    <tr>\n",
              "      <th>0</th>\n",
              "      <td>Logistic</td>\n",
              "      <td>92.24</td>\n",
              "    </tr>\n",
              "    <tr>\n",
              "      <th>6</th>\n",
              "      <td>GaussianNB</td>\n",
              "      <td>89.99</td>\n",
              "    </tr>\n",
              "    <tr>\n",
              "      <th>2</th>\n",
              "      <td>DecisionTree</td>\n",
              "      <td>89.20</td>\n",
              "    </tr>\n",
              "    <tr>\n",
              "      <th>3</th>\n",
              "      <td>AdaBoost</td>\n",
              "      <td>86.29</td>\n",
              "    </tr>\n",
              "  </tbody>\n",
              "</table>\n",
              "</div>\n",
              "      <button class=\"colab-df-convert\" onclick=\"convertToInteractive('df-164e976e-e393-4758-9fd6-ab7a2885c130')\"\n",
              "              title=\"Convert this dataframe to an interactive table.\"\n",
              "              style=\"display:none;\">\n",
              "        \n",
              "  <svg xmlns=\"http://www.w3.org/2000/svg\" height=\"24px\"viewBox=\"0 0 24 24\"\n",
              "       width=\"24px\">\n",
              "    <path d=\"M0 0h24v24H0V0z\" fill=\"none\"/>\n",
              "    <path d=\"M18.56 5.44l.94 2.06.94-2.06 2.06-.94-2.06-.94-.94-2.06-.94 2.06-2.06.94zm-11 1L8.5 8.5l.94-2.06 2.06-.94-2.06-.94L8.5 2.5l-.94 2.06-2.06.94zm10 10l.94 2.06.94-2.06 2.06-.94-2.06-.94-.94-2.06-.94 2.06-2.06.94z\"/><path d=\"M17.41 7.96l-1.37-1.37c-.4-.4-.92-.59-1.43-.59-.52 0-1.04.2-1.43.59L10.3 9.45l-7.72 7.72c-.78.78-.78 2.05 0 2.83L4 21.41c.39.39.9.59 1.41.59.51 0 1.02-.2 1.41-.59l7.78-7.78 2.81-2.81c.8-.78.8-2.07 0-2.86zM5.41 20L4 18.59l7.72-7.72 1.47 1.35L5.41 20z\"/>\n",
              "  </svg>\n",
              "      </button>\n",
              "      \n",
              "  <style>\n",
              "    .colab-df-container {\n",
              "      display:flex;\n",
              "      flex-wrap:wrap;\n",
              "      gap: 12px;\n",
              "    }\n",
              "\n",
              "    .colab-df-convert {\n",
              "      background-color: #E8F0FE;\n",
              "      border: none;\n",
              "      border-radius: 50%;\n",
              "      cursor: pointer;\n",
              "      display: none;\n",
              "      fill: #1967D2;\n",
              "      height: 32px;\n",
              "      padding: 0 0 0 0;\n",
              "      width: 32px;\n",
              "    }\n",
              "\n",
              "    .colab-df-convert:hover {\n",
              "      background-color: #E2EBFA;\n",
              "      box-shadow: 0px 1px 2px rgba(60, 64, 67, 0.3), 0px 1px 3px 1px rgba(60, 64, 67, 0.15);\n",
              "      fill: #174EA6;\n",
              "    }\n",
              "\n",
              "    [theme=dark] .colab-df-convert {\n",
              "      background-color: #3B4455;\n",
              "      fill: #D2E3FC;\n",
              "    }\n",
              "\n",
              "    [theme=dark] .colab-df-convert:hover {\n",
              "      background-color: #434B5C;\n",
              "      box-shadow: 0px 1px 3px 1px rgba(0, 0, 0, 0.15);\n",
              "      filter: drop-shadow(0px 1px 2px rgba(0, 0, 0, 0.3));\n",
              "      fill: #FFFFFF;\n",
              "    }\n",
              "  </style>\n",
              "\n",
              "      <script>\n",
              "        const buttonEl =\n",
              "          document.querySelector('#df-164e976e-e393-4758-9fd6-ab7a2885c130 button.colab-df-convert');\n",
              "        buttonEl.style.display =\n",
              "          google.colab.kernel.accessAllowed ? 'block' : 'none';\n",
              "\n",
              "        async function convertToInteractive(key) {\n",
              "          const element = document.querySelector('#df-164e976e-e393-4758-9fd6-ab7a2885c130');\n",
              "          const dataTable =\n",
              "            await google.colab.kernel.invokeFunction('convertToInteractive',\n",
              "                                                     [key], {});\n",
              "          if (!dataTable) return;\n",
              "\n",
              "          const docLinkHtml = 'Like what you see? Visit the ' +\n",
              "            '<a target=\"_blank\" href=https://colab.research.google.com/notebooks/data_table.ipynb>data table notebook</a>'\n",
              "            + ' to learn more about interactive tables.';\n",
              "          element.innerHTML = '';\n",
              "          dataTable['output_type'] = 'display_data';\n",
              "          await google.colab.output.renderOutput(dataTable, element);\n",
              "          const docLink = document.createElement('div');\n",
              "          docLink.innerHTML = docLinkHtml;\n",
              "          element.appendChild(docLink);\n",
              "        }\n",
              "      </script>\n",
              "    </div>\n",
              "  </div>\n",
              "  "
            ]
          },
          "metadata": {},
          "execution_count": 53
        }
      ],
      "source": [
        "# Create lists of models and accuracy scores\n",
        "modelName = []\n",
        "score = []\n",
        "for key in models_dict:\n",
        "    modelName += [key]\n",
        "    model = models_dict[key]\n",
        "    value = model.score(X_test, y_test)*100\n",
        "    score += [round(value, 2)]\n",
        "\n",
        "# Add Keras accuracy\n",
        "modelName += ['Keras']\n",
        "kerasAcc = history.history['val_accuracy'][np.argmin(history.history['loss'])]*100\n",
        "score += [round(kerasAcc, 2)]\n",
        "\n",
        "# Create DataFrame of results\n",
        "d = {'Model': modelName, 'Accuracy': score}\n",
        "results = pd.DataFrame(d).sort_values(by=['Accuracy'], ascending=False)\n",
        "results"
      ]
    },
    {
      "cell_type": "markdown",
      "id": "e086635a-a74c-4c38-8a55-c5de09fa1971",
      "metadata": {
        "id": "e086635a-a74c-4c38-8a55-c5de09fa1971"
      },
      "source": [
        "### Evaluate"
      ]
    },
    {
      "cell_type": "code",
      "execution_count": 54,
      "id": "dda2e3d9-a7d4-4863-9163-f420d2b875cc",
      "metadata": {
        "id": "dda2e3d9-a7d4-4863-9163-f420d2b875cc"
      },
      "outputs": [],
      "source": [
        "# Get predictions\n",
        "predictions = svc.predict(X_test)"
      ]
    },
    {
      "cell_type": "markdown",
      "id": "ccce46d2-6f28-4598-abaf-42956dae2d93",
      "metadata": {
        "id": "ccce46d2-6f28-4598-abaf-42956dae2d93"
      },
      "source": [
        "#### Confusion matrix"
      ]
    },
    {
      "cell_type": "code",
      "execution_count": 55,
      "id": "4780af5f-c13a-43af-bbd8-ae8ef6554748",
      "metadata": {
        "colab": {
          "base_uri": "https://localhost:8080/"
        },
        "id": "4780af5f-c13a-43af-bbd8-ae8ef6554748",
        "outputId": "5ec98c04-bb1d-49aa-93b8-a991cff61259"
      },
      "outputs": [
        {
          "output_type": "stream",
          "name": "stdout",
          "text": [
            "[[366   0  19   0   1   4   5]\n",
            " [  0 161   0   0   0   0   0]\n",
            " [ 20   0 446   0   8   2   3]\n",
            " [  0   0   0 960   1  18  64]\n",
            " [  5   0   8   6 555   0  14]\n",
            " [  4   0   0   9   0 592  14]\n",
            " [  3   0   1  62   7  11 715]]\n"
          ]
        }
      ],
      "source": [
        "# Print confusion matrix\n",
        "cm = confusion_matrix(y_test, predictions)\n",
        "print(cm)"
      ]
    },
    {
      "cell_type": "markdown",
      "id": "75380132-666c-42d0-b0ba-d2f2c0516cc6",
      "metadata": {
        "id": "75380132-666c-42d0-b0ba-d2f2c0516cc6"
      },
      "source": [
        "#### Classification report"
      ]
    },
    {
      "cell_type": "code",
      "execution_count": 56,
      "id": "c80b74d5-9f5c-4500-ab2b-f773c30de413",
      "metadata": {
        "colab": {
          "base_uri": "https://localhost:8080/"
        },
        "id": "c80b74d5-9f5c-4500-ab2b-f773c30de413",
        "outputId": "190fdaa5-782b-47dd-ef88-9200f13711d4"
      },
      "outputs": [
        {
          "output_type": "stream",
          "name": "stdout",
          "text": [
            "              precision    recall  f1-score   support\n",
            "\n",
            "    BARBUNYA       0.92      0.93      0.92       395\n",
            "      BOMBAY       1.00      1.00      1.00       161\n",
            "        CALI       0.94      0.93      0.94       479\n",
            "    DERMASON       0.93      0.92      0.92      1043\n",
            "       HOROZ       0.97      0.94      0.96       588\n",
            "       SEKER       0.94      0.96      0.95       619\n",
            "        SIRA       0.88      0.89      0.89       799\n",
            "\n",
            "    accuracy                           0.93      4084\n",
            "   macro avg       0.94      0.94      0.94      4084\n",
            "weighted avg       0.93      0.93      0.93      4084\n",
            "\n"
          ]
        }
      ],
      "source": [
        "# Print precision, recall, f1-score, and accuracy\n",
        "cr = classification_report(y_test, predictions)\n",
        "print(cr)"
      ]
    },
    {
      "cell_type": "markdown",
      "id": "263ca492-a38c-4aab-b7f3-f170067e02ae",
      "metadata": {
        "id": "263ca492-a38c-4aab-b7f3-f170067e02ae"
      },
      "source": [
        "Looks pretty good. Clearly the BOMBAY bean is sufficiently distinct from the other beans to be easily identifiable."
      ]
    },
    {
      "cell_type": "markdown",
      "id": "7002ac67-137a-4922-99f3-91674880d57f",
      "metadata": {
        "id": "7002ac67-137a-4922-99f3-91674880d57f"
      },
      "source": [
        "### Typical Beans: Create a set of mean/median bean data for testing"
      ]
    },
    {
      "cell_type": "code",
      "execution_count": 57,
      "id": "2f4f8909-c453-4f32-ac04-012fe61131b2",
      "metadata": {
        "id": "2f4f8909-c453-4f32-ac04-012fe61131b2"
      },
      "outputs": [],
      "source": [
        "# Create a copy of the dataframe to play with\n",
        "df = beanDF.copy()"
      ]
    },
    {
      "cell_type": "code",
      "execution_count": 58,
      "id": "6546ba7e-5796-4192-a943-52569711c266",
      "metadata": {
        "colab": {
          "base_uri": "https://localhost:8080/",
          "height": 269
        },
        "id": "6546ba7e-5796-4192-a943-52569711c266",
        "outputId": "ad7ca0a9-79e5-498e-9a68-33a4141fedd8"
      },
      "outputs": [
        {
          "output_type": "execute_result",
          "data": {
            "text/plain": [
              "       Area  Perimeter  MajorAxisLength  MinorAxisLength  AspectRation  \\\n",
              "0  0.571863   0.889560         0.580384         0.849655     -0.160584   \n",
              "1  4.108711   3.405475         3.178756         3.837092      0.006449   \n",
              "2  0.767468   0.943321         1.039890         0.761872      0.607582   \n",
              "3 -0.713693  -0.886675        -0.857778        -0.814127     -0.379440   \n",
              "4  0.020749   0.300836         0.609803        -0.401514      1.794547   \n",
              "5 -0.448889  -0.595391        -0.802637        -0.006163     -1.374972   \n",
              "6 -0.283516  -0.274806        -0.242588        -0.253760     -0.056327   \n",
              "\n",
              "   ConvexArea  EquivDiameter  roundness  Compactness  ShapeFactor1  \\\n",
              "0    0.580100       0.747893  -1.222732     0.086684     -1.071188   \n",
              "1    4.100906       3.647288  -0.144047    -0.114239     -2.768810   \n",
              "2    0.770367       0.954401  -0.454556    -0.697219     -0.981457   \n",
              "3   -0.714398      -0.867561   0.589847     0.315685      1.053709   \n",
              "4    0.022831       0.129933  -1.319822    -1.603255      0.390525   \n",
              "5   -0.453292      -0.474546   1.201138     1.577308     -0.205388   \n",
              "6   -0.285175      -0.248398   0.195767    -0.037581      0.136252   \n",
              "\n",
              "   ShapeFactor2  ShapeFactor4     Class  \n",
              "0     -0.539201      0.154690  BARBUNYA  \n",
              "1     -1.462361     -0.732314    BOMBAY  \n",
              "2     -1.020547     -1.018360      CALI  \n",
              "3      0.748600      0.421912  DERMASON  \n",
              "4     -1.121078     -0.712839     HOROZ  \n",
              "5      1.386588      0.756071     SEKER  \n",
              "6     -0.054422      0.073970      SIRA  "
            ],
            "text/html": [
              "\n",
              "  <div id=\"df-0f7bd42f-82ac-419a-803f-f06116f952bf\">\n",
              "    <div class=\"colab-df-container\">\n",
              "      <div>\n",
              "<style scoped>\n",
              "    .dataframe tbody tr th:only-of-type {\n",
              "        vertical-align: middle;\n",
              "    }\n",
              "\n",
              "    .dataframe tbody tr th {\n",
              "        vertical-align: top;\n",
              "    }\n",
              "\n",
              "    .dataframe thead th {\n",
              "        text-align: right;\n",
              "    }\n",
              "</style>\n",
              "<table border=\"1\" class=\"dataframe\">\n",
              "  <thead>\n",
              "    <tr style=\"text-align: right;\">\n",
              "      <th></th>\n",
              "      <th>Area</th>\n",
              "      <th>Perimeter</th>\n",
              "      <th>MajorAxisLength</th>\n",
              "      <th>MinorAxisLength</th>\n",
              "      <th>AspectRation</th>\n",
              "      <th>ConvexArea</th>\n",
              "      <th>EquivDiameter</th>\n",
              "      <th>roundness</th>\n",
              "      <th>Compactness</th>\n",
              "      <th>ShapeFactor1</th>\n",
              "      <th>ShapeFactor2</th>\n",
              "      <th>ShapeFactor4</th>\n",
              "      <th>Class</th>\n",
              "    </tr>\n",
              "  </thead>\n",
              "  <tbody>\n",
              "    <tr>\n",
              "      <th>0</th>\n",
              "      <td>0.571863</td>\n",
              "      <td>0.889560</td>\n",
              "      <td>0.580384</td>\n",
              "      <td>0.849655</td>\n",
              "      <td>-0.160584</td>\n",
              "      <td>0.580100</td>\n",
              "      <td>0.747893</td>\n",
              "      <td>-1.222732</td>\n",
              "      <td>0.086684</td>\n",
              "      <td>-1.071188</td>\n",
              "      <td>-0.539201</td>\n",
              "      <td>0.154690</td>\n",
              "      <td>BARBUNYA</td>\n",
              "    </tr>\n",
              "    <tr>\n",
              "      <th>1</th>\n",
              "      <td>4.108711</td>\n",
              "      <td>3.405475</td>\n",
              "      <td>3.178756</td>\n",
              "      <td>3.837092</td>\n",
              "      <td>0.006449</td>\n",
              "      <td>4.100906</td>\n",
              "      <td>3.647288</td>\n",
              "      <td>-0.144047</td>\n",
              "      <td>-0.114239</td>\n",
              "      <td>-2.768810</td>\n",
              "      <td>-1.462361</td>\n",
              "      <td>-0.732314</td>\n",
              "      <td>BOMBAY</td>\n",
              "    </tr>\n",
              "    <tr>\n",
              "      <th>2</th>\n",
              "      <td>0.767468</td>\n",
              "      <td>0.943321</td>\n",
              "      <td>1.039890</td>\n",
              "      <td>0.761872</td>\n",
              "      <td>0.607582</td>\n",
              "      <td>0.770367</td>\n",
              "      <td>0.954401</td>\n",
              "      <td>-0.454556</td>\n",
              "      <td>-0.697219</td>\n",
              "      <td>-0.981457</td>\n",
              "      <td>-1.020547</td>\n",
              "      <td>-1.018360</td>\n",
              "      <td>CALI</td>\n",
              "    </tr>\n",
              "    <tr>\n",
              "      <th>3</th>\n",
              "      <td>-0.713693</td>\n",
              "      <td>-0.886675</td>\n",
              "      <td>-0.857778</td>\n",
              "      <td>-0.814127</td>\n",
              "      <td>-0.379440</td>\n",
              "      <td>-0.714398</td>\n",
              "      <td>-0.867561</td>\n",
              "      <td>0.589847</td>\n",
              "      <td>0.315685</td>\n",
              "      <td>1.053709</td>\n",
              "      <td>0.748600</td>\n",
              "      <td>0.421912</td>\n",
              "      <td>DERMASON</td>\n",
              "    </tr>\n",
              "    <tr>\n",
              "      <th>4</th>\n",
              "      <td>0.020749</td>\n",
              "      <td>0.300836</td>\n",
              "      <td>0.609803</td>\n",
              "      <td>-0.401514</td>\n",
              "      <td>1.794547</td>\n",
              "      <td>0.022831</td>\n",
              "      <td>0.129933</td>\n",
              "      <td>-1.319822</td>\n",
              "      <td>-1.603255</td>\n",
              "      <td>0.390525</td>\n",
              "      <td>-1.121078</td>\n",
              "      <td>-0.712839</td>\n",
              "      <td>HOROZ</td>\n",
              "    </tr>\n",
              "    <tr>\n",
              "      <th>5</th>\n",
              "      <td>-0.448889</td>\n",
              "      <td>-0.595391</td>\n",
              "      <td>-0.802637</td>\n",
              "      <td>-0.006163</td>\n",
              "      <td>-1.374972</td>\n",
              "      <td>-0.453292</td>\n",
              "      <td>-0.474546</td>\n",
              "      <td>1.201138</td>\n",
              "      <td>1.577308</td>\n",
              "      <td>-0.205388</td>\n",
              "      <td>1.386588</td>\n",
              "      <td>0.756071</td>\n",
              "      <td>SEKER</td>\n",
              "    </tr>\n",
              "    <tr>\n",
              "      <th>6</th>\n",
              "      <td>-0.283516</td>\n",
              "      <td>-0.274806</td>\n",
              "      <td>-0.242588</td>\n",
              "      <td>-0.253760</td>\n",
              "      <td>-0.056327</td>\n",
              "      <td>-0.285175</td>\n",
              "      <td>-0.248398</td>\n",
              "      <td>0.195767</td>\n",
              "      <td>-0.037581</td>\n",
              "      <td>0.136252</td>\n",
              "      <td>-0.054422</td>\n",
              "      <td>0.073970</td>\n",
              "      <td>SIRA</td>\n",
              "    </tr>\n",
              "  </tbody>\n",
              "</table>\n",
              "</div>\n",
              "      <button class=\"colab-df-convert\" onclick=\"convertToInteractive('df-0f7bd42f-82ac-419a-803f-f06116f952bf')\"\n",
              "              title=\"Convert this dataframe to an interactive table.\"\n",
              "              style=\"display:none;\">\n",
              "        \n",
              "  <svg xmlns=\"http://www.w3.org/2000/svg\" height=\"24px\"viewBox=\"0 0 24 24\"\n",
              "       width=\"24px\">\n",
              "    <path d=\"M0 0h24v24H0V0z\" fill=\"none\"/>\n",
              "    <path d=\"M18.56 5.44l.94 2.06.94-2.06 2.06-.94-2.06-.94-.94-2.06-.94 2.06-2.06.94zm-11 1L8.5 8.5l.94-2.06 2.06-.94-2.06-.94L8.5 2.5l-.94 2.06-2.06.94zm10 10l.94 2.06.94-2.06 2.06-.94-2.06-.94-.94-2.06-.94 2.06-2.06.94z\"/><path d=\"M17.41 7.96l-1.37-1.37c-.4-.4-.92-.59-1.43-.59-.52 0-1.04.2-1.43.59L10.3 9.45l-7.72 7.72c-.78.78-.78 2.05 0 2.83L4 21.41c.39.39.9.59 1.41.59.51 0 1.02-.2 1.41-.59l7.78-7.78 2.81-2.81c.8-.78.8-2.07 0-2.86zM5.41 20L4 18.59l7.72-7.72 1.47 1.35L5.41 20z\"/>\n",
              "  </svg>\n",
              "      </button>\n",
              "      \n",
              "  <style>\n",
              "    .colab-df-container {\n",
              "      display:flex;\n",
              "      flex-wrap:wrap;\n",
              "      gap: 12px;\n",
              "    }\n",
              "\n",
              "    .colab-df-convert {\n",
              "      background-color: #E8F0FE;\n",
              "      border: none;\n",
              "      border-radius: 50%;\n",
              "      cursor: pointer;\n",
              "      display: none;\n",
              "      fill: #1967D2;\n",
              "      height: 32px;\n",
              "      padding: 0 0 0 0;\n",
              "      width: 32px;\n",
              "    }\n",
              "\n",
              "    .colab-df-convert:hover {\n",
              "      background-color: #E2EBFA;\n",
              "      box-shadow: 0px 1px 2px rgba(60, 64, 67, 0.3), 0px 1px 3px 1px rgba(60, 64, 67, 0.15);\n",
              "      fill: #174EA6;\n",
              "    }\n",
              "\n",
              "    [theme=dark] .colab-df-convert {\n",
              "      background-color: #3B4455;\n",
              "      fill: #D2E3FC;\n",
              "    }\n",
              "\n",
              "    [theme=dark] .colab-df-convert:hover {\n",
              "      background-color: #434B5C;\n",
              "      box-shadow: 0px 1px 3px 1px rgba(0, 0, 0, 0.15);\n",
              "      filter: drop-shadow(0px 1px 2px rgba(0, 0, 0, 0.3));\n",
              "      fill: #FFFFFF;\n",
              "    }\n",
              "  </style>\n",
              "\n",
              "      <script>\n",
              "        const buttonEl =\n",
              "          document.querySelector('#df-0f7bd42f-82ac-419a-803f-f06116f952bf button.colab-df-convert');\n",
              "        buttonEl.style.display =\n",
              "          google.colab.kernel.accessAllowed ? 'block' : 'none';\n",
              "\n",
              "        async function convertToInteractive(key) {\n",
              "          const element = document.querySelector('#df-0f7bd42f-82ac-419a-803f-f06116f952bf');\n",
              "          const dataTable =\n",
              "            await google.colab.kernel.invokeFunction('convertToInteractive',\n",
              "                                                     [key], {});\n",
              "          if (!dataTable) return;\n",
              "\n",
              "          const docLinkHtml = 'Like what you see? Visit the ' +\n",
              "            '<a target=\"_blank\" href=https://colab.research.google.com/notebooks/data_table.ipynb>data table notebook</a>'\n",
              "            + ' to learn more about interactive tables.';\n",
              "          element.innerHTML = '';\n",
              "          dataTable['output_type'] = 'display_data';\n",
              "          await google.colab.output.renderOutput(dataTable, element);\n",
              "          const docLink = document.createElement('div');\n",
              "          docLink.innerHTML = docLinkHtml;\n",
              "          element.appendChild(docLink);\n",
              "        }\n",
              "      </script>\n",
              "    </div>\n",
              "  </div>\n",
              "  "
            ]
          },
          "metadata": {},
          "execution_count": 58
        }
      ],
      "source": [
        "# Group rows by values of column 'Class'. Calculate mean\n",
        "df_mean = df.groupby('Class').mean()\n",
        "df_mean['Class'] = df_mean.index\n",
        "df_mean = df_mean.reset_index(drop=True)\n",
        "df_mean.iloc[:,:-1] = scaler.transform(df_mean.iloc[:,:-1]) \n",
        "df_mean"
      ]
    },
    {
      "cell_type": "code",
      "execution_count": 59,
      "id": "e790dc5b-5b7a-4d31-a4a0-14efcc65db24",
      "metadata": {
        "colab": {
          "base_uri": "https://localhost:8080/",
          "height": 269
        },
        "id": "e790dc5b-5b7a-4d31-a4a0-14efcc65db24",
        "outputId": "4ed92a50-c691-4fa3-c5bf-6cabcc7430bf"
      },
      "outputs": [
        {
          "output_type": "execute_result",
          "data": {
            "text/plain": [
              "       Area  Perimeter  MajorAxisLength  MinorAxisLength  AspectRation  \\\n",
              "0  0.564285   0.884683         0.575559         0.836562     -0.146923   \n",
              "1  4.040807   3.408359         3.149915         3.776832      0.009662   \n",
              "2  0.741996   0.933240         1.031547         0.740483      0.608548   \n",
              "3 -0.721495  -0.889876        -0.857912        -0.811801     -0.402844   \n",
              "4  0.025934   0.307998         0.630711        -0.408953      1.836907   \n",
              "5 -0.472812  -0.625145        -0.827559        -0.039078     -1.411261   \n",
              "6 -0.288160  -0.281471        -0.251833        -0.250751     -0.087579   \n",
              "\n",
              "   ConvexArea  EquivDiameter  roundness  Compactness  ShapeFactor1  \\\n",
              "0    0.572583       0.753592  -1.173040     0.043878     -1.091659   \n",
              "1    4.026093       3.619275  -0.138650    -0.139711     -2.758494   \n",
              "2    0.745940       0.938424  -0.443439    -0.717508     -0.974380   \n",
              "3   -0.722023      -0.870609   0.660493     0.322469      1.009033   \n",
              "4    0.027582       0.146761  -1.293937    -1.649386      0.363056   \n",
              "5   -0.477838      -0.501537   1.321892     1.608222     -0.180217   \n",
              "6   -0.288959      -0.249325   0.227574    -0.022088      0.115422   \n",
              "\n",
              "   ShapeFactor2  ShapeFactor4     Class  \n",
              "0     -0.581566      0.298054  BARBUNYA  \n",
              "1     -1.492696     -0.581482    BOMBAY  \n",
              "2     -1.044562     -0.862343      CALI  \n",
              "3      0.703990      0.523241  DERMASON  \n",
              "4     -1.161188     -0.276983     HOROZ  \n",
              "5      1.384012      0.813061     SEKER  \n",
              "6     -0.064821      0.210903      SIRA  "
            ],
            "text/html": [
              "\n",
              "  <div id=\"df-7b6860a9-14de-4fe3-963c-150f8ce0907a\">\n",
              "    <div class=\"colab-df-container\">\n",
              "      <div>\n",
              "<style scoped>\n",
              "    .dataframe tbody tr th:only-of-type {\n",
              "        vertical-align: middle;\n",
              "    }\n",
              "\n",
              "    .dataframe tbody tr th {\n",
              "        vertical-align: top;\n",
              "    }\n",
              "\n",
              "    .dataframe thead th {\n",
              "        text-align: right;\n",
              "    }\n",
              "</style>\n",
              "<table border=\"1\" class=\"dataframe\">\n",
              "  <thead>\n",
              "    <tr style=\"text-align: right;\">\n",
              "      <th></th>\n",
              "      <th>Area</th>\n",
              "      <th>Perimeter</th>\n",
              "      <th>MajorAxisLength</th>\n",
              "      <th>MinorAxisLength</th>\n",
              "      <th>AspectRation</th>\n",
              "      <th>ConvexArea</th>\n",
              "      <th>EquivDiameter</th>\n",
              "      <th>roundness</th>\n",
              "      <th>Compactness</th>\n",
              "      <th>ShapeFactor1</th>\n",
              "      <th>ShapeFactor2</th>\n",
              "      <th>ShapeFactor4</th>\n",
              "      <th>Class</th>\n",
              "    </tr>\n",
              "  </thead>\n",
              "  <tbody>\n",
              "    <tr>\n",
              "      <th>0</th>\n",
              "      <td>0.564285</td>\n",
              "      <td>0.884683</td>\n",
              "      <td>0.575559</td>\n",
              "      <td>0.836562</td>\n",
              "      <td>-0.146923</td>\n",
              "      <td>0.572583</td>\n",
              "      <td>0.753592</td>\n",
              "      <td>-1.173040</td>\n",
              "      <td>0.043878</td>\n",
              "      <td>-1.091659</td>\n",
              "      <td>-0.581566</td>\n",
              "      <td>0.298054</td>\n",
              "      <td>BARBUNYA</td>\n",
              "    </tr>\n",
              "    <tr>\n",
              "      <th>1</th>\n",
              "      <td>4.040807</td>\n",
              "      <td>3.408359</td>\n",
              "      <td>3.149915</td>\n",
              "      <td>3.776832</td>\n",
              "      <td>0.009662</td>\n",
              "      <td>4.026093</td>\n",
              "      <td>3.619275</td>\n",
              "      <td>-0.138650</td>\n",
              "      <td>-0.139711</td>\n",
              "      <td>-2.758494</td>\n",
              "      <td>-1.492696</td>\n",
              "      <td>-0.581482</td>\n",
              "      <td>BOMBAY</td>\n",
              "    </tr>\n",
              "    <tr>\n",
              "      <th>2</th>\n",
              "      <td>0.741996</td>\n",
              "      <td>0.933240</td>\n",
              "      <td>1.031547</td>\n",
              "      <td>0.740483</td>\n",
              "      <td>0.608548</td>\n",
              "      <td>0.745940</td>\n",
              "      <td>0.938424</td>\n",
              "      <td>-0.443439</td>\n",
              "      <td>-0.717508</td>\n",
              "      <td>-0.974380</td>\n",
              "      <td>-1.044562</td>\n",
              "      <td>-0.862343</td>\n",
              "      <td>CALI</td>\n",
              "    </tr>\n",
              "    <tr>\n",
              "      <th>3</th>\n",
              "      <td>-0.721495</td>\n",
              "      <td>-0.889876</td>\n",
              "      <td>-0.857912</td>\n",
              "      <td>-0.811801</td>\n",
              "      <td>-0.402844</td>\n",
              "      <td>-0.722023</td>\n",
              "      <td>-0.870609</td>\n",
              "      <td>0.660493</td>\n",
              "      <td>0.322469</td>\n",
              "      <td>1.009033</td>\n",
              "      <td>0.703990</td>\n",
              "      <td>0.523241</td>\n",
              "      <td>DERMASON</td>\n",
              "    </tr>\n",
              "    <tr>\n",
              "      <th>4</th>\n",
              "      <td>0.025934</td>\n",
              "      <td>0.307998</td>\n",
              "      <td>0.630711</td>\n",
              "      <td>-0.408953</td>\n",
              "      <td>1.836907</td>\n",
              "      <td>0.027582</td>\n",
              "      <td>0.146761</td>\n",
              "      <td>-1.293937</td>\n",
              "      <td>-1.649386</td>\n",
              "      <td>0.363056</td>\n",
              "      <td>-1.161188</td>\n",
              "      <td>-0.276983</td>\n",
              "      <td>HOROZ</td>\n",
              "    </tr>\n",
              "    <tr>\n",
              "      <th>5</th>\n",
              "      <td>-0.472812</td>\n",
              "      <td>-0.625145</td>\n",
              "      <td>-0.827559</td>\n",
              "      <td>-0.039078</td>\n",
              "      <td>-1.411261</td>\n",
              "      <td>-0.477838</td>\n",
              "      <td>-0.501537</td>\n",
              "      <td>1.321892</td>\n",
              "      <td>1.608222</td>\n",
              "      <td>-0.180217</td>\n",
              "      <td>1.384012</td>\n",
              "      <td>0.813061</td>\n",
              "      <td>SEKER</td>\n",
              "    </tr>\n",
              "    <tr>\n",
              "      <th>6</th>\n",
              "      <td>-0.288160</td>\n",
              "      <td>-0.281471</td>\n",
              "      <td>-0.251833</td>\n",
              "      <td>-0.250751</td>\n",
              "      <td>-0.087579</td>\n",
              "      <td>-0.288959</td>\n",
              "      <td>-0.249325</td>\n",
              "      <td>0.227574</td>\n",
              "      <td>-0.022088</td>\n",
              "      <td>0.115422</td>\n",
              "      <td>-0.064821</td>\n",
              "      <td>0.210903</td>\n",
              "      <td>SIRA</td>\n",
              "    </tr>\n",
              "  </tbody>\n",
              "</table>\n",
              "</div>\n",
              "      <button class=\"colab-df-convert\" onclick=\"convertToInteractive('df-7b6860a9-14de-4fe3-963c-150f8ce0907a')\"\n",
              "              title=\"Convert this dataframe to an interactive table.\"\n",
              "              style=\"display:none;\">\n",
              "        \n",
              "  <svg xmlns=\"http://www.w3.org/2000/svg\" height=\"24px\"viewBox=\"0 0 24 24\"\n",
              "       width=\"24px\">\n",
              "    <path d=\"M0 0h24v24H0V0z\" fill=\"none\"/>\n",
              "    <path d=\"M18.56 5.44l.94 2.06.94-2.06 2.06-.94-2.06-.94-.94-2.06-.94 2.06-2.06.94zm-11 1L8.5 8.5l.94-2.06 2.06-.94-2.06-.94L8.5 2.5l-.94 2.06-2.06.94zm10 10l.94 2.06.94-2.06 2.06-.94-2.06-.94-.94-2.06-.94 2.06-2.06.94z\"/><path d=\"M17.41 7.96l-1.37-1.37c-.4-.4-.92-.59-1.43-.59-.52 0-1.04.2-1.43.59L10.3 9.45l-7.72 7.72c-.78.78-.78 2.05 0 2.83L4 21.41c.39.39.9.59 1.41.59.51 0 1.02-.2 1.41-.59l7.78-7.78 2.81-2.81c.8-.78.8-2.07 0-2.86zM5.41 20L4 18.59l7.72-7.72 1.47 1.35L5.41 20z\"/>\n",
              "  </svg>\n",
              "      </button>\n",
              "      \n",
              "  <style>\n",
              "    .colab-df-container {\n",
              "      display:flex;\n",
              "      flex-wrap:wrap;\n",
              "      gap: 12px;\n",
              "    }\n",
              "\n",
              "    .colab-df-convert {\n",
              "      background-color: #E8F0FE;\n",
              "      border: none;\n",
              "      border-radius: 50%;\n",
              "      cursor: pointer;\n",
              "      display: none;\n",
              "      fill: #1967D2;\n",
              "      height: 32px;\n",
              "      padding: 0 0 0 0;\n",
              "      width: 32px;\n",
              "    }\n",
              "\n",
              "    .colab-df-convert:hover {\n",
              "      background-color: #E2EBFA;\n",
              "      box-shadow: 0px 1px 2px rgba(60, 64, 67, 0.3), 0px 1px 3px 1px rgba(60, 64, 67, 0.15);\n",
              "      fill: #174EA6;\n",
              "    }\n",
              "\n",
              "    [theme=dark] .colab-df-convert {\n",
              "      background-color: #3B4455;\n",
              "      fill: #D2E3FC;\n",
              "    }\n",
              "\n",
              "    [theme=dark] .colab-df-convert:hover {\n",
              "      background-color: #434B5C;\n",
              "      box-shadow: 0px 1px 3px 1px rgba(0, 0, 0, 0.15);\n",
              "      filter: drop-shadow(0px 1px 2px rgba(0, 0, 0, 0.3));\n",
              "      fill: #FFFFFF;\n",
              "    }\n",
              "  </style>\n",
              "\n",
              "      <script>\n",
              "        const buttonEl =\n",
              "          document.querySelector('#df-7b6860a9-14de-4fe3-963c-150f8ce0907a button.colab-df-convert');\n",
              "        buttonEl.style.display =\n",
              "          google.colab.kernel.accessAllowed ? 'block' : 'none';\n",
              "\n",
              "        async function convertToInteractive(key) {\n",
              "          const element = document.querySelector('#df-7b6860a9-14de-4fe3-963c-150f8ce0907a');\n",
              "          const dataTable =\n",
              "            await google.colab.kernel.invokeFunction('convertToInteractive',\n",
              "                                                     [key], {});\n",
              "          if (!dataTable) return;\n",
              "\n",
              "          const docLinkHtml = 'Like what you see? Visit the ' +\n",
              "            '<a target=\"_blank\" href=https://colab.research.google.com/notebooks/data_table.ipynb>data table notebook</a>'\n",
              "            + ' to learn more about interactive tables.';\n",
              "          element.innerHTML = '';\n",
              "          dataTable['output_type'] = 'display_data';\n",
              "          await google.colab.output.renderOutput(dataTable, element);\n",
              "          const docLink = document.createElement('div');\n",
              "          docLink.innerHTML = docLinkHtml;\n",
              "          element.appendChild(docLink);\n",
              "        }\n",
              "      </script>\n",
              "    </div>\n",
              "  </div>\n",
              "  "
            ]
          },
          "metadata": {},
          "execution_count": 59
        }
      ],
      "source": [
        "# Group rows by values of column 'Class'. Calculate median\n",
        "df_med = df.groupby('Class').median()\n",
        "df_med['Class'] = df_med.index\n",
        "df_med = df_med.reset_index(drop=True)\n",
        "df_med.iloc[:,:-1] = scaler.transform(df_med.iloc[:,:-1]) \n",
        "df_med"
      ]
    },
    {
      "cell_type": "code",
      "execution_count": 60,
      "id": "33248ee3-bdf8-4be2-8c08-3f49a1c0483f",
      "metadata": {
        "id": "33248ee3-bdf8-4be2-8c08-3f49a1c0483f"
      },
      "outputs": [],
      "source": [
        "# Combine data frames for testing\n",
        "mean_med = df_mean.append(df_med)\n",
        "\n",
        "# Prepare data for evaluation\n",
        "mean_med_X = mean_med.iloc[:,:-1]\n",
        "mean_med_y = mean_med.Class"
      ]
    },
    {
      "cell_type": "code",
      "execution_count": 61,
      "id": "f2623229-f2a1-49c8-a02f-158e2471b3ab",
      "metadata": {
        "id": "f2623229-f2a1-49c8-a02f-158e2471b3ab"
      },
      "outputs": [],
      "source": [
        "# Get predictions\n",
        "predictions = svc.predict(mean_med_X)"
      ]
    },
    {
      "cell_type": "markdown",
      "id": "56e6e749-8c61-4a0e-a3db-08c57952cdca",
      "metadata": {
        "id": "56e6e749-8c61-4a0e-a3db-08c57952cdca"
      },
      "source": [
        "#### Confusion matrix"
      ]
    },
    {
      "cell_type": "code",
      "execution_count": 62,
      "id": "520d1d51-7653-42fb-9247-637501b181bf",
      "metadata": {
        "colab": {
          "base_uri": "https://localhost:8080/"
        },
        "id": "520d1d51-7653-42fb-9247-637501b181bf",
        "outputId": "0a1cfeea-e64d-4fec-de25-eb2c93ce42b7"
      },
      "outputs": [
        {
          "output_type": "stream",
          "name": "stdout",
          "text": [
            "[[2 0 0 0 0 0 0]\n",
            " [0 2 0 0 0 0 0]\n",
            " [0 0 2 0 0 0 0]\n",
            " [0 0 0 2 0 0 0]\n",
            " [0 0 0 0 2 0 0]\n",
            " [0 0 0 0 0 2 0]\n",
            " [0 0 0 0 0 0 2]]\n"
          ]
        }
      ],
      "source": [
        "# Print confusion matrix\n",
        "cm = confusion_matrix(mean_med_y, predictions)\n",
        "print(cm)"
      ]
    },
    {
      "cell_type": "markdown",
      "id": "f46ca242-bf58-4ec4-a702-58486cfa7c36",
      "metadata": {
        "id": "f46ca242-bf58-4ec4-a702-58486cfa7c36"
      },
      "source": [
        "#### Classification report"
      ]
    },
    {
      "cell_type": "code",
      "execution_count": 63,
      "id": "888f6e93-621a-41c4-aab1-a6df543c38ba",
      "metadata": {
        "colab": {
          "base_uri": "https://localhost:8080/"
        },
        "id": "888f6e93-621a-41c4-aab1-a6df543c38ba",
        "outputId": "c3968b09-d439-49f5-9463-424dc80cdccc"
      },
      "outputs": [
        {
          "output_type": "stream",
          "name": "stdout",
          "text": [
            "              precision    recall  f1-score   support\n",
            "\n",
            "    BARBUNYA       1.00      1.00      1.00         2\n",
            "      BOMBAY       1.00      1.00      1.00         2\n",
            "        CALI       1.00      1.00      1.00         2\n",
            "    DERMASON       1.00      1.00      1.00         2\n",
            "       HOROZ       1.00      1.00      1.00         2\n",
            "       SEKER       1.00      1.00      1.00         2\n",
            "        SIRA       1.00      1.00      1.00         2\n",
            "\n",
            "    accuracy                           1.00        14\n",
            "   macro avg       1.00      1.00      1.00        14\n",
            "weighted avg       1.00      1.00      1.00        14\n",
            "\n"
          ]
        }
      ],
      "source": [
        "# Print precision, recall, f1-score, and accuracy\n",
        "cr = classification_report(mean_med_y, predictions)\n",
        "print(cr)"
      ]
    },
    {
      "cell_type": "markdown",
      "id": "4b9943f8-d191-46fd-9f6d-5899ca1f058f",
      "metadata": {
        "id": "4b9943f8-d191-46fd-9f6d-5899ca1f058f"
      },
      "source": [
        "Looks like the model does a fine job of classifying the mean bean."
      ]
    },
    {
      "cell_type": "markdown",
      "id": "0eee79b5-ae70-4562-9b72-2324fc675233",
      "metadata": {
        "id": "0eee79b5-ae70-4562-9b72-2324fc675233"
      },
      "source": [
        "## Conclusion"
      ]
    },
    {
      "cell_type": "markdown",
      "id": "ef36c918-1458-49f7-a43a-93351a59f313",
      "metadata": {
        "id": "ef36c918-1458-49f7-a43a-93351a59f313"
      },
      "source": [
        "Following feature selection, several models were tried with the bean data set, including: \n",
        "* Logistic Regression\n",
        "* Random Forest Classifier\n",
        "* Decision Tree Classifier\n",
        "* AdaBoost Classifier\n",
        "* Linear SVC\n",
        "* Support Vector Classifier (SVC)\n",
        "* Gaussian NB\n",
        "* Multi-Layer Perceptron (MLP) Classifier\n",
        "* Keras Sequential Network  \n",
        "\n",
        "Some models improved drastically with [hyperparameter tuning](https://github.com/ScottBreitbach/ScottBreitbach.github.io/blob/main/Portfolio-Projects/Beans-Classification/Hyperparameter-tuning.ipynb), like AdaBoost, while most showed only incremental improvements. Oddly, the Decision Tree model was consistently slightly worse with tuning, so I left it as-is.  \n",
        "\n",
        "While I managed to get them all above 85% accuracy, which is decent, overall accuracy seems to have peaked around 92-93%. I suspect this is a limitation of the data itself and could probably be improved slightly by both increasing the overall number of samples in the data set as well as balancing the number of beans in the data set, since the bean with the most values (DERMASON, with a count of 3546) had roughly 7X more samples than the least represented bean (BOMBAY, with a count of 522). I didn't include it here, but I showed [previously](https://github.com/ScottBreitbach/ScottBreitbach.github.io/blob/main/Portfolio-Projects/Beans-Classification/Feature-selection.ipynb), using a Random Forest Classifier, that the accuracy continued to steadily increase as the training set size increased.  \n",
        "\n",
        "The top two models, SVC and MLP, were very close and I cannot say for certain that one is better than the other because the results will vary slightly based on inherent randomness. That said, SVC was both easier and *much* faster to tune, so given the choice, I'd go with that one every time. While the Keras model was also pretty good, it was even more difficult to set up and tune, plus I had to encode my target variables, which was a task that was automatically handled by the other models. I also ran into more errors working with the Keras model, so I would say it is not very user friendly.  \n",
        "\n",
        "As-is, the models seem sufficient for the task of categorizing beans and, while I believe it could be further improved with some additional data, I would feel comfortable proposing it as a solution to the problem of bean identification, uniformity, and quality. "
      ]
    },
    {
      "cell_type": "code",
      "execution_count": 63,
      "id": "42fe116e-e00a-4a22-be79-9298e84009f9",
      "metadata": {
        "id": "42fe116e-e00a-4a22-be79-9298e84009f9"
      },
      "outputs": [],
      "source": [
        ""
      ]
    }
  ],
  "metadata": {
    "kernelspec": {
      "display_name": "Python 3 (ipykernel)",
      "language": "python",
      "name": "python3"
    },
    "language_info": {
      "codemirror_mode": {
        "name": "ipython",
        "version": 3
      },
      "file_extension": ".py",
      "mimetype": "text/x-python",
      "name": "python",
      "nbconvert_exporter": "python",
      "pygments_lexer": "ipython3",
      "version": "3.9.7"
    },
    "colab": {
      "name": "Beans-Classification.ipynb",
      "provenance": [],
      "collapsed_sections": [
        "3884a534-13df-40f6-9da1-81dc6bfc8368",
        "750f24c8-9b44-4804-9bca-6c9ea6385641",
        "19501349-e615-4ddc-bb61-17f474055cc2",
        "badee52b-9abd-442f-8056-b5575bb411a7",
        "334cd57c-f860-4b61-be86-9cbba58856e6",
        "32dbe00b-0309-4117-a532-2278d94da6f6",
        "4d4a0033-11c1-4a78-9d13-bbc33473e47b",
        "0110099e-6e93-45b9-8872-cd6a8fd6904c",
        "0871cd15-7564-4fa2-88a0-ea72dbf59957",
        "16db6bc5-73d4-4905-9b6f-b74134d0bf7f",
        "ea6d5acf-c96c-4d90-96ca-997fabc9401b",
        "4926270d-a62a-4233-a380-5b102874c55b",
        "2fbcb7c8-e026-4c3a-aa36-3f12d82b33ca",
        "f926dca0-d3d6-4b94-aeb2-e6508be7a775",
        "e89c0c55-1e72-4f86-8934-d3fc379aaca3",
        "b2dc3052-accd-4d31-a458-a2a7a4f2ed93",
        "bda6c26d-3e10-4790-b7a7-06b81b9bc9d2",
        "a031c72e-0d0b-4321-8e30-77e169c19cb7",
        "ff247699-a704-4d03-ba91-f0bbd4df1ca8",
        "9660b178-0e9e-4fa1-8bc2-79862ee5a422",
        "be49720b-09f6-4cd7-bd72-a311f06170fd",
        "f989255e-8ed6-4990-82cd-c56ee23bec47",
        "ff156378-de9c-425f-8ebd-3b2864934114",
        "d42d954e-cc2e-4ef1-a1f5-dad2f8c0dd61",
        "5a467acb-510e-42b1-af7b-740241570e10",
        "74ad1524-aea5-4038-9f21-beb083d9623a",
        "a47eeaf0-2b46-46f1-a57b-89dc787f77d9",
        "e086635a-a74c-4c38-8a55-c5de09fa1971",
        "ccce46d2-6f28-4598-abaf-42956dae2d93",
        "75380132-666c-42d0-b0ba-d2f2c0516cc6",
        "7002ac67-137a-4922-99f3-91674880d57f",
        "56e6e749-8c61-4a0e-a3db-08c57952cdca",
        "f46ca242-bf58-4ec4-a702-58486cfa7c36"
      ]
    }
  },
  "nbformat": 4,
  "nbformat_minor": 5
}