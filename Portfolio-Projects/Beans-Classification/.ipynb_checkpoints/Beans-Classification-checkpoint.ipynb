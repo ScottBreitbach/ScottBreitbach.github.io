{
 "cells": [
  {
   "cell_type": "markdown",
   "id": "5de107b1-5130-43b9-b510-7ab4240c202b",
   "metadata": {},
   "source": [
    "# Scott Breitbach"
   ]
  },
  {
   "cell_type": "markdown",
   "id": "4daa1548-ad3c-46e3-8481-9d37ae297ca0",
   "metadata": {},
   "source": [
    "# Case Study: Beans"
   ]
  },
  {
   "cell_type": "markdown",
   "id": "9d499cc9-d480-4e96-bd1b-6a13b8370242",
   "metadata": {},
   "source": [
    "## Introduction\n",
    "My initial intention with this project was to utilize a data set from a project I’ve been working on in my job in the hopes of getting not just a better understanding of the process, but hopefully gaining some insights into how the process could be improved. Unfortunately, I quickly realized that the data set I was using was maybe not ideal for applying the techniques I wanted. There is quite a bit of missing data and by the time the useful data was sorted out, there really wasn’t enough left to work with.  \n",
    "\n",
    "Following this minor setback, I was able to find another data set about dry beans that was not just a better fit, but also appealed to some of my interests. I grew up farming and considered going into plant genetics before falling into microbiology.  So a data set about a food crop felt like a good option with which to proceed."
   ]
  },
  {
   "cell_type": "markdown",
   "id": "413b580f-d066-416a-ad86-3ab4c963886d",
   "metadata": {},
   "source": [
    "## Business Problem / Data\n",
    "Dry beans are an important food crop worldwide. There is a lot of diversity in bean varieties and both classification and seed quality are important factors in the agricultural industry for maximizing production in order to feed the growing world population.  \n",
    "\n",
    "This data set was created utilizing computer vision to automatically generate 16 features based on high resolution images of 13,611 individuals from 7 different kinds of beans. These features are based on various measurements of the beans on 12 form dimensions (such as area, length, and perimeter) and 4 shape factors.  \n",
    "\n",
    "With an effective method to classify beans, the agricultural needs of bean uniformity can be met, both in regards to sorting beans as well as quality and consistency within bean varieties.  \n",
    "\n",
    "Data source: https://archive.ics.uci.edu/ml/datasets/Dry+Bean+Dataset"
   ]
  },
  {
   "cell_type": "code",
   "execution_count": 42,
   "id": "ff46922c-4723-4172-ac71-73cee212fc80",
   "metadata": {},
   "outputs": [],
   "source": [
    "# tf.keras.utils.to_categorical"
   ]
  },
  {
   "cell_type": "code",
   "execution_count": 1,
   "id": "1ff26bc5-59fe-4833-85b8-a8a0794e6b47",
   "metadata": {},
   "outputs": [
    {
     "ename": "ImportError",
     "evalue": "cannot import name 'utils' from 'tensorflow.keras' (unknown location)",
     "output_type": "error",
     "traceback": [
      "\u001b[1;31m---------------------------------------------------------------------------\u001b[0m",
      "\u001b[1;31mImportError\u001b[0m                               Traceback (most recent call last)",
      "\u001b[1;32m~\\AppData\\Local\\Temp/ipykernel_21068/71509784.py\u001b[0m in \u001b[0;36m<module>\u001b[1;34m\u001b[0m\n\u001b[1;32m----> 1\u001b[1;33m \u001b[1;32mfrom\u001b[0m \u001b[0mtensorflow\u001b[0m\u001b[1;33m.\u001b[0m\u001b[0mkeras\u001b[0m \u001b[1;32mimport\u001b[0m \u001b[0mutils\u001b[0m\u001b[1;33m\u001b[0m\u001b[1;33m\u001b[0m\u001b[0m\n\u001b[0m",
      "\u001b[1;31mImportError\u001b[0m: cannot import name 'utils' from 'tensorflow.keras' (unknown location)"
     ]
    }
   ],
   "source": [
    "from tensorflow.keras import utils"
   ]
  },
  {
   "cell_type": "code",
   "execution_count": 2,
   "id": "57477165-c6fc-4401-a797-7628c618ff4c",
   "metadata": {},
   "outputs": [
    {
     "ename": "ModuleNotFoundError",
     "evalue": "No module named 'tensorflow.keras.utils'",
     "output_type": "error",
     "traceback": [
      "\u001b[1;31m---------------------------------------------------------------------------\u001b[0m",
      "\u001b[1;31mModuleNotFoundError\u001b[0m                       Traceback (most recent call last)",
      "\u001b[1;32m~\\AppData\\Local\\Temp/ipykernel_21068/1067917993.py\u001b[0m in \u001b[0;36m<module>\u001b[1;34m\u001b[0m\n\u001b[0;32m     21\u001b[0m \u001b[1;32mfrom\u001b[0m \u001b[0msklearn\u001b[0m\u001b[1;33m.\u001b[0m\u001b[0mnaive_bayes\u001b[0m \u001b[1;32mimport\u001b[0m \u001b[0mGaussianNB\u001b[0m\u001b[1;33m\u001b[0m\u001b[1;33m\u001b[0m\u001b[0m\n\u001b[0;32m     22\u001b[0m \u001b[1;32mfrom\u001b[0m \u001b[0msklearn\u001b[0m\u001b[1;33m.\u001b[0m\u001b[0mneural_network\u001b[0m \u001b[1;32mimport\u001b[0m \u001b[0mMLPClassifier\u001b[0m\u001b[1;33m\u001b[0m\u001b[1;33m\u001b[0m\u001b[0m\n\u001b[1;32m---> 23\u001b[1;33m \u001b[1;32mfrom\u001b[0m \u001b[0mtensorflow\u001b[0m\u001b[1;33m.\u001b[0m\u001b[0mkeras\u001b[0m\u001b[1;33m.\u001b[0m\u001b[0mutils\u001b[0m \u001b[1;32mimport\u001b[0m \u001b[0mto_categorical\u001b[0m\u001b[1;33m\u001b[0m\u001b[1;33m\u001b[0m\u001b[0m\n\u001b[0m\u001b[0;32m     24\u001b[0m \u001b[1;32mfrom\u001b[0m \u001b[0mtensorflow\u001b[0m\u001b[1;33m.\u001b[0m\u001b[0mkeras\u001b[0m\u001b[1;33m.\u001b[0m\u001b[0mmodels\u001b[0m \u001b[1;32mimport\u001b[0m \u001b[0mSequential\u001b[0m\u001b[1;33m\u001b[0m\u001b[1;33m\u001b[0m\u001b[0m\n\u001b[0;32m     25\u001b[0m \u001b[1;32mfrom\u001b[0m \u001b[0mtensorflow\u001b[0m\u001b[1;33m.\u001b[0m\u001b[0mkeras\u001b[0m\u001b[1;33m.\u001b[0m\u001b[0mlayers\u001b[0m \u001b[1;32mimport\u001b[0m \u001b[0mDense\u001b[0m\u001b[1;33m\u001b[0m\u001b[1;33m\u001b[0m\u001b[0m\n",
      "\u001b[1;31mModuleNotFoundError\u001b[0m: No module named 'tensorflow.keras.utils'"
     ]
    }
   ],
   "source": [
    "# Load Libraries\n",
    "import pandas as pd\n",
    "import numpy as np\n",
    "import tensorflow as tf\n",
    "\n",
    "from sklearn.preprocessing import StandardScaler\n",
    "from sklearn.preprocessing import LabelEncoder\n",
    "from sklearn.model_selection import train_test_split\n",
    "from catboost import CatBoostClassifier\n",
    "from sklearn.metrics import accuracy_score, roc_auc_score\n",
    "from sklearn.feature_selection import f_classif\n",
    "from sklearn.feature_selection import mutual_info_classif\n",
    "from sklearn.linear_model import LogisticRegression\n",
    "from lightgbm import LGBMClassifier\n",
    "from mrmr import mrmr_classif\n",
    "from sklearn.ensemble import RandomForestClassifier\n",
    "from sklearn.tree import DecisionTreeClassifier\n",
    "from sklearn.ensemble import AdaBoostClassifier\n",
    "from sklearn.svm import LinearSVC\n",
    "from sklearn.svm import SVC\n",
    "from sklearn.naive_bayes import GaussianNB\n",
    "from sklearn.neural_network import MLPClassifier\n",
    "from tensorflow.keras.utils import to_categorical\n",
    "from tensorflow.keras.models import Sequential\n",
    "from tensorflow.keras.layers import Dense\n",
    "from tensorflow.keras.optimizers import Adam\n",
    "from sklearn.metrics import classification_report, confusion_matrix\n",
    "\n",
    "# Set random seed\n",
    "np.random.seed(42)"
   ]
  },
  {
   "cell_type": "code",
   "execution_count": 47,
   "id": "2bc9cb21-0d74-42af-a164-8b9be32ab416",
   "metadata": {},
   "outputs": [],
   "source": [
    "# # Load Libraries\n",
    "# import pandas as pd\n",
    "# import numpy as np\n",
    "# import tensorflow as tf\n",
    "\n",
    "# from sklearn.preprocessing import StandardScaler\n",
    "# from sklearn.preprocessing import LabelEncoder\n",
    "# from sklearn.model_selection import train_test_split\n",
    "# from catboost import CatBoostClassifier\n",
    "# from sklearn.metrics import accuracy_score, roc_auc_score\n",
    "# from sklearn.feature_selection import f_classif\n",
    "# from sklearn.feature_selection import mutual_info_classif\n",
    "# from sklearn.linear_model import LogisticRegression\n",
    "# from lightgbm import LGBMClassifier\n",
    "# from mrmr import mrmr_classif\n",
    "# from sklearn.ensemble import RandomForestClassifier\n",
    "# from sklearn.tree import DecisionTreeClassifier\n",
    "# from sklearn.ensemble import AdaBoostClassifier\n",
    "# from sklearn.svm import LinearSVC\n",
    "# from sklearn.svm import SVC\n",
    "# from sklearn.naive_bayes import GaussianNB\n",
    "# from sklearn.neural_network import MLPClassifier\n",
    "# # from keras.utils.np_utils import to_categorical\n",
    "# # from keras.models import Sequential\n",
    "# # from keras.layers import Dense\n",
    "# # from tensorflow.keras.optimizers import Adam\n",
    "# from sklearn.metrics import classification_report, confusion_matrix\n",
    "\n",
    "# # Set random seed\n",
    "# np.random.seed(42)"
   ]
  },
  {
   "cell_type": "markdown",
   "id": "937569b6-9dac-4ce2-9b19-d446fd66fdac",
   "metadata": {},
   "source": [
    "### Load Data"
   ]
  },
  {
   "cell_type": "code",
   "execution_count": 48,
   "id": "c3a4c223-cdd3-4bde-a24e-c888fb3a7ead",
   "metadata": {},
   "outputs": [],
   "source": [
    "# Load data to a DataFrame\n",
    "beanDF = pd.read_excel('data/Dry_Bean_Dataset.xlsx')"
   ]
  },
  {
   "cell_type": "code",
   "execution_count": 49,
   "id": "2a32ba66-c2c4-440c-86e6-7f367f3e9a16",
   "metadata": {},
   "outputs": [
    {
     "data": {
      "text/html": [
       "<div>\n",
       "<style scoped>\n",
       "    .dataframe tbody tr th:only-of-type {\n",
       "        vertical-align: middle;\n",
       "    }\n",
       "\n",
       "    .dataframe tbody tr th {\n",
       "        vertical-align: top;\n",
       "    }\n",
       "\n",
       "    .dataframe thead th {\n",
       "        text-align: right;\n",
       "    }\n",
       "</style>\n",
       "<table border=\"1\" class=\"dataframe\">\n",
       "  <thead>\n",
       "    <tr style=\"text-align: right;\">\n",
       "      <th></th>\n",
       "      <th>Area</th>\n",
       "      <th>Perimeter</th>\n",
       "      <th>MajorAxisLength</th>\n",
       "      <th>MinorAxisLength</th>\n",
       "      <th>AspectRation</th>\n",
       "      <th>Eccentricity</th>\n",
       "      <th>ConvexArea</th>\n",
       "      <th>EquivDiameter</th>\n",
       "      <th>Extent</th>\n",
       "      <th>Solidity</th>\n",
       "      <th>roundness</th>\n",
       "      <th>Compactness</th>\n",
       "      <th>ShapeFactor1</th>\n",
       "      <th>ShapeFactor2</th>\n",
       "      <th>ShapeFactor3</th>\n",
       "      <th>ShapeFactor4</th>\n",
       "      <th>Class</th>\n",
       "    </tr>\n",
       "  </thead>\n",
       "  <tbody>\n",
       "    <tr>\n",
       "      <th>0</th>\n",
       "      <td>28395</td>\n",
       "      <td>610.291</td>\n",
       "      <td>208.178117</td>\n",
       "      <td>173.888747</td>\n",
       "      <td>1.197191</td>\n",
       "      <td>0.549812</td>\n",
       "      <td>28715</td>\n",
       "      <td>190.141097</td>\n",
       "      <td>0.763923</td>\n",
       "      <td>0.988856</td>\n",
       "      <td>0.958027</td>\n",
       "      <td>0.913358</td>\n",
       "      <td>0.007332</td>\n",
       "      <td>0.003147</td>\n",
       "      <td>0.834222</td>\n",
       "      <td>0.998724</td>\n",
       "      <td>SEKER</td>\n",
       "    </tr>\n",
       "    <tr>\n",
       "      <th>1</th>\n",
       "      <td>28734</td>\n",
       "      <td>638.018</td>\n",
       "      <td>200.524796</td>\n",
       "      <td>182.734419</td>\n",
       "      <td>1.097356</td>\n",
       "      <td>0.411785</td>\n",
       "      <td>29172</td>\n",
       "      <td>191.272750</td>\n",
       "      <td>0.783968</td>\n",
       "      <td>0.984986</td>\n",
       "      <td>0.887034</td>\n",
       "      <td>0.953861</td>\n",
       "      <td>0.006979</td>\n",
       "      <td>0.003564</td>\n",
       "      <td>0.909851</td>\n",
       "      <td>0.998430</td>\n",
       "      <td>SEKER</td>\n",
       "    </tr>\n",
       "    <tr>\n",
       "      <th>2</th>\n",
       "      <td>29380</td>\n",
       "      <td>624.110</td>\n",
       "      <td>212.826130</td>\n",
       "      <td>175.931143</td>\n",
       "      <td>1.209713</td>\n",
       "      <td>0.562727</td>\n",
       "      <td>29690</td>\n",
       "      <td>193.410904</td>\n",
       "      <td>0.778113</td>\n",
       "      <td>0.989559</td>\n",
       "      <td>0.947849</td>\n",
       "      <td>0.908774</td>\n",
       "      <td>0.007244</td>\n",
       "      <td>0.003048</td>\n",
       "      <td>0.825871</td>\n",
       "      <td>0.999066</td>\n",
       "      <td>SEKER</td>\n",
       "    </tr>\n",
       "    <tr>\n",
       "      <th>3</th>\n",
       "      <td>30008</td>\n",
       "      <td>645.884</td>\n",
       "      <td>210.557999</td>\n",
       "      <td>182.516516</td>\n",
       "      <td>1.153638</td>\n",
       "      <td>0.498616</td>\n",
       "      <td>30724</td>\n",
       "      <td>195.467062</td>\n",
       "      <td>0.782681</td>\n",
       "      <td>0.976696</td>\n",
       "      <td>0.903936</td>\n",
       "      <td>0.928329</td>\n",
       "      <td>0.007017</td>\n",
       "      <td>0.003215</td>\n",
       "      <td>0.861794</td>\n",
       "      <td>0.994199</td>\n",
       "      <td>SEKER</td>\n",
       "    </tr>\n",
       "    <tr>\n",
       "      <th>4</th>\n",
       "      <td>30140</td>\n",
       "      <td>620.134</td>\n",
       "      <td>201.847882</td>\n",
       "      <td>190.279279</td>\n",
       "      <td>1.060798</td>\n",
       "      <td>0.333680</td>\n",
       "      <td>30417</td>\n",
       "      <td>195.896503</td>\n",
       "      <td>0.773098</td>\n",
       "      <td>0.990893</td>\n",
       "      <td>0.984877</td>\n",
       "      <td>0.970516</td>\n",
       "      <td>0.006697</td>\n",
       "      <td>0.003665</td>\n",
       "      <td>0.941900</td>\n",
       "      <td>0.999166</td>\n",
       "      <td>SEKER</td>\n",
       "    </tr>\n",
       "  </tbody>\n",
       "</table>\n",
       "</div>"
      ],
      "text/plain": [
       "    Area  Perimeter  MajorAxisLength  MinorAxisLength  AspectRation  \\\n",
       "0  28395    610.291       208.178117       173.888747      1.197191   \n",
       "1  28734    638.018       200.524796       182.734419      1.097356   \n",
       "2  29380    624.110       212.826130       175.931143      1.209713   \n",
       "3  30008    645.884       210.557999       182.516516      1.153638   \n",
       "4  30140    620.134       201.847882       190.279279      1.060798   \n",
       "\n",
       "   Eccentricity  ConvexArea  EquivDiameter    Extent  Solidity  roundness  \\\n",
       "0      0.549812       28715     190.141097  0.763923  0.988856   0.958027   \n",
       "1      0.411785       29172     191.272750  0.783968  0.984986   0.887034   \n",
       "2      0.562727       29690     193.410904  0.778113  0.989559   0.947849   \n",
       "3      0.498616       30724     195.467062  0.782681  0.976696   0.903936   \n",
       "4      0.333680       30417     195.896503  0.773098  0.990893   0.984877   \n",
       "\n",
       "   Compactness  ShapeFactor1  ShapeFactor2  ShapeFactor3  ShapeFactor4  Class  \n",
       "0     0.913358      0.007332      0.003147      0.834222      0.998724  SEKER  \n",
       "1     0.953861      0.006979      0.003564      0.909851      0.998430  SEKER  \n",
       "2     0.908774      0.007244      0.003048      0.825871      0.999066  SEKER  \n",
       "3     0.928329      0.007017      0.003215      0.861794      0.994199  SEKER  \n",
       "4     0.970516      0.006697      0.003665      0.941900      0.999166  SEKER  "
      ]
     },
     "execution_count": 49,
     "metadata": {},
     "output_type": "execute_result"
    }
   ],
   "source": [
    "# Get a look at the data\n",
    "beanDF.head()"
   ]
  },
  {
   "cell_type": "markdown",
   "id": "484ab08e-d8c2-4ead-97a0-f3902fd9666f",
   "metadata": {},
   "source": [
    "The values for different features vary by orders of magnitude, so these will need to be scaled prior to modeling. "
   ]
  },
  {
   "cell_type": "code",
   "execution_count": 50,
   "id": "7f399f2c-8cc9-462a-90c2-8054a39367db",
   "metadata": {},
   "outputs": [
    {
     "data": {
      "text/plain": [
       "(13611, 17)"
      ]
     },
     "execution_count": 50,
     "metadata": {},
     "output_type": "execute_result"
    }
   ],
   "source": [
    "# Look at the shape of the DataFrame\n",
    "beanDF.shape"
   ]
  },
  {
   "cell_type": "code",
   "execution_count": 51,
   "id": "e2dfa622-fd58-4532-81a0-65870e9481a7",
   "metadata": {},
   "outputs": [
    {
     "data": {
      "text/plain": [
       "Class\n",
       "DERMASON    3546\n",
       "SIRA        2636\n",
       "SEKER       2027\n",
       "HOROZ       1928\n",
       "CALI        1630\n",
       "BARBUNYA    1322\n",
       "BOMBAY       522\n",
       "dtype: int64"
      ]
     },
     "execution_count": 51,
     "metadata": {},
     "output_type": "execute_result"
    }
   ],
   "source": [
    "# See the relative numbers of each target category\n",
    "beanDF.value_counts('Class')"
   ]
  },
  {
   "cell_type": "markdown",
   "id": "17ca62bc-b4cf-48d6-aef4-7f85cd437f97",
   "metadata": {},
   "source": [
    "We can see here that an immediate improvement to the data set would be to increase the number of data points for beans like 'CALI', 'BARBUNYA', and particularly 'BOMBAY', or better yet make the entire data set more uniform by increasing the data points for each bean to around 3,500 in order to match 'DERMASON'. "
   ]
  },
  {
   "cell_type": "markdown",
   "id": "14668dd5-bbdc-4b71-b057-592c10ba415e",
   "metadata": {},
   "source": [
    "## Graphical Analysis"
   ]
  },
  {
   "cell_type": "code",
   "execution_count": 52,
   "id": "dcaafbaf-5d9f-4ce2-b72b-4f58748fff46",
   "metadata": {},
   "outputs": [],
   "source": [
    "# Load libraries\n",
    "import matplotlib.pyplot as plt\n",
    "\n",
    "# Set up figure size\n",
    "plt.rcParams['figure.figsize'] = (12, 8)"
   ]
  },
  {
   "cell_type": "markdown",
   "id": "3884a534-13df-40f6-9da1-81dc6bfc8368",
   "metadata": {},
   "source": [
    "### Visualize Relative Counts by Class (the target variable)"
   ]
  },
  {
   "cell_type": "code",
   "execution_count": 53,
   "id": "11f82b8c-be1b-44b8-9e19-593db46d2870",
   "metadata": {},
   "outputs": [
    {
     "data": {
      "image/png": "[encoded data removed]",
      "text/plain": [
       "<Figure size 864x576 with 1 Axes>"
      ]
     },
     "metadata": {
      "needs_background": "light"
     },
     "output_type": "display_data"
    }
   ],
   "source": [
    "# Get the data ready to feed into the visualizer\n",
    "X_Class = beanDF.groupby('Class').size().reset_index(name='Counts')['Class']\n",
    "Y_Class = beanDF.groupby('Class').size().reset_index(name='Counts')['Counts']\n",
    "\n",
    "# Make the 1st bar plot\n",
    "plt.bar(X_Class, Y_Class)\n",
    "plt.title('Counts by Class', fontsize=25)\n",
    "plt.xlabel('Class of Bean', fontsize=15)\n",
    "plt.ylabel('Counts', fontsize=15)\n",
    "plt.tick_params(axis='both', labelsize=12)\n",
    "\n",
    "plt.show()"
   ]
  },
  {
   "cell_type": "markdown",
   "id": "750f24c8-9b44-4804-9bca-6c9ea6385641",
   "metadata": {},
   "source": [
    "### Visualize Average Values for Each Attribute by Bean Type"
   ]
  },
  {
   "cell_type": "code",
   "execution_count": 54,
   "id": "19e7b4fe-9edb-422f-aa10-87088bec03ff",
   "metadata": {},
   "outputs": [
    {
     "data": {
      "image/png": "[encoded data removed]",
      "text/plain": [
       "<Figure size 1440x1080 with 12 Axes>"
      ]
     },
     "metadata": {
      "needs_background": "light"
     },
     "output_type": "display_data"
    }
   ],
   "source": [
    "# Set up figure size\n",
    "plt.rcParams['figure.figsize'] = (20, 15)\n",
    "\n",
    "# Make subplots\n",
    "fig, axes = plt.subplots(nrows=4, ncols=3, sharex='col')\n",
    "\n",
    "# Set font sizes\n",
    "title  = 15\n",
    "yLabel = 12\n",
    "ticks  = 8\n",
    "# Set up axes / ticks\n",
    "for ax in fig.axes:\n",
    "    plt.sca(ax)\n",
    "    plt.xticks(rotation=45)\n",
    "    plt.ylabel('Mean', fontsize=yLabel)\n",
    "\n",
    "## PLOT 1 - AREA\n",
    "# Group by 'Class'\n",
    "X_Axis = beanDF.groupby('Class').aggregate({'Area':'mean'}).reset_index('Class')['Class']\n",
    "Y_Axis = beanDF.groupby('Class').aggregate({'Area':'mean'}).reset_index('Class')['Area']\n",
    "# Build chart\n",
    "axes[0, 0].bar(X_Axis, Y_Axis)\n",
    "axes[0, 0].set_title('Area', fontsize=title)\n",
    "\n",
    "\n",
    "## PLOT 2 - PERIMETER\n",
    "# Group by 'Class'\n",
    "X_Axis = beanDF.groupby('Class').aggregate({'Perimeter':'mean'}).reset_index('Class')['Class']\n",
    "Y_Axis = beanDF.groupby('Class').aggregate({'Perimeter':'mean'}).reset_index('Class')['Perimeter']\n",
    "# Build chart\n",
    "axes[0, 1].bar(X_Axis, Y_Axis)\n",
    "axes[0, 1].set_title('Perimeter', fontsize=title)\n",
    "\n",
    "## PLOT 3 - MAJOR AXIS LENGTH\n",
    "# Group by 'Class'\n",
    "X_Axis = beanDF.groupby('Class').aggregate({'MajorAxisLength':'mean'}).reset_index('Class')['Class']\n",
    "Y_Axis = beanDF.groupby('Class').aggregate({'MajorAxisLength':'mean'}).reset_index('Class')['MajorAxisLength']\n",
    "# Build chart\n",
    "axes[0, 2].bar(X_Axis, Y_Axis)\n",
    "axes[0, 2].set_title('Major Axis Length', fontsize=title)\n",
    "\n",
    "## PLOT 4 - MINOR AXIS LENGTH\n",
    "# Group by 'Class'\n",
    "X_Axis = beanDF.groupby('Class').aggregate({'MinorAxisLength':'mean'}).reset_index('Class')['Class']\n",
    "Y_Axis = beanDF.groupby('Class').aggregate({'MinorAxisLength':'mean'}).reset_index('Class')['MinorAxisLength']\n",
    "# Build chart\n",
    "axes[1, 0].bar(X_Axis, Y_Axis)\n",
    "axes[1, 0].set_title('Minor Axis Length', fontsize=title)\n",
    "\n",
    "## PLOT 5 - ASPECT RATIO\n",
    "# Group by 'Class'\n",
    "X_Axis = beanDF.groupby('Class').aggregate({'AspectRation':'mean'}).reset_index('Class')['Class']\n",
    "Y_Axis = beanDF.groupby('Class').aggregate({'AspectRation':'mean'}).reset_index('Class')['AspectRation']\n",
    "# Build chart\n",
    "axes[1, 1].bar(X_Axis, Y_Axis)\n",
    "axes[1, 1].set_title('Aspect Ratio', fontsize=title)\n",
    "\n",
    "## PLOT 6 - ECCENTRICITY\n",
    "# Group by 'Class'\n",
    "X_Axis = beanDF.groupby('Class').aggregate({'Eccentricity':'mean'}).reset_index('Class')['Class']\n",
    "Y_Axis = beanDF.groupby('Class').aggregate({'Eccentricity':'mean'}).reset_index('Class')['Eccentricity']\n",
    "# Build chart\n",
    "axes[1, 2].bar(X_Axis, Y_Axis)\n",
    "axes[1, 2].set_title('Eccentricity', fontsize=title)\n",
    "\n",
    "## PLOT 7 - CONVEX AREA\n",
    "# Group by 'Class'\n",
    "X_Axis = beanDF.groupby('Class').aggregate({'ConvexArea':'mean'}).reset_index('Class')['Class']\n",
    "Y_Axis = beanDF.groupby('Class').aggregate({'ConvexArea':'mean'}).reset_index('Class')['ConvexArea']\n",
    "# Build chart\n",
    "axes[2, 0].bar(X_Axis, Y_Axis)\n",
    "axes[2, 0].set_title('Convex Area', fontsize=title)\n",
    "\n",
    "## PLOT 8 - EQUIV DIAMETER\n",
    "# Group by 'Class'\n",
    "X_Axis = beanDF.groupby('Class').aggregate({'EquivDiameter':'mean'}).reset_index('Class')['Class']\n",
    "Y_Axis = beanDF.groupby('Class').aggregate({'EquivDiameter':'mean'}).reset_index('Class')['EquivDiameter']\n",
    "# Build chart\n",
    "axes[2, 1].bar(X_Axis, Y_Axis)\n",
    "axes[2, 1].set_title('Equiv Diameter', fontsize=title)\n",
    "\n",
    "## PLOT 9 - EXTENT\n",
    "# Group by 'Class'\n",
    "X_Axis = beanDF.groupby('Class').aggregate({'Extent':'mean'}).reset_index('Class')['Class']\n",
    "Y_Axis = beanDF.groupby('Class').aggregate({'Extent':'mean'}).reset_index('Class')['Extent']\n",
    "# Build chart\n",
    "axes[2, 2].bar(X_Axis, Y_Axis)\n",
    "axes[2, 2].set_title('Extent', fontsize=title)\n",
    "\n",
    "## PLOT 10 - SOLIDITY\n",
    "# Group by 'Class'\n",
    "X_Axis = beanDF.groupby('Class').aggregate({'Solidity':'mean'}).reset_index('Class')['Class']\n",
    "Y_Axis = beanDF.groupby('Class').aggregate({'Solidity':'mean'}).reset_index('Class')['Solidity']\n",
    "# Build chart\n",
    "axes[3, 0].bar(X_Axis, Y_Axis)\n",
    "axes[3, 0].set_title('Solidity', fontsize=title)\n",
    "\n",
    "## PLOT 11 - ROUNDNESS\n",
    "# Group by 'Class'\n",
    "X_Axis = beanDF.groupby('Class').aggregate({'roundness':'mean'}).reset_index('Class')['Class']\n",
    "Y_Axis = beanDF.groupby('Class').aggregate({'roundness':'mean'}).reset_index('Class')['roundness']\n",
    "# Build chart\n",
    "axes[3, 1].bar(X_Axis, Y_Axis)\n",
    "axes[3, 1].set_title('Roundness', fontsize=title)\n",
    "\n",
    "## PLOT 12 - COMPACTNESS\n",
    "# Group by 'Class'\n",
    "X_Axis = beanDF.groupby('Class').aggregate({'Compactness':'mean'}).reset_index('Class')['Class']\n",
    "Y_Axis = beanDF.groupby('Class').aggregate({'Compactness':'mean'}).reset_index('Class')['Compactness']\n",
    "# Build chart\n",
    "axes[3, 2].bar(X_Axis, Y_Axis)\n",
    "axes[3, 2].set_title('Compactness', fontsize=title)\n",
    "\n",
    "plt.show()"
   ]
  },
  {
   "cell_type": "markdown",
   "id": "19501349-e615-4ddc-bb61-17f474055cc2",
   "metadata": {},
   "source": [
    "### Visualize Average Values for Each Shape Factor by Bean Type"
   ]
  },
  {
   "cell_type": "code",
   "execution_count": 55,
   "id": "b10e3aac-d8ab-4938-a15d-ae1756afe42e",
   "metadata": {},
   "outputs": [
    {
     "data": {
      "image/png": "[encoded data removed]",
      "text/plain": [
       "<Figure size 1080x720 with 4 Axes>"
      ]
     },
     "metadata": {
      "needs_background": "light"
     },
     "output_type": "display_data"
    }
   ],
   "source": [
    "# Set up figure size\n",
    "plt.rcParams['figure.figsize'] = (15, 10)\n",
    "\n",
    "# Make subplots\n",
    "fig, axes = plt.subplots(nrows=2, ncols=2, sharex='col')\n",
    "\n",
    "# Set font sizes\n",
    "title  = 15\n",
    "yLabel = 12\n",
    "ticks  = 8\n",
    "# Set up axes / ticks\n",
    "for ax in fig.axes:\n",
    "    plt.sca(ax)\n",
    "    plt.xticks(rotation=45)\n",
    "    plt.ylabel('Mean', fontsize=yLabel)\n",
    "\n",
    "## PLOT 1 - SHAPE FACTOR 1\n",
    "# Group by 'Class'\n",
    "X_Axis = beanDF.groupby('Class').aggregate({'ShapeFactor1':'mean'}).reset_index('Class')['Class']\n",
    "Y_Axis = beanDF.groupby('Class').aggregate({'ShapeFactor1':'mean'}).reset_index('Class')['ShapeFactor1']\n",
    "# Build chart\n",
    "axes[0, 0].bar(X_Axis, Y_Axis)\n",
    "axes[0, 0].set_title('Shape Factor 1', fontsize=title)\n",
    "\n",
    "## PLOT 2 - SHAPE FACTOR 2\n",
    "# Group by 'Class'\n",
    "X_Axis = beanDF.groupby('Class').aggregate({'ShapeFactor2':'mean'}).reset_index('Class')['Class']\n",
    "Y_Axis = beanDF.groupby('Class').aggregate({'ShapeFactor2':'mean'}).reset_index('Class')['ShapeFactor2']\n",
    "# Build chart\n",
    "axes[0, 1].bar(X_Axis, Y_Axis)\n",
    "axes[0, 1].set_title('Shape Factor 2', fontsize=title)\n",
    "\n",
    "## PLOT 4 - SHAPE FACTOR 3\n",
    "# Group by 'Class'\n",
    "X_Axis = beanDF.groupby('Class').aggregate({'ShapeFactor3':'mean'}).reset_index('Class')['Class']\n",
    "Y_Axis = beanDF.groupby('Class').aggregate({'ShapeFactor3':'mean'}).reset_index('Class')['ShapeFactor3']\n",
    "# Build chart\n",
    "axes[1, 0].bar(X_Axis, Y_Axis)\n",
    "axes[1, 0].set_title('Shape Factor 3', fontsize=title)\n",
    "\n",
    "## PLOT 5 - SHAPE FACTOR 4\n",
    "# Group by 'Class'\n",
    "X_Axis = beanDF.groupby('Class').aggregate({'ShapeFactor4':'mean'}).reset_index('Class')['Class']\n",
    "Y_Axis = beanDF.groupby('Class').aggregate({'ShapeFactor4':'mean'}).reset_index('Class')['ShapeFactor4']\n",
    "# Build chart\n",
    "axes[1, 1].bar(X_Axis, Y_Axis)\n",
    "axes[1, 1].set_title('Shape Factor 4', fontsize=title)\n",
    "\n",
    "plt.show()"
   ]
  },
  {
   "cell_type": "markdown",
   "id": "e2bd4162-a633-46cc-8fe3-735e8ff52531",
   "metadata": {},
   "source": [
    "Looking at these charts, I would think that the features 'Solidity' and 'ShapeFactor4' would be completely useless, but if we scale the data and chart it again, you can see the variation:"
   ]
  },
  {
   "cell_type": "markdown",
   "id": "badee52b-9abd-442f-8056-b5575bb411a7",
   "metadata": {},
   "source": [
    "### Standardize Features"
   ]
  },
  {
   "cell_type": "code",
   "execution_count": 56,
   "id": "5d4987e9-d627-49d8-830d-21ab9138d847",
   "metadata": {},
   "outputs": [],
   "source": [
    "# Create a backup copy of the Data Frame\n",
    "copyDF = beanDF.copy()"
   ]
  },
  {
   "cell_type": "code",
   "execution_count": 57,
   "id": "de0b20b3-30b1-4215-973c-2d8d77c4b341",
   "metadata": {},
   "outputs": [],
   "source": [
    "# Set up features target set\n",
    "X = beanDF[beanDF.columns[:-1]]\n",
    "\n",
    "# Standardize Features\n",
    "scaler = StandardScaler()\n",
    "X = scaler.fit_transform(X)\n",
    "\n",
    "# Reapply standardized features to Data Frame\n",
    "beanDF[beanDF.columns[:-1]] = X"
   ]
  },
  {
   "cell_type": "markdown",
   "id": "334cd57c-f860-4b61-be86-9cbba58856e6",
   "metadata": {},
   "source": [
    "### Visualize Average Values for Standardized Attributes by Bean Type"
   ]
  },
  {
   "cell_type": "code",
   "execution_count": 58,
   "id": "5beaee69-eacc-4722-b15f-4cf26c3336fd",
   "metadata": {},
   "outputs": [
    {
     "data": {
      "image/png": "[encoded data removed]",
      "text/plain": [
       "<Figure size 1440x1080 with 12 Axes>"
      ]
     },
     "metadata": {
      "needs_background": "light"
     },
     "output_type": "display_data"
    }
   ],
   "source": [
    "# Set up figure size\n",
    "plt.rcParams['figure.figsize'] = (20, 15)\n",
    "\n",
    "# Make subplots\n",
    "fig, axes = plt.subplots(nrows=4, ncols=3, sharex='col')\n",
    "\n",
    "# Set font sizes\n",
    "title  = 15\n",
    "yLabel = 12\n",
    "ticks  = 8\n",
    "# Set up axes / ticks\n",
    "for ax in fig.axes:\n",
    "    plt.sca(ax)\n",
    "    plt.xticks(rotation=45)\n",
    "    plt.ylabel('Mean', fontsize=yLabel)\n",
    "\n",
    "## PLOT 1 - AREA\n",
    "# Group by 'Class'\n",
    "X_Axis = beanDF.groupby('Class').aggregate({'Area':'mean'}).reset_index('Class')['Class']\n",
    "Y_Axis = beanDF.groupby('Class').aggregate({'Area':'mean'}).reset_index('Class')['Area']\n",
    "# Build chart\n",
    "axes[0, 0].bar(X_Axis, Y_Axis)\n",
    "axes[0, 0].set_title('Area', fontsize=title)\n",
    "\n",
    "\n",
    "## PLOT 2 - PERIMETER\n",
    "# Group by 'Class'\n",
    "X_Axis = beanDF.groupby('Class').aggregate({'Perimeter':'mean'}).reset_index('Class')['Class']\n",
    "Y_Axis = beanDF.groupby('Class').aggregate({'Perimeter':'mean'}).reset_index('Class')['Perimeter']\n",
    "# Build chart\n",
    "axes[0, 1].bar(X_Axis, Y_Axis)\n",
    "axes[0, 1].set_title('Perimeter', fontsize=title)\n",
    "\n",
    "## PLOT 3 - MAJOR AXIS LENGTH\n",
    "# Group by 'Class'\n",
    "X_Axis = beanDF.groupby('Class').aggregate({'MajorAxisLength':'mean'}).reset_index('Class')['Class']\n",
    "Y_Axis = beanDF.groupby('Class').aggregate({'MajorAxisLength':'mean'}).reset_index('Class')['MajorAxisLength']\n",
    "# Build chart\n",
    "axes[0, 2].bar(X_Axis, Y_Axis)\n",
    "axes[0, 2].set_title('Major Axis Length', fontsize=title)\n",
    "\n",
    "## PLOT 4 - MINOR AXIS LENGTH\n",
    "# Group by 'Class'\n",
    "X_Axis = beanDF.groupby('Class').aggregate({'MinorAxisLength':'mean'}).reset_index('Class')['Class']\n",
    "Y_Axis = beanDF.groupby('Class').aggregate({'MinorAxisLength':'mean'}).reset_index('Class')['MinorAxisLength']\n",
    "# Build chart\n",
    "axes[1, 0].bar(X_Axis, Y_Axis)\n",
    "axes[1, 0].set_title('Minor Axis Length', fontsize=title)\n",
    "\n",
    "## PLOT 5 - ASPECT RATIO\n",
    "# Group by 'Class'\n",
    "X_Axis = beanDF.groupby('Class').aggregate({'AspectRation':'mean'}).reset_index('Class')['Class']\n",
    "Y_Axis = beanDF.groupby('Class').aggregate({'AspectRation':'mean'}).reset_index('Class')['AspectRation']\n",
    "# Build chart\n",
    "axes[1, 1].bar(X_Axis, Y_Axis)\n",
    "axes[1, 1].set_title('Aspect Ratio', fontsize=title)\n",
    "\n",
    "## PLOT 6 - ECCENTRICITY\n",
    "# Group by 'Class'\n",
    "X_Axis = beanDF.groupby('Class').aggregate({'Eccentricity':'mean'}).reset_index('Class')['Class']\n",
    "Y_Axis = beanDF.groupby('Class').aggregate({'Eccentricity':'mean'}).reset_index('Class')['Eccentricity']\n",
    "# Build chart\n",
    "axes[1, 2].bar(X_Axis, Y_Axis)\n",
    "axes[1, 2].set_title('Eccentricity', fontsize=title)\n",
    "\n",
    "## PLOT 7 - CONVEX AREA\n",
    "# Group by 'Class'\n",
    "X_Axis = beanDF.groupby('Class').aggregate({'ConvexArea':'mean'}).reset_index('Class')['Class']\n",
    "Y_Axis = beanDF.groupby('Class').aggregate({'ConvexArea':'mean'}).reset_index('Class')['ConvexArea']\n",
    "# Build chart\n",
    "axes[2, 0].bar(X_Axis, Y_Axis)\n",
    "axes[2, 0].set_title('Convex Area', fontsize=title)\n",
    "\n",
    "## PLOT 8 - EQUIV DIAMETER\n",
    "# Group by 'Class'\n",
    "X_Axis = beanDF.groupby('Class').aggregate({'EquivDiameter':'mean'}).reset_index('Class')['Class']\n",
    "Y_Axis = beanDF.groupby('Class').aggregate({'EquivDiameter':'mean'}).reset_index('Class')['EquivDiameter']\n",
    "# Build chart\n",
    "axes[2, 1].bar(X_Axis, Y_Axis)\n",
    "axes[2, 1].set_title('Equiv Diameter', fontsize=title)\n",
    "\n",
    "## PLOT 9 - EXTENT\n",
    "# Group by 'Class'\n",
    "X_Axis = beanDF.groupby('Class').aggregate({'Extent':'mean'}).reset_index('Class')['Class']\n",
    "Y_Axis = beanDF.groupby('Class').aggregate({'Extent':'mean'}).reset_index('Class')['Extent']\n",
    "# Build chart\n",
    "axes[2, 2].bar(X_Axis, Y_Axis)\n",
    "axes[2, 2].set_title('Extent', fontsize=title)\n",
    "\n",
    "## PLOT 10 - SOLIDITY\n",
    "# Group by 'Class'\n",
    "X_Axis = beanDF.groupby('Class').aggregate({'Solidity':'mean'}).reset_index('Class')['Class']\n",
    "Y_Axis = beanDF.groupby('Class').aggregate({'Solidity':'mean'}).reset_index('Class')['Solidity']\n",
    "# Build chart\n",
    "axes[3, 0].bar(X_Axis, Y_Axis)\n",
    "axes[3, 0].set_title('Solidity', fontsize=title)\n",
    "\n",
    "## PLOT 11 - ROUNDNESS\n",
    "# Group by 'Class'\n",
    "X_Axis = beanDF.groupby('Class').aggregate({'roundness':'mean'}).reset_index('Class')['Class']\n",
    "Y_Axis = beanDF.groupby('Class').aggregate({'roundness':'mean'}).reset_index('Class')['roundness']\n",
    "# Build chart\n",
    "axes[3, 1].bar(X_Axis, Y_Axis)\n",
    "axes[3, 1].set_title('Roundness', fontsize=title)\n",
    "\n",
    "## PLOT 12 - COMPACTNESS\n",
    "# Group by 'Class'\n",
    "X_Axis = beanDF.groupby('Class').aggregate({'Compactness':'mean'}).reset_index('Class')['Class']\n",
    "Y_Axis = beanDF.groupby('Class').aggregate({'Compactness':'mean'}).reset_index('Class')['Compactness']\n",
    "# Build chart\n",
    "axes[3, 2].bar(X_Axis, Y_Axis)\n",
    "axes[3, 2].set_title('Compactness', fontsize=title)\n",
    "\n",
    "plt.show()"
   ]
  },
  {
   "cell_type": "markdown",
   "id": "32dbe00b-0309-4117-a532-2278d94da6f6",
   "metadata": {},
   "source": [
    "### Visualize Average Values for Standardized Shape Factors by Bean Type"
   ]
  },
  {
   "cell_type": "code",
   "execution_count": 59,
   "id": "969f599d-8ac3-484c-a41c-4df43d7494f9",
   "metadata": {},
   "outputs": [
    {
     "data": {
      "image/png": "[encoded data removed]",
      "text/plain": [
       "<Figure size 1080x720 with 4 Axes>"
      ]
     },
     "metadata": {
      "needs_background": "light"
     },
     "output_type": "display_data"
    }
   ],
   "source": [
    "# Set up figure size\n",
    "plt.rcParams['figure.figsize'] = (15, 10)\n",
    "\n",
    "# Make subplots\n",
    "fig, axes = plt.subplots(nrows=2, ncols=2, sharex='col')\n",
    "\n",
    "# Set font sizes\n",
    "title  = 15\n",
    "yLabel = 12\n",
    "ticks  = 8\n",
    "# Set up axes / ticks\n",
    "for ax in fig.axes:\n",
    "    plt.sca(ax)\n",
    "    plt.xticks(rotation=45)\n",
    "    plt.ylabel('Mean', fontsize=yLabel)\n",
    "\n",
    "## PLOT 1 - SHAPE FACTOR 1\n",
    "# Group by 'Class'\n",
    "X_Axis = beanDF.groupby('Class').aggregate({'ShapeFactor1':'mean'}).reset_index('Class')['Class']\n",
    "Y_Axis = beanDF.groupby('Class').aggregate({'ShapeFactor1':'mean'}).reset_index('Class')['ShapeFactor1']\n",
    "# Build chart\n",
    "axes[0, 0].bar(X_Axis, Y_Axis)\n",
    "axes[0, 0].set_title('Shape Factor 1', fontsize=title)\n",
    "\n",
    "## PLOT 2 - SHAPE FACTOR 2\n",
    "# Group by 'Class'\n",
    "X_Axis = beanDF.groupby('Class').aggregate({'ShapeFactor2':'mean'}).reset_index('Class')['Class']\n",
    "Y_Axis = beanDF.groupby('Class').aggregate({'ShapeFactor2':'mean'}).reset_index('Class')['ShapeFactor2']\n",
    "# Build chart\n",
    "axes[0, 1].bar(X_Axis, Y_Axis)\n",
    "axes[0, 1].set_title('Shape Factor 2', fontsize=title)\n",
    "\n",
    "## PLOT 4 - SHAPE FACTOR 3\n",
    "# Group by 'Class'\n",
    "X_Axis = beanDF.groupby('Class').aggregate({'ShapeFactor3':'mean'}).reset_index('Class')['Class']\n",
    "Y_Axis = beanDF.groupby('Class').aggregate({'ShapeFactor3':'mean'}).reset_index('Class')['ShapeFactor3']\n",
    "# Build chart\n",
    "axes[1, 0].bar(X_Axis, Y_Axis)\n",
    "axes[1, 0].set_title('Shape Factor 3', fontsize=title)\n",
    "\n",
    "## PLOT 5 - SHAPE FACTOR 4\n",
    "# Group by 'Class'\n",
    "X_Axis = beanDF.groupby('Class').aggregate({'ShapeFactor4':'mean'}).reset_index('Class')['Class']\n",
    "Y_Axis = beanDF.groupby('Class').aggregate({'ShapeFactor4':'mean'}).reset_index('Class')['ShapeFactor4']\n",
    "# Build chart\n",
    "axes[1, 1].bar(X_Axis, Y_Axis)\n",
    "axes[1, 1].set_title('Shape Factor 4', fontsize=title)\n",
    "\n",
    "plt.show()"
   ]
  },
  {
   "cell_type": "code",
   "execution_count": 60,
   "id": "49c6c391-df9d-405c-bb43-714bb235a8e1",
   "metadata": {},
   "outputs": [],
   "source": [
    "# Restore original bean DataFrame\n",
    "beanDF = copyDF.copy()"
   ]
  },
  {
   "cell_type": "markdown",
   "id": "03fe705c-ce80-4bb0-ae8b-dbfcbdc90a20",
   "metadata": {},
   "source": [
    "## Dimensionality & Feature Reduction / Engineering"
   ]
  },
  {
   "cell_type": "markdown",
   "id": "4d4a0033-11c1-4a78-9d13-bbc33473e47b",
   "metadata": {},
   "source": [
    "### Split Training and Testing Data"
   ]
  },
  {
   "cell_type": "code",
   "execution_count": 61,
   "id": "26f3ae41-2273-4c4c-a1f4-1beed3e76e8b",
   "metadata": {},
   "outputs": [],
   "source": [
    "# Set up features target sets\n",
    "X = beanDF[beanDF.columns[:-1]]\n",
    "y = beanDF.Class\n",
    "\n",
    "# Encode the target variables\n",
    "le = LabelEncoder()\n",
    "y = le.fit_transform(y)\n",
    "\n",
    "# Split the data\n",
    "X_train, X_test, y_train, y_test = train_test_split(X, y, test_size =0.3, \n",
    "                                                    random_state=42)\n",
    "\n",
    "# Standardize the features\n",
    "scaler = StandardScaler()\n",
    "X_train = scaler.fit_transform(X_train) \n",
    "X_test  = scaler.transform(X_test)"
   ]
  },
  {
   "cell_type": "markdown",
   "id": "0110099e-6e93-45b9-8872-cd6a8fd6904c",
   "metadata": {},
   "source": [
    "### Feature Selection\n",
    "We'll try out 5 methods for selecting the best features and compare the results of each."
   ]
  },
  {
   "cell_type": "markdown",
   "id": "0871cd15-7564-4fa2-88a0-ea72dbf59957",
   "metadata": {},
   "source": [
    "#### 1. F-Statistic\n",
    "The result of the ANOVA F-test, comparing variability between- and within-groups."
   ]
  },
  {
   "cell_type": "code",
   "execution_count": 62,
   "id": "650d6d24-4f6a-48e9-aee5-bd97316b0da3",
   "metadata": {},
   "outputs": [],
   "source": [
    "# Feature selection using F-statistic\n",
    "f = f_classif(X_train, y_train)[0]"
   ]
  },
  {
   "cell_type": "markdown",
   "id": "16db6bc5-73d4-4905-9b6f-b74134d0bf7f",
   "metadata": {},
   "source": [
    "#### 2. Mutual Information\n",
    "A mesure of mutual dependence between two variables."
   ]
  },
  {
   "cell_type": "code",
   "execution_count": 63,
   "id": "5c56c4c3-9fc2-4b23-8a21-1ad7987c5257",
   "metadata": {},
   "outputs": [],
   "source": [
    "# Feature selection using mutual information\n",
    "mi = mutual_info_classif(X_train, y_train)"
   ]
  },
  {
   "cell_type": "markdown",
   "id": "ea6d5acf-c96c-4d90-96ca-997fabc9401b",
   "metadata": {},
   "source": [
    "#### 3. Logistic Regression\n",
    "Relative importance of features based on fitting a logistic regression to the data."
   ]
  },
  {
   "cell_type": "code",
   "execution_count": 64,
   "id": "62d0b031-fea8-4df6-9180-4de9eed777d7",
   "metadata": {},
   "outputs": [],
   "source": [
    "# Feature selection using logistic regression\n",
    "logreg = LogisticRegression(max_iter=500).fit(X_train, y_train)"
   ]
  },
  {
   "cell_type": "markdown",
   "id": "4926270d-a62a-4233-a380-5b102874c55b",
   "metadata": {},
   "source": [
    "#### 4. LightGBM (Light Gradient Boosting Machine)\n",
    "Using another predictive model (this one based on decision tree) to fit data for estimating relative importance."
   ]
  },
  {
   "cell_type": "code",
   "execution_count": 65,
   "id": "a7d4a588-6824-448e-93dc-b22f5ea68fa3",
   "metadata": {},
   "outputs": [],
   "source": [
    "# Feature selection using light gbm\n",
    "lgbm = LGBMClassifier(\n",
    "    objective = 'multiclass',\n",
    "    metric = 'multi_logloss',\n",
    "    importance_type = 'gain'\n",
    ").fit(X_train, y_train)"
   ]
  },
  {
   "cell_type": "markdown",
   "id": "2fbcb7c8-e026-4c3a-aa36-3f12d82b33ca",
   "metadata": {},
   "source": [
    "#### 5. MRMR (Maximum Relevance Minimum Redundancy)\n",
    "Identify features with high relevance to the target variable, but small redundancy with each other."
   ]
  },
  {
   "cell_type": "code",
   "execution_count": 66,
   "id": "885965c1-f501-48e0-a351-b6f746c9c828",
   "metadata": {},
   "outputs": [],
   "source": [
    "# Feature selection using\n",
    "mrmr = mrmr_classif(pd.DataFrame(X_train), pd.Series(y_train), K = 784)"
   ]
  },
  {
   "cell_type": "markdown",
   "id": "f926dca0-d3d6-4b94-aeb2-e6508be7a775",
   "metadata": {},
   "source": [
    "#### Store Results"
   ]
  },
  {
   "cell_type": "code",
   "execution_count": 67,
   "id": "b26a8fd0-1d9a-4423-8fbe-1e0948258ab1",
   "metadata": {},
   "outputs": [],
   "source": [
    "# Create DF to store feature ranking info\n",
    "ranking = pd.DataFrame(index = range(X_train.shape[1]))\n",
    "\n",
    "# Store ranking info for each feature from each method\n",
    "ranking['feat'] = X.columns\n",
    "ranking['f'] = pd.Series(f, index = ranking.index).fillna(0).rank(ascending = False)\n",
    "ranking['mi'] = pd.Series(mi, index = ranking.index).fillna(0).rank(ascending = False)\n",
    "ranking['logreg'] = pd.Series(np.abs(logreg.coef_).mean(axis = 0), index = ranking.index).rank(ascending = False)\n",
    "ranking['lightgbm'] = pd.Series(lgbm.feature_importances_, index = ranking.index).rank(ascending = False)\n",
    "ranking['mrmr'] = pd.Series(list(range(1, len(mrmr) + 1)) + [X_train.shape[1]] * (X_train.shape[1] - len(mrmr)), index = mrmr + list(set(ranking.index) - set(mrmr))).sort_index()\n",
    "\n",
    "ranking = ranking.replace(to_replace = ranking.max(), value = X_train.shape[1])\n",
    "ranking.to_csv('ranking.csv', index = False)"
   ]
  },
  {
   "cell_type": "markdown",
   "id": "82f54c8e-4e41-4411-988c-2e11b1604e6e",
   "metadata": {},
   "source": [
    "##### Compare results and sum across rows to rank overall best/worst features"
   ]
  },
  {
   "cell_type": "code",
   "execution_count": 68,
   "id": "b43a6f90-deb1-4014-8232-ea6ebc777265",
   "metadata": {},
   "outputs": [
    {
     "data": {
      "text/html": [
       "<div>\n",
       "<style scoped>\n",
       "    .dataframe tbody tr th:only-of-type {\n",
       "        vertical-align: middle;\n",
       "    }\n",
       "\n",
       "    .dataframe tbody tr th {\n",
       "        vertical-align: top;\n",
       "    }\n",
       "\n",
       "    .dataframe thead th {\n",
       "        text-align: right;\n",
       "    }\n",
       "</style>\n",
       "<table border=\"1\" class=\"dataframe\">\n",
       "  <thead>\n",
       "    <tr style=\"text-align: right;\">\n",
       "      <th></th>\n",
       "      <th>feat</th>\n",
       "      <th>f</th>\n",
       "      <th>mi</th>\n",
       "      <th>logreg</th>\n",
       "      <th>lightgbm</th>\n",
       "      <th>mrmr</th>\n",
       "      <th>total</th>\n",
       "    </tr>\n",
       "  </thead>\n",
       "  <tbody>\n",
       "    <tr>\n",
       "      <th>0</th>\n",
       "      <td>Area</td>\n",
       "      <td>1.0</td>\n",
       "      <td>3.0</td>\n",
       "      <td>10.0</td>\n",
       "      <td>2.0</td>\n",
       "      <td>1</td>\n",
       "      <td>17.0</td>\n",
       "    </tr>\n",
       "    <tr>\n",
       "      <th>6</th>\n",
       "      <td>ConvexArea</td>\n",
       "      <td>2.0</td>\n",
       "      <td>4.0</td>\n",
       "      <td>8.0</td>\n",
       "      <td>4.0</td>\n",
       "      <td>4</td>\n",
       "      <td>22.0</td>\n",
       "    </tr>\n",
       "    <tr>\n",
       "      <th>1</th>\n",
       "      <td>Perimeter</td>\n",
       "      <td>4.0</td>\n",
       "      <td>1.0</td>\n",
       "      <td>5.0</td>\n",
       "      <td>7.0</td>\n",
       "      <td>6</td>\n",
       "      <td>23.0</td>\n",
       "    </tr>\n",
       "    <tr>\n",
       "      <th>3</th>\n",
       "      <td>MinorAxisLength</td>\n",
       "      <td>5.0</td>\n",
       "      <td>7.0</td>\n",
       "      <td>2.0</td>\n",
       "      <td>8.0</td>\n",
       "      <td>3</td>\n",
       "      <td>25.0</td>\n",
       "    </tr>\n",
       "    <tr>\n",
       "      <th>7</th>\n",
       "      <td>EquivDiameter</td>\n",
       "      <td>3.0</td>\n",
       "      <td>2.0</td>\n",
       "      <td>6.0</td>\n",
       "      <td>14.0</td>\n",
       "      <td>5</td>\n",
       "      <td>30.0</td>\n",
       "    </tr>\n",
       "    <tr>\n",
       "      <th>12</th>\n",
       "      <td>ShapeFactor1</td>\n",
       "      <td>8.0</td>\n",
       "      <td>8.0</td>\n",
       "      <td>1.0</td>\n",
       "      <td>3.0</td>\n",
       "      <td>10</td>\n",
       "      <td>30.0</td>\n",
       "    </tr>\n",
       "    <tr>\n",
       "      <th>2</th>\n",
       "      <td>MajorAxisLength</td>\n",
       "      <td>6.0</td>\n",
       "      <td>5.0</td>\n",
       "      <td>7.0</td>\n",
       "      <td>5.0</td>\n",
       "      <td>8</td>\n",
       "      <td>31.0</td>\n",
       "    </tr>\n",
       "    <tr>\n",
       "      <th>13</th>\n",
       "      <td>ShapeFactor2</td>\n",
       "      <td>7.0</td>\n",
       "      <td>6.0</td>\n",
       "      <td>3.0</td>\n",
       "      <td>10.0</td>\n",
       "      <td>12</td>\n",
       "      <td>38.0</td>\n",
       "    </tr>\n",
       "    <tr>\n",
       "      <th>11</th>\n",
       "      <td>Compactness</td>\n",
       "      <td>10.0</td>\n",
       "      <td>9.0</td>\n",
       "      <td>14.0</td>\n",
       "      <td>1.0</td>\n",
       "      <td>7</td>\n",
       "      <td>41.0</td>\n",
       "    </tr>\n",
       "    <tr>\n",
       "      <th>4</th>\n",
       "      <td>AspectRation</td>\n",
       "      <td>9.0</td>\n",
       "      <td>11.0</td>\n",
       "      <td>11.0</td>\n",
       "      <td>11.0</td>\n",
       "      <td>2</td>\n",
       "      <td>44.0</td>\n",
       "    </tr>\n",
       "    <tr>\n",
       "      <th>10</th>\n",
       "      <td>16</td>\n",
       "      <td>13.0</td>\n",
       "      <td>13.0</td>\n",
       "      <td>9.0</td>\n",
       "      <td>6.0</td>\n",
       "      <td>13</td>\n",
       "      <td>54.0</td>\n",
       "    </tr>\n",
       "    <tr>\n",
       "      <th>15</th>\n",
       "      <td>ShapeFactor4</td>\n",
       "      <td>14.0</td>\n",
       "      <td>14.0</td>\n",
       "      <td>4.0</td>\n",
       "      <td>9.0</td>\n",
       "      <td>14</td>\n",
       "      <td>55.0</td>\n",
       "    </tr>\n",
       "    <tr>\n",
       "      <th>14</th>\n",
       "      <td>ShapeFactor3</td>\n",
       "      <td>11.0</td>\n",
       "      <td>10.0</td>\n",
       "      <td>13.0</td>\n",
       "      <td>15.0</td>\n",
       "      <td>9</td>\n",
       "      <td>58.0</td>\n",
       "    </tr>\n",
       "    <tr>\n",
       "      <th>5</th>\n",
       "      <td>Eccentricity</td>\n",
       "      <td>12.0</td>\n",
       "      <td>12.0</td>\n",
       "      <td>12.0</td>\n",
       "      <td>16.0</td>\n",
       "      <td>11</td>\n",
       "      <td>63.0</td>\n",
       "    </tr>\n",
       "    <tr>\n",
       "      <th>9</th>\n",
       "      <td>Solidity</td>\n",
       "      <td>15.0</td>\n",
       "      <td>15.0</td>\n",
       "      <td>15.0</td>\n",
       "      <td>12.0</td>\n",
       "      <td>16</td>\n",
       "      <td>73.0</td>\n",
       "    </tr>\n",
       "    <tr>\n",
       "      <th>8</th>\n",
       "      <td>Extent</td>\n",
       "      <td>16.0</td>\n",
       "      <td>16.0</td>\n",
       "      <td>16.0</td>\n",
       "      <td>13.0</td>\n",
       "      <td>15</td>\n",
       "      <td>76.0</td>\n",
       "    </tr>\n",
       "  </tbody>\n",
       "</table>\n",
       "</div>"
      ],
      "text/plain": [
       "               feat     f    mi  logreg  lightgbm  mrmr  total\n",
       "0              Area   1.0   3.0    10.0       2.0     1   17.0\n",
       "6        ConvexArea   2.0   4.0     8.0       4.0     4   22.0\n",
       "1         Perimeter   4.0   1.0     5.0       7.0     6   23.0\n",
       "3   MinorAxisLength   5.0   7.0     2.0       8.0     3   25.0\n",
       "7     EquivDiameter   3.0   2.0     6.0      14.0     5   30.0\n",
       "12     ShapeFactor1   8.0   8.0     1.0       3.0    10   30.0\n",
       "2   MajorAxisLength   6.0   5.0     7.0       5.0     8   31.0\n",
       "13     ShapeFactor2   7.0   6.0     3.0      10.0    12   38.0\n",
       "11      Compactness  10.0   9.0    14.0       1.0     7   41.0\n",
       "4      AspectRation   9.0  11.0    11.0      11.0     2   44.0\n",
       "10               16  13.0  13.0     9.0       6.0    13   54.0\n",
       "15     ShapeFactor4  14.0  14.0     4.0       9.0    14   55.0\n",
       "14     ShapeFactor3  11.0  10.0    13.0      15.0     9   58.0\n",
       "5      Eccentricity  12.0  12.0    12.0      16.0    11   63.0\n",
       "9          Solidity  15.0  15.0    15.0      12.0    16   73.0\n",
       "8            Extent  16.0  16.0    16.0      13.0    15   76.0"
      ]
     },
     "execution_count": 68,
     "metadata": {},
     "output_type": "execute_result"
    }
   ],
   "source": [
    "# Sum the rankings across methods\n",
    "ranking['total'] = ranking.sum(axis=1)\n",
    "# Sort by sum to get an overall idea of the most/least useful features\n",
    "ranking.sort_values('total')"
   ]
  },
  {
   "cell_type": "markdown",
   "id": "7eaf424b-13d8-470a-84cb-ac7a2cfc7981",
   "metadata": {},
   "source": [
    "Solidity and Extent were considered the least useful in 4 of the 5 methods. They may be prime candidates for removal."
   ]
  },
  {
   "cell_type": "markdown",
   "id": "e89c0c55-1e72-4f86-8934-d3fc379aaca3",
   "metadata": {},
   "source": [
    "### Predictive Performance on Top Features\n",
    "Visualize which methods works best for feature selection"
   ]
  },
  {
   "cell_type": "code",
   "execution_count": 69,
   "id": "5b672616-2b6c-482f-8a30-210d71c7f539",
   "metadata": {},
   "outputs": [
    {
     "name": "stdout",
     "output_type": "stream",
     "text": [
      "Wall time: 4min 49s\n"
     ]
    }
   ],
   "source": [
    "%%time\n",
    "# Evaluate accuracy vs features using each feaure selection technique\n",
    "algos = ['f', 'mi', 'logreg', 'lightgbm', 'mrmr']\n",
    "ks = [1, 2, 3, 4, 5, 7, 9, 11, 13, 16]\n",
    "\n",
    "accuracy = pd.DataFrame(index = ks, columns = algos)\n",
    "roc = pd.DataFrame(index = ks, columns = algos)\n",
    "\n",
    "for algo in algos:\n",
    "    \n",
    "    for k in ks:\n",
    "    \n",
    "        cols = ranking[algo].sort_values().head(k).index.to_list()\n",
    "                \n",
    "        clf = CatBoostClassifier().fit(\n",
    "            X_train[:, cols], y_train,\n",
    "            eval_set = (X_test[:, cols], y_test),\n",
    "            early_stopping_rounds = 20,\n",
    "            verbose = False\n",
    "        )\n",
    "                \n",
    "        accuracy.loc[k, algo] = accuracy_score(\n",
    "            y_true = y_test, y_pred = clf.predict(X_test[:, cols]))\n",
    "        roc.loc[k, algo] = roc_auc_score(\n",
    "            y_true = y_test, y_score = clf.predict_proba(X_test[:, cols]), multi_class = 'ovr', average = 'macro')\n",
    "        \n",
    "accuracy.to_csv('accuracy.csv', index = True)\n",
    "roc.to_csv('roc.csv', index = True)"
   ]
  },
  {
   "cell_type": "code",
   "execution_count": 70,
   "id": "cb9ea96b-e869-4c8c-a0e0-06e06b00438d",
   "metadata": {},
   "outputs": [
    {
     "name": "stdout",
     "output_type": "stream",
     "text": [
      "Wall time: 0 ns\n"
     ]
    },
    {
     "data": {
      "image/png": "[encoded data removed]",
      "text/plain": [
       "<Figure size 864x576 with 1 Axes>"
      ]
     },
     "metadata": {
      "needs_background": "light"
     },
     "output_type": "display_data"
    }
   ],
   "source": [
    "%time\n",
    "# Set up the figure size\n",
    "%matplotlib inline\n",
    "plt.rcParams['figure.figsize'] = (12, 8)\n",
    "\n",
    "# Plot accuracy vs features for each feature selection technique\n",
    "for algo, label, color in zip(\n",
    "    ['mrmr', 'f', 'mi', 'lightgbm', 'logreg'],\n",
    "    ['MRMR', 'F-statistic', 'Mutual Info', 'LightGBM', 'Log Reg'],\n",
    "    ['orangered', 'blue', 'yellow', 'lime', 'black']):\n",
    "        plt.plot(accuracy.index, accuracy[algo], label = label, color = color, lw = 3)\n",
    "\n",
    "plt.plot(\n",
    "    [1, 20], [pd.Series(y_test).value_counts(normalize = True).iloc[0]] * 2, \n",
    "    label = '[Random]', color = 'grey', ls = '--', lw = 3\n",
    ")\n",
    "\n",
    "plt.legend(fontsize = 13, loc = 'center left', bbox_to_anchor = (1, 0.5))\n",
    "plt.grid()\n",
    "plt.yticks(np.linspace(0, 1, 11), ['{:.0%}'.format(i) for i in np.linspace(0, 1, 11)], fontsize = 13)\n",
    "plt.xticks([1] + list(range(5, 21, 5)), fontsize = 13)\n",
    "plt.xlim(-1, 18)\n",
    "plt.ylim(0.20, 1.00)\n",
    "plt.xlabel('Number of features', fontsize = 13)\n",
    "plt.ylabel('Accuracy', fontsize = 13)\n",
    "plt.savefig('accuracy.png', dpi = 300, bbox_inches = 'tight')"
   ]
  },
  {
   "cell_type": "markdown",
   "id": "8bf1adee-edcb-4755-8261-0cb2bb0b7c45",
   "metadata": {},
   "source": [
    "It looks like MRMR and LightGBM both do a decent job with as few as 2 features, while F-statistic doesn't really even start improving until we get to 4 features. By the time we get to 7 features, all methods are 90% and while Log Reg and LightGBM appear to peak by 11 features, all methods converge at the full 16 features.  \n",
    "Overall, there doesn't appear to be a clear winner or loser, but it does look like we should be able to get decent accuracy across the board with as few as 7 features. Since all of the methods increase only incrementally after 7 features, I may consider removing the bottom 4 features from the previous table ('Extent', 'Solidity', 'Eccentricity', and 'ShapeFactor3') since none of them are in the top 7 for any of the methods. That would still leave me with 12 features, which appears to be more than sufficient for a decent model, but will help to reduce CPU time and potentially overfitting."
   ]
  },
  {
   "cell_type": "code",
   "execution_count": 71,
   "id": "7e650d47-97a1-401d-87f8-fec2cabea38a",
   "metadata": {},
   "outputs": [],
   "source": [
    "# Drop least useful features\n",
    "beanDF.drop(columns=['Extent', 'Solidity', 'Eccentricity', 'ShapeFactor3'], inplace=True)"
   ]
  },
  {
   "cell_type": "markdown",
   "id": "1cf97d5e-6d6f-4af2-9750-d8b353c26564",
   "metadata": {},
   "source": [
    "## Model Selection & Evaluation\n",
    "Used GridSearchCV or RandomizedSearchCV to find the best hyperparameters for each modeling type"
   ]
  },
  {
   "cell_type": "markdown",
   "id": "b2dc3052-accd-4d31-a458-a2a7a4f2ed93",
   "metadata": {},
   "source": [
    "### Split Training and Testing Data"
   ]
  },
  {
   "cell_type": "code",
   "execution_count": 72,
   "id": "735613be-32eb-4f8a-a690-e1fda6f1843c",
   "metadata": {},
   "outputs": [],
   "source": [
    "# Set up features target sets\n",
    "X = beanDF[beanDF.columns[:-1]]\n",
    "y = beanDF.Class\n",
    "\n",
    "# Split the data\n",
    "X_train, X_test, y_train, y_test = train_test_split(X, y, test_size =0.3, \n",
    "                                                    random_state=42)\n",
    "\n",
    "# Standardize Features\n",
    "scaler = StandardScaler()\n",
    "X_train = scaler.fit_transform(X_train) \n",
    "X_test  = scaler.transform(X_test)"
   ]
  },
  {
   "cell_type": "code",
   "execution_count": 73,
   "id": "8e4ec10d-d494-4895-bc6c-a5ccfa34f139",
   "metadata": {},
   "outputs": [],
   "source": [
    "# Set up dictionary for model results\n",
    "models_dict = {}"
   ]
  },
  {
   "cell_type": "markdown",
   "id": "bda6c26d-3e10-4790-b7a7-06b81b9bc9d2",
   "metadata": {},
   "source": [
    "### Logistic Regression"
   ]
  },
  {
   "cell_type": "code",
   "execution_count": 74,
   "id": "d651123a-e2d6-4b12-a217-8e062402eff2",
   "metadata": {},
   "outputs": [],
   "source": [
    "# Create classification model\n",
    "logistic = LogisticRegression(C=1000, \n",
    "                              multi_class='auto', \n",
    "                              penalty='l1', \n",
    "                              solver='liblinear', \n",
    "                              tol=0.0001,\n",
    "                              class_weight='balanced', \n",
    "                              max_iter=300,\n",
    "                              random_state=42, \n",
    "                              n_jobs=-1)"
   ]
  },
  {
   "cell_type": "code",
   "execution_count": 75,
   "id": "680dd959-e0ae-4b7c-9168-ba1bf2735fed",
   "metadata": {},
   "outputs": [],
   "source": [
    "# Fit model\n",
    "models_dict['Logistic'] = logistic.fit(X_train, y_train)"
   ]
  },
  {
   "cell_type": "markdown",
   "id": "a031c72e-0d0b-4321-8e30-77e169c19cb7",
   "metadata": {},
   "source": [
    "### Random Forest"
   ]
  },
  {
   "cell_type": "code",
   "execution_count": 76,
   "id": "a916dcff-9fa8-4e41-8169-127f6f78c7a8",
   "metadata": {},
   "outputs": [],
   "source": [
    "# Create classification model\n",
    "rfclassifier = RandomForestClassifier(criterion='entropy', \n",
    "                                      max_features='sqrt', \n",
    "                                      n_estimators=300, \n",
    "                                      random_state=42,\n",
    "                                      class_weight='balanced', \n",
    "                                      n_jobs=-1)"
   ]
  },
  {
   "cell_type": "code",
   "execution_count": 77,
   "id": "fb624cde-5ced-4149-91e5-f5af789fcd6b",
   "metadata": {},
   "outputs": [],
   "source": [
    "# Fit model\n",
    "models_dict['RandomForest'] = rfclassifier.fit(X_train, y_train)"
   ]
  },
  {
   "cell_type": "markdown",
   "id": "ff247699-a704-4d03-ba91-f0bbd4df1ca8",
   "metadata": {},
   "source": [
    "### Decision Tree"
   ]
  },
  {
   "cell_type": "code",
   "execution_count": 78,
   "id": "d7cf4a3b-6f7d-4cb4-bd0e-4ebe64e5e19c",
   "metadata": {},
   "outputs": [],
   "source": [
    "# # Create classification model\n",
    "# decisiontree = DecisionTreeClassifier(criterion='entropy', \n",
    "#                                       max_features='sqrt', \n",
    "#                                       splitter='best', \n",
    "#                                       random_state=42, \n",
    "#                                       class_weight='balanced')"
   ]
  },
  {
   "cell_type": "code",
   "execution_count": 79,
   "id": "08718fba-f1b8-4d7a-96c2-0f2a7a1c5ed0",
   "metadata": {},
   "outputs": [],
   "source": [
    "# Create classification model\n",
    "decisiontree = DecisionTreeClassifier(random_state=42, \n",
    "                                      class_weight='balanced')"
   ]
  },
  {
   "cell_type": "code",
   "execution_count": 80,
   "id": "2acf00ba-734a-4846-8693-857a079bf712",
   "metadata": {},
   "outputs": [],
   "source": [
    "# Fit model\n",
    "models_dict['DecisionTree'] = decisiontree.fit(X_train, y_train)"
   ]
  },
  {
   "cell_type": "markdown",
   "id": "9660b178-0e9e-4fa1-8bc2-79862ee5a422",
   "metadata": {},
   "source": [
    "### AdaBoost"
   ]
  },
  {
   "cell_type": "code",
   "execution_count": 81,
   "id": "2fa98c1e-f081-4305-8a80-9fafca86803a",
   "metadata": {},
   "outputs": [],
   "source": [
    "# Create classification model\n",
    "adaboost = AdaBoostClassifier(algorithm='SAMME', \n",
    "                              learning_rate=1, \n",
    "                              n_estimators=100, \n",
    "                              random_state=42)"
   ]
  },
  {
   "cell_type": "code",
   "execution_count": 82,
   "id": "959e5d56-4a58-49c5-915f-a4c778d578a2",
   "metadata": {},
   "outputs": [],
   "source": [
    "# Fit model\n",
    "models_dict['AdaBoost'] = adaboost.fit(X_train, y_train)"
   ]
  },
  {
   "cell_type": "markdown",
   "id": "be49720b-09f6-4cd7-bd72-a311f06170fd",
   "metadata": {},
   "source": [
    "### Support Vector Classifier (Linear)"
   ]
  },
  {
   "cell_type": "code",
   "execution_count": 83,
   "id": "8006adad-82d1-4f9a-b9de-f8506bf3ba78",
   "metadata": {},
   "outputs": [],
   "source": [
    "# Create classification model\n",
    "linSVC = LinearSVC(C=200, \n",
    "                   dual=True,\n",
    "                   loss='hinge', \n",
    "                   multi_class='crammer_singer', \n",
    "                   penalty='l1', \n",
    "                   tol=0.001,\n",
    "                   random_state=42, \n",
    "                   class_weight='balanced')"
   ]
  },
  {
   "cell_type": "code",
   "execution_count": 84,
   "id": "30815d8c-a7de-410b-be90-301d061efdd5",
   "metadata": {},
   "outputs": [],
   "source": [
    "# Fit model\n",
    "models_dict['LinearSVC'] = linSVC.fit(X_train, y_train)"
   ]
  },
  {
   "cell_type": "markdown",
   "id": "f989255e-8ed6-4990-82cd-c56ee23bec47",
   "metadata": {},
   "source": [
    "### Support Vector Classifier (SVC)"
   ]
  },
  {
   "cell_type": "code",
   "execution_count": 85,
   "id": "d65c40c2-7db3-482b-8336-1a50f1139faa",
   "metadata": {},
   "outputs": [],
   "source": [
    "# Create classification model\n",
    "svc = SVC(C=300, \n",
    "          decision_function_shape='ovo', \n",
    "          gamma='scale', \n",
    "          kernel='rbf', \n",
    "          shrinking=False, \n",
    "          random_state=42, \n",
    "          class_weight='balanced', \n",
    "          max_iter=10000)"
   ]
  },
  {
   "cell_type": "code",
   "execution_count": 86,
   "id": "256c6dac-852a-4e91-89a2-fb7dbf2cb3d3",
   "metadata": {},
   "outputs": [],
   "source": [
    "# Fit model\n",
    "models_dict['SVC'] = svc.fit(X_train, y_train)"
   ]
  },
  {
   "cell_type": "markdown",
   "id": "ff156378-de9c-425f-8ebd-3b2864934114",
   "metadata": {},
   "source": [
    "### Gaussian Naive Bayes Classifier"
   ]
  },
  {
   "cell_type": "code",
   "execution_count": 87,
   "id": "2f29450a-0ff5-4678-9da6-0c066a42b873",
   "metadata": {},
   "outputs": [],
   "source": [
    "# Create Gaussian naive Bayes object\n",
    "nBayes = GaussianNB(var_smoothing=0.01)"
   ]
  },
  {
   "cell_type": "code",
   "execution_count": 88,
   "id": "52ee4ff1-ecf7-4e7e-8965-298ae7fa4a20",
   "metadata": {},
   "outputs": [],
   "source": [
    "# Fit model\n",
    "models_dict['GaussianNB'] = nBayes.fit(X_train, y_train)"
   ]
  },
  {
   "cell_type": "markdown",
   "id": "d42d954e-cc2e-4ef1-a1f5-dad2f8c0dd61",
   "metadata": {},
   "source": [
    "### MLP Classifier"
   ]
  },
  {
   "cell_type": "code",
   "execution_count": 89,
   "id": "7177f5a7-e0cb-418a-b1e3-3a5ad0a4671c",
   "metadata": {},
   "outputs": [],
   "source": [
    "# Create classification model\n",
    "mlp = MLPClassifier(max_iter=5000, \n",
    "                    activation='relu', \n",
    "                    alpha=0.0001,\n",
    "                    hidden_layer_sizes=(77, 62, 33),\n",
    "                    early_stopping=True,\n",
    "                    learning_rate='invscaling', \n",
    "                    solver='adam')"
   ]
  },
  {
   "cell_type": "code",
   "execution_count": 90,
   "id": "ef1f4aca-d784-4ace-ac41-aa1579cbaa38",
   "metadata": {},
   "outputs": [],
   "source": [
    "# Fit model\n",
    "models_dict['MLP'] = mlp.fit(X_train, y_train)"
   ]
  },
  {
   "cell_type": "markdown",
   "id": "5a467acb-510e-42b1-af7b-740241570e10",
   "metadata": {},
   "source": [
    "### Keras Neural Network"
   ]
  },
  {
   "cell_type": "code",
   "execution_count": 97,
   "id": "d6987713-cdf8-4f2c-a8d4-26930b591c1b",
   "metadata": {},
   "outputs": [
    {
     "ename": "AttributeError",
     "evalue": "module 'tensorflow.keras' has no attribute 'utils'",
     "output_type": "error",
     "traceback": [
      "\u001b[1;31m---------------------------------------------------------------------------\u001b[0m",
      "\u001b[1;31mAttributeError\u001b[0m                            Traceback (most recent call last)",
      "\u001b[1;32m~\\AppData\\Local\\Temp/ipykernel_23416/391678113.py\u001b[0m in \u001b[0;36m<module>\u001b[1;34m\u001b[0m\n\u001b[0;32m      6\u001b[0m \u001b[0mle_y_test\u001b[0m  \u001b[1;33m=\u001b[0m \u001b[0mle\u001b[0m\u001b[1;33m.\u001b[0m\u001b[0mtransform\u001b[0m\u001b[1;33m(\u001b[0m\u001b[0my_test\u001b[0m\u001b[1;33m)\u001b[0m\u001b[1;33m\u001b[0m\u001b[1;33m\u001b[0m\u001b[0m\n\u001b[0;32m      7\u001b[0m \u001b[1;33m\u001b[0m\u001b[0m\n\u001b[1;32m----> 8\u001b[1;33m \u001b[0mcat_y_train\u001b[0m \u001b[1;33m=\u001b[0m \u001b[0mtf\u001b[0m\u001b[1;33m.\u001b[0m\u001b[0mkeras\u001b[0m\u001b[1;33m.\u001b[0m\u001b[0mutils\u001b[0m\u001b[1;33m.\u001b[0m\u001b[0mto_categorical\u001b[0m\u001b[1;33m(\u001b[0m\u001b[0mle_y_train\u001b[0m\u001b[1;33m)\u001b[0m\u001b[1;33m\u001b[0m\u001b[1;33m\u001b[0m\u001b[0m\n\u001b[0m\u001b[0;32m      9\u001b[0m \u001b[0mcat_y_test\u001b[0m  \u001b[1;33m=\u001b[0m \u001b[0mtf\u001b[0m\u001b[1;33m.\u001b[0m\u001b[0mkeras\u001b[0m\u001b[1;33m.\u001b[0m\u001b[0mutils\u001b[0m\u001b[1;33m.\u001b[0m\u001b[0mto_categorical\u001b[0m\u001b[1;33m(\u001b[0m\u001b[0mle_y_test\u001b[0m\u001b[1;33m)\u001b[0m\u001b[1;33m\u001b[0m\u001b[1;33m\u001b[0m\u001b[0m\n",
      "\u001b[1;31mAttributeError\u001b[0m: module 'tensorflow.keras' has no attribute 'utils'"
     ]
    }
   ],
   "source": [
    "# Encode the target variables\n",
    "le = LabelEncoder()\n",
    "le.fit(y)\n",
    "\n",
    "le_y_train = le.transform(y_train)\n",
    "le_y_test  = le.transform(y_test)\n",
    "\n",
    "cat_y_train = tf.keras.utils.to_categorical(le_y_train)\n",
    "cat_y_test  = tf.keras.utils.to_categorical(le_y_test)"
   ]
  },
  {
   "cell_type": "code",
   "execution_count": null,
   "id": "03722d1a-eed7-47de-9bee-6d1d8f161dc7",
   "metadata": {},
   "outputs": [],
   "source": [
    "# Encode the target variables\n",
    "le = LabelEncoder()\n",
    "le.fit(y)\n",
    "\n",
    "le_y_train = le.transform(y_train)\n",
    "le_y_test  = le.transform(y_test)\n",
    "\n",
    "cat_y_train = to_categorical(le_y_train)\n",
    "cat_y_test  = to_categorical(le_y_test)"
   ]
  },
  {
   "cell_type": "markdown",
   "id": "74ad1524-aea5-4038-9f21-beb083d9623a",
   "metadata": {},
   "source": [
    "#### Build the neural network"
   ]
  },
  {
   "cell_type": "code",
   "execution_count": null,
   "id": "c3f7b952-54dd-4792-a9a8-5a5fe491d17b",
   "metadata": {},
   "outputs": [],
   "source": [
    "# Number of features\n",
    "number_of_features = X.shape[1]\n",
    "\n",
    "# Create function returning a compiled network\n",
    "def create_network(optimizer='rmsprop', hiddenLayerOne=48, hiddenLayerTwo=24, \n",
    "                   learnRate=0.01):\n",
    "    \n",
    "    # Start neural network\n",
    "    network = Sequential()\n",
    "    \n",
    "    # Add fully connected layer w/a ReLU activation function\n",
    "    network.add(Dense(units=hiddenLayerOne, activation='relu', \n",
    "                input_shape=(number_of_features,)))\n",
    "\n",
    "    # Add fully connected layer w/a ReLU activation function\n",
    "    network.add(Dense(units=hiddenLayerTwo, activation='relu'))\n",
    "\n",
    "    # Add fully connected layer w/a softmax activation function\n",
    "    network.add(Dense(units=7, activation='softmax'))\n",
    "\n",
    "    # Compile neural network\n",
    "    network.compile(loss='categorical_crossentropy', \n",
    "                    optimizer=Adam(learning_rate=learnRate),\n",
    "                    metrics=['accuracy'])\n",
    "\n",
    "    # Return compiled network\n",
    "    return network"
   ]
  },
  {
   "cell_type": "code",
   "execution_count": null,
   "id": "37385074-041c-43ca-a717-b72fc6902783",
   "metadata": {},
   "outputs": [],
   "source": [
    "# Initialize model with default values\n",
    "keras = create_network( \n",
    "              learnRate=0.0001, \n",
    "              hiddenLayerOne=120, \n",
    "              hiddenLayerTwo=96)\n",
    "\n",
    "# Train network \n",
    "history = keras.fit(X_train, cat_y_train,\n",
    "              validation_data=(X_test, cat_y_test), \n",
    "              batch_size=8, \n",
    "              epochs=10)\n",
    "\n",
    "accuracy = keras.evaluate(X_test, cat_y_test)[1]\n",
    "print(f\"\\nAccuracy:  {round(accuracy*100, 2)}\")"
   ]
  },
  {
   "cell_type": "code",
   "execution_count": null,
   "id": "84a0f97b-087b-4858-b982-f8e2793e9ff9",
   "metadata": {},
   "outputs": [],
   "source": [
    "kerasAcc = history.history['accuracy'][np.argmin(history.history['loss'])]*100\n",
    "round(kerasAcc, 2)"
   ]
  },
  {
   "cell_type": "code",
   "execution_count": null,
   "id": "3bdcb41b-276d-4303-88e2-85743500c5db",
   "metadata": {},
   "outputs": [],
   "source": [
    "# Set the number of features\n",
    "number_of_features = X.shape[1]\n",
    "\n",
    "# Start neural network\n",
    "network2 = Sequential()\n",
    "\n",
    "# Add fully connected layer w/a ReLU activation function\n",
    "network2.add(Dense(units=100, activation='relu', \n",
    "                  input_shape=(number_of_features,)))\n",
    "\n",
    "# Add fully connected layer w/a ReLU activation function\n",
    "network2.add(Dense(units=100, activation='relu'))\n",
    "\n",
    "# Add fully connected layer w/a softmax activation function\n",
    "network2.add(Dense(units=7, activation='softmax'))\n",
    "\n",
    "# Compile neural network\n",
    "network2.compile(loss='categorical_crossentropy', \n",
    "                optimizer='adam', \n",
    "                metrics=['accuracy'])"
   ]
  },
  {
   "cell_type": "code",
   "execution_count": null,
   "id": "104e9236-9687-4b43-94d1-280082476537",
   "metadata": {},
   "outputs": [],
   "source": [
    "# Fit model\n",
    "history2 = network2.fit(X_train, cat_y_train, \n",
    "                      epochs=15, \n",
    "                      batch_size=5, \n",
    "                      validation_data=(X_test, cat_y_test))\n",
    "\n",
    "accuracy = network2.evaluate(X_test, cat_y_test)[1]\n",
    "print(f\"\\nAccuracy:  {round(accuracy*100, 2)}\")"
   ]
  },
  {
   "cell_type": "markdown",
   "id": "b9f2d191-6543-4a80-bc75-6e05f500c509",
   "metadata": {},
   "source": [
    "Note: I'm not adding this one directly to the dictionary of methods because I had to categorize my target variable."
   ]
  },
  {
   "cell_type": "markdown",
   "id": "a47eeaf0-2b46-46f1-a57b-89dc787f77d9",
   "metadata": {},
   "source": [
    "### Compare Accuracies"
   ]
  },
  {
   "cell_type": "code",
   "execution_count": null,
   "id": "b241ae4c-d388-40e5-a4e8-691d09755a16",
   "metadata": {},
   "outputs": [],
   "source": [
    "# Create lists of models and accuracy scores\n",
    "modelName = []\n",
    "score = []\n",
    "for key in models_dict:\n",
    "    modelName += [key]\n",
    "    model = models_dict[key]\n",
    "    value = model.score(X_test, y_test)*100\n",
    "    score += [round(value, 2)]\n",
    "\n",
    "# Add Keras accuracy\n",
    "modelName += ['Keras']\n",
    "kerasAcc = history.history['val_accuracy'][np.argmin(history.history['loss'])]*100\n",
    "score += [round(kerasAcc, 2)]\n",
    "\n",
    "# Create DataFrame of results\n",
    "d = {'Model': modelName, 'Accuracy': score}\n",
    "results = pd.DataFrame(d).sort_values(by=['Accuracy'], ascending=False)\n",
    "results"
   ]
  },
  {
   "cell_type": "markdown",
   "id": "e086635a-a74c-4c38-8a55-c5de09fa1971",
   "metadata": {},
   "source": [
    "### Evaluate"
   ]
  },
  {
   "cell_type": "code",
   "execution_count": null,
   "id": "dda2e3d9-a7d4-4863-9163-f420d2b875cc",
   "metadata": {},
   "outputs": [],
   "source": [
    "# Get predictions\n",
    "predictions = svc.predict(X_test)"
   ]
  },
  {
   "cell_type": "markdown",
   "id": "ccce46d2-6f28-4598-abaf-42956dae2d93",
   "metadata": {},
   "source": [
    "#### Confusion matrix"
   ]
  },
  {
   "cell_type": "code",
   "execution_count": null,
   "id": "4780af5f-c13a-43af-bbd8-ae8ef6554748",
   "metadata": {},
   "outputs": [],
   "source": [
    "# Print confusion matrix\n",
    "cm = confusion_matrix(y_test, predictions)\n",
    "print(cm)"
   ]
  },
  {
   "cell_type": "markdown",
   "id": "75380132-666c-42d0-b0ba-d2f2c0516cc6",
   "metadata": {},
   "source": [
    "#### Classification report"
   ]
  },
  {
   "cell_type": "code",
   "execution_count": null,
   "id": "c80b74d5-9f5c-4500-ab2b-f773c30de413",
   "metadata": {},
   "outputs": [],
   "source": [
    "# Print precision, recall, f1-score, and accuracy\n",
    "cr = classification_report(y_test, predictions)\n",
    "print(cr)"
   ]
  },
  {
   "cell_type": "markdown",
   "id": "263ca492-a38c-4aab-b7f3-f170067e02ae",
   "metadata": {},
   "source": [
    "Looks pretty good. Clearly the BOMBAY bean is sufficiently distinct from the other beans to be easily identifiable."
   ]
  },
  {
   "cell_type": "markdown",
   "id": "7002ac67-137a-4922-99f3-91674880d57f",
   "metadata": {},
   "source": [
    "### Typical Beans: Create a set of mean/median bean data for testing"
   ]
  },
  {
   "cell_type": "code",
   "execution_count": null,
   "id": "2f4f8909-c453-4f32-ac04-012fe61131b2",
   "metadata": {},
   "outputs": [],
   "source": [
    "# Create a copy of the dataframe to play with\n",
    "df = beanDF.copy()"
   ]
  },
  {
   "cell_type": "code",
   "execution_count": null,
   "id": "6546ba7e-5796-4192-a943-52569711c266",
   "metadata": {},
   "outputs": [],
   "source": [
    "# Group rows by values of column 'Class'. Calculate mean\n",
    "df_mean = df.groupby('Class').mean()\n",
    "df_mean['Class'] = df_mean.index\n",
    "df_mean = df_mean.reset_index(drop=True)\n",
    "df_mean.iloc[:,:-1] = scaler.transform(df_mean.iloc[:,:-1]) \n",
    "df_mean"
   ]
  },
  {
   "cell_type": "code",
   "execution_count": null,
   "id": "e790dc5b-5b7a-4d31-a4a0-14efcc65db24",
   "metadata": {},
   "outputs": [],
   "source": [
    "# Group rows by values of column 'Class'. Calculate median\n",
    "df_med = df.groupby('Class').median()\n",
    "df_med['Class'] = df_med.index\n",
    "df_med = df_med.reset_index(drop=True)\n",
    "df_med.iloc[:,:-1] = scaler.transform(df_med.iloc[:,:-1]) \n",
    "df_med"
   ]
  },
  {
   "cell_type": "code",
   "execution_count": null,
   "id": "33248ee3-bdf8-4be2-8c08-3f49a1c0483f",
   "metadata": {},
   "outputs": [],
   "source": [
    "# Combine data frames for testing\n",
    "mean_med = df_mean.append(df_med)\n",
    "\n",
    "# Prepare data for evaluation\n",
    "mean_med_X = mean_med.iloc[:,:-1]\n",
    "mean_med_y = mean_med.Class"
   ]
  },
  {
   "cell_type": "code",
   "execution_count": null,
   "id": "f2623229-f2a1-49c8-a02f-158e2471b3ab",
   "metadata": {},
   "outputs": [],
   "source": [
    "# Get predictions\n",
    "predictions = svc.predict(mean_med_X)"
   ]
  },
  {
   "cell_type": "markdown",
   "id": "56e6e749-8c61-4a0e-a3db-08c57952cdca",
   "metadata": {},
   "source": [
    "#### Confusion matrix"
   ]
  },
  {
   "cell_type": "code",
   "execution_count": null,
   "id": "520d1d51-7653-42fb-9247-637501b181bf",
   "metadata": {},
   "outputs": [],
   "source": [
    "# Print confusion matrix\n",
    "cm = confusion_matrix(mean_med_y, predictions)\n",
    "print(cm)"
   ]
  },
  {
   "cell_type": "markdown",
   "id": "f46ca242-bf58-4ec4-a702-58486cfa7c36",
   "metadata": {},
   "source": [
    "#### Classification report"
   ]
  },
  {
   "cell_type": "code",
   "execution_count": null,
   "id": "888f6e93-621a-41c4-aab1-a6df543c38ba",
   "metadata": {},
   "outputs": [],
   "source": [
    "# Print precision, recall, f1-score, and accuracy\n",
    "cr = classification_report(mean_med_y, predictions)\n",
    "print(cr)"
   ]
  },
  {
   "cell_type": "markdown",
   "id": "4b9943f8-d191-46fd-9f6d-5899ca1f058f",
   "metadata": {},
   "source": [
    "Looks like the model does a fine job of classifying the mean bean."
   ]
  },
  {
   "cell_type": "markdown",
   "id": "0eee79b5-ae70-4562-9b72-2324fc675233",
   "metadata": {},
   "source": [
    "## Conclusion"
   ]
  },
  {
   "cell_type": "markdown",
   "id": "ef36c918-1458-49f7-a43a-93351a59f313",
   "metadata": {},
   "source": [
    "Following feature selection, several models were tried with the bean data set, including: \n",
    "* Logistic Regression\n",
    "* Random Forest Classifier\n",
    "* Decision Tree Classifier\n",
    "* AdaBoost Classifier\n",
    "* Linear SVC\n",
    "* Support Vector Classifier (SVC)\n",
    "* Gaussian NB\n",
    "* Multi-Layer Perceptron (MLP) Classifier\n",
    "* Keras Sequential Network  \n",
    "\n",
    "Some models improved drastically with [hyperparameter tuning](https://github.com/ScottBreitbach/ScottBreitbach.github.io/blob/main/Portfolio-Projects/Beans-Classification/Hyperparameter-tuning.ipynb), like AdaBoost, while most showed only incremental improvements. Oddly, the Decision Tree model was consistently slightly worse with tuning, so I left it as-is.  \n",
    "\n",
    "While I managed to get them all above 85% accuracy, which is decent, overall accuracy seems to have peaked around 92-93%. I suspect this is a limitation of the data itself and could probably be improved slightly by both increasing the overall number of samples in the data set as well as balancing the number of beans in the data set, since the bean with the most values (DERMASON, with a count of 3546) had roughly 7X more samples than the least represented bean (BOMBAY, with a count of 522). I didn't include it here, but I showed [previously](https://github.com/ScottBreitbach/ScottBreitbach.github.io/blob/main/Portfolio-Projects/Beans-Classification/Feature-selection.ipynb), using a Random Forest Classifier, that the accuracy continued to steadily increase as the training set size increased.  \n",
    "\n",
    "The top two models, SVC and MLP, were very close and I cannot say for certain that one is better than the other because the results will vary slightly based on inherent randomness. That said, SVC was both easier and *much* faster to tune, so given the choice, I'd go with that one every time. While the Keras model was also pretty good, it was even more difficult to set up and tune, plus I had to encode my target variables, which was a task that was automatically handled by the other models. I also ran into more errors working with the Keras model, so I would say it is not very user friendly.  \n",
    "\n",
    "As-is, the models seem sufficient for the task of categorizing beans and, while I believe it could be further improved with some additional data, I would feel comfortable proposing it as a solution to the problem of bean identification, uniformity, and quality. "
   ]
  },
  {
   "cell_type": "code",
   "execution_count": null,
   "id": "42fe116e-e00a-4a22-be79-9298e84009f9",
   "metadata": {},
   "outputs": [],
   "source": []
  }
 ],
 "metadata": {
  "kernelspec": {
   "display_name": "Python 3 (ipykernel)",
   "language": "python",
   "name": "python3"
  },
  "language_info": {
   "codemirror_mode": {
    "name": "ipython",
    "version": 3
   },
   "file_extension": ".py",
   "mimetype": "text/x-python",
   "name": "python",
   "nbconvert_exporter": "python",
   "pygments_lexer": "ipython3",
   "version": "3.9.7"
  }
 },
 "nbformat": 4,
 "nbformat_minor": 5
}
