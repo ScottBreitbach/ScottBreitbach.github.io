{
 "cells": [
  {
   "cell_type": "markdown",
   "id": "5b35216d-90e5-451b-948d-962d02297b6d",
   "metadata": {},
   "source": [
    "### Scrape Table from [Website](http://www.planecrashinfo.com/accidents.htm)"
   ]
  },
  {
   "cell_type": "markdown",
   "id": "261a47c3-62b0-4706-9f63-9e54e4ade33d",
   "metadata": {},
   "source": [
    "Website: http://www.planecrashinfo.com/accidents.htm  \n",
    "\n",
    "Scraping Tutorial: https://www.geeksforgeeks.org/scrape-tables-from-any-website-using-python/"
   ]
  },
  {
   "cell_type": "code",
   "execution_count": 1,
   "id": "d55378af-b8a2-473a-8f85-4bba0eb8ab50",
   "metadata": {},
   "outputs": [],
   "source": [
    "# pip install html-table-parser-python3"
   ]
  },
  {
   "cell_type": "markdown",
   "id": "b4201d86-61dd-484b-b449-ca645a8f41a5",
   "metadata": {},
   "source": [
    "Import the necessary libraries"
   ]
  },
  {
   "cell_type": "code",
   "execution_count": 2,
   "id": "2f598e66-5b91-4be2-a4cc-c196d544bb27",
   "metadata": {},
   "outputs": [],
   "source": [
    "# Library for opening url and creating requests\n",
    "import urllib.request\n",
    "\n",
    "# For pretty-printing python data structures\n",
    "from pprint import pprint\n",
    "\n",
    "# For parsing all the tables present on the website\n",
    "from html_table_parser.parser import HTMLTableParser\n",
    "\n",
    "# For converting the parsed data in a pandas dataframe\n",
    "import pandas as pd"
   ]
  },
  {
   "cell_type": "markdown",
   "id": "2baf4b39-062d-4ad9-8397-e8796f39e67d",
   "metadata": {},
   "source": [
    "Define a function go get the contents of the website"
   ]
  },
  {
   "cell_type": "code",
   "execution_count": 3,
   "id": "c53572a4-4172-4965-883c-9326e3f674e4",
   "metadata": {},
   "outputs": [],
   "source": [
    "# Open a website and read its binary contents (HTTP Response Body)\n",
    "def url_get_contents(url):\n",
    "\n",
    "    # Opens a website and read its\n",
    "    # binary contents (HTTP Response Body)\n",
    "\n",
    "    #making request to the website\n",
    "    req = urllib.request.Request(url=url)\n",
    "    f = urllib.request.urlopen(req)\n",
    "\n",
    "    # Read the contents of the website\n",
    "    return f.read()"
   ]
  },
  {
   "cell_type": "markdown",
   "id": "9adf5acf-6d1c-4d4d-b35b-da57c6f65320",
   "metadata": {},
   "source": [
    "Parse tables"
   ]
  },
  {
   "cell_type": "code",
   "execution_count": 4,
   "id": "880cf16b-9d82-4875-b9c9-9c469e260556",
   "metadata": {},
   "outputs": [],
   "source": [
    "# Eefine the HTML contents of a URL.\n",
    "xhtml = url_get_contents('http://www.planecrashinfo.com/accidents.htm').decode('utf-8')\n",
    "\n",
    "# Define the HTMLTableParser object\n",
    "p = HTMLTableParser()\n",
    "\n",
    "# Feed the HTML contents in the HTMLTableParser object\n",
    "p.feed(xhtml)\n",
    "\n",
    "# # Get a look at the extracted table\n",
    "# pprint(p.tables[0])"
   ]
  },
  {
   "cell_type": "code",
   "execution_count": 5,
   "id": "dd8e21a3-1c01-4d56-828e-d5f802c3edb5",
   "metadata": {},
   "outputs": [],
   "source": [
    "# Create dataframe from table, making the top row the column names\n",
    "accHistDF = pd.DataFrame(p.tables[0][1:], columns = p.tables[0][0])"
   ]
  },
  {
   "cell_type": "code",
   "execution_count": 6,
   "id": "be0336cb-df53-4b93-96b9-58dd58fabdee",
   "metadata": {},
   "outputs": [
    {
     "data": {
      "text/html": [
       "<div>\n",
       "<style scoped>\n",
       "    .dataframe tbody tr th:only-of-type {\n",
       "        vertical-align: middle;\n",
       "    }\n",
       "\n",
       "    .dataframe tbody tr th {\n",
       "        vertical-align: top;\n",
       "    }\n",
       "\n",
       "    .dataframe thead th {\n",
       "        text-align: right;\n",
       "    }\n",
       "</style>\n",
       "<table border=\"1\" class=\"dataframe\">\n",
       "  <thead>\n",
       "    <tr style=\"text-align: right;\">\n",
       "      <th></th>\n",
       "      <th>AIRLINE</th>\n",
       "      <th>COUNTRY</th>\n",
       "      <th>BEGAN OPERATION</th>\n",
       "      <th>AVERAGE AGE OF FLEET</th>\n",
       "      <th>LAST FATAL ACCIDENT</th>\n",
       "      <th>FATAL ACCIDENTS LAST 10 YRS</th>\n",
       "      <th>FATAL ACCIDENTS LAST 20 YRS</th>\n",
       "      <th>COMMENTS</th>\n",
       "    </tr>\n",
       "  </thead>\n",
       "  <tbody>\n",
       "    <tr>\n",
       "      <th>0</th>\n",
       "      <td>Air Wisconsin</td>\n",
       "      <td>USA</td>\n",
       "      <td>1965</td>\n",
       "      <td>17.6</td>\n",
       "      <td>1980</td>\n",
       "      <td>0</td>\n",
       "      <td>0</td>\n",
       "      <td>Under contract to US Airways</td>\n",
       "    </tr>\n",
       "    <tr>\n",
       "      <th>1</th>\n",
       "      <td>Aeroflot Russian Airlines</td>\n",
       "      <td>Russia</td>\n",
       "      <td>2000</td>\n",
       "      <td>5.0</td>\n",
       "      <td>1996</td>\n",
       "      <td>0</td>\n",
       "      <td>0</td>\n",
       "      <td></td>\n",
       "    </tr>\n",
       "    <tr>\n",
       "      <th>2</th>\n",
       "      <td>Aerolineas Argentinas</td>\n",
       "      <td>Argentina</td>\n",
       "      <td>1949</td>\n",
       "      <td>7.9</td>\n",
       "      <td>1970</td>\n",
       "      <td>0</td>\n",
       "      <td>0</td>\n",
       "      <td></td>\n",
       "    </tr>\n",
       "    <tr>\n",
       "      <th>3</th>\n",
       "      <td>Aeromexico</td>\n",
       "      <td>Mexico</td>\n",
       "      <td>1972</td>\n",
       "      <td>7.9</td>\n",
       "      <td>1986</td>\n",
       "      <td>0</td>\n",
       "      <td>0</td>\n",
       "      <td></td>\n",
       "    </tr>\n",
       "    <tr>\n",
       "      <th>4</th>\n",
       "      <td>Aeromexico Connect</td>\n",
       "      <td>Mexico</td>\n",
       "      <td>1988</td>\n",
       "      <td>11.0</td>\n",
       "      <td>none</td>\n",
       "      <td>0</td>\n",
       "      <td>0</td>\n",
       "      <td></td>\n",
       "    </tr>\n",
       "  </tbody>\n",
       "</table>\n",
       "</div>"
      ],
      "text/plain": [
       "                     AIRLINE    COUNTRY BEGAN OPERATION AVERAGE AGE OF FLEET  \\\n",
       "0              Air Wisconsin        USA            1965                 17.6   \n",
       "1  Aeroflot Russian Airlines     Russia            2000                  5.0   \n",
       "2      Aerolineas Argentinas  Argentina            1949                  7.9   \n",
       "3                 Aeromexico     Mexico            1972                  7.9   \n",
       "4         Aeromexico Connect     Mexico            1988                 11.0   \n",
       "\n",
       "  LAST FATAL ACCIDENT FATAL ACCIDENTS LAST 10 YRS FATAL ACCIDENTS LAST 20 YRS  \\\n",
       "0                1980                           0                           0   \n",
       "1                1996                           0                           0   \n",
       "2                1970                           0                           0   \n",
       "3                1986                           0                           0   \n",
       "4                none                           0                           0   \n",
       "\n",
       "                       COMMENTS  \n",
       "0  Under contract to US Airways  \n",
       "1                                \n",
       "2                                \n",
       "3                                \n",
       "4                                "
      ]
     },
     "execution_count": 6,
     "metadata": {},
     "output_type": "execute_result"
    }
   ],
   "source": [
    "# A quick look at the data\n",
    "accHistDF.head()"
   ]
  },
  {
   "cell_type": "code",
   "execution_count": 7,
   "id": "bc53b6ba-09d0-481b-bf36-87b227ab2d82",
   "metadata": {},
   "outputs": [
    {
     "data": {
      "text/plain": [
       "USA             21\n",
       "Canada           5\n",
       "China            5\n",
       "Australia        3\n",
       "Spain            3\n",
       "Indonesia        3\n",
       "England          3\n",
       "Japan            2\n",
       "Chile            2\n",
       "Netherlands      2\n",
       "Iran             2\n",
       "Philippines      2\n",
       "Hong Kong        2\n",
       "Colombia         2\n",
       "South Korea      2\n",
       "Brazil           2\n",
       "Argentina        2\n",
       "Mexico           2\n",
       "Ireland          2\n",
       "USA7             1\n",
       "Norway           1\n",
       "Greece           1\n",
       "Oman             1\n",
       "Pakistan         1\n",
       "Qatar            1\n",
       "Morocco          1\n",
       "Jordan           1\n",
       "Saudi Arabia     1\n",
       "Germany          1\n",
       "Singapore        1\n",
       "Singaore         1\n",
       "South Africa     1\n",
       "Switzerland      1\n",
       "Portugal         1\n",
       "Thailand         1\n",
       "Turkey           1\n",
       "Ukraine          1\n",
       "Malaysia         1\n",
       "Equador          1\n",
       "Peru             1\n",
       "UAE              1\n",
       "Italy            1\n",
       "Zimbabwe         1\n",
       "NewZealand       1\n",
       "Taiwan           1\n",
       "Cuba             1\n",
       "Egypt            1\n",
       "Israel           1\n",
       "Finland          1\n",
       "Austria          1\n",
       "India            1\n",
       "Russia           1\n",
       "Iceland          1\n",
       "France           1\n",
       "Canads           1\n",
       "Kenya            1\n",
       "Kuwait           1\n",
       "Vietnam          1\n",
       "Name: COUNTRY, dtype: int64"
      ]
     },
     "execution_count": 7,
     "metadata": {},
     "output_type": "execute_result"
    }
   ],
   "source": [
    "# Get number of airlines by country\n",
    "accHistDF.COUNTRY.value_counts()"
   ]
  },
  {
   "cell_type": "code",
   "execution_count": 8,
   "id": "456a4057-f86b-4439-a8fb-52f26bbe4ccd",
   "metadata": {},
   "outputs": [],
   "source": [
    "# Fix that one instance of 'USA7'\n",
    "accHistDF.COUNTRY.replace('USA7', 'USA', inplace=True)"
   ]
  },
  {
   "cell_type": "code",
   "execution_count": 9,
   "id": "04a0e320-3e2a-40b1-8bfd-c7aea176203c",
   "metadata": {},
   "outputs": [],
   "source": [
    "# accHistDF.COUNTRY.value_counts()"
   ]
  },
  {
   "cell_type": "code",
   "execution_count": 10,
   "id": "05336dec-b5cb-44f1-825d-7ffbf023619b",
   "metadata": {},
   "outputs": [
    {
     "data": {
      "text/html": [
       "<div>\n",
       "<style scoped>\n",
       "    .dataframe tbody tr th:only-of-type {\n",
       "        vertical-align: middle;\n",
       "    }\n",
       "\n",
       "    .dataframe tbody tr th {\n",
       "        vertical-align: top;\n",
       "    }\n",
       "\n",
       "    .dataframe thead th {\n",
       "        text-align: right;\n",
       "    }\n",
       "</style>\n",
       "<table border=\"1\" class=\"dataframe\">\n",
       "  <thead>\n",
       "    <tr style=\"text-align: right;\">\n",
       "      <th></th>\n",
       "      <th>AIRLINE</th>\n",
       "      <th>COUNTRY</th>\n",
       "      <th>BEGAN OPERATION</th>\n",
       "      <th>AVERAGE AGE OF FLEET</th>\n",
       "      <th>LAST FATAL ACCIDENT</th>\n",
       "      <th>FATAL ACCIDENTS LAST 10 YRS</th>\n",
       "      <th>FATAL ACCIDENTS LAST 20 YRS</th>\n",
       "      <th>COMMENTS</th>\n",
       "    </tr>\n",
       "  </thead>\n",
       "  <tbody>\n",
       "    <tr>\n",
       "      <th>0</th>\n",
       "      <td>Air Wisconsin</td>\n",
       "      <td>USA</td>\n",
       "      <td>1965</td>\n",
       "      <td>17.6</td>\n",
       "      <td>1980</td>\n",
       "      <td>0</td>\n",
       "      <td>0</td>\n",
       "      <td>Under contract to US Airways</td>\n",
       "    </tr>\n",
       "    <tr>\n",
       "      <th>1</th>\n",
       "      <td>Aeroflot Russian Airlines</td>\n",
       "      <td>Russia</td>\n",
       "      <td>2000</td>\n",
       "      <td>5.0</td>\n",
       "      <td>1996</td>\n",
       "      <td>0</td>\n",
       "      <td>0</td>\n",
       "      <td></td>\n",
       "    </tr>\n",
       "    <tr>\n",
       "      <th>2</th>\n",
       "      <td>Aerolineas Argentinas</td>\n",
       "      <td>Argentina</td>\n",
       "      <td>1949</td>\n",
       "      <td>7.9</td>\n",
       "      <td>1970</td>\n",
       "      <td>0</td>\n",
       "      <td>0</td>\n",
       "      <td></td>\n",
       "    </tr>\n",
       "    <tr>\n",
       "      <th>3</th>\n",
       "      <td>Aeromexico</td>\n",
       "      <td>Mexico</td>\n",
       "      <td>1972</td>\n",
       "      <td>7.9</td>\n",
       "      <td>1986</td>\n",
       "      <td>0</td>\n",
       "      <td>0</td>\n",
       "      <td></td>\n",
       "    </tr>\n",
       "    <tr>\n",
       "      <th>4</th>\n",
       "      <td>Aeromexico Connect</td>\n",
       "      <td>Mexico</td>\n",
       "      <td>1988</td>\n",
       "      <td>11.0</td>\n",
       "      <td>none</td>\n",
       "      <td>0</td>\n",
       "      <td>0</td>\n",
       "      <td></td>\n",
       "    </tr>\n",
       "  </tbody>\n",
       "</table>\n",
       "</div>"
      ],
      "text/plain": [
       "                     AIRLINE    COUNTRY BEGAN OPERATION AVERAGE AGE OF FLEET  \\\n",
       "0              Air Wisconsin        USA            1965                 17.6   \n",
       "1  Aeroflot Russian Airlines     Russia            2000                  5.0   \n",
       "2      Aerolineas Argentinas  Argentina            1949                  7.9   \n",
       "3                 Aeromexico     Mexico            1972                  7.9   \n",
       "4         Aeromexico Connect     Mexico            1988                 11.0   \n",
       "\n",
       "  LAST FATAL ACCIDENT FATAL ACCIDENTS LAST 10 YRS FATAL ACCIDENTS LAST 20 YRS  \\\n",
       "0                1980                           0                           0   \n",
       "1                1996                           0                           0   \n",
       "2                1970                           0                           0   \n",
       "3                1986                           0                           0   \n",
       "4                none                           0                           0   \n",
       "\n",
       "                       COMMENTS  \n",
       "0  Under contract to US Airways  \n",
       "1                                \n",
       "2                                \n",
       "3                                \n",
       "4                                "
      ]
     },
     "execution_count": 10,
     "metadata": {},
     "output_type": "execute_result"
    }
   ],
   "source": [
    "# Quick look at the data\n",
    "accHistDF.head()"
   ]
  },
  {
   "cell_type": "code",
   "execution_count": 11,
   "id": "52d03bbc-fe6a-4155-afce-620c3ccb84c5",
   "metadata": {},
   "outputs": [
    {
     "data": {
      "text/plain": [
       "array([[<AxesSubplot:title={'center':'0'}>,\n",
       "        <AxesSubplot:title={'center':'1'}>],\n",
       "       [<AxesSubplot:title={'center':'2'}>,\n",
       "        <AxesSubplot:title={'center':'3'}>]], dtype=object)"
      ]
     },
     "execution_count": 11,
     "metadata": {},
     "output_type": "execute_result"
    },
    {
     "data": {
      "image/png": "[encoded data removed]",
      "text/plain": [
       "<Figure size 432x288 with 4 Axes>"
      ]
     },
     "metadata": {
      "needs_background": "light"
     },
     "output_type": "display_data"
    }
   ],
   "source": [
    "# View histograms of accidents by country\n",
    "accHistDF.COUNTRY.hist(accHistDF['FATAL ACCIDENTS LAST 20 YRS'], bins=100)"
   ]
  },
  {
   "cell_type": "code",
   "execution_count": 12,
   "id": "4c0b00b3-826a-4628-a594-bffe200d6ce6",
   "metadata": {},
   "outputs": [
    {
     "data": {
      "text/html": [
       "<div>\n",
       "<style scoped>\n",
       "    .dataframe tbody tr th:only-of-type {\n",
       "        vertical-align: middle;\n",
       "    }\n",
       "\n",
       "    .dataframe tbody tr th {\n",
       "        vertical-align: top;\n",
       "    }\n",
       "\n",
       "    .dataframe thead th {\n",
       "        text-align: right;\n",
       "    }\n",
       "</style>\n",
       "<table border=\"1\" class=\"dataframe\">\n",
       "  <thead>\n",
       "    <tr style=\"text-align: right;\">\n",
       "      <th></th>\n",
       "      <th>AIRLINE</th>\n",
       "      <th>COUNTRY</th>\n",
       "      <th>BEGAN OPERATION</th>\n",
       "      <th>AVERAGE AGE OF FLEET</th>\n",
       "      <th>LAST FATAL ACCIDENT</th>\n",
       "      <th>FATAL ACCIDENTS LAST 10 YRS</th>\n",
       "      <th>FATAL ACCIDENTS LAST 20 YRS</th>\n",
       "      <th>COMMENTS</th>\n",
       "    </tr>\n",
       "  </thead>\n",
       "  <tbody>\n",
       "    <tr>\n",
       "      <th>count</th>\n",
       "      <td>106</td>\n",
       "      <td>106</td>\n",
       "      <td>106</td>\n",
       "      <td>106</td>\n",
       "      <td>106</td>\n",
       "      <td>106</td>\n",
       "      <td>106</td>\n",
       "      <td>106</td>\n",
       "    </tr>\n",
       "    <tr>\n",
       "      <th>unique</th>\n",
       "      <td>106</td>\n",
       "      <td>57</td>\n",
       "      <td>59</td>\n",
       "      <td>71</td>\n",
       "      <td>37</td>\n",
       "      <td>3</td>\n",
       "      <td>4</td>\n",
       "      <td>15</td>\n",
       "    </tr>\n",
       "    <tr>\n",
       "      <th>top</th>\n",
       "      <td>Air Wisconsin</td>\n",
       "      <td>USA</td>\n",
       "      <td>2016</td>\n",
       "      <td>9.8</td>\n",
       "      <td>none</td>\n",
       "      <td>0</td>\n",
       "      <td>0</td>\n",
       "      <td></td>\n",
       "    </tr>\n",
       "    <tr>\n",
       "      <th>freq</th>\n",
       "      <td>1</td>\n",
       "      <td>22</td>\n",
       "      <td>7</td>\n",
       "      <td>4</td>\n",
       "      <td>45</td>\n",
       "      <td>95</td>\n",
       "      <td>85</td>\n",
       "      <td>92</td>\n",
       "    </tr>\n",
       "  </tbody>\n",
       "</table>\n",
       "</div>"
      ],
      "text/plain": [
       "              AIRLINE COUNTRY BEGAN OPERATION AVERAGE AGE OF FLEET  \\\n",
       "count             106     106             106                  106   \n",
       "unique            106      57              59                   71   \n",
       "top     Air Wisconsin     USA            2016                  9.8   \n",
       "freq                1      22               7                    4   \n",
       "\n",
       "       LAST FATAL ACCIDENT FATAL ACCIDENTS LAST 10 YRS  \\\n",
       "count                  106                         106   \n",
       "unique                  37                           3   \n",
       "top                   none                           0   \n",
       "freq                    45                          95   \n",
       "\n",
       "       FATAL ACCIDENTS LAST 20 YRS COMMENTS  \n",
       "count                          106      106  \n",
       "unique                           4       15  \n",
       "top                              0           \n",
       "freq                            85       92  "
      ]
     },
     "execution_count": 12,
     "metadata": {},
     "output_type": "execute_result"
    }
   ],
   "source": [
    "accHistDF.describe()"
   ]
  },
  {
   "cell_type": "code",
   "execution_count": 13,
   "id": "c7bddac2-b1d3-4cf7-8021-95a768367f02",
   "metadata": {},
   "outputs": [],
   "source": [
    "# # View dataframe data types\n",
    "# accHistDF.dtypes"
   ]
  },
  {
   "cell_type": "code",
   "execution_count": 14,
   "id": "9cef7743-1de5-4c9e-8d91-96d823b7f39e",
   "metadata": {},
   "outputs": [],
   "source": [
    "# Function converts specified column to numeric\n",
    "def makeNumeric(col):\n",
    "    accHistDF[col] = pd.to_numeric(accHistDF[col])"
   ]
  },
  {
   "cell_type": "code",
   "execution_count": 15,
   "id": "905fb541-1787-447b-bfee-81998b0b371f",
   "metadata": {},
   "outputs": [],
   "source": [
    "# Create list of columns that should be numeric\n",
    "numCols = ['AVERAGE AGE OF FLEET', 'FATAL ACCIDENTS LAST 10 YRS', 'FATAL ACCIDENTS LAST 20 YRS']\n",
    "# Iterate through list, converting columns to numeric\n",
    "for i in numCols:\n",
    "    makeNumeric(i)"
   ]
  },
  {
   "cell_type": "code",
   "execution_count": 16,
   "id": "d578cffe-0588-4f3e-9aab-da1613d9fe85",
   "metadata": {},
   "outputs": [],
   "source": [
    "# # View dataframe data types\n",
    "# accHistDF.dtypes"
   ]
  },
  {
   "cell_type": "code",
   "execution_count": 17,
   "id": "86f2f240-9061-4ecd-a150-0e60589ff7e3",
   "metadata": {},
   "outputs": [],
   "source": [
    "# Create column for accidents between 10-20 years ago\n",
    "accHistDF['FATAL ACCIDENTS 10-20 YRS'] = accHistDF['FATAL ACCIDENTS LAST 20 YRS'] - accHistDF['FATAL ACCIDENTS LAST 10 YRS']"
   ]
  },
  {
   "cell_type": "code",
   "execution_count": 18,
   "id": "0447cfbf-3f58-4d34-87fc-6bb02c4f82ff",
   "metadata": {},
   "outputs": [],
   "source": [
    "# Save dataframe to CSV\n",
    "accHistDF.to_csv('data/PCI_scrape_accident-history.csv', index=False)"
   ]
  },
  {
   "cell_type": "code",
   "execution_count": null,
   "id": "3d59dfa3-adcc-4785-90b8-198469e9aeef",
   "metadata": {},
   "outputs": [],
   "source": []
  }
 ],
 "metadata": {
  "kernelspec": {
   "display_name": "Python 3 (ipykernel)",
   "language": "python",
   "name": "python3"
  },
  "language_info": {
   "codemirror_mode": {
    "name": "ipython",
    "version": 3
   },
   "file_extension": ".py",
   "mimetype": "text/x-python",
   "name": "python",
   "nbconvert_exporter": "python",
   "pygments_lexer": "ipython3",
   "version": "3.9.7"
  }
 },
 "nbformat": 4,
 "nbformat_minor": 5
}
