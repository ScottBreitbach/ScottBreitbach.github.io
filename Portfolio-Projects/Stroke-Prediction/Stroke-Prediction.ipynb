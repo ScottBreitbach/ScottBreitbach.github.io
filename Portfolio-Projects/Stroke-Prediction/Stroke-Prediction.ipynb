{
 "cells": [
  {
   "cell_type": "markdown",
   "metadata": {
    "id": "vhOqROYRVGwa"
   },
   "source": [
    "# Stroke Prediction\n",
    "# Scott Breitbach\n",
    "## 21-July-2022"
   ]
  },
  {
   "cell_type": "code",
   "execution_count": 1,
   "metadata": {
    "id": "UcO3emhKVCD4"
   },
   "outputs": [],
   "source": [
    "## LOAD LIBRARIES\n",
    "import pandas as pd\n",
    "import numpy as np\n",
    "from pandas.core.common import random_state\n",
    "# plotting:\n",
    "import matplotlib.pyplot as plt\n",
    "import seaborn as sns\n",
    "# encoding categorical variables\n",
    "from sklearn.compose import make_column_transformer\n",
    "from sklearn.preprocessing import OneHotEncoder\n",
    "# split dataset\n",
    "from sklearn.model_selection import train_test_split\n",
    "# data transformations\n",
    "from sklearn.pipeline import Pipeline\n",
    "from sklearn.preprocessing import PowerTransformer\n",
    "from sklearn.preprocessing import MinMaxScaler\n",
    "# balancing data\n",
    "from collections import Counter\n",
    "import imblearn\n",
    "from imblearn.pipeline import Pipeline\n",
    "from imblearn.over_sampling import RandomOverSampler\n",
    "from imblearn.over_sampling import SMOTE\n",
    "from imblearn.under_sampling import RandomUnderSampler\n",
    "# model comparison\n",
    "from sklearn.metrics import classification_report\n",
    "from sklearn.metrics import confusion_matrix, ConfusionMatrixDisplay\n",
    "from sklearn.metrics import matthews_corrcoef, roc_auc_score, recall_score\n",
    "# classification models\n",
    "from lightgbm import LGBMClassifier\n",
    "from sklearn.discriminant_analysis import LinearDiscriminantAnalysis\n",
    "from sklearn.ensemble import AdaBoostClassifier\n",
    "from sklearn.ensemble import GradientBoostingClassifier\n",
    "from sklearn.ensemble import RandomForestClassifier\n",
    "from sklearn.linear_model import LogisticRegression, SGDClassifier\n",
    "from sklearn.naive_bayes import GaussianNB\n",
    "from sklearn.neighbors import KNeighborsClassifier\n",
    "from sklearn.neural_network import MLPClassifier\n",
    "from sklearn.svm import SVC, LinearSVC\n",
    "from sklearn.tree import DecisionTreeClassifier\n",
    "from xgboost.sklearn import XGBClassifier\n",
    "# tuning and model ensembles\n",
    "from sklearn.model_selection import GridSearchCV, RandomizedSearchCV\n",
    "from sklearn.metrics import make_scorer\n",
    "\n",
    "from sklearn.ensemble import VotingClassifier\n",
    "from sklearn.ensemble import StackingClassifier\n",
    "from sklearn.ensemble import BaggingClassifier\n"
   ]
  },
  {
   "cell_type": "markdown",
   "metadata": {
    "id": "OSN9Wt-kVNSq"
   },
   "source": [
    "# Load Data"
   ]
  },
  {
   "cell_type": "code",
   "execution_count": 2,
   "metadata": {
    "colab": {
     "base_uri": "https://localhost:8080/",
     "height": 90,
     "resources": {
      "http://localhost:8080/nbextensions/google.colab/files.js": {
       "data": "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",
       "headers": [
        [
         "content-type",
         "application/javascript"
        ]
       ],
       "ok": true,
       "status": 200,
       "status_text": ""
      }
     }
    },
    "id": "bhaUWDAgVNr3",
    "outputId": "901a4b67-9159-4d4d-9150-65596ddabf2d"
   },
   "outputs": [
    {
     "data": {
      "text/html": [
       "\n",
       "     <input type=\"file\" id=\"files-3f5f0138-373b-4a97-bc0f-792462729a29\" name=\"files[]\" multiple disabled\n",
       "        style=\"border:none\" />\n",
       "     <output id=\"result-3f5f0138-373b-4a97-bc0f-792462729a29\">\n",
       "      Upload widget is only available when the cell has been executed in the\n",
       "      current browser session. Please rerun this cell to enable.\n",
       "      </output>\n",
       "      <script src=\"/nbextensions/google.colab/files.js\"></script> "
      ],
      "text/plain": [
       "<IPython.core.display.HTML object>"
      ]
     },
     "metadata": {},
     "output_type": "display_data"
    },
    {
     "name": "stdout",
     "output_type": "stream",
     "text": [
      "Saving train_strokes.csv to train_strokes (1).csv\n",
      "User uploaded file \"train_strokes.csv\" with length 2635787 bytes\n"
     ]
    }
   ],
   "source": [
    "# import files to colab\n",
    "from google.colab import files\n",
    "\n",
    "uploaded = files.upload()\n",
    "\n",
    "for fn in uploaded.keys():\n",
    "  print('User uploaded file \"{name}\" with length {length} bytes'.format(\n",
    "      name=fn, length=len(uploaded[fn])))"
   ]
  },
  {
   "cell_type": "code",
   "execution_count": 3,
   "metadata": {
    "id": "EfdjTZ8cVS3A"
   },
   "outputs": [],
   "source": [
    "def load_dataframe(path):\n",
    "  # load dataset as pandas DataFrame\n",
    "  DF = pd.read_csv(path, index_col=0)\n",
    "  return DF\n",
    "\n",
    "# load the dataframe\n",
    "strokeDF = load_dataframe('/content/train_strokes.csv')"
   ]
  },
  {
   "cell_type": "markdown",
   "metadata": {
    "id": "RwWbPvUwVZ2B"
   },
   "source": [
    "# Look at data"
   ]
  },
  {
   "cell_type": "code",
   "execution_count": 4,
   "metadata": {
    "colab": {
     "base_uri": "https://localhost:8080/",
     "height": 238
    },
    "id": "bFWsx9BUVYbt",
    "outputId": "c45a52e2-0f32-4130-e81d-69bb6fc28836"
   },
   "outputs": [
    {
     "data": {
      "text/html": [
       "\n",
       "  <div id=\"df-c1428a89-963b-4213-8783-53fae8227c2a\">\n",
       "    <div class=\"colab-df-container\">\n",
       "      <div>\n",
       "<style scoped>\n",
       "    .dataframe tbody tr th:only-of-type {\n",
       "        vertical-align: middle;\n",
       "    }\n",
       "\n",
       "    .dataframe tbody tr th {\n",
       "        vertical-align: top;\n",
       "    }\n",
       "\n",
       "    .dataframe thead th {\n",
       "        text-align: right;\n",
       "    }\n",
       "</style>\n",
       "<table border=\"1\" class=\"dataframe\">\n",
       "  <thead>\n",
       "    <tr style=\"text-align: right;\">\n",
       "      <th></th>\n",
       "      <th>gender</th>\n",
       "      <th>age</th>\n",
       "      <th>hypertension</th>\n",
       "      <th>heart_disease</th>\n",
       "      <th>ever_married</th>\n",
       "      <th>work_type</th>\n",
       "      <th>Residence_type</th>\n",
       "      <th>avg_glucose_level</th>\n",
       "      <th>bmi</th>\n",
       "      <th>smoking_status</th>\n",
       "      <th>stroke</th>\n",
       "    </tr>\n",
       "    <tr>\n",
       "      <th>id</th>\n",
       "      <th></th>\n",
       "      <th></th>\n",
       "      <th></th>\n",
       "      <th></th>\n",
       "      <th></th>\n",
       "      <th></th>\n",
       "      <th></th>\n",
       "      <th></th>\n",
       "      <th></th>\n",
       "      <th></th>\n",
       "      <th></th>\n",
       "    </tr>\n",
       "  </thead>\n",
       "  <tbody>\n",
       "    <tr>\n",
       "      <th>30669</th>\n",
       "      <td>Male</td>\n",
       "      <td>3.0</td>\n",
       "      <td>0</td>\n",
       "      <td>0</td>\n",
       "      <td>No</td>\n",
       "      <td>children</td>\n",
       "      <td>Rural</td>\n",
       "      <td>95.12</td>\n",
       "      <td>18.0</td>\n",
       "      <td>NaN</td>\n",
       "      <td>0</td>\n",
       "    </tr>\n",
       "    <tr>\n",
       "      <th>30468</th>\n",
       "      <td>Male</td>\n",
       "      <td>58.0</td>\n",
       "      <td>1</td>\n",
       "      <td>0</td>\n",
       "      <td>Yes</td>\n",
       "      <td>Private</td>\n",
       "      <td>Urban</td>\n",
       "      <td>87.96</td>\n",
       "      <td>39.2</td>\n",
       "      <td>never smoked</td>\n",
       "      <td>0</td>\n",
       "    </tr>\n",
       "    <tr>\n",
       "      <th>16523</th>\n",
       "      <td>Female</td>\n",
       "      <td>8.0</td>\n",
       "      <td>0</td>\n",
       "      <td>0</td>\n",
       "      <td>No</td>\n",
       "      <td>Private</td>\n",
       "      <td>Urban</td>\n",
       "      <td>110.89</td>\n",
       "      <td>17.6</td>\n",
       "      <td>NaN</td>\n",
       "      <td>0</td>\n",
       "    </tr>\n",
       "    <tr>\n",
       "      <th>56543</th>\n",
       "      <td>Female</td>\n",
       "      <td>70.0</td>\n",
       "      <td>0</td>\n",
       "      <td>0</td>\n",
       "      <td>Yes</td>\n",
       "      <td>Private</td>\n",
       "      <td>Rural</td>\n",
       "      <td>69.04</td>\n",
       "      <td>35.9</td>\n",
       "      <td>formerly smoked</td>\n",
       "      <td>0</td>\n",
       "    </tr>\n",
       "    <tr>\n",
       "      <th>46136</th>\n",
       "      <td>Male</td>\n",
       "      <td>14.0</td>\n",
       "      <td>0</td>\n",
       "      <td>0</td>\n",
       "      <td>No</td>\n",
       "      <td>Never_worked</td>\n",
       "      <td>Rural</td>\n",
       "      <td>161.28</td>\n",
       "      <td>19.1</td>\n",
       "      <td>NaN</td>\n",
       "      <td>0</td>\n",
       "    </tr>\n",
       "  </tbody>\n",
       "</table>\n",
       "</div>\n",
       "      <button class=\"colab-df-convert\" onclick=\"convertToInteractive('df-c1428a89-963b-4213-8783-53fae8227c2a')\"\n",
       "              title=\"Convert this dataframe to an interactive table.\"\n",
       "              style=\"display:none;\">\n",
       "        \n",
       "  <svg xmlns=\"http://www.w3.org/2000/svg\" height=\"24px\"viewBox=\"0 0 24 24\"\n",
       "       width=\"24px\">\n",
       "    <path d=\"M0 0h24v24H0V0z\" fill=\"none\"/>\n",
       "    <path d=\"M18.56 5.44l.94 2.06.94-2.06 2.06-.94-2.06-.94-.94-2.06-.94 2.06-2.06.94zm-11 1L8.5 8.5l.94-2.06 2.06-.94-2.06-.94L8.5 2.5l-.94 2.06-2.06.94zm10 10l.94 2.06.94-2.06 2.06-.94-2.06-.94-.94-2.06-.94 2.06-2.06.94z\"/><path d=\"M17.41 7.96l-1.37-1.37c-.4-.4-.92-.59-1.43-.59-.52 0-1.04.2-1.43.59L10.3 9.45l-7.72 7.72c-.78.78-.78 2.05 0 2.83L4 21.41c.39.39.9.59 1.41.59.51 0 1.02-.2 1.41-.59l7.78-7.78 2.81-2.81c.8-.78.8-2.07 0-2.86zM5.41 20L4 18.59l7.72-7.72 1.47 1.35L5.41 20z\"/>\n",
       "  </svg>\n",
       "      </button>\n",
       "      \n",
       "  <style>\n",
       "    .colab-df-container {\n",
       "      display:flex;\n",
       "      flex-wrap:wrap;\n",
       "      gap: 12px;\n",
       "    }\n",
       "\n",
       "    .colab-df-convert {\n",
       "      background-color: #E8F0FE;\n",
       "      border: none;\n",
       "      border-radius: 50%;\n",
       "      cursor: pointer;\n",
       "      display: none;\n",
       "      fill: #1967D2;\n",
       "      height: 32px;\n",
       "      padding: 0 0 0 0;\n",
       "      width: 32px;\n",
       "    }\n",
       "\n",
       "    .colab-df-convert:hover {\n",
       "      background-color: #E2EBFA;\n",
       "      box-shadow: 0px 1px 2px rgba(60, 64, 67, 0.3), 0px 1px 3px 1px rgba(60, 64, 67, 0.15);\n",
       "      fill: #174EA6;\n",
       "    }\n",
       "\n",
       "    [theme=dark] .colab-df-convert {\n",
       "      background-color: #3B4455;\n",
       "      fill: #D2E3FC;\n",
       "    }\n",
       "\n",
       "    [theme=dark] .colab-df-convert:hover {\n",
       "      background-color: #434B5C;\n",
       "      box-shadow: 0px 1px 3px 1px rgba(0, 0, 0, 0.15);\n",
       "      filter: drop-shadow(0px 1px 2px rgba(0, 0, 0, 0.3));\n",
       "      fill: #FFFFFF;\n",
       "    }\n",
       "  </style>\n",
       "\n",
       "      <script>\n",
       "        const buttonEl =\n",
       "          document.querySelector('#df-c1428a89-963b-4213-8783-53fae8227c2a button.colab-df-convert');\n",
       "        buttonEl.style.display =\n",
       "          google.colab.kernel.accessAllowed ? 'block' : 'none';\n",
       "\n",
       "        async function convertToInteractive(key) {\n",
       "          const element = document.querySelector('#df-c1428a89-963b-4213-8783-53fae8227c2a');\n",
       "          const dataTable =\n",
       "            await google.colab.kernel.invokeFunction('convertToInteractive',\n",
       "                                                     [key], {});\n",
       "          if (!dataTable) return;\n",
       "\n",
       "          const docLinkHtml = 'Like what you see? Visit the ' +\n",
       "            '<a target=\"_blank\" href=https://colab.research.google.com/notebooks/data_table.ipynb>data table notebook</a>'\n",
       "            + ' to learn more about interactive tables.';\n",
       "          element.innerHTML = '';\n",
       "          dataTable['output_type'] = 'display_data';\n",
       "          await google.colab.output.renderOutput(dataTable, element);\n",
       "          const docLink = document.createElement('div');\n",
       "          docLink.innerHTML = docLinkHtml;\n",
       "          element.appendChild(docLink);\n",
       "        }\n",
       "      </script>\n",
       "    </div>\n",
       "  </div>\n",
       "  "
      ],
      "text/plain": [
       "       gender   age  hypertension  heart_disease ever_married     work_type  \\\n",
       "id                                                                            \n",
       "30669    Male   3.0             0              0           No      children   \n",
       "30468    Male  58.0             1              0          Yes       Private   \n",
       "16523  Female   8.0             0              0           No       Private   \n",
       "56543  Female  70.0             0              0          Yes       Private   \n",
       "46136    Male  14.0             0              0           No  Never_worked   \n",
       "\n",
       "      Residence_type  avg_glucose_level   bmi   smoking_status  stroke  \n",
       "id                                                                      \n",
       "30669          Rural              95.12  18.0              NaN       0  \n",
       "30468          Urban              87.96  39.2     never smoked       0  \n",
       "16523          Urban             110.89  17.6              NaN       0  \n",
       "56543          Rural              69.04  35.9  formerly smoked       0  \n",
       "46136          Rural             161.28  19.1              NaN       0  "
      ]
     },
     "execution_count": 4,
     "metadata": {},
     "output_type": "execute_result"
    }
   ],
   "source": [
    "# look at dataframe\n",
    "strokeDF.head()"
   ]
  },
  {
   "cell_type": "code",
   "execution_count": 5,
   "metadata": {
    "colab": {
     "base_uri": "https://localhost:8080/"
    },
    "id": "VAIAYRHUVd5C",
    "outputId": "15667780-06b1-4c42-aa7f-bee15e613ce5"
   },
   "outputs": [
    {
     "name": "stdout",
     "output_type": "stream",
     "text": [
      "<class 'pandas.core.frame.DataFrame'>\n",
      "Int64Index: 43400 entries, 30669 to 36271\n",
      "Data columns (total 11 columns):\n",
      " #   Column             Non-Null Count  Dtype  \n",
      "---  ------             --------------  -----  \n",
      " 0   gender             43400 non-null  object \n",
      " 1   age                43400 non-null  float64\n",
      " 2   hypertension       43400 non-null  int64  \n",
      " 3   heart_disease      43400 non-null  int64  \n",
      " 4   ever_married       43400 non-null  object \n",
      " 5   work_type          43400 non-null  object \n",
      " 6   Residence_type     43400 non-null  object \n",
      " 7   avg_glucose_level  43400 non-null  float64\n",
      " 8   bmi                41938 non-null  float64\n",
      " 9   smoking_status     30108 non-null  object \n",
      " 10  stroke             43400 non-null  int64  \n",
      "dtypes: float64(3), int64(3), object(5)\n",
      "memory usage: 4.0+ MB\n"
     ]
    }
   ],
   "source": [
    "# display object types\n",
    "strokeDF.info()"
   ]
  },
  {
   "cell_type": "code",
   "execution_count": 6,
   "metadata": {
    "colab": {
     "base_uri": "https://localhost:8080/",
     "height": 238
    },
    "id": "Gl9yUy7nVhOK",
    "outputId": "660707ea-30d1-44c8-9129-253d49b4fd89"
   },
   "outputs": [
    {
     "data": {
      "text/html": [
       "\n",
       "  <div id=\"df-091f59ac-1edd-4ec1-b830-27d5cf7a3d4d\">\n",
       "    <div class=\"colab-df-container\">\n",
       "      <div>\n",
       "<style scoped>\n",
       "    .dataframe tbody tr th:only-of-type {\n",
       "        vertical-align: middle;\n",
       "    }\n",
       "\n",
       "    .dataframe tbody tr th {\n",
       "        vertical-align: top;\n",
       "    }\n",
       "\n",
       "    .dataframe thead th {\n",
       "        text-align: right;\n",
       "    }\n",
       "</style>\n",
       "<table border=\"1\" class=\"dataframe\">\n",
       "  <thead>\n",
       "    <tr style=\"text-align: right;\">\n",
       "      <th></th>\n",
       "      <th>count</th>\n",
       "      <th>mean</th>\n",
       "      <th>std</th>\n",
       "      <th>min</th>\n",
       "      <th>25%</th>\n",
       "      <th>50%</th>\n",
       "      <th>75%</th>\n",
       "      <th>max</th>\n",
       "    </tr>\n",
       "  </thead>\n",
       "  <tbody>\n",
       "    <tr>\n",
       "      <th>age</th>\n",
       "      <td>43400.0</td>\n",
       "      <td>42.217894</td>\n",
       "      <td>22.519649</td>\n",
       "      <td>0.08</td>\n",
       "      <td>24.00</td>\n",
       "      <td>44.00</td>\n",
       "      <td>60.00</td>\n",
       "      <td>82.00</td>\n",
       "    </tr>\n",
       "    <tr>\n",
       "      <th>hypertension</th>\n",
       "      <td>43400.0</td>\n",
       "      <td>0.093571</td>\n",
       "      <td>0.291235</td>\n",
       "      <td>0.00</td>\n",
       "      <td>0.00</td>\n",
       "      <td>0.00</td>\n",
       "      <td>0.00</td>\n",
       "      <td>1.00</td>\n",
       "    </tr>\n",
       "    <tr>\n",
       "      <th>heart_disease</th>\n",
       "      <td>43400.0</td>\n",
       "      <td>0.047512</td>\n",
       "      <td>0.212733</td>\n",
       "      <td>0.00</td>\n",
       "      <td>0.00</td>\n",
       "      <td>0.00</td>\n",
       "      <td>0.00</td>\n",
       "      <td>1.00</td>\n",
       "    </tr>\n",
       "    <tr>\n",
       "      <th>avg_glucose_level</th>\n",
       "      <td>43400.0</td>\n",
       "      <td>104.482750</td>\n",
       "      <td>43.111751</td>\n",
       "      <td>55.00</td>\n",
       "      <td>77.54</td>\n",
       "      <td>91.58</td>\n",
       "      <td>112.07</td>\n",
       "      <td>291.05</td>\n",
       "    </tr>\n",
       "    <tr>\n",
       "      <th>bmi</th>\n",
       "      <td>41938.0</td>\n",
       "      <td>28.605038</td>\n",
       "      <td>7.770020</td>\n",
       "      <td>10.10</td>\n",
       "      <td>23.20</td>\n",
       "      <td>27.70</td>\n",
       "      <td>32.90</td>\n",
       "      <td>97.60</td>\n",
       "    </tr>\n",
       "    <tr>\n",
       "      <th>stroke</th>\n",
       "      <td>43400.0</td>\n",
       "      <td>0.018041</td>\n",
       "      <td>0.133103</td>\n",
       "      <td>0.00</td>\n",
       "      <td>0.00</td>\n",
       "      <td>0.00</td>\n",
       "      <td>0.00</td>\n",
       "      <td>1.00</td>\n",
       "    </tr>\n",
       "  </tbody>\n",
       "</table>\n",
       "</div>\n",
       "      <button class=\"colab-df-convert\" onclick=\"convertToInteractive('df-091f59ac-1edd-4ec1-b830-27d5cf7a3d4d')\"\n",
       "              title=\"Convert this dataframe to an interactive table.\"\n",
       "              style=\"display:none;\">\n",
       "        \n",
       "  <svg xmlns=\"http://www.w3.org/2000/svg\" height=\"24px\"viewBox=\"0 0 24 24\"\n",
       "       width=\"24px\">\n",
       "    <path d=\"M0 0h24v24H0V0z\" fill=\"none\"/>\n",
       "    <path d=\"M18.56 5.44l.94 2.06.94-2.06 2.06-.94-2.06-.94-.94-2.06-.94 2.06-2.06.94zm-11 1L8.5 8.5l.94-2.06 2.06-.94-2.06-.94L8.5 2.5l-.94 2.06-2.06.94zm10 10l.94 2.06.94-2.06 2.06-.94-2.06-.94-.94-2.06-.94 2.06-2.06.94z\"/><path d=\"M17.41 7.96l-1.37-1.37c-.4-.4-.92-.59-1.43-.59-.52 0-1.04.2-1.43.59L10.3 9.45l-7.72 7.72c-.78.78-.78 2.05 0 2.83L4 21.41c.39.39.9.59 1.41.59.51 0 1.02-.2 1.41-.59l7.78-7.78 2.81-2.81c.8-.78.8-2.07 0-2.86zM5.41 20L4 18.59l7.72-7.72 1.47 1.35L5.41 20z\"/>\n",
       "  </svg>\n",
       "      </button>\n",
       "      \n",
       "  <style>\n",
       "    .colab-df-container {\n",
       "      display:flex;\n",
       "      flex-wrap:wrap;\n",
       "      gap: 12px;\n",
       "    }\n",
       "\n",
       "    .colab-df-convert {\n",
       "      background-color: #E8F0FE;\n",
       "      border: none;\n",
       "      border-radius: 50%;\n",
       "      cursor: pointer;\n",
       "      display: none;\n",
       "      fill: #1967D2;\n",
       "      height: 32px;\n",
       "      padding: 0 0 0 0;\n",
       "      width: 32px;\n",
       "    }\n",
       "\n",
       "    .colab-df-convert:hover {\n",
       "      background-color: #E2EBFA;\n",
       "      box-shadow: 0px 1px 2px rgba(60, 64, 67, 0.3), 0px 1px 3px 1px rgba(60, 64, 67, 0.15);\n",
       "      fill: #174EA6;\n",
       "    }\n",
       "\n",
       "    [theme=dark] .colab-df-convert {\n",
       "      background-color: #3B4455;\n",
       "      fill: #D2E3FC;\n",
       "    }\n",
       "\n",
       "    [theme=dark] .colab-df-convert:hover {\n",
       "      background-color: #434B5C;\n",
       "      box-shadow: 0px 1px 3px 1px rgba(0, 0, 0, 0.15);\n",
       "      filter: drop-shadow(0px 1px 2px rgba(0, 0, 0, 0.3));\n",
       "      fill: #FFFFFF;\n",
       "    }\n",
       "  </style>\n",
       "\n",
       "      <script>\n",
       "        const buttonEl =\n",
       "          document.querySelector('#df-091f59ac-1edd-4ec1-b830-27d5cf7a3d4d button.colab-df-convert');\n",
       "        buttonEl.style.display =\n",
       "          google.colab.kernel.accessAllowed ? 'block' : 'none';\n",
       "\n",
       "        async function convertToInteractive(key) {\n",
       "          const element = document.querySelector('#df-091f59ac-1edd-4ec1-b830-27d5cf7a3d4d');\n",
       "          const dataTable =\n",
       "            await google.colab.kernel.invokeFunction('convertToInteractive',\n",
       "                                                     [key], {});\n",
       "          if (!dataTable) return;\n",
       "\n",
       "          const docLinkHtml = 'Like what you see? Visit the ' +\n",
       "            '<a target=\"_blank\" href=https://colab.research.google.com/notebooks/data_table.ipynb>data table notebook</a>'\n",
       "            + ' to learn more about interactive tables.';\n",
       "          element.innerHTML = '';\n",
       "          dataTable['output_type'] = 'display_data';\n",
       "          await google.colab.output.renderOutput(dataTable, element);\n",
       "          const docLink = document.createElement('div');\n",
       "          docLink.innerHTML = docLinkHtml;\n",
       "          element.appendChild(docLink);\n",
       "        }\n",
       "      </script>\n",
       "    </div>\n",
       "  </div>\n",
       "  "
      ],
      "text/plain": [
       "                     count        mean        std    min    25%    50%  \\\n",
       "age                43400.0   42.217894  22.519649   0.08  24.00  44.00   \n",
       "hypertension       43400.0    0.093571   0.291235   0.00   0.00   0.00   \n",
       "heart_disease      43400.0    0.047512   0.212733   0.00   0.00   0.00   \n",
       "avg_glucose_level  43400.0  104.482750  43.111751  55.00  77.54  91.58   \n",
       "bmi                41938.0   28.605038   7.770020  10.10  23.20  27.70   \n",
       "stroke             43400.0    0.018041   0.133103   0.00   0.00   0.00   \n",
       "\n",
       "                      75%     max  \n",
       "age                 60.00   82.00  \n",
       "hypertension         0.00    1.00  \n",
       "heart_disease        0.00    1.00  \n",
       "avg_glucose_level  112.07  291.05  \n",
       "bmi                 32.90   97.60  \n",
       "stroke               0.00    1.00  "
      ]
     },
     "execution_count": 6,
     "metadata": {},
     "output_type": "execute_result"
    }
   ],
   "source": [
    "# summarize numerical data\n",
    "strokeDF.describe().T"
   ]
  },
  {
   "cell_type": "markdown",
   "metadata": {
    "id": "Ss_cnQimVoYW"
   },
   "source": [
    "* Minimum `age` of 0.08 years (1 month) is unlikely to be correct. Will need to look at distribution and establish a cutoff.\n",
    "\n",
    "* `hypertension` and `heart_disease` appear to already be scaled 0-1, which is probably fine.\n",
    "\n",
    "* `avg_glucose_level` Note: \"A blood sugar level less than 140 mg/dL (7.8 mmol/L) is normal. A reading of more than 200 mg/dL (11.1 mmol/L) after two hours indicates diabetes. A reading between 140 and 199 mg/dL (7.8 mmol/L and 11.0 mmol/L) indicates prediabetes.\" per [Mayo Clinic](https://www.mayoclinic.org/diseases-conditions/diabetes/diagnosis-treatment/drc-20371451)\n",
    "\n",
    "* A minimum `bmi` of [10.10 is not entirely unreasonable](https://www.ennonline.net/fex/15/limits)."
   ]
  },
  {
   "cell_type": "code",
   "execution_count": 7,
   "metadata": {
    "colab": {
     "base_uri": "https://localhost:8080/",
     "height": 206
    },
    "id": "1ZfQIBj3Vr0U",
    "outputId": "c1707050-3d03-4bde-dfd2-119a0289ac95"
   },
   "outputs": [
    {
     "data": {
      "text/html": [
       "\n",
       "  <div id=\"df-e6522bcd-bc57-4142-a0e2-71cf88d1a198\">\n",
       "    <div class=\"colab-df-container\">\n",
       "      <div>\n",
       "<style scoped>\n",
       "    .dataframe tbody tr th:only-of-type {\n",
       "        vertical-align: middle;\n",
       "    }\n",
       "\n",
       "    .dataframe tbody tr th {\n",
       "        vertical-align: top;\n",
       "    }\n",
       "\n",
       "    .dataframe thead th {\n",
       "        text-align: right;\n",
       "    }\n",
       "</style>\n",
       "<table border=\"1\" class=\"dataframe\">\n",
       "  <thead>\n",
       "    <tr style=\"text-align: right;\">\n",
       "      <th></th>\n",
       "      <th>count</th>\n",
       "      <th>unique</th>\n",
       "      <th>top</th>\n",
       "      <th>freq</th>\n",
       "    </tr>\n",
       "  </thead>\n",
       "  <tbody>\n",
       "    <tr>\n",
       "      <th>gender</th>\n",
       "      <td>43400</td>\n",
       "      <td>3</td>\n",
       "      <td>Female</td>\n",
       "      <td>25665</td>\n",
       "    </tr>\n",
       "    <tr>\n",
       "      <th>ever_married</th>\n",
       "      <td>43400</td>\n",
       "      <td>2</td>\n",
       "      <td>Yes</td>\n",
       "      <td>27938</td>\n",
       "    </tr>\n",
       "    <tr>\n",
       "      <th>work_type</th>\n",
       "      <td>43400</td>\n",
       "      <td>5</td>\n",
       "      <td>Private</td>\n",
       "      <td>24834</td>\n",
       "    </tr>\n",
       "    <tr>\n",
       "      <th>Residence_type</th>\n",
       "      <td>43400</td>\n",
       "      <td>2</td>\n",
       "      <td>Urban</td>\n",
       "      <td>21756</td>\n",
       "    </tr>\n",
       "    <tr>\n",
       "      <th>smoking_status</th>\n",
       "      <td>30108</td>\n",
       "      <td>3</td>\n",
       "      <td>never smoked</td>\n",
       "      <td>16053</td>\n",
       "    </tr>\n",
       "  </tbody>\n",
       "</table>\n",
       "</div>\n",
       "      <button class=\"colab-df-convert\" onclick=\"convertToInteractive('df-e6522bcd-bc57-4142-a0e2-71cf88d1a198')\"\n",
       "              title=\"Convert this dataframe to an interactive table.\"\n",
       "              style=\"display:none;\">\n",
       "        \n",
       "  <svg xmlns=\"http://www.w3.org/2000/svg\" height=\"24px\"viewBox=\"0 0 24 24\"\n",
       "       width=\"24px\">\n",
       "    <path d=\"M0 0h24v24H0V0z\" fill=\"none\"/>\n",
       "    <path d=\"M18.56 5.44l.94 2.06.94-2.06 2.06-.94-2.06-.94-.94-2.06-.94 2.06-2.06.94zm-11 1L8.5 8.5l.94-2.06 2.06-.94-2.06-.94L8.5 2.5l-.94 2.06-2.06.94zm10 10l.94 2.06.94-2.06 2.06-.94-2.06-.94-.94-2.06-.94 2.06-2.06.94z\"/><path d=\"M17.41 7.96l-1.37-1.37c-.4-.4-.92-.59-1.43-.59-.52 0-1.04.2-1.43.59L10.3 9.45l-7.72 7.72c-.78.78-.78 2.05 0 2.83L4 21.41c.39.39.9.59 1.41.59.51 0 1.02-.2 1.41-.59l7.78-7.78 2.81-2.81c.8-.78.8-2.07 0-2.86zM5.41 20L4 18.59l7.72-7.72 1.47 1.35L5.41 20z\"/>\n",
       "  </svg>\n",
       "      </button>\n",
       "      \n",
       "  <style>\n",
       "    .colab-df-container {\n",
       "      display:flex;\n",
       "      flex-wrap:wrap;\n",
       "      gap: 12px;\n",
       "    }\n",
       "\n",
       "    .colab-df-convert {\n",
       "      background-color: #E8F0FE;\n",
       "      border: none;\n",
       "      border-radius: 50%;\n",
       "      cursor: pointer;\n",
       "      display: none;\n",
       "      fill: #1967D2;\n",
       "      height: 32px;\n",
       "      padding: 0 0 0 0;\n",
       "      width: 32px;\n",
       "    }\n",
       "\n",
       "    .colab-df-convert:hover {\n",
       "      background-color: #E2EBFA;\n",
       "      box-shadow: 0px 1px 2px rgba(60, 64, 67, 0.3), 0px 1px 3px 1px rgba(60, 64, 67, 0.15);\n",
       "      fill: #174EA6;\n",
       "    }\n",
       "\n",
       "    [theme=dark] .colab-df-convert {\n",
       "      background-color: #3B4455;\n",
       "      fill: #D2E3FC;\n",
       "    }\n",
       "\n",
       "    [theme=dark] .colab-df-convert:hover {\n",
       "      background-color: #434B5C;\n",
       "      box-shadow: 0px 1px 3px 1px rgba(0, 0, 0, 0.15);\n",
       "      filter: drop-shadow(0px 1px 2px rgba(0, 0, 0, 0.3));\n",
       "      fill: #FFFFFF;\n",
       "    }\n",
       "  </style>\n",
       "\n",
       "      <script>\n",
       "        const buttonEl =\n",
       "          document.querySelector('#df-e6522bcd-bc57-4142-a0e2-71cf88d1a198 button.colab-df-convert');\n",
       "        buttonEl.style.display =\n",
       "          google.colab.kernel.accessAllowed ? 'block' : 'none';\n",
       "\n",
       "        async function convertToInteractive(key) {\n",
       "          const element = document.querySelector('#df-e6522bcd-bc57-4142-a0e2-71cf88d1a198');\n",
       "          const dataTable =\n",
       "            await google.colab.kernel.invokeFunction('convertToInteractive',\n",
       "                                                     [key], {});\n",
       "          if (!dataTable) return;\n",
       "\n",
       "          const docLinkHtml = 'Like what you see? Visit the ' +\n",
       "            '<a target=\"_blank\" href=https://colab.research.google.com/notebooks/data_table.ipynb>data table notebook</a>'\n",
       "            + ' to learn more about interactive tables.';\n",
       "          element.innerHTML = '';\n",
       "          dataTable['output_type'] = 'display_data';\n",
       "          await google.colab.output.renderOutput(dataTable, element);\n",
       "          const docLink = document.createElement('div');\n",
       "          docLink.innerHTML = docLinkHtml;\n",
       "          element.appendChild(docLink);\n",
       "        }\n",
       "      </script>\n",
       "    </div>\n",
       "  </div>\n",
       "  "
      ],
      "text/plain": [
       "                count unique           top   freq\n",
       "gender          43400      3        Female  25665\n",
       "ever_married    43400      2           Yes  27938\n",
       "work_type       43400      5       Private  24834\n",
       "Residence_type  43400      2         Urban  21756\n",
       "smoking_status  30108      3  never smoked  16053"
      ]
     },
     "execution_count": 7,
     "metadata": {},
     "output_type": "execute_result"
    }
   ],
   "source": [
    "# summarize categorical data\n",
    "strokeDF.describe(exclude=['float', 'int']).T"
   ]
  },
  {
   "cell_type": "code",
   "execution_count": 8,
   "metadata": {
    "colab": {
     "base_uri": "https://localhost:8080/"
    },
    "id": "1-mlYLGoVo6y",
    "outputId": "4c50690b-ff3b-4060-d1df-3535485948e8"
   },
   "outputs": [
    {
     "name": "stdout",
     "output_type": "stream",
     "text": [
      "\n",
      "* gender:\n",
      "Female    25665\n",
      "Male      17724\n",
      "Other        11\n",
      "Name: gender, dtype: int64\n",
      "\n",
      "* ever_married:\n",
      "Yes    27938\n",
      "No     15462\n",
      "Name: ever_married, dtype: int64\n",
      "\n",
      "* work_type:\n",
      "Private          24834\n",
      "Self-employed     6793\n",
      "children          6156\n",
      "Govt_job          5440\n",
      "Never_worked       177\n",
      "Name: work_type, dtype: int64\n",
      "\n",
      "* Residence_type:\n",
      "Urban    21756\n",
      "Rural    21644\n",
      "Name: Residence_type, dtype: int64\n",
      "\n",
      "* smoking_status:\n",
      "never smoked       16053\n",
      "formerly smoked     7493\n",
      "smokes              6562\n",
      "Name: smoking_status, dtype: int64\n"
     ]
    }
   ],
   "source": [
    "# show categories for each categorical column\n",
    "for i in strokeDF.columns:\n",
    "  if strokeDF[i].dtype == 'O':\n",
    "    print(f'\\n* {i}:')\n",
    "    print(strokeDF[i].value_counts())"
   ]
  },
  {
   "cell_type": "code",
   "execution_count": 9,
   "metadata": {
    "colab": {
     "base_uri": "https://localhost:8080/"
    },
    "id": "HlvtVk-PVyFc",
    "outputId": "9ba2a1b3-aca2-49bc-9c20-6bc890ec517d"
   },
   "outputs": [
    {
     "data": {
      "text/plain": [
       "gender                   0\n",
       "age                      0\n",
       "hypertension             0\n",
       "heart_disease            0\n",
       "ever_married             0\n",
       "work_type                0\n",
       "Residence_type           0\n",
       "avg_glucose_level        0\n",
       "bmi                   1462\n",
       "smoking_status       13292\n",
       "stroke                   0\n",
       "dtype: int64"
      ]
     },
     "execution_count": 9,
     "metadata": {},
     "output_type": "execute_result"
    }
   ],
   "source": [
    "# Count null values in each column\n",
    "strokeDF.isna().sum()"
   ]
  },
  {
   "cell_type": "code",
   "execution_count": 10,
   "metadata": {
    "colab": {
     "base_uri": "https://localhost:8080/"
    },
    "id": "WLXINsXwV4Eo",
    "outputId": "5e275152-cf3b-45f6-ced9-35e1bfbb8511"
   },
   "outputs": [
    {
     "name": "stdout",
     "output_type": "stream",
     "text": [
      "3.4% of bmi data is Null\n",
      "30.6% of smoking_status data is Null\n"
     ]
    }
   ],
   "source": [
    "# how much of the data is Null\n",
    "num = round(strokeDF.bmi.isna().sum() / len(strokeDF) * 100, 1)\n",
    "print(f'{num}% of bmi data is Null')\n",
    "\n",
    "num = round(strokeDF.smoking_status.isna().sum() / len(strokeDF) * 100, 1)\n",
    "print(f'{num}% of smoking_status data is Null')"
   ]
  },
  {
   "cell_type": "markdown",
   "metadata": {
    "id": "lO0JaKt4V8a2"
   },
   "source": [
    "# Clean data"
   ]
  },
  {
   "cell_type": "markdown",
   "metadata": {
    "id": "nPSA_8LUWBid"
   },
   "source": [
    "## Impute Null values in `smoking_status` to 'unknown'"
   ]
  },
  {
   "cell_type": "code",
   "execution_count": 11,
   "metadata": {
    "colab": {
     "base_uri": "https://localhost:8080/"
    },
    "id": "3PO1xyFWV-Kb",
    "outputId": "59be5541-4402-462a-b0d2-5ccb10dfd9ac"
   },
   "outputs": [
    {
     "data": {
      "text/plain": [
       "never smoked       16053\n",
       "unknown            13292\n",
       "formerly smoked     7493\n",
       "smokes              6562\n",
       "Name: smoking_status, dtype: int64"
      ]
     },
     "execution_count": 11,
     "metadata": {},
     "output_type": "execute_result"
    }
   ],
   "source": [
    "# impute null smoking values to class 'unknown'\n",
    "strokeDF['smoking_status'] = strokeDF['smoking_status'].fillna('unknown')\n",
    "# confirm imputation\n",
    "strokeDF.smoking_status.value_counts()"
   ]
  },
  {
   "cell_type": "markdown",
   "metadata": {
    "id": "S_CfFVeLWj23"
   },
   "source": [
    "## Convert `smoking_status` categories to single word descriptors"
   ]
  },
  {
   "cell_type": "code",
   "execution_count": 12,
   "metadata": {
    "id": "EheuJFjgWv8K"
   },
   "outputs": [],
   "source": [
    "# swap out to simpler smoking descriptions\n",
    "strokeDF['smoking_status'].replace(['never smoked', 'formerly smoked', 'smokes'],\n",
    "                                   ['never', 'former', 'smoker'], inplace=True)"
   ]
  },
  {
   "cell_type": "markdown",
   "metadata": {
    "id": "IlmOrMcQhT4I"
   },
   "source": [
    "# Look at distributions"
   ]
  },
  {
   "cell_type": "code",
   "execution_count": 13,
   "metadata": {
    "colab": {
     "base_uri": "https://localhost:8080/",
     "height": 1000
    },
    "id": "Lwt7kUkhhBxC",
    "outputId": "87b72d2c-a9e7-43e8-e326-26b1aeb437ec"
   },
   "outputs": [
    {
     "data": {
      "image/png": "[encoded data removed]",
      "text/plain": [
       "<Figure size 1080x1440 with 10 Axes>"
      ]
     },
     "metadata": {
      "needs_background": "light"
     },
     "output_type": "display_data"
    },
    {
     "name": "stdout",
     "output_type": "stream",
     "text": [
      "CPU times: user 4.49 s, sys: 213 ms, total: 4.7 s\n",
      "Wall time: 4.63 s\n"
     ]
    }
   ],
   "source": [
    "%%time\n",
    "# Look at histograms by variable\n",
    "plt.figure(figsize=(15, 20))\n",
    "for i, col in enumerate(strokeDF.columns[:-1], 1):\n",
    "  plt.subplot(4, 3, i)\n",
    "  plt.title(f'Distribution of {col} Data')\n",
    "  sns.histplot(data=strokeDF, x=col, kde=False, hue='stroke', legend=False)\n",
    "  plt.tight_layout()\n",
    "  plt.plot()\n",
    "plt.show()"
   ]
  },
  {
   "cell_type": "markdown",
   "metadata": {
    "id": "l1Ba2JCEhf6x"
   },
   "source": [
    "### Things to fix:\n",
    "* Remove 'Other' gender (only 11)? Maybe not, idk. Could simplfy to 1 column\n",
    "* Fix 'age' outliers? Seems too many near 0; huge jump around 80?\n",
    "* 'avg_glucose_level' and 'bmi' are skewed\n",
    "* Huge imbalance in target variable 'stroke' (difficult to compare stroke vs non-stroke distributions). Balance training data"
   ]
  },
  {
   "cell_type": "markdown",
   "metadata": {
    "id": "1FVj3TZAh7y5"
   },
   "source": [
    "## Compare distributions with balanced dataset"
   ]
  },
  {
   "cell_type": "code",
   "execution_count": 14,
   "metadata": {
    "colab": {
     "base_uri": "https://localhost:8080/",
     "height": 1000
    },
    "id": "rQnqG8znhYxx",
    "outputId": "f5e9041e-546a-493f-a474-274f88cbdc03"
   },
   "outputs": [
    {
     "data": {
      "image/png": "[encoded data removed]",
      "text/plain": [
       "<Figure size 1080x1440 with 10 Axes>"
      ]
     },
     "metadata": {
      "needs_background": "light"
     },
     "output_type": "display_data"
    }
   ],
   "source": [
    "## BALANCE BASED ON TARGET (STROKE)\n",
    "# define oversampling strategy\n",
    "oversample = RandomOverSampler(sampling_strategy='minority', random_state=42)\n",
    "# fit and apply the transform\n",
    "y = strokeDF.stroke\n",
    "X, y = oversample.fit_resample(strokeDF, y)\n",
    "\n",
    "\n",
    "# Look at histograms by variable\n",
    "plt.figure(figsize=(15, 20))\n",
    "for i, col in enumerate(X.columns[:-1], 1):\n",
    "  plt.subplot(4, 3, i)\n",
    "  plt.title(f'Distribution of {col} Data')\n",
    "  sns.histplot(data=X, x=col, kde=False, hue='stroke', legend=False)\n",
    "  plt.plot()\n",
    "plt.show()"
   ]
  },
  {
   "cell_type": "markdown",
   "metadata": {
    "id": "z8DjUbEcip3a"
   },
   "source": [
    "### Feature Considerations:\n",
    "* `work_status` 'Self_employed' shows higher stroke risk (and lower stroke risk for being a child). Possibly convert to 2 categories: self-employed vs other?  \n",
    "* Very little difference in `Residence_type`. Remove feature?  \n",
    "* `smoking_status`: stroke risk increased with smoking; combine smoker & former smoker and make 2 categories: smoke vs other?\n",
    "* Very few young people are at risk for stroke (4 cases under age 30). Consider only using data from `age` > 30?"
   ]
  },
  {
   "cell_type": "code",
   "execution_count": 15,
   "metadata": {
    "colab": {
     "base_uri": "https://localhost:8080/",
     "height": 241
    },
    "id": "TnF28mdQiQet",
    "outputId": "f55ef23d-dd6c-4f69-a52d-3c51a1e275c4"
   },
   "outputs": [
    {
     "name": "stderr",
     "output_type": "stream",
     "text": [
      "/usr/local/lib/python3.7/dist-packages/ipykernel_launcher.py:2: UserWarning: Boolean Series key will be reindexed to match DataFrame index.\n",
      "  \n"
     ]
    },
    {
     "data": {
      "text/html": [
       "\n",
       "  <div id=\"df-fe44f6cb-e998-420e-af03-aabfbea9d06e\">\n",
       "    <div class=\"colab-df-container\">\n",
       "      <div>\n",
       "<style scoped>\n",
       "    .dataframe tbody tr th:only-of-type {\n",
       "        vertical-align: middle;\n",
       "    }\n",
       "\n",
       "    .dataframe tbody tr th {\n",
       "        vertical-align: top;\n",
       "    }\n",
       "\n",
       "    .dataframe thead th {\n",
       "        text-align: right;\n",
       "    }\n",
       "</style>\n",
       "<table border=\"1\" class=\"dataframe\">\n",
       "  <thead>\n",
       "    <tr style=\"text-align: right;\">\n",
       "      <th></th>\n",
       "      <th>gender</th>\n",
       "      <th>age</th>\n",
       "      <th>hypertension</th>\n",
       "      <th>heart_disease</th>\n",
       "      <th>ever_married</th>\n",
       "      <th>work_type</th>\n",
       "      <th>Residence_type</th>\n",
       "      <th>avg_glucose_level</th>\n",
       "      <th>bmi</th>\n",
       "      <th>smoking_status</th>\n",
       "      <th>stroke</th>\n",
       "    </tr>\n",
       "    <tr>\n",
       "      <th>id</th>\n",
       "      <th></th>\n",
       "      <th></th>\n",
       "      <th></th>\n",
       "      <th></th>\n",
       "      <th></th>\n",
       "      <th></th>\n",
       "      <th></th>\n",
       "      <th></th>\n",
       "      <th></th>\n",
       "      <th></th>\n",
       "      <th></th>\n",
       "    </tr>\n",
       "  </thead>\n",
       "  <tbody>\n",
       "    <tr>\n",
       "      <th>69768</th>\n",
       "      <td>Female</td>\n",
       "      <td>1.32</td>\n",
       "      <td>0</td>\n",
       "      <td>0</td>\n",
       "      <td>No</td>\n",
       "      <td>children</td>\n",
       "      <td>Urban</td>\n",
       "      <td>70.37</td>\n",
       "      <td>NaN</td>\n",
       "      <td>unknown</td>\n",
       "      <td>1</td>\n",
       "    </tr>\n",
       "    <tr>\n",
       "      <th>49669</th>\n",
       "      <td>Female</td>\n",
       "      <td>14.00</td>\n",
       "      <td>0</td>\n",
       "      <td>0</td>\n",
       "      <td>No</td>\n",
       "      <td>children</td>\n",
       "      <td>Rural</td>\n",
       "      <td>57.93</td>\n",
       "      <td>30.9</td>\n",
       "      <td>unknown</td>\n",
       "      <td>1</td>\n",
       "    </tr>\n",
       "    <tr>\n",
       "      <th>71866</th>\n",
       "      <td>Male</td>\n",
       "      <td>21.00</td>\n",
       "      <td>0</td>\n",
       "      <td>0</td>\n",
       "      <td>No</td>\n",
       "      <td>Private</td>\n",
       "      <td>Rural</td>\n",
       "      <td>67.42</td>\n",
       "      <td>25.7</td>\n",
       "      <td>never</td>\n",
       "      <td>1</td>\n",
       "    </tr>\n",
       "    <tr>\n",
       "      <th>38112</th>\n",
       "      <td>Male</td>\n",
       "      <td>29.00</td>\n",
       "      <td>0</td>\n",
       "      <td>0</td>\n",
       "      <td>Yes</td>\n",
       "      <td>Private</td>\n",
       "      <td>Rural</td>\n",
       "      <td>60.72</td>\n",
       "      <td>NaN</td>\n",
       "      <td>former</td>\n",
       "      <td>1</td>\n",
       "    </tr>\n",
       "  </tbody>\n",
       "</table>\n",
       "</div>\n",
       "      <button class=\"colab-df-convert\" onclick=\"convertToInteractive('df-fe44f6cb-e998-420e-af03-aabfbea9d06e')\"\n",
       "              title=\"Convert this dataframe to an interactive table.\"\n",
       "              style=\"display:none;\">\n",
       "        \n",
       "  <svg xmlns=\"http://www.w3.org/2000/svg\" height=\"24px\"viewBox=\"0 0 24 24\"\n",
       "       width=\"24px\">\n",
       "    <path d=\"M0 0h24v24H0V0z\" fill=\"none\"/>\n",
       "    <path d=\"M18.56 5.44l.94 2.06.94-2.06 2.06-.94-2.06-.94-.94-2.06-.94 2.06-2.06.94zm-11 1L8.5 8.5l.94-2.06 2.06-.94-2.06-.94L8.5 2.5l-.94 2.06-2.06.94zm10 10l.94 2.06.94-2.06 2.06-.94-2.06-.94-.94-2.06-.94 2.06-2.06.94z\"/><path d=\"M17.41 7.96l-1.37-1.37c-.4-.4-.92-.59-1.43-.59-.52 0-1.04.2-1.43.59L10.3 9.45l-7.72 7.72c-.78.78-.78 2.05 0 2.83L4 21.41c.39.39.9.59 1.41.59.51 0 1.02-.2 1.41-.59l7.78-7.78 2.81-2.81c.8-.78.8-2.07 0-2.86zM5.41 20L4 18.59l7.72-7.72 1.47 1.35L5.41 20z\"/>\n",
       "  </svg>\n",
       "      </button>\n",
       "      \n",
       "  <style>\n",
       "    .colab-df-container {\n",
       "      display:flex;\n",
       "      flex-wrap:wrap;\n",
       "      gap: 12px;\n",
       "    }\n",
       "\n",
       "    .colab-df-convert {\n",
       "      background-color: #E8F0FE;\n",
       "      border: none;\n",
       "      border-radius: 50%;\n",
       "      cursor: pointer;\n",
       "      display: none;\n",
       "      fill: #1967D2;\n",
       "      height: 32px;\n",
       "      padding: 0 0 0 0;\n",
       "      width: 32px;\n",
       "    }\n",
       "\n",
       "    .colab-df-convert:hover {\n",
       "      background-color: #E2EBFA;\n",
       "      box-shadow: 0px 1px 2px rgba(60, 64, 67, 0.3), 0px 1px 3px 1px rgba(60, 64, 67, 0.15);\n",
       "      fill: #174EA6;\n",
       "    }\n",
       "\n",
       "    [theme=dark] .colab-df-convert {\n",
       "      background-color: #3B4455;\n",
       "      fill: #D2E3FC;\n",
       "    }\n",
       "\n",
       "    [theme=dark] .colab-df-convert:hover {\n",
       "      background-color: #434B5C;\n",
       "      box-shadow: 0px 1px 3px 1px rgba(0, 0, 0, 0.15);\n",
       "      filter: drop-shadow(0px 1px 2px rgba(0, 0, 0, 0.3));\n",
       "      fill: #FFFFFF;\n",
       "    }\n",
       "  </style>\n",
       "\n",
       "      <script>\n",
       "        const buttonEl =\n",
       "          document.querySelector('#df-fe44f6cb-e998-420e-af03-aabfbea9d06e button.colab-df-convert');\n",
       "        buttonEl.style.display =\n",
       "          google.colab.kernel.accessAllowed ? 'block' : 'none';\n",
       "\n",
       "        async function convertToInteractive(key) {\n",
       "          const element = document.querySelector('#df-fe44f6cb-e998-420e-af03-aabfbea9d06e');\n",
       "          const dataTable =\n",
       "            await google.colab.kernel.invokeFunction('convertToInteractive',\n",
       "                                                     [key], {});\n",
       "          if (!dataTable) return;\n",
       "\n",
       "          const docLinkHtml = 'Like what you see? Visit the ' +\n",
       "            '<a target=\"_blank\" href=https://colab.research.google.com/notebooks/data_table.ipynb>data table notebook</a>'\n",
       "            + ' to learn more about interactive tables.';\n",
       "          element.innerHTML = '';\n",
       "          dataTable['output_type'] = 'display_data';\n",
       "          await google.colab.output.renderOutput(dataTable, element);\n",
       "          const docLink = document.createElement('div');\n",
       "          docLink.innerHTML = docLinkHtml;\n",
       "          element.appendChild(docLink);\n",
       "        }\n",
       "      </script>\n",
       "    </div>\n",
       "  </div>\n",
       "  "
      ],
      "text/plain": [
       "       gender    age  hypertension  heart_disease ever_married work_type  \\\n",
       "id                                                                         \n",
       "69768  Female   1.32             0              0           No  children   \n",
       "49669  Female  14.00             0              0           No  children   \n",
       "71866    Male  21.00             0              0           No   Private   \n",
       "38112    Male  29.00             0              0          Yes   Private   \n",
       "\n",
       "      Residence_type  avg_glucose_level   bmi smoking_status  stroke  \n",
       "id                                                                    \n",
       "69768          Urban              70.37   NaN        unknown       1  \n",
       "49669          Rural              57.93  30.9        unknown       1  \n",
       "71866          Rural              67.42  25.7          never       1  \n",
       "38112          Rural              60.72   NaN         former       1  "
      ]
     },
     "execution_count": 15,
     "metadata": {},
     "output_type": "execute_result"
    }
   ],
   "source": [
    "# look at stroke cases for < age 30\n",
    "strokeDF[strokeDF.stroke == 1][strokeDF.age < 30]"
   ]
  },
  {
   "cell_type": "markdown",
   "metadata": {
    "id": "25rcbLHDlaIX"
   },
   "source": [
    "Keep all data for now. Eliminate features later if it seems prudent."
   ]
  },
  {
   "cell_type": "markdown",
   "metadata": {
    "id": "NWOmiE8cXki5"
   },
   "source": [
    "## Impute Null values in `bmi` using median\n",
    "Note: compared imputation with mean, median, and using logistic regression. All were relatively the same, but median generally performed best for most models (and is much simpler than regression).  \n",
    "Note: while the right thing to do would be to impute using the median of the training data, there is very little difference overall when imputing with different values and median is unlikely to vary by much between overall and training datasets."
   ]
  },
  {
   "cell_type": "code",
   "execution_count": 16,
   "metadata": {
    "id": "9PhQ8WSvXMRy"
   },
   "outputs": [],
   "source": [
    "# impute missing 'bmi' values with median\n",
    "strokeDF.bmi.fillna(strokeDF.bmi.median(), inplace=True)"
   ]
  },
  {
   "cell_type": "code",
   "execution_count": 17,
   "metadata": {
    "colab": {
     "base_uri": "https://localhost:8080/"
    },
    "id": "OFRKfXQwg6yo",
    "outputId": "9bc291c1-9510-4a23-9af8-335c399a3fd9"
   },
   "outputs": [
    {
     "data": {
      "text/plain": [
       "gender               0\n",
       "age                  0\n",
       "hypertension         0\n",
       "heart_disease        0\n",
       "ever_married         0\n",
       "work_type            0\n",
       "Residence_type       0\n",
       "avg_glucose_level    0\n",
       "bmi                  0\n",
       "smoking_status       0\n",
       "stroke               0\n",
       "dtype: int64"
      ]
     },
     "execution_count": 17,
     "metadata": {},
     "output_type": "execute_result"
    }
   ],
   "source": [
    "# confirm no null values remaining\n",
    "strokeDF.isna().sum()"
   ]
  },
  {
   "cell_type": "markdown",
   "metadata": {
    "id": "MrsI0gYZmK8O"
   },
   "source": [
    "# Encode categorical variables"
   ]
  },
  {
   "cell_type": "markdown",
   "metadata": {
    "id": "yICty9E4nRW2"
   },
   "source": [
    "Okay, none of the 'Other' gender had a stroke and it's only 0.03% of the dataset, so I'm going to remove those 11 in the interest of simplifying and reducing overall complexity. Maybe this is an ethical concern to consider."
   ]
  },
  {
   "cell_type": "code",
   "execution_count": 18,
   "metadata": {
    "id": "ENWVPdh8ne_L"
   },
   "outputs": [],
   "source": [
    "# make a copy of the data to go back to if needed\n",
    "DF = strokeDF[strokeDF['gender'] != 'Other'].copy()"
   ]
  },
  {
   "cell_type": "code",
   "execution_count": 19,
   "metadata": {
    "id": "ywEmVqmsmky2"
   },
   "outputs": [],
   "source": [
    "## ENCODE BINARY VALUES\n",
    "# encode Yes/No to 1/0\n",
    "DF.ever_married.replace(['Yes', 'No'], [1, 0], inplace=True)\n",
    "# encode gender to 1/0\n",
    "DF.gender.replace(['Male', 'Female'], [1, 0], inplace=True)\n",
    "# encode Urban/Rural to 1/0\n",
    "DF.Residence_type.replace(['Rural', 'Urban'], [1, 0], inplace=True)"
   ]
  },
  {
   "cell_type": "code",
   "execution_count": 20,
   "metadata": {
    "id": "yhWp-WGqoDWF"
   },
   "outputs": [],
   "source": [
    "## ONE HOT ENCODE CATEGORICAL VALUES\n",
    "# one hot encode remaining categorical variables\n",
    "transformer = make_column_transformer(\n",
    "    (OneHotEncoder(), ['work_type', 'smoking_status']), \n",
    "    remainder='passthrough')\n",
    "transformed = transformer.fit_transform(DF)\n",
    "DF = pd.DataFrame(transformed, columns=transformer.get_feature_names_out(), \n",
    "                  index=DF.index) # fix index that was reset\n",
    "\n",
    "# remove prefixes added by OneHotEncoder()\n",
    "DF.columns = DF.columns.str.replace(\"onehotencoder__\", \"\")\n",
    "DF.columns = DF.columns.str.replace(\"remainder__\", \"\")"
   ]
  },
  {
   "cell_type": "markdown",
   "metadata": {
    "id": "olPIhUzQqdVD"
   },
   "source": [
    "# Train Test Split"
   ]
  },
  {
   "cell_type": "code",
   "execution_count": 21,
   "metadata": {
    "id": "52sQcxEjqJQ5"
   },
   "outputs": [],
   "source": [
    "## SEPARATE DATA FROM TARGET\n",
    "X, y = DF.iloc[:,:-1], DF.iloc[:,-1]\n",
    "\n",
    "## SPLIT TRAINING AND TEST SETS\n",
    "X_train, X_test, y_train, y_test = train_test_split(\n",
    "  X, y, test_size=0.33, random_state=42, \n",
    "  stratify=y) # stratify to maintain proportion of target variable"
   ]
  },
  {
   "cell_type": "markdown",
   "metadata": {
    "id": "dP56_xjMq2lB"
   },
   "source": [
    "# Data transformation"
   ]
  },
  {
   "cell_type": "code",
   "execution_count": 22,
   "metadata": {
    "colab": {
     "base_uri": "https://localhost:8080/",
     "height": 607
    },
    "id": "sSYnO1_Rq9nT",
    "outputId": "c6e8af8f-321b-4719-e83a-f3241b7739ab"
   },
   "outputs": [
    {
     "data": {
      "image/png": "[encoded data removed]",
      "text/plain": [
       "<Figure size 720x720 with 20 Axes>"
      ]
     },
     "metadata": {
      "needs_background": "light"
     },
     "output_type": "display_data"
    }
   ],
   "source": [
    "# Look at distributions pre-transformation\n",
    "X_train.hist(figsize=(10,10))\n",
    "plt.show()"
   ]
  },
  {
   "cell_type": "code",
   "execution_count": 23,
   "metadata": {
    "id": "AbS-91b-rJdY"
   },
   "outputs": [],
   "source": [
    "## TRANSFORM FEATURES\n",
    "# define the pipeline \n",
    "# (yes, I know a pipeline isn't needed for a single transformation)\n",
    "power = PowerTransformer(method='box-cox')\n",
    "pipeline = Pipeline(steps=[('p', power)])\n",
    "\n",
    "# specify columns to box-cox transform\n",
    "cols_to_transform = ['age', 'avg_glucose_level', 'bmi']\n",
    "# transform features and apply to both train and test sets\n",
    "for i in cols_to_transform:\n",
    "  X_train[i] = pipeline.fit_transform(X_train[i].values.reshape(-1,1))\n",
    "  X_test[i] = pipeline.transform(X_test[i].values.reshape(-1,1))\n",
    "\n",
    "# scale entire dataset to the same range\n",
    "scaler = MinMaxScaler(feature_range=(-1, 1))\n",
    "X_train = scaler.fit_transform(X_train)\n",
    "X_test = scaler.transform(X_test)"
   ]
  },
  {
   "cell_type": "code",
   "execution_count": 24,
   "metadata": {
    "colab": {
     "base_uri": "https://localhost:8080/",
     "height": 607
    },
    "id": "HXJsrCG1rxnf",
    "outputId": "2495e819-567e-4175-b049-6b896d9c50b3"
   },
   "outputs": [
    {
     "data": {
      "image/png": "[encoded data removed]",
      "text/plain": [
       "<Figure size 720x720 with 20 Axes>"
      ]
     },
     "metadata": {
      "needs_background": "light"
     },
     "output_type": "display_data"
    }
   ],
   "source": [
    "# Look at distributions post-transformation\n",
    "dataset = pd.DataFrame(X_train, columns=DF.columns[:-1])\n",
    "dataset.hist(figsize=(10,10))\n",
    "plt.show()"
   ]
  },
  {
   "cell_type": "markdown",
   "metadata": {
    "id": "bDLb0LAJsrvf"
   },
   "source": [
    "# Balance Training dataset"
   ]
  },
  {
   "cell_type": "code",
   "execution_count": 25,
   "metadata": {
    "id": "WHIQXNgwsKgm"
   },
   "outputs": [],
   "source": [
    "## BALANCE BASED ON TARGET (STROKE)\n",
    "# define oversampling strategy\n",
    "oversample = RandomOverSampler(sampling_strategy='minority', \n",
    "                              #  sampling_strategy=0.5, # sample to 50%\n",
    "                                random_state=42)\n",
    "# fit and apply the transform\n",
    "X_over, y_over = oversample.fit_resample(X_train, y_train)"
   ]
  },
  {
   "cell_type": "markdown",
   "metadata": {
    "id": "oVcbiAPJKJuV"
   },
   "source": [
    "## Try balancing using SMOTE"
   ]
  },
  {
   "cell_type": "code",
   "execution_count": 26,
   "metadata": {
    "colab": {
     "base_uri": "https://localhost:8080/"
    },
    "id": "ZmuKJHGsKMdJ",
    "outputId": "d55c8902-e404-4f26-cde7-c359b53b821c"
   },
   "outputs": [
    {
     "name": "stdout",
     "output_type": "stream",
     "text": [
      "Counter({0.0: 28545, 1.0: 525})\n"
     ]
    }
   ],
   "source": [
    "# summarize target class distribution\n",
    "counter = Counter(y_train)\n",
    "print(counter)"
   ]
  },
  {
   "cell_type": "code",
   "execution_count": 27,
   "metadata": {
    "colab": {
     "base_uri": "https://localhost:8080/"
    },
    "id": "CsfXuoW0K8hx",
    "outputId": "e0e2c381-9d02-41f6-b036-9b08134edde1"
   },
   "outputs": [
    {
     "name": "stdout",
     "output_type": "stream",
     "text": [
      "Counter({0.0: 28545, 1.0: 28545})\n"
     ]
    }
   ],
   "source": [
    "# define oversampling strategy\n",
    "oversample = SMOTE(sampling_strategy='minority',\n",
    "                   random_state=42)\n",
    "# fit and apply the transform\n",
    "X_smote, y_smote = oversample.fit_resample(X_train, y_train)\n",
    "\n",
    "# summarize target class distribution\n",
    "counter = Counter(y_smote)\n",
    "print(counter)"
   ]
  },
  {
   "cell_type": "markdown",
   "metadata": {
    "id": "0hah7ASCOtzl"
   },
   "source": [
    "## Oversample SMOTE, then undersample majority"
   ]
  },
  {
   "cell_type": "code",
   "execution_count": 28,
   "metadata": {
    "id": "SSstTNWHO_UD"
   },
   "outputs": [],
   "source": [
    "# define oversampling strategy\n",
    "over = SMOTE(sampling_strategy=0.1, # upsample to 10% of majority\n",
    "             random_state=42)\n",
    "# define undersampling strategy\n",
    "under = RandomUnderSampler(sampling_strategy=0.5, # sample to 50% ratio\n",
    "                           random_state=42)\n",
    "# define pipeline\n",
    "steps = [('o', over), ('u', under)]\n",
    "pipeline = Pipeline(steps=steps)\n",
    "# fit and apply the transform\n",
    "X_ou_smote, y_ou_smote = pipeline.fit_resample(X_train, y_train)"
   ]
  },
  {
   "cell_type": "markdown",
   "metadata": {
    "id": "PRJQB7EmrP6L"
   },
   "source": [
    "# [Compare Classification Methods](https://scikit-learn.org/stable/auto_examples/classification/plot_classifier_comparison.html)\n",
    "Using Imbalanced target"
   ]
  },
  {
   "cell_type": "code",
   "execution_count": 29,
   "metadata": {
    "id": "U-qWSidWrP6M"
   },
   "outputs": [],
   "source": [
    "# Set up DataFrame to store comparisons\n",
    "model_compare = pd.DataFrame()\n",
    "\n",
    "def get_model_metrics(name, model):\n",
    "  '''Prints confusion matrix and some metrics; returns metrics in a DF'''\n",
    "  cols = ['Model', 'Accuracy', 'F1_Score', 'Precision', 'Recall', 'MCC', 'AUC'] \n",
    "  # get predictions\n",
    "  predictions = model.predict(X_test)\n",
    "  \n",
    "  # print confusion matrix\n",
    "  cm = confusion_matrix(y_test, predictions)\n",
    "  disp = ConfusionMatrixDisplay(confusion_matrix=cm, \n",
    "                                display_labels=model.classes_)\n",
    "  print(cm)\n",
    "  disp.plot()\n",
    "  plt.show()  \n",
    "  \n",
    "  # get accuracy, f1-score, precision, and recall\n",
    "  # accuracy = round(model.score(X_test, y_test)*100, 2)\n",
    "  cr = classification_report(y_test, predictions, output_dict=True)\n",
    "  accuracy = round(cr['accuracy']*100, 2)\n",
    "  print('Accuracy: ', accuracy)\n",
    "  f1Score = round(cr['1.0']['f1-score'], 4)\n",
    "  print('F1-Score: ', f1Score)\n",
    "  precision = round(cr['1.0']['precision'], 4)\n",
    "  print('Precision:', precision)\n",
    "  recall = round(cr['1.0']['recall'], 4)\n",
    "  print('Recall:   ', recall)\n",
    "  MCC = round(matthews_corrcoef(y_test, predictions), 4)\n",
    "  print('MCC:      ', MCC)\n",
    "  # weighted AUC\n",
    "  AUC = round(roc_auc_score(y_test, predictions, average='weighted'), 4)\n",
    "  print('AUC:      ', AUC)\n",
    "\n",
    "  df = pd.DataFrame([[name, accuracy, f1Score, precision, recall, MCC, AUC]], \n",
    "                    columns=cols)\n",
    "  return df"
   ]
  },
  {
   "cell_type": "markdown",
   "metadata": {
    "id": "JCcRNFVWrP6N"
   },
   "source": [
    "## [Random Forest](https://scikit-learn.org/stable/modules/generated/sklearn.ensemble.RandomForestClassifier.html)"
   ]
  },
  {
   "cell_type": "code",
   "execution_count": 30,
   "metadata": {
    "colab": {
     "base_uri": "https://localhost:8080/"
    },
    "id": "-wNUDJ-trP6N",
    "outputId": "cc776ca6-eb01-4734-8c75-79830e36e863"
   },
   "outputs": [
    {
     "name": "stdout",
     "output_type": "stream",
     "text": [
      "CPU times: user 2.22 s, sys: 25.3 ms, total: 2.24 s\n",
      "Wall time: 2.23 s\n"
     ]
    }
   ],
   "source": [
    "%%time\n",
    "# Create classifier\n",
    "rfClass = RandomForestClassifier(class_weight='balanced')\n",
    "\n",
    "# Train model\n",
    "rfClass.fit(X_train, y_train)"
   ]
  },
  {
   "cell_type": "code",
   "execution_count": 31,
   "metadata": {
    "colab": {
     "base_uri": "https://localhost:8080/",
     "height": 421
    },
    "id": "1F5VRmW-rP6N",
    "outputId": "d8a3cad9-629d-4813-d1a0-b16ba9f3310f"
   },
   "outputs": [
    {
     "name": "stdout",
     "output_type": "stream",
     "text": [
      "[[14057     4]\n",
      " [  257     1]]\n"
     ]
    },
    {
     "data": {
      "image/png": "[encoded data removed]",
      "text/plain": [
       "<Figure size 432x288 with 2 Axes>"
      ]
     },
     "metadata": {
      "needs_background": "light"
     },
     "output_type": "display_data"
    },
    {
     "name": "stdout",
     "output_type": "stream",
     "text": [
      "Accuracy:  98.18\n",
      "F1-Score:  0.0076\n",
      "Precision: 0.2\n",
      "Recall:    0.0039\n",
      "MCC:       0.0256\n",
      "AUC:       0.5018\n"
     ]
    }
   ],
   "source": [
    "# Evaluate model\n",
    "tempDF = get_model_metrics('RandomForest', rfClass)\n",
    "# Store metrics\n",
    "model_compare = pd.concat([model_compare, tempDF], ignore_index=True)"
   ]
  },
  {
   "cell_type": "markdown",
   "metadata": {
    "id": "Dsx96LFprP6N"
   },
   "source": [
    "## [Decision Tree](https://scikit-learn.org/stable/modules/generated/sklearn.tree.DecisionTreeClassifier.html)"
   ]
  },
  {
   "cell_type": "code",
   "execution_count": 32,
   "metadata": {
    "colab": {
     "base_uri": "https://localhost:8080/"
    },
    "id": "tTz2bgDrrP6O",
    "outputId": "c27beaa1-8855-4a32-8995-7589fdd52027"
   },
   "outputs": [
    {
     "name": "stdout",
     "output_type": "stream",
     "text": [
      "CPU times: user 106 ms, sys: 2.01 ms, total: 108 ms\n",
      "Wall time: 109 ms\n"
     ]
    }
   ],
   "source": [
    "%%time\n",
    "# Create decision tree regressor object\n",
    "decisiontree = DecisionTreeClassifier(class_weight='balanced')\n",
    "\n",
    "# Train model\n",
    "decisiontree.fit(X_train, y_train)"
   ]
  },
  {
   "cell_type": "code",
   "execution_count": 33,
   "metadata": {
    "colab": {
     "base_uri": "https://localhost:8080/",
     "height": 418
    },
    "id": "76M9140lrP6O",
    "outputId": "eb7219d9-dfc9-4a21-f953-8ac2c3ca322a"
   },
   "outputs": [
    {
     "name": "stdout",
     "output_type": "stream",
     "text": [
      "[[13821   240]\n",
      " [  235    23]]\n"
     ]
    },
    {
     "data": {
      "image/png": "[encoded data removed]",
      "text/plain": [
       "<Figure size 432x288 with 2 Axes>"
      ]
     },
     "metadata": {
      "needs_background": "light"
     },
     "output_type": "display_data"
    },
    {
     "name": "stdout",
     "output_type": "stream",
     "text": [
      "Accuracy:  96.68\n",
      "F1-Score:  0.0883\n",
      "Precision: 0.0875\n",
      "Recall:    0.0891\n",
      "MCC:       0.0714\n",
      "AUC:       0.536\n"
     ]
    }
   ],
   "source": [
    "# Evaluate model\n",
    "tempDF = get_model_metrics('DecisionTree', decisiontree)\n",
    "# Store metrics\n",
    "model_compare = pd.concat([model_compare, tempDF], ignore_index=True)"
   ]
  },
  {
   "cell_type": "markdown",
   "metadata": {
    "id": "0wkmyHSyrP6O"
   },
   "source": [
    "## [Logistic Regression](https://scikit-learn.org/stable/modules/generated/sklearn.linear_model.LogisticRegression.html)"
   ]
  },
  {
   "cell_type": "code",
   "execution_count": 34,
   "metadata": {
    "colab": {
     "base_uri": "https://localhost:8080/"
    },
    "id": "eE4H3sierP6O",
    "outputId": "d7367866-08d5-48c4-f22d-b676d974646a"
   },
   "outputs": [
    {
     "name": "stdout",
     "output_type": "stream",
     "text": [
      "CPU times: user 568 ms, sys: 338 ms, total: 905 ms\n",
      "Wall time: 497 ms\n"
     ]
    }
   ],
   "source": [
    "%%time\n",
    "# Create logistic regression\n",
    "logit = LogisticRegression(class_weight='balanced')\n",
    "\n",
    "# Train model\n",
    "logit.fit(X_train, y_train)"
   ]
  },
  {
   "cell_type": "code",
   "execution_count": 35,
   "metadata": {
    "colab": {
     "base_uri": "https://localhost:8080/",
     "height": 418
    },
    "id": "m2lKKuLfrP6O",
    "outputId": "ea9df53e-c985-413a-85d3-ea0eeb472a9c"
   },
   "outputs": [
    {
     "name": "stdout",
     "output_type": "stream",
     "text": [
      "[[10391  3670]\n",
      " [   48   210]]\n"
     ]
    },
    {
     "data": {
      "image/png": "[encoded data removed]",
      "text/plain": [
       "<Figure size 432x288 with 2 Axes>"
      ]
     },
     "metadata": {
      "needs_background": "light"
     },
     "output_type": "display_data"
    },
    {
     "name": "stdout",
     "output_type": "stream",
     "text": [
      "Accuracy:  74.03\n",
      "F1-Score:  0.1015\n",
      "Precision: 0.0541\n",
      "Recall:    0.814\n",
      "MCC:       0.1655\n",
      "AUC:       0.7765\n"
     ]
    }
   ],
   "source": [
    "# Evaluate model\n",
    "tempDF = get_model_metrics('LogReg_lbfgs', logit)\n",
    "# Store metrics\n",
    "model_compare = pd.concat([model_compare, tempDF], ignore_index=True)"
   ]
  },
  {
   "cell_type": "code",
   "execution_count": 36,
   "metadata": {
    "colab": {
     "base_uri": "https://localhost:8080/"
    },
    "id": "IS_dOt9uyX0z",
    "outputId": "a749f6e5-7ab0-4ad5-d099-e87064d676d6"
   },
   "outputs": [
    {
     "name": "stdout",
     "output_type": "stream",
     "text": [
      "CPU times: user 260 ms, sys: 5.82 ms, total: 266 ms\n",
      "Wall time: 273 ms\n"
     ]
    }
   ],
   "source": [
    "%%time\n",
    "# Load libraries\n",
    "from sklearn.linear_model import LogisticRegression\n",
    "\n",
    "# Create logistic regression\n",
    "logit = LogisticRegression(class_weight='balanced',\n",
    "                           solver='liblinear')\n",
    "\n",
    "# Train model\n",
    "logit.fit(X_train, y_train)"
   ]
  },
  {
   "cell_type": "code",
   "execution_count": 37,
   "metadata": {
    "colab": {
     "base_uri": "https://localhost:8080/",
     "height": 418
    },
    "id": "FPujfuMEyX0z",
    "outputId": "d9089bdf-da9a-42e1-c77c-d84e9edc62d1"
   },
   "outputs": [
    {
     "name": "stdout",
     "output_type": "stream",
     "text": [
      "[[10391  3670]\n",
      " [   48   210]]\n"
     ]
    },
    {
     "data": {
      "image/png": "[encoded data removed]",
      "text/plain": [
       "<Figure size 432x288 with 2 Axes>"
      ]
     },
     "metadata": {
      "needs_background": "light"
     },
     "output_type": "display_data"
    },
    {
     "name": "stdout",
     "output_type": "stream",
     "text": [
      "Accuracy:  74.03\n",
      "F1-Score:  0.1015\n",
      "Precision: 0.0541\n",
      "Recall:    0.814\n",
      "MCC:       0.1655\n",
      "AUC:       0.7765\n"
     ]
    }
   ],
   "source": [
    "# Evaluate model\n",
    "tempDF = get_model_metrics('LogReg_liblinear', logit)\n",
    "# Store metrics\n",
    "model_compare = pd.concat([model_compare, tempDF], ignore_index=True)"
   ]
  },
  {
   "cell_type": "markdown",
   "metadata": {
    "id": "kyyE8mWjrP6O"
   },
   "source": [
    "## [Gaussian Naive Bayes Classifier](https://scikit-learn.org/stable/modules/generated/sklearn.naive_bayes.GaussianNB.html)"
   ]
  },
  {
   "cell_type": "code",
   "execution_count": 38,
   "metadata": {
    "colab": {
     "base_uri": "https://localhost:8080/"
    },
    "id": "D-WuTpKFrP6O",
    "outputId": "42e4d508-fa2c-4d10-daf0-c5b2b01f6a83"
   },
   "outputs": [
    {
     "name": "stdout",
     "output_type": "stream",
     "text": [
      "CPU times: user 14.1 ms, sys: 1.01 ms, total: 15.1 ms\n",
      "Wall time: 16.1 ms\n"
     ]
    }
   ],
   "source": [
    "%%time\n",
    "# Create Gaussian naive Bayes object\n",
    "nBayes = GaussianNB()\n",
    "\n",
    "# Fit model\n",
    "nBayes.fit(X_train, y_train)"
   ]
  },
  {
   "cell_type": "code",
   "execution_count": 39,
   "metadata": {
    "colab": {
     "base_uri": "https://localhost:8080/",
     "height": 418
    },
    "id": "X07wZmX5rP6P",
    "outputId": "df36b01c-fe78-4b46-ae8a-9c21f9c74e23"
   },
   "outputs": [
    {
     "name": "stdout",
     "output_type": "stream",
     "text": [
      "[[ 2966 11095]\n",
      " [    2   256]]\n"
     ]
    },
    {
     "data": {
      "image/png": "[encoded data removed]",
      "text/plain": [
       "<Figure size 432x288 with 2 Axes>"
      ]
     },
     "metadata": {
      "needs_background": "light"
     },
     "output_type": "display_data"
    },
    {
     "name": "stdout",
     "output_type": "stream",
     "text": [
      "Accuracy:  22.5\n",
      "F1-Score:  0.0441\n",
      "Precision: 0.0226\n",
      "Recall:    0.9922\n",
      "MCC:       0.0667\n",
      "AUC:       0.6016\n"
     ]
    }
   ],
   "source": [
    "# Evaluate model\n",
    "tempDF = get_model_metrics('GaussianNB', nBayes)\n",
    "# Store metrics\n",
    "model_compare = pd.concat([model_compare, tempDF], ignore_index=True)"
   ]
  },
  {
   "cell_type": "code",
   "execution_count": 40,
   "metadata": {
    "colab": {
     "base_uri": "https://localhost:8080/"
    },
    "id": "MGOj7GFPrP6P",
    "outputId": "f904a688-d6c5-409a-ad7c-4ab4948acf1c"
   },
   "outputs": [
    {
     "name": "stdout",
     "output_type": "stream",
     "text": [
      "CPU times: user 24.7 ms, sys: 1.9 ms, total: 26.6 ms\n",
      "Wall time: 33.5 ms\n"
     ]
    }
   ],
   "source": [
    "%%time\n",
    "# Load libraries\n",
    "from sklearn.naive_bayes import BernoulliNB\n",
    "\n",
    "# Create Gaussian naive Bayes object\n",
    "nBayes = BernoulliNB()\n",
    "\n",
    "# Fit model\n",
    "nBayes.fit(X_train, y_train)"
   ]
  },
  {
   "cell_type": "code",
   "execution_count": 41,
   "metadata": {
    "colab": {
     "base_uri": "https://localhost:8080/",
     "height": 418
    },
    "id": "ZLry2P3drP6P",
    "outputId": "8e772b72-c2b1-4fd4-e037-6b87bf676445"
   },
   "outputs": [
    {
     "name": "stdout",
     "output_type": "stream",
     "text": [
      "[[13961   100]\n",
      " [  252     6]]\n"
     ]
    },
    {
     "data": {
      "image/png": "[encoded data removed]",
      "text/plain": [
       "<Figure size 432x288 with 2 Axes>"
      ]
     },
     "metadata": {
      "needs_background": "light"
     },
     "output_type": "display_data"
    },
    {
     "name": "stdout",
     "output_type": "stream",
     "text": [
      "Accuracy:  97.54\n",
      "F1-Score:  0.033\n",
      "Precision: 0.0566\n",
      "Recall:    0.0233\n",
      "MCC:       0.0251\n",
      "AUC:       0.5081\n"
     ]
    }
   ],
   "source": [
    "# Evaluate model\n",
    "tempDF = get_model_metrics('BernoulliNB', nBayes)\n",
    "# Store metrics\n",
    "model_compare = pd.concat([model_compare, tempDF], ignore_index=True)"
   ]
  },
  {
   "cell_type": "markdown",
   "metadata": {
    "id": "w0hiS27IrP6P"
   },
   "source": [
    "## [Support Vector Classifier (SVC)](https://scikit-learn.org/stable/modules/generated/sklearn.svm.SVC.html)"
   ]
  },
  {
   "cell_type": "code",
   "execution_count": 42,
   "metadata": {
    "colab": {
     "base_uri": "https://localhost:8080/"
    },
    "id": "is6kbuINrP6P",
    "outputId": "062af2f4-8a64-4531-9aa6-fb077239cd2c"
   },
   "outputs": [
    {
     "name": "stdout",
     "output_type": "stream",
     "text": [
      "CPU times: user 31.3 s, sys: 320 ms, total: 31.6 s\n",
      "Wall time: 31.5 s\n"
     ]
    }
   ],
   "source": [
    "%%time\n",
    "# Create classification model\n",
    "svc = SVC(class_weight='balanced')\n",
    "\n",
    "# Fit model\n",
    "svc.fit(X_train, y_train)"
   ]
  },
  {
   "cell_type": "code",
   "execution_count": 43,
   "metadata": {
    "colab": {
     "base_uri": "https://localhost:8080/",
     "height": 418
    },
    "id": "CzPaS8-TrP6P",
    "outputId": "1a927652-36f3-4f5b-83b5-05ca16658922"
   },
   "outputs": [
    {
     "name": "stdout",
     "output_type": "stream",
     "text": [
      "[[10656  3405]\n",
      " [   68   190]]\n"
     ]
    },
    {
     "data": {
      "image/png": "[encoded data removed]",
      "text/plain": [
       "<Figure size 432x288 with 2 Axes>"
      ]
     },
     "metadata": {
      "needs_background": "light"
     },
     "output_type": "display_data"
    },
    {
     "name": "stdout",
     "output_type": "stream",
     "text": [
      "Accuracy:  75.75\n",
      "F1-Score:  0.0986\n",
      "Precision: 0.0529\n",
      "Recall:    0.7364\n",
      "MCC:       0.1516\n",
      "AUC:       0.7471\n"
     ]
    }
   ],
   "source": [
    "# Evaluate model\n",
    "tempDF = get_model_metrics('SVC', svc)\n",
    "# Store metrics\n",
    "model_compare = pd.concat([model_compare, tempDF], ignore_index=True)"
   ]
  },
  {
   "cell_type": "markdown",
   "metadata": {
    "id": "jd6r0_1urP6P"
   },
   "source": [
    "## [Linear SVC](https://scikit-learn.org/stable/modules/generated/sklearn.svm.LinearSVC.html)"
   ]
  },
  {
   "cell_type": "code",
   "execution_count": 44,
   "metadata": {
    "colab": {
     "base_uri": "https://localhost:8080/"
    },
    "id": "81YbdX-MrP6P",
    "outputId": "6c77dba5-05d1-4b48-959c-8e6e765941b0"
   },
   "outputs": [
    {
     "name": "stdout",
     "output_type": "stream",
     "text": [
      "CPU times: user 4.63 s, sys: 16.5 ms, total: 4.65 s\n",
      "Wall time: 4.64 s\n"
     ]
    },
    {
     "name": "stderr",
     "output_type": "stream",
     "text": [
      "/usr/local/lib/python3.7/dist-packages/sklearn/svm/_base.py:1208: ConvergenceWarning: Liblinear failed to converge, increase the number of iterations.\n",
      "  ConvergenceWarning,\n"
     ]
    }
   ],
   "source": [
    "%%time\n",
    "# Create classification model\n",
    "linSVC = LinearSVC(class_weight='balanced')\n",
    "\n",
    "# Fit model\n",
    "linSVC.fit(X_train, y_train)"
   ]
  },
  {
   "cell_type": "code",
   "execution_count": 45,
   "metadata": {
    "colab": {
     "base_uri": "https://localhost:8080/",
     "height": 418
    },
    "id": "15orknfOrP6P",
    "outputId": "5e7034ce-c35e-47e1-ae08-f2c4f5f0bdee"
   },
   "outputs": [
    {
     "name": "stdout",
     "output_type": "stream",
     "text": [
      "[[10668  3393]\n",
      " [   58   200]]\n"
     ]
    },
    {
     "data": {
      "image/png": "[encoded data removed]",
      "text/plain": [
       "<Figure size 432x288 with 2 Axes>"
      ]
     },
     "metadata": {
      "needs_background": "light"
     },
     "output_type": "display_data"
    },
    {
     "name": "stdout",
     "output_type": "stream",
     "text": [
      "Accuracy:  75.9\n",
      "F1-Score:  0.1039\n",
      "Precision: 0.0557\n",
      "Recall:    0.7752\n",
      "MCC:       0.1638\n",
      "AUC:       0.7669\n"
     ]
    }
   ],
   "source": [
    "# Evaluate model\n",
    "tempDF = get_model_metrics('LinearSVC', linSVC)\n",
    "# Store metrics\n",
    "model_compare = pd.concat([model_compare, tempDF], ignore_index=True)"
   ]
  },
  {
   "cell_type": "markdown",
   "metadata": {
    "id": "mT0YSqXhrP6Q"
   },
   "source": [
    "## [Ada Boost Classifier](https://scikit-learn.org/stable/modules/generated/sklearn.ensemble.AdaBoostClassifier.html)"
   ]
  },
  {
   "cell_type": "code",
   "execution_count": 46,
   "metadata": {
    "colab": {
     "base_uri": "https://localhost:8080/"
    },
    "id": "-92p0vPhrP6Q",
    "outputId": "ef5d75ca-4c22-46ab-f432-9319f8d4d172"
   },
   "outputs": [
    {
     "name": "stdout",
     "output_type": "stream",
     "text": [
      "CPU times: user 1.17 s, sys: 9.91 ms, total: 1.18 s\n",
      "Wall time: 1.17 s\n"
     ]
    }
   ],
   "source": [
    "%%time\n",
    "# Create classifier\n",
    "adaboost = AdaBoostClassifier()\n",
    "\n",
    "# Train model\n",
    "adaboost.fit(X_train, y_train)"
   ]
  },
  {
   "cell_type": "code",
   "execution_count": 47,
   "metadata": {
    "colab": {
     "base_uri": "https://localhost:8080/",
     "height": 421
    },
    "id": "HhjBCxj-rP6Q",
    "outputId": "3171d2c2-d6b4-4950-a66c-8e1136b205b7"
   },
   "outputs": [
    {
     "name": "stdout",
     "output_type": "stream",
     "text": [
      "[[14060     1]\n",
      " [  258     0]]\n"
     ]
    },
    {
     "data": {
      "image/png": "[encoded data removed]",
      "text/plain": [
       "<Figure size 432x288 with 2 Axes>"
      ]
     },
     "metadata": {
      "needs_background": "light"
     },
     "output_type": "display_data"
    },
    {
     "name": "stdout",
     "output_type": "stream",
     "text": [
      "Accuracy:  98.19\n",
      "F1-Score:  0.0\n",
      "Precision: 0.0\n",
      "Recall:    0.0\n",
      "MCC:       -0.0011\n",
      "AUC:       0.5\n"
     ]
    }
   ],
   "source": [
    "# Evaluate model\n",
    "tempDF = get_model_metrics('AdaBoost', adaboost)\n",
    "# Store metrics\n",
    "model_compare = pd.concat([model_compare, tempDF], ignore_index=True)"
   ]
  },
  {
   "cell_type": "markdown",
   "metadata": {
    "id": "kj_rGDbwrP6Q"
   },
   "source": [
    "## [MLP Classifier](https://scikit-learn.org/stable/modules/generated/sklearn.neural_network.MLPClassifier.html)"
   ]
  },
  {
   "cell_type": "code",
   "execution_count": 48,
   "metadata": {
    "colab": {
     "base_uri": "https://localhost:8080/"
    },
    "id": "EQAWC2ZHrP6Q",
    "outputId": "1b181a4e-cf9e-4a22-c210-cd1a054d2a0a"
   },
   "outputs": [
    {
     "name": "stdout",
     "output_type": "stream",
     "text": [
      "CPU times: user 2.48 s, sys: 1.75 s, total: 4.24 s\n",
      "Wall time: 2.26 s\n"
     ]
    }
   ],
   "source": [
    "%%time\n",
    "# Create classification model\n",
    "mlp = MLPClassifier(early_stopping=True)\n",
    "\n",
    "# Fit model\n",
    "mlp.fit(X_train, y_train)"
   ]
  },
  {
   "cell_type": "code",
   "execution_count": 49,
   "metadata": {
    "colab": {
     "base_uri": "https://localhost:8080/",
     "height": 545
    },
    "id": "mev71LQWrP6Q",
    "outputId": "aff8be88-e498-4da9-bf36-ed31d1108fa6"
   },
   "outputs": [
    {
     "name": "stdout",
     "output_type": "stream",
     "text": [
      "[[14061     0]\n",
      " [  258     0]]\n"
     ]
    },
    {
     "data": {
      "image/png": "[encoded data removed]",
      "text/plain": [
       "<Figure size 432x288 with 2 Axes>"
      ]
     },
     "metadata": {
      "needs_background": "light"
     },
     "output_type": "display_data"
    },
    {
     "name": "stdout",
     "output_type": "stream",
     "text": [
      "Accuracy:  98.2\n",
      "F1-Score:  0.0\n",
      "Precision: 0.0\n",
      "Recall:    0.0\n",
      "MCC:       0.0\n",
      "AUC:       0.5\n"
     ]
    },
    {
     "name": "stderr",
     "output_type": "stream",
     "text": [
      "/usr/local/lib/python3.7/dist-packages/sklearn/metrics/_classification.py:1318: UndefinedMetricWarning: Precision and F-score are ill-defined and being set to 0.0 in labels with no predicted samples. Use `zero_division` parameter to control this behavior.\n",
      "  _warn_prf(average, modifier, msg_start, len(result))\n",
      "/usr/local/lib/python3.7/dist-packages/sklearn/metrics/_classification.py:1318: UndefinedMetricWarning: Precision and F-score are ill-defined and being set to 0.0 in labels with no predicted samples. Use `zero_division` parameter to control this behavior.\n",
      "  _warn_prf(average, modifier, msg_start, len(result))\n",
      "/usr/local/lib/python3.7/dist-packages/sklearn/metrics/_classification.py:1318: UndefinedMetricWarning: Precision and F-score are ill-defined and being set to 0.0 in labels with no predicted samples. Use `zero_division` parameter to control this behavior.\n",
      "  _warn_prf(average, modifier, msg_start, len(result))\n"
     ]
    }
   ],
   "source": [
    "# Evaluate model\n",
    "tempDF = get_model_metrics('MLP', mlp)\n",
    "# Store metrics\n",
    "model_compare = pd.concat([model_compare, tempDF], ignore_index=True)"
   ]
  },
  {
   "cell_type": "markdown",
   "metadata": {
    "id": "x4DcyVHrrP6Q"
   },
   "source": [
    "## [Gradient Boosting Classifier](https://scikit-learn.org/stable/modules/generated/sklearn.ensemble.GradientBoostingClassifier.html)"
   ]
  },
  {
   "cell_type": "code",
   "execution_count": 50,
   "metadata": {
    "colab": {
     "base_uri": "https://localhost:8080/"
    },
    "id": "zAqOe8EtrP6Q",
    "outputId": "a875d32f-e0ab-43db-bac4-eee739e4f697"
   },
   "outputs": [
    {
     "name": "stdout",
     "output_type": "stream",
     "text": [
      "CPU times: user 3.54 s, sys: 8.64 ms, total: 3.55 s\n",
      "Wall time: 3.55 s\n"
     ]
    }
   ],
   "source": [
    "%%time\n",
    "# Create classification model\n",
    "gbc = GradientBoostingClassifier()\n",
    "\n",
    "# Fit model\n",
    "gbc.fit(X_train, y_train)"
   ]
  },
  {
   "cell_type": "code",
   "execution_count": 51,
   "metadata": {
    "colab": {
     "base_uri": "https://localhost:8080/",
     "height": 422
    },
    "id": "xWW3Vo3RrP6Q",
    "outputId": "96c5b08a-7652-43a1-9619-f6fc7bd9393b"
   },
   "outputs": [
    {
     "name": "stdout",
     "output_type": "stream",
     "text": [
      "[[14053     8]\n",
      " [  258     0]]\n"
     ]
    },
    {
     "data": {
      "image/png": "[encoded data removed]",
      "text/plain": [
       "<Figure size 432x288 with 2 Axes>"
      ]
     },
     "metadata": {
      "needs_background": "light"
     },
     "output_type": "display_data"
    },
    {
     "name": "stdout",
     "output_type": "stream",
     "text": [
      "Accuracy:  98.14\n",
      "F1-Score:  0.0\n",
      "Precision: 0.0\n",
      "Recall:    0.0\n",
      "MCC:       -0.0032\n",
      "AUC:       0.4997\n"
     ]
    }
   ],
   "source": [
    "# Evaluate model\n",
    "tempDF = get_model_metrics('GBC', gbc)\n",
    "# Store metrics\n",
    "model_compare = pd.concat([model_compare, tempDF], ignore_index=True)"
   ]
  },
  {
   "cell_type": "markdown",
   "metadata": {
    "id": "oYVfbwCVrP6R"
   },
   "source": [
    "## [K-Nearest Neighbor](https://scikit-learn.org/stable/modules/generated/sklearn.neighbors.KNeighborsClassifier.html)"
   ]
  },
  {
   "cell_type": "code",
   "execution_count": 52,
   "metadata": {
    "colab": {
     "base_uri": "https://localhost:8080/"
    },
    "id": "9o6kpNZlrP6R",
    "outputId": "1a1be860-7797-4256-846d-a24a3dfa28ce"
   },
   "outputs": [
    {
     "name": "stdout",
     "output_type": "stream",
     "text": [
      "CPU times: user 6.99 ms, sys: 1.11 ms, total: 8.1 ms\n",
      "Wall time: 6.78 ms\n"
     ]
    }
   ],
   "source": [
    "%%time\n",
    "# Create classification model\n",
    "knn = KNeighborsClassifier(2)\n",
    "\n",
    "# Fit model\n",
    "knn.fit(X_train, y_train)"
   ]
  },
  {
   "cell_type": "code",
   "execution_count": 53,
   "metadata": {
    "colab": {
     "base_uri": "https://localhost:8080/",
     "height": 422
    },
    "id": "mDtTcWx_rP6R",
    "outputId": "a5e42354-6fd0-4937-8500-5455c0ef6108"
   },
   "outputs": [
    {
     "name": "stdout",
     "output_type": "stream",
     "text": [
      "[[14046    15]\n",
      " [  257     1]]\n"
     ]
    },
    {
     "data": {
      "image/png": "[encoded data removed]",
      "text/plain": [
       "<Figure size 432x288 with 2 Axes>"
      ]
     },
     "metadata": {
      "needs_background": "light"
     },
     "output_type": "display_data"
    },
    {
     "name": "stdout",
     "output_type": "stream",
     "text": [
      "Accuracy:  98.1\n",
      "F1-Score:  0.0073\n",
      "Precision: 0.0625\n",
      "Recall:    0.0039\n",
      "MCC:       0.0112\n",
      "AUC:       0.5014\n"
     ]
    }
   ],
   "source": [
    "# Evaluate model\n",
    "tempDF = get_model_metrics('KNN', knn)\n",
    "# Store metrics\n",
    "model_compare = pd.concat([model_compare, tempDF], ignore_index=True)"
   ]
  },
  {
   "cell_type": "markdown",
   "metadata": {
    "id": "PYyfbXHKrP6R"
   },
   "source": [
    "## [Stochastic Gradient Descent](https://scikit-learn.org/stable/modules/generated/sklearn.linear_model.SGDClassifier.html)"
   ]
  },
  {
   "cell_type": "code",
   "execution_count": 54,
   "metadata": {
    "colab": {
     "base_uri": "https://localhost:8080/"
    },
    "id": "9JSm6OpCrP6R",
    "outputId": "fef401ae-c913-4795-a2f3-f540d3ec50a3"
   },
   "outputs": [
    {
     "name": "stdout",
     "output_type": "stream",
     "text": [
      "CPU times: user 243 ms, sys: 2.17 ms, total: 245 ms\n",
      "Wall time: 246 ms\n"
     ]
    }
   ],
   "source": [
    "%%time\n",
    "# Create classification model\n",
    "sgd = SGDClassifier(class_weight='balanced')\n",
    "\n",
    "# Fit model\n",
    "sgd.fit(X_train, y_train)"
   ]
  },
  {
   "cell_type": "code",
   "execution_count": 55,
   "metadata": {
    "colab": {
     "base_uri": "https://localhost:8080/",
     "height": 418
    },
    "id": "KImgBcnWrP6R",
    "outputId": "1b0e3081-3287-47ff-becb-f8f062d1c400"
   },
   "outputs": [
    {
     "name": "stdout",
     "output_type": "stream",
     "text": [
      "[[12413  1648]\n",
      " [  153   105]]\n"
     ]
    },
    {
     "data": {
      "image/png": "[encoded data removed]",
      "text/plain": [
       "<Figure size 432x288 with 2 Axes>"
      ]
     },
     "metadata": {
      "needs_background": "light"
     },
     "output_type": "display_data"
    },
    {
     "name": "stdout",
     "output_type": "stream",
     "text": [
      "Accuracy:  87.42\n",
      "F1-Score:  0.1044\n",
      "Precision: 0.0599\n",
      "Recall:    0.407\n",
      "MCC:       0.1176\n",
      "AUC:       0.6449\n"
     ]
    }
   ],
   "source": [
    "# Evaluate model\n",
    "tempDF = get_model_metrics('SGD', sgd)\n",
    "# Store metrics\n",
    "model_compare = pd.concat([model_compare, tempDF], ignore_index=True)"
   ]
  },
  {
   "cell_type": "markdown",
   "metadata": {
    "id": "Lj9MQsZGrP6R"
   },
   "source": [
    "## [LGBM Classifier](https://lightgbm.readthedocs.io/en/latest/pythonapi/lightgbm.LGBMClassifier.html)"
   ]
  },
  {
   "cell_type": "code",
   "execution_count": 56,
   "metadata": {
    "colab": {
     "base_uri": "https://localhost:8080/"
    },
    "id": "eNLkz03drP6R",
    "outputId": "388e77f6-3192-456d-faf4-06bb593b6b80"
   },
   "outputs": [
    {
     "name": "stdout",
     "output_type": "stream",
     "text": [
      "CPU times: user 1.5 s, sys: 26.3 ms, total: 1.53 s\n",
      "Wall time: 1.62 s\n"
     ]
    }
   ],
   "source": [
    "%%time\n",
    "# Create classification model\n",
    "lgbm = LGBMClassifier(class_weight='balanced')\n",
    "\n",
    "# Fit model\n",
    "lgbm.fit(X_train, y_train)"
   ]
  },
  {
   "cell_type": "code",
   "execution_count": 57,
   "metadata": {
    "colab": {
     "base_uri": "https://localhost:8080/",
     "height": 418
    },
    "id": "rgWwY3DRrP6S",
    "outputId": "b859c367-03a5-40ea-8b8f-d219e3a89ebc"
   },
   "outputs": [
    {
     "name": "stdout",
     "output_type": "stream",
     "text": [
      "[[12363  1698]\n",
      " [  141   117]]\n"
     ]
    },
    {
     "data": {
      "image/png": "[encoded data removed]",
      "text/plain": [
       "<Figure size 432x288 with 2 Axes>"
      ]
     },
     "metadata": {
      "needs_background": "light"
     },
     "output_type": "display_data"
    },
    {
     "name": "stdout",
     "output_type": "stream",
     "text": [
      "Accuracy:  87.16\n",
      "F1-Score:  0.1129\n",
      "Precision: 0.0645\n",
      "Recall:    0.4535\n",
      "MCC:       0.133\n",
      "AUC:       0.6664\n"
     ]
    }
   ],
   "source": [
    "# Evaluate model\n",
    "tempDF = get_model_metrics('LGBM', lgbm)\n",
    "# Store metrics\n",
    "model_compare = pd.concat([model_compare, tempDF], ignore_index=True)"
   ]
  },
  {
   "cell_type": "markdown",
   "metadata": {
    "id": "VaeEyXKxrP6S"
   },
   "source": [
    "## [XGBoost Classifier](https://xgboost.readthedocs.io/en/stable/python/python_api.html)"
   ]
  },
  {
   "cell_type": "code",
   "execution_count": 58,
   "metadata": {
    "colab": {
     "base_uri": "https://localhost:8080/"
    },
    "id": "vjkPGXlOrP6S",
    "outputId": "1d7f0708-d413-46b2-ba61-502820a247ae"
   },
   "outputs": [
    {
     "name": "stdout",
     "output_type": "stream",
     "text": [
      "CPU times: user 1.9 s, sys: 18.7 ms, total: 1.92 s\n",
      "Wall time: 1.91 s\n"
     ]
    }
   ],
   "source": [
    "%%time\n",
    "# Create classification model\n",
    "xgbc = XGBClassifier(class_weight='balanced')\n",
    "\n",
    "# Fit model\n",
    "xgbc.fit(X_train, y_train)"
   ]
  },
  {
   "cell_type": "code",
   "execution_count": 59,
   "metadata": {
    "colab": {
     "base_uri": "https://localhost:8080/",
     "height": 545
    },
    "id": "gnL3Cy3MrP6S",
    "outputId": "941e6ca2-96c3-4e42-8963-c231a76d8d8f"
   },
   "outputs": [
    {
     "name": "stdout",
     "output_type": "stream",
     "text": [
      "[[14061     0]\n",
      " [  258     0]]\n"
     ]
    },
    {
     "data": {
      "image/png": "[encoded data removed]",
      "text/plain": [
       "<Figure size 432x288 with 2 Axes>"
      ]
     },
     "metadata": {
      "needs_background": "light"
     },
     "output_type": "display_data"
    },
    {
     "name": "stdout",
     "output_type": "stream",
     "text": [
      "Accuracy:  98.2\n",
      "F1-Score:  0.0\n",
      "Precision: 0.0\n",
      "Recall:    0.0\n",
      "MCC:       0.0\n",
      "AUC:       0.5\n"
     ]
    },
    {
     "name": "stderr",
     "output_type": "stream",
     "text": [
      "/usr/local/lib/python3.7/dist-packages/sklearn/metrics/_classification.py:1318: UndefinedMetricWarning: Precision and F-score are ill-defined and being set to 0.0 in labels with no predicted samples. Use `zero_division` parameter to control this behavior.\n",
      "  _warn_prf(average, modifier, msg_start, len(result))\n",
      "/usr/local/lib/python3.7/dist-packages/sklearn/metrics/_classification.py:1318: UndefinedMetricWarning: Precision and F-score are ill-defined and being set to 0.0 in labels with no predicted samples. Use `zero_division` parameter to control this behavior.\n",
      "  _warn_prf(average, modifier, msg_start, len(result))\n",
      "/usr/local/lib/python3.7/dist-packages/sklearn/metrics/_classification.py:1318: UndefinedMetricWarning: Precision and F-score are ill-defined and being set to 0.0 in labels with no predicted samples. Use `zero_division` parameter to control this behavior.\n",
      "  _warn_prf(average, modifier, msg_start, len(result))\n"
     ]
    }
   ],
   "source": [
    "# Evaluate model\n",
    "tempDF = get_model_metrics('XGBC', xgbc)\n",
    "# Store metrics\n",
    "model_compare = pd.concat([model_compare, tempDF], ignore_index=True)"
   ]
  },
  {
   "cell_type": "markdown",
   "metadata": {
    "id": "K6IGT_terP6S"
   },
   "source": [
    "## [Linear Discriminant Analysis](https://scikit-learn.org/stable/modules/generated/sklearn.discriminant_analysis.LinearDiscriminantAnalysis.html)"
   ]
  },
  {
   "cell_type": "code",
   "execution_count": 60,
   "metadata": {
    "colab": {
     "base_uri": "https://localhost:8080/"
    },
    "id": "A5zv1S-6rP6S",
    "outputId": "8662ad0f-a41b-45c6-f433-03c629676091"
   },
   "outputs": [
    {
     "name": "stdout",
     "output_type": "stream",
     "text": [
      "CPU times: user 84.9 ms, sys: 9.99 ms, total: 94.9 ms\n",
      "Wall time: 88.3 ms\n"
     ]
    }
   ],
   "source": [
    "%%time\n",
    "# Create classification model\n",
    "lda = LinearDiscriminantAnalysis()\n",
    "\n",
    "# Fit model\n",
    "lda.fit(X_train, y_train)"
   ]
  },
  {
   "cell_type": "code",
   "execution_count": 61,
   "metadata": {
    "colab": {
     "base_uri": "https://localhost:8080/",
     "height": 418
    },
    "id": "lRjbLytPrP6S",
    "outputId": "746e19ee-86c9-42e3-f764-e83e59146fac"
   },
   "outputs": [
    {
     "name": "stdout",
     "output_type": "stream",
     "text": [
      "[[13895   166]\n",
      " [  236    22]]\n"
     ]
    },
    {
     "data": {
      "image/png": "[encoded data removed]",
      "text/plain": [
       "<Figure size 432x288 with 2 Axes>"
      ]
     },
     "metadata": {
      "needs_background": "light"
     },
     "output_type": "display_data"
    },
    {
     "name": "stdout",
     "output_type": "stream",
     "text": [
      "Accuracy:  97.19\n",
      "F1-Score:  0.0987\n",
      "Precision: 0.117\n",
      "Recall:    0.0853\n",
      "MCC:       0.0858\n",
      "AUC:       0.5367\n"
     ]
    }
   ],
   "source": [
    "# Evaluate model\n",
    "tempDF = get_model_metrics('LDA', lda)\n",
    "# Store metrics\n",
    "model_compare = pd.concat([model_compare, tempDF], ignore_index=True)"
   ]
  },
  {
   "cell_type": "markdown",
   "metadata": {
    "id": "z9M8bSvjrP6S"
   },
   "source": [
    "## Compare Model Performance"
   ]
  },
  {
   "cell_type": "code",
   "execution_count": 62,
   "metadata": {
    "colab": {
     "base_uri": "https://localhost:8080/",
     "height": 551
    },
    "id": "SlNKjRIYrP6T",
    "outputId": "45346dae-ad48-4a41-9686-581b24bc21e1"
   },
   "outputs": [
    {
     "data": {
      "text/html": [
       "\n",
       "  <div id=\"df-857852c0-892d-4102-a8b0-a28d325f9687\">\n",
       "    <div class=\"colab-df-container\">\n",
       "      <div>\n",
       "<style scoped>\n",
       "    .dataframe tbody tr th:only-of-type {\n",
       "        vertical-align: middle;\n",
       "    }\n",
       "\n",
       "    .dataframe tbody tr th {\n",
       "        vertical-align: top;\n",
       "    }\n",
       "\n",
       "    .dataframe thead th {\n",
       "        text-align: right;\n",
       "    }\n",
       "</style>\n",
       "<table border=\"1\" class=\"dataframe\">\n",
       "  <thead>\n",
       "    <tr style=\"text-align: right;\">\n",
       "      <th></th>\n",
       "      <th>Model</th>\n",
       "      <th>Accuracy</th>\n",
       "      <th>F1_Score</th>\n",
       "      <th>Precision</th>\n",
       "      <th>Recall</th>\n",
       "      <th>MCC</th>\n",
       "      <th>AUC</th>\n",
       "    </tr>\n",
       "  </thead>\n",
       "  <tbody>\n",
       "    <tr>\n",
       "      <th>0</th>\n",
       "      <td>LogReg_lbfgs</td>\n",
       "      <td>74.03</td>\n",
       "      <td>0.1015</td>\n",
       "      <td>0.0541</td>\n",
       "      <td>0.8140</td>\n",
       "      <td>0.1655</td>\n",
       "      <td>0.7765</td>\n",
       "    </tr>\n",
       "    <tr>\n",
       "      <th>1</th>\n",
       "      <td>LogReg_liblinear</td>\n",
       "      <td>74.03</td>\n",
       "      <td>0.1015</td>\n",
       "      <td>0.0541</td>\n",
       "      <td>0.8140</td>\n",
       "      <td>0.1655</td>\n",
       "      <td>0.7765</td>\n",
       "    </tr>\n",
       "    <tr>\n",
       "      <th>2</th>\n",
       "      <td>LinearSVC</td>\n",
       "      <td>75.90</td>\n",
       "      <td>0.1039</td>\n",
       "      <td>0.0557</td>\n",
       "      <td>0.7752</td>\n",
       "      <td>0.1638</td>\n",
       "      <td>0.7669</td>\n",
       "    </tr>\n",
       "    <tr>\n",
       "      <th>3</th>\n",
       "      <td>SVC</td>\n",
       "      <td>75.75</td>\n",
       "      <td>0.0986</td>\n",
       "      <td>0.0529</td>\n",
       "      <td>0.7364</td>\n",
       "      <td>0.1516</td>\n",
       "      <td>0.7471</td>\n",
       "    </tr>\n",
       "    <tr>\n",
       "      <th>4</th>\n",
       "      <td>LGBM</td>\n",
       "      <td>87.16</td>\n",
       "      <td>0.1129</td>\n",
       "      <td>0.0645</td>\n",
       "      <td>0.4535</td>\n",
       "      <td>0.1330</td>\n",
       "      <td>0.6664</td>\n",
       "    </tr>\n",
       "    <tr>\n",
       "      <th>5</th>\n",
       "      <td>SGD</td>\n",
       "      <td>87.42</td>\n",
       "      <td>0.1044</td>\n",
       "      <td>0.0599</td>\n",
       "      <td>0.4070</td>\n",
       "      <td>0.1176</td>\n",
       "      <td>0.6449</td>\n",
       "    </tr>\n",
       "    <tr>\n",
       "      <th>6</th>\n",
       "      <td>LDA</td>\n",
       "      <td>97.19</td>\n",
       "      <td>0.0987</td>\n",
       "      <td>0.1170</td>\n",
       "      <td>0.0853</td>\n",
       "      <td>0.0858</td>\n",
       "      <td>0.5367</td>\n",
       "    </tr>\n",
       "    <tr>\n",
       "      <th>7</th>\n",
       "      <td>DecisionTree</td>\n",
       "      <td>96.68</td>\n",
       "      <td>0.0883</td>\n",
       "      <td>0.0875</td>\n",
       "      <td>0.0891</td>\n",
       "      <td>0.0714</td>\n",
       "      <td>0.5360</td>\n",
       "    </tr>\n",
       "    <tr>\n",
       "      <th>8</th>\n",
       "      <td>GaussianNB</td>\n",
       "      <td>22.50</td>\n",
       "      <td>0.0441</td>\n",
       "      <td>0.0226</td>\n",
       "      <td>0.9922</td>\n",
       "      <td>0.0667</td>\n",
       "      <td>0.6016</td>\n",
       "    </tr>\n",
       "    <tr>\n",
       "      <th>9</th>\n",
       "      <td>RandomForest</td>\n",
       "      <td>98.18</td>\n",
       "      <td>0.0076</td>\n",
       "      <td>0.2000</td>\n",
       "      <td>0.0039</td>\n",
       "      <td>0.0256</td>\n",
       "      <td>0.5018</td>\n",
       "    </tr>\n",
       "    <tr>\n",
       "      <th>10</th>\n",
       "      <td>BernoulliNB</td>\n",
       "      <td>97.54</td>\n",
       "      <td>0.0330</td>\n",
       "      <td>0.0566</td>\n",
       "      <td>0.0233</td>\n",
       "      <td>0.0251</td>\n",
       "      <td>0.5081</td>\n",
       "    </tr>\n",
       "    <tr>\n",
       "      <th>11</th>\n",
       "      <td>KNN</td>\n",
       "      <td>98.10</td>\n",
       "      <td>0.0073</td>\n",
       "      <td>0.0625</td>\n",
       "      <td>0.0039</td>\n",
       "      <td>0.0112</td>\n",
       "      <td>0.5014</td>\n",
       "    </tr>\n",
       "    <tr>\n",
       "      <th>12</th>\n",
       "      <td>MLP</td>\n",
       "      <td>98.20</td>\n",
       "      <td>0.0000</td>\n",
       "      <td>0.0000</td>\n",
       "      <td>0.0000</td>\n",
       "      <td>0.0000</td>\n",
       "      <td>0.5000</td>\n",
       "    </tr>\n",
       "    <tr>\n",
       "      <th>13</th>\n",
       "      <td>XGBC</td>\n",
       "      <td>98.20</td>\n",
       "      <td>0.0000</td>\n",
       "      <td>0.0000</td>\n",
       "      <td>0.0000</td>\n",
       "      <td>0.0000</td>\n",
       "      <td>0.5000</td>\n",
       "    </tr>\n",
       "    <tr>\n",
       "      <th>14</th>\n",
       "      <td>AdaBoost</td>\n",
       "      <td>98.19</td>\n",
       "      <td>0.0000</td>\n",
       "      <td>0.0000</td>\n",
       "      <td>0.0000</td>\n",
       "      <td>-0.0011</td>\n",
       "      <td>0.5000</td>\n",
       "    </tr>\n",
       "    <tr>\n",
       "      <th>15</th>\n",
       "      <td>GBC</td>\n",
       "      <td>98.14</td>\n",
       "      <td>0.0000</td>\n",
       "      <td>0.0000</td>\n",
       "      <td>0.0000</td>\n",
       "      <td>-0.0032</td>\n",
       "      <td>0.4997</td>\n",
       "    </tr>\n",
       "  </tbody>\n",
       "</table>\n",
       "</div>\n",
       "      <button class=\"colab-df-convert\" onclick=\"convertToInteractive('df-857852c0-892d-4102-a8b0-a28d325f9687')\"\n",
       "              title=\"Convert this dataframe to an interactive table.\"\n",
       "              style=\"display:none;\">\n",
       "        \n",
       "  <svg xmlns=\"http://www.w3.org/2000/svg\" height=\"24px\"viewBox=\"0 0 24 24\"\n",
       "       width=\"24px\">\n",
       "    <path d=\"M0 0h24v24H0V0z\" fill=\"none\"/>\n",
       "    <path d=\"M18.56 5.44l.94 2.06.94-2.06 2.06-.94-2.06-.94-.94-2.06-.94 2.06-2.06.94zm-11 1L8.5 8.5l.94-2.06 2.06-.94-2.06-.94L8.5 2.5l-.94 2.06-2.06.94zm10 10l.94 2.06.94-2.06 2.06-.94-2.06-.94-.94-2.06-.94 2.06-2.06.94z\"/><path d=\"M17.41 7.96l-1.37-1.37c-.4-.4-.92-.59-1.43-.59-.52 0-1.04.2-1.43.59L10.3 9.45l-7.72 7.72c-.78.78-.78 2.05 0 2.83L4 21.41c.39.39.9.59 1.41.59.51 0 1.02-.2 1.41-.59l7.78-7.78 2.81-2.81c.8-.78.8-2.07 0-2.86zM5.41 20L4 18.59l7.72-7.72 1.47 1.35L5.41 20z\"/>\n",
       "  </svg>\n",
       "      </button>\n",
       "      \n",
       "  <style>\n",
       "    .colab-df-container {\n",
       "      display:flex;\n",
       "      flex-wrap:wrap;\n",
       "      gap: 12px;\n",
       "    }\n",
       "\n",
       "    .colab-df-convert {\n",
       "      background-color: #E8F0FE;\n",
       "      border: none;\n",
       "      border-radius: 50%;\n",
       "      cursor: pointer;\n",
       "      display: none;\n",
       "      fill: #1967D2;\n",
       "      height: 32px;\n",
       "      padding: 0 0 0 0;\n",
       "      width: 32px;\n",
       "    }\n",
       "\n",
       "    .colab-df-convert:hover {\n",
       "      background-color: #E2EBFA;\n",
       "      box-shadow: 0px 1px 2px rgba(60, 64, 67, 0.3), 0px 1px 3px 1px rgba(60, 64, 67, 0.15);\n",
       "      fill: #174EA6;\n",
       "    }\n",
       "\n",
       "    [theme=dark] .colab-df-convert {\n",
       "      background-color: #3B4455;\n",
       "      fill: #D2E3FC;\n",
       "    }\n",
       "\n",
       "    [theme=dark] .colab-df-convert:hover {\n",
       "      background-color: #434B5C;\n",
       "      box-shadow: 0px 1px 3px 1px rgba(0, 0, 0, 0.15);\n",
       "      filter: drop-shadow(0px 1px 2px rgba(0, 0, 0, 0.3));\n",
       "      fill: #FFFFFF;\n",
       "    }\n",
       "  </style>\n",
       "\n",
       "      <script>\n",
       "        const buttonEl =\n",
       "          document.querySelector('#df-857852c0-892d-4102-a8b0-a28d325f9687 button.colab-df-convert');\n",
       "        buttonEl.style.display =\n",
       "          google.colab.kernel.accessAllowed ? 'block' : 'none';\n",
       "\n",
       "        async function convertToInteractive(key) {\n",
       "          const element = document.querySelector('#df-857852c0-892d-4102-a8b0-a28d325f9687');\n",
       "          const dataTable =\n",
       "            await google.colab.kernel.invokeFunction('convertToInteractive',\n",
       "                                                     [key], {});\n",
       "          if (!dataTable) return;\n",
       "\n",
       "          const docLinkHtml = 'Like what you see? Visit the ' +\n",
       "            '<a target=\"_blank\" href=https://colab.research.google.com/notebooks/data_table.ipynb>data table notebook</a>'\n",
       "            + ' to learn more about interactive tables.';\n",
       "          element.innerHTML = '';\n",
       "          dataTable['output_type'] = 'display_data';\n",
       "          await google.colab.output.renderOutput(dataTable, element);\n",
       "          const docLink = document.createElement('div');\n",
       "          docLink.innerHTML = docLinkHtml;\n",
       "          element.appendChild(docLink);\n",
       "        }\n",
       "      </script>\n",
       "    </div>\n",
       "  </div>\n",
       "  "
      ],
      "text/plain": [
       "               Model  Accuracy  F1_Score  Precision  Recall     MCC     AUC\n",
       "0       LogReg_lbfgs     74.03    0.1015     0.0541  0.8140  0.1655  0.7765\n",
       "1   LogReg_liblinear     74.03    0.1015     0.0541  0.8140  0.1655  0.7765\n",
       "2          LinearSVC     75.90    0.1039     0.0557  0.7752  0.1638  0.7669\n",
       "3                SVC     75.75    0.0986     0.0529  0.7364  0.1516  0.7471\n",
       "4               LGBM     87.16    0.1129     0.0645  0.4535  0.1330  0.6664\n",
       "5                SGD     87.42    0.1044     0.0599  0.4070  0.1176  0.6449\n",
       "6                LDA     97.19    0.0987     0.1170  0.0853  0.0858  0.5367\n",
       "7       DecisionTree     96.68    0.0883     0.0875  0.0891  0.0714  0.5360\n",
       "8         GaussianNB     22.50    0.0441     0.0226  0.9922  0.0667  0.6016\n",
       "9       RandomForest     98.18    0.0076     0.2000  0.0039  0.0256  0.5018\n",
       "10       BernoulliNB     97.54    0.0330     0.0566  0.0233  0.0251  0.5081\n",
       "11               KNN     98.10    0.0073     0.0625  0.0039  0.0112  0.5014\n",
       "12               MLP     98.20    0.0000     0.0000  0.0000  0.0000  0.5000\n",
       "13              XGBC     98.20    0.0000     0.0000  0.0000  0.0000  0.5000\n",
       "14          AdaBoost     98.19    0.0000     0.0000  0.0000 -0.0011  0.5000\n",
       "15               GBC     98.14    0.0000     0.0000  0.0000 -0.0032  0.4997"
      ]
     },
     "execution_count": 62,
     "metadata": {},
     "output_type": "execute_result"
    }
   ],
   "source": [
    "# compare model metrics\n",
    "model_compare.sort_values('MCC', ascending=False, ignore_index=True)"
   ]
  },
  {
   "cell_type": "code",
   "execution_count": 63,
   "metadata": {
    "colab": {
     "base_uri": "https://localhost:8080/",
     "height": 175
    },
    "id": "VmPpKfdRrP6T",
    "outputId": "6b032002-3965-420e-d84a-70e9c4a851da"
   },
   "outputs": [
    {
     "data": {
      "text/html": [
       "\n",
       "  <div id=\"df-dc54c282-717d-4303-be9b-3dfd145288bc\">\n",
       "    <div class=\"colab-df-container\">\n",
       "      <div>\n",
       "<style scoped>\n",
       "    .dataframe tbody tr th:only-of-type {\n",
       "        vertical-align: middle;\n",
       "    }\n",
       "\n",
       "    .dataframe tbody tr th {\n",
       "        vertical-align: top;\n",
       "    }\n",
       "\n",
       "    .dataframe thead th {\n",
       "        text-align: right;\n",
       "    }\n",
       "</style>\n",
       "<table border=\"1\" class=\"dataframe\">\n",
       "  <thead>\n",
       "    <tr style=\"text-align: right;\">\n",
       "      <th></th>\n",
       "      <th>Model</th>\n",
       "      <th>Accuracy</th>\n",
       "      <th>F1_Score</th>\n",
       "      <th>Precision</th>\n",
       "      <th>Recall</th>\n",
       "      <th>MCC</th>\n",
       "      <th>AUC</th>\n",
       "    </tr>\n",
       "  </thead>\n",
       "  <tbody>\n",
       "    <tr>\n",
       "      <th>0</th>\n",
       "      <td>LogReg_lbfgs</td>\n",
       "      <td>74.03</td>\n",
       "      <td>0.1015</td>\n",
       "      <td>0.0541</td>\n",
       "      <td>0.8140</td>\n",
       "      <td>0.1655</td>\n",
       "      <td>0.7765</td>\n",
       "    </tr>\n",
       "    <tr>\n",
       "      <th>1</th>\n",
       "      <td>LogReg_liblinear</td>\n",
       "      <td>74.03</td>\n",
       "      <td>0.1015</td>\n",
       "      <td>0.0541</td>\n",
       "      <td>0.8140</td>\n",
       "      <td>0.1655</td>\n",
       "      <td>0.7765</td>\n",
       "    </tr>\n",
       "    <tr>\n",
       "      <th>2</th>\n",
       "      <td>LinearSVC</td>\n",
       "      <td>75.90</td>\n",
       "      <td>0.1039</td>\n",
       "      <td>0.0557</td>\n",
       "      <td>0.7752</td>\n",
       "      <td>0.1638</td>\n",
       "      <td>0.7669</td>\n",
       "    </tr>\n",
       "    <tr>\n",
       "      <th>3</th>\n",
       "      <td>SVC</td>\n",
       "      <td>75.75</td>\n",
       "      <td>0.0986</td>\n",
       "      <td>0.0529</td>\n",
       "      <td>0.7364</td>\n",
       "      <td>0.1516</td>\n",
       "      <td>0.7471</td>\n",
       "    </tr>\n",
       "  </tbody>\n",
       "</table>\n",
       "</div>\n",
       "      <button class=\"colab-df-convert\" onclick=\"convertToInteractive('df-dc54c282-717d-4303-be9b-3dfd145288bc')\"\n",
       "              title=\"Convert this dataframe to an interactive table.\"\n",
       "              style=\"display:none;\">\n",
       "        \n",
       "  <svg xmlns=\"http://www.w3.org/2000/svg\" height=\"24px\"viewBox=\"0 0 24 24\"\n",
       "       width=\"24px\">\n",
       "    <path d=\"M0 0h24v24H0V0z\" fill=\"none\"/>\n",
       "    <path d=\"M18.56 5.44l.94 2.06.94-2.06 2.06-.94-2.06-.94-.94-2.06-.94 2.06-2.06.94zm-11 1L8.5 8.5l.94-2.06 2.06-.94-2.06-.94L8.5 2.5l-.94 2.06-2.06.94zm10 10l.94 2.06.94-2.06 2.06-.94-2.06-.94-.94-2.06-.94 2.06-2.06.94z\"/><path d=\"M17.41 7.96l-1.37-1.37c-.4-.4-.92-.59-1.43-.59-.52 0-1.04.2-1.43.59L10.3 9.45l-7.72 7.72c-.78.78-.78 2.05 0 2.83L4 21.41c.39.39.9.59 1.41.59.51 0 1.02-.2 1.41-.59l7.78-7.78 2.81-2.81c.8-.78.8-2.07 0-2.86zM5.41 20L4 18.59l7.72-7.72 1.47 1.35L5.41 20z\"/>\n",
       "  </svg>\n",
       "      </button>\n",
       "      \n",
       "  <style>\n",
       "    .colab-df-container {\n",
       "      display:flex;\n",
       "      flex-wrap:wrap;\n",
       "      gap: 12px;\n",
       "    }\n",
       "\n",
       "    .colab-df-convert {\n",
       "      background-color: #E8F0FE;\n",
       "      border: none;\n",
       "      border-radius: 50%;\n",
       "      cursor: pointer;\n",
       "      display: none;\n",
       "      fill: #1967D2;\n",
       "      height: 32px;\n",
       "      padding: 0 0 0 0;\n",
       "      width: 32px;\n",
       "    }\n",
       "\n",
       "    .colab-df-convert:hover {\n",
       "      background-color: #E2EBFA;\n",
       "      box-shadow: 0px 1px 2px rgba(60, 64, 67, 0.3), 0px 1px 3px 1px rgba(60, 64, 67, 0.15);\n",
       "      fill: #174EA6;\n",
       "    }\n",
       "\n",
       "    [theme=dark] .colab-df-convert {\n",
       "      background-color: #3B4455;\n",
       "      fill: #D2E3FC;\n",
       "    }\n",
       "\n",
       "    [theme=dark] .colab-df-convert:hover {\n",
       "      background-color: #434B5C;\n",
       "      box-shadow: 0px 1px 3px 1px rgba(0, 0, 0, 0.15);\n",
       "      filter: drop-shadow(0px 1px 2px rgba(0, 0, 0, 0.3));\n",
       "      fill: #FFFFFF;\n",
       "    }\n",
       "  </style>\n",
       "\n",
       "      <script>\n",
       "        const buttonEl =\n",
       "          document.querySelector('#df-dc54c282-717d-4303-be9b-3dfd145288bc button.colab-df-convert');\n",
       "        buttonEl.style.display =\n",
       "          google.colab.kernel.accessAllowed ? 'block' : 'none';\n",
       "\n",
       "        async function convertToInteractive(key) {\n",
       "          const element = document.querySelector('#df-dc54c282-717d-4303-be9b-3dfd145288bc');\n",
       "          const dataTable =\n",
       "            await google.colab.kernel.invokeFunction('convertToInteractive',\n",
       "                                                     [key], {});\n",
       "          if (!dataTable) return;\n",
       "\n",
       "          const docLinkHtml = 'Like what you see? Visit the ' +\n",
       "            '<a target=\"_blank\" href=https://colab.research.google.com/notebooks/data_table.ipynb>data table notebook</a>'\n",
       "            + ' to learn more about interactive tables.';\n",
       "          element.innerHTML = '';\n",
       "          dataTable['output_type'] = 'display_data';\n",
       "          await google.colab.output.renderOutput(dataTable, element);\n",
       "          const docLink = document.createElement('div');\n",
       "          docLink.innerHTML = docLinkHtml;\n",
       "          element.appendChild(docLink);\n",
       "        }\n",
       "      </script>\n",
       "    </div>\n",
       "  </div>\n",
       "  "
      ],
      "text/plain": [
       "              Model  Accuracy  F1_Score  Precision  Recall     MCC     AUC\n",
       "0      LogReg_lbfgs     74.03    0.1015     0.0541  0.8140  0.1655  0.7765\n",
       "1  LogReg_liblinear     74.03    0.1015     0.0541  0.8140  0.1655  0.7765\n",
       "2         LinearSVC     75.90    0.1039     0.0557  0.7752  0.1638  0.7669\n",
       "3               SVC     75.75    0.0986     0.0529  0.7364  0.1516  0.7471"
      ]
     },
     "execution_count": 63,
     "metadata": {},
     "output_type": "execute_result"
    }
   ],
   "source": [
    "# filter higher MCC and sort by Recall\n",
    "table = model_compare.sort_values('MCC', ascending=False, ignore_index=True)\n",
    "table[table['MCC'] > 0.15].sort_values('Recall', ascending=False)"
   ]
  },
  {
   "cell_type": "code",
   "execution_count": 63,
   "metadata": {
    "id": "EvJDWx94XZHw"
   },
   "outputs": [],
   "source": []
  },
  {
   "cell_type": "markdown",
   "metadata": {
    "id": "UUglhRm93lUA"
   },
   "source": [
    "## Hyperparameter Tuning"
   ]
  },
  {
   "cell_type": "code",
   "execution_count": 64,
   "metadata": {
    "id": "8WOxSO4d5M1H"
   },
   "outputs": [],
   "source": [
    "# set up scorer using Matthews Correlation Coefficient\n",
    "mcc = make_scorer(matthews_corrcoef)"
   ]
  },
  {
   "cell_type": "markdown",
   "metadata": {
    "id": "1w5G8-cQ33Ay"
   },
   "source": [
    "### Logistic Regression"
   ]
  },
  {
   "cell_type": "code",
   "execution_count": 65,
   "metadata": {
    "id": "lYQWZPzi33Ay"
   },
   "outputs": [],
   "source": [
    "# Create classifier\n",
    "logit = LogisticRegression(class_weight='balanced',\n",
    "                           random_state=42, max_iter=500)\n",
    "\n",
    "# Get a baseline model\n",
    "baseline = logit.fit(X_train, y_train)\n",
    "\n",
    "# Create range of candidate penalty hyperparameter values\n",
    "parameter_space = {\n",
    "    'penalty': ['l2', 'l1'],# 'none', 'elasticnet'],\n",
    "    'tol': [1e-7, 1e-5], #, 1e-3\n",
    "    'C': [0.1, 1], #, 10\n",
    "    'solver': ['liblinear', 'lbfgs', 'sag', 'saga']#,'newton-cg']\n",
    "}\n",
    "\n",
    "# Set up grid search\n",
    "grid = GridSearchCV(logit, parameter_space, scoring=mcc, cv=5)"
   ]
  },
  {
   "cell_type": "code",
   "execution_count": 1,
   "metadata": {
    "colab": {
     "base_uri": "https://localhost:8080/"
    },
    "id": "_qu_ogeI33Az",
    "outputId": "27a67994-51e5-4ed8-bf44-fc03db9ea439"
   },
   "outputs": [],
   "source": [
    "# %%time\n",
    "# # Fit models\n",
    "# grid_result = grid.fit(X_train, y_train)"
   ]
  },
  {
   "cell_type": "code",
   "execution_count": 67,
   "metadata": {
    "colab": {
     "base_uri": "https://localhost:8080/"
    },
    "id": "BDQ3RUpj33Az",
    "outputId": "8ef2459f-b632-4236-b5e0-08afcff5452b"
   },
   "outputs": [
    {
     "name": "stdout",
     "output_type": "stream",
     "text": [
      "Best parameters found:\n",
      " {'C': 0.1, 'penalty': 'l2', 'solver': 'lbfgs', 'tol': 1e-07} \n",
      "\n",
      "Baseline Accuracy:\t74.03\n",
      "Tuned Accuracy:\t\t16.54\n"
     ]
    }
   ],
   "source": [
    "# Show best parameters\n",
    "print('Best parameters found:\\n', grid_result.best_params_, '\\n')\n",
    "# Get accuracy scores\n",
    "baseScore = round(baseline.score(X_test, y_test)*100, 2)\n",
    "score = round(grid_result.score(X_test, y_test)*100, 2)\n",
    "print(f\"Baseline Accuracy:\\t{baseScore}\")\n",
    "print(f\"Tuned Accuracy:\\t\\t{score}\")"
   ]
  },
  {
   "cell_type": "markdown",
   "metadata": {
    "id": "4QHQf9mth_AW"
   },
   "source": [
    "Evaluate tuned parameters"
   ]
  },
  {
   "cell_type": "code",
   "execution_count": 68,
   "metadata": {
    "colab": {
     "base_uri": "https://localhost:8080/",
     "height": 453
    },
    "id": "UpJx63UJ5155",
    "outputId": "4b03fd0e-a857-4b7f-89aa-dc79a60c33c1"
   },
   "outputs": [
    {
     "name": "stdout",
     "output_type": "stream",
     "text": [
      "[[10387  3674]\n",
      " [   48   210]]\n"
     ]
    },
    {
     "data": {
      "image/png": "[encoded data removed]",
      "text/plain": [
       "<Figure size 432x288 with 2 Axes>"
      ]
     },
     "metadata": {
      "needs_background": "light"
     },
     "output_type": "display_data"
    },
    {
     "name": "stdout",
     "output_type": "stream",
     "text": [
      "Accuracy:  74.01\n",
      "F1-Score:  0.1014\n",
      "Precision: 0.0541\n",
      "Recall:    0.814\n",
      "MCC:       0.1653\n",
      "AUC:       0.7763\n",
      "CPU times: user 498 ms, sys: 168 ms, total: 666 ms\n",
      "Wall time: 498 ms\n"
     ]
    }
   ],
   "source": [
    "%%time\n",
    "# Create logistic regression\n",
    "logit = LogisticRegression(class_weight='balanced',\n",
    "                           C=0.1, penalty='l2', solver='liblinear', tol=1e-7,\n",
    "                           random_state=42, max_iter=500)\n",
    "# Train model\n",
    "logit.fit(X_train, y_train)\n",
    "\n",
    "# Evaluate model\n",
    "get_model_metrics('LogReg', logit)"
   ]
  },
  {
   "cell_type": "markdown",
   "metadata": {
    "id": "7rjOvvMi67tM"
   },
   "source": [
    "### Linear SVC"
   ]
  },
  {
   "cell_type": "code",
   "execution_count": 69,
   "metadata": {
    "colab": {
     "base_uri": "https://localhost:8080/"
    },
    "id": "XFUZyxyn7A-i",
    "outputId": "20cda2fa-5bf5-4d2b-e85c-0062db36ad21"
   },
   "outputs": [
    {
     "name": "stderr",
     "output_type": "stream",
     "text": [
      "/usr/local/lib/python3.7/dist-packages/sklearn/svm/_base.py:1208: ConvergenceWarning: Liblinear failed to converge, increase the number of iterations.\n",
      "  ConvergenceWarning,\n"
     ]
    }
   ],
   "source": [
    "# Create classifier\n",
    "linSVC = LinearSVC(class_weight='balanced',\n",
    "                   max_iter=2000,\n",
    "                   random_state=42)\n",
    "\n",
    "# Get a baseline model\n",
    "baseline = linSVC.fit(X_train, y_train)\n",
    "\n",
    "# Create range of candidate penalty hyperparameter values\n",
    "parameter_space = {\n",
    "    'penalty': ['l2', 'l1'],\n",
    "    'loss': ['squared_hinge'], #'hinge', \n",
    "    'dual': [True, False],\n",
    "    'tol': [1e-8, 1e-6, 1e-4],\n",
    "    'C': [1, 10, 100] # 0.1, \n",
    "}\n",
    "# Set up grid search\n",
    "grid = GridSearchCV(linSVC, parameter_space, scoring=mcc, cv=5)"
   ]
  },
  {
   "cell_type": "code",
   "execution_count": 2,
   "metadata": {
    "colab": {
     "base_uri": "https://localhost:8080/"
    },
    "id": "Yi61aXJG7A-j",
    "outputId": "f7278e8d-21df-4bcf-d9ae-2787303b1ac7"
   },
   "outputs": [],
   "source": [
    "# %%time\n",
    "# # Fit models\n",
    "# grid_result = grid.fit(X_train, y_train)"
   ]
  },
  {
   "cell_type": "code",
   "execution_count": 71,
   "metadata": {
    "colab": {
     "base_uri": "https://localhost:8080/"
    },
    "id": "L29HiUB97A-j",
    "outputId": "6e604e46-6aac-4979-dd79-e2b3cb3a5cb0"
   },
   "outputs": [
    {
     "name": "stdout",
     "output_type": "stream",
     "text": [
      "Best parameters found:\n",
      " {'C': 10, 'dual': False, 'loss': 'squared_hinge', 'penalty': 'l2', 'tol': 1e-08} \n",
      "\n",
      "Baseline Accuracy:\t73.55\n",
      "Tuned Accuracy:\t\t16.36\n"
     ]
    }
   ],
   "source": [
    "# Show best parameters\n",
    "print('Best parameters found:\\n', grid_result.best_params_, '\\n')\n",
    "# Get accuracy scores\n",
    "baseScore = round(baseline.score(X_test, y_test)*100, 2)\n",
    "score = round(grid_result.score(X_test, y_test)*100, 2)\n",
    "print(f\"Baseline Accuracy:\\t{baseScore}\")\n",
    "print(f\"Tuned Accuracy:\\t\\t{score}\")"
   ]
  },
  {
   "cell_type": "markdown",
   "metadata": {
    "id": "ZAeJiKskh5PX"
   },
   "source": [
    "Evaluate tuned parameters"
   ]
  },
  {
   "cell_type": "code",
   "execution_count": 72,
   "metadata": {
    "colab": {
     "base_uri": "https://localhost:8080/",
     "height": 453
    },
    "id": "VQWzvYB967tN",
    "outputId": "db3b5748-bcbf-4dcd-dde6-4415e0245004"
   },
   "outputs": [
    {
     "name": "stdout",
     "output_type": "stream",
     "text": [
      "[[10269  3792]\n",
      " [   46   212]]\n"
     ]
    },
    {
     "data": {
      "image/png": "[encoded data removed]",
      "text/plain": [
       "<Figure size 432x288 with 2 Axes>"
      ]
     },
     "metadata": {
      "needs_background": "light"
     },
     "output_type": "display_data"
    },
    {
     "name": "stdout",
     "output_type": "stream",
     "text": [
      "Accuracy:  73.2\n",
      "F1-Score:  0.0995\n",
      "Precision: 0.0529\n",
      "Recall:    0.8217\n",
      "MCC:       0.1636\n",
      "AUC:       0.776\n",
      "CPU times: user 544 ms, sys: 165 ms, total: 710 ms\n",
      "Wall time: 533 ms\n"
     ]
    }
   ],
   "source": [
    "%%time\n",
    "# Create classification model\n",
    "linSVC = LinearSVC(class_weight='balanced',\n",
    "                   C=10, dual=False, loss='squared_hinge', \n",
    "                   penalty='l2', tol=1e-8)\n",
    "\n",
    "# Fit model\n",
    "linSVC.fit(X_train, y_train)\n",
    "\n",
    "# Evaluate model\n",
    "get_model_metrics('LinSVC', linSVC)"
   ]
  },
  {
   "cell_type": "code",
   "execution_count": 72,
   "metadata": {
    "id": "qWjhio8t9NKN"
   },
   "outputs": [],
   "source": []
  },
  {
   "cell_type": "markdown",
   "metadata": {
    "id": "Pz8_C0xT9NtZ"
   },
   "source": [
    "### Support Vector Classifier (SVC)"
   ]
  },
  {
   "cell_type": "code",
   "execution_count": 73,
   "metadata": {
    "id": "crjZ_Ybz9j-e"
   },
   "outputs": [],
   "source": [
    "# Create classifier\n",
    "svc = SVC(class_weight='balanced',\n",
    "          random_state=42)\n",
    "\n",
    "# Get a baseline model\n",
    "baseline = svc.fit(X_train, y_train)\n",
    "\n",
    "# Create range of candidate penalty hyperparameter values\n",
    "parameter_space = {\n",
    "    'kernel': ['linear'],# 'poly', 'rbf', 'sigmoid'], # follow up w/other params\n",
    "    'C': [10, 100], #0.1, 1, \n",
    "    # 'gamma': ['scale', 'auto'],\n",
    "    # 'shrinking': [True, False],\n",
    "    # 'probability': [True, False],\n",
    "    'tol': [1e-3, 1e-2] # 1e-4, 0.1\n",
    "}\n",
    "# Set up grid search\n",
    "grid = GridSearchCV(svc, parameter_space, scoring=mcc, cv=5)\n",
    "# grid = RandomizedSearchCV(svc, parameter_space, scoring=mcc, \n",
    "#                           cv=5, n_iter=30, random_state=42)"
   ]
  },
  {
   "cell_type": "code",
   "execution_count": 74,
   "metadata": {
    "colab": {
     "base_uri": "https://localhost:8080/"
    },
    "id": "pRjUUaT-9j-e",
    "outputId": "90170873-3c31-438d-de75-c8175faa3c43"
   },
   "outputs": [
    {
     "name": "stdout",
     "output_type": "stream",
     "text": [
      "CPU times: user 19min 53s, sys: 2.65 s, total: 19min 55s\n",
      "Wall time: 19min 48s\n"
     ]
    }
   ],
   "source": [
    "%%time\n",
    "# Fit models\n",
    "grid_result = grid.fit(X_train, y_train)"
   ]
  },
  {
   "cell_type": "code",
   "execution_count": 75,
   "metadata": {
    "colab": {
     "base_uri": "https://localhost:8080/"
    },
    "id": "cTxdss-I9j-e",
    "outputId": "8b9b9c3d-8312-4033-dfc6-1923419608dc"
   },
   "outputs": [
    {
     "name": "stdout",
     "output_type": "stream",
     "text": [
      "Best parameters found:\n",
      " {'C': 100, 'kernel': 'linear', 'tol': 0.01} \n",
      "\n",
      "Baseline Accuracy:\t75.75\n",
      "Tuned Accuracy:\t\t16.17\n"
     ]
    }
   ],
   "source": [
    "# Show best parameters\n",
    "print('Best parameters found:\\n', grid_result.best_params_, '\\n')\n",
    "# Get accuracy scores\n",
    "baseScore = round(baseline.score(X_test, y_test)*100, 2)\n",
    "score = round(grid_result.score(X_test, y_test)*100, 2)\n",
    "print(f\"Baseline Accuracy:\\t{baseScore}\")\n",
    "print(f\"Tuned Accuracy:\\t\\t{score}\")"
   ]
  },
  {
   "cell_type": "markdown",
   "metadata": {
    "id": "pZyy6PEHiFrO"
   },
   "source": [
    "Evaluate tuned parameters"
   ]
  },
  {
   "cell_type": "code",
   "execution_count": 76,
   "metadata": {
    "colab": {
     "base_uri": "https://localhost:8080/",
     "height": 453
    },
    "id": "39iuCKzD9Nta",
    "outputId": "715bfc86-1284-4d73-a2d3-1e9c10319fe1"
   },
   "outputs": [
    {
     "name": "stdout",
     "output_type": "stream",
     "text": [
      "[[10213  3848]\n",
      " [   46   212]]\n"
     ]
    },
    {
     "data": {
      "image/png": "[encoded data removed]",
      "text/plain": [
       "<Figure size 432x288 with 2 Axes>"
      ]
     },
     "metadata": {
      "needs_background": "light"
     },
     "output_type": "display_data"
    },
    {
     "name": "stdout",
     "output_type": "stream",
     "text": [
      "Accuracy:  72.81\n",
      "F1-Score:  0.0982\n",
      "Precision: 0.0522\n",
      "Recall:    0.8217\n",
      "MCC:       0.1617\n",
      "AUC:       0.774\n",
      "CPU times: user 1min 58s, sys: 183 ms, total: 1min 58s\n",
      "Wall time: 1min 58s\n"
     ]
    }
   ],
   "source": [
    "%%time\n",
    "# Load libraries\n",
    "from sklearn.svm import SVC\n",
    "\n",
    "# Create classification model\n",
    "svc = SVC(class_weight='balanced',\n",
    "          kernel='linear', C=100, tol=0.01,\n",
    "          random_state=42)\n",
    "\n",
    "# Fit model\n",
    "svc.fit(X_train, y_train)\n",
    "\n",
    "# Evaluate model\n",
    "get_model_metrics('SVC', svc)"
   ]
  },
  {
   "cell_type": "code",
   "execution_count": 76,
   "metadata": {
    "id": "Z8KaWGwJTNDd"
   },
   "outputs": [],
   "source": []
  },
  {
   "cell_type": "markdown",
   "metadata": {
    "id": "6RhRlsHvO0Hv"
   },
   "source": [
    "### Stochastic Gradient Descent"
   ]
  },
  {
   "cell_type": "code",
   "execution_count": 77,
   "metadata": {
    "id": "HTffvotNPH3P"
   },
   "outputs": [],
   "source": [
    "# Create classifier\n",
    "sgd = SGDClassifier(class_weight='balanced',\n",
    "                    max_iter=2000,\n",
    "                    early_stopping=True,\n",
    "                    random_state=42)\n",
    "\n",
    "# Get a baseline model\n",
    "baseline = sgd.fit(X_train, y_train)\n",
    "\n",
    "# Create range of candidate penalty hyperparameter values\n",
    "parameter_space = {\n",
    "    'loss': ['hinge', 'log_loss', 'log', 'modified_huber', 'squared_hinge',\n",
    "             'perceptron', 'squared_error', 'huber', 'epsilon_insensitive',\n",
    "             'squared_epsilon_insensitive'],\n",
    "    'penalty': ['l2', 'l1'],\n",
    "    'alpha': [1e-5, 1e-4, 1e-3],\n",
    "    'tol': [1e-9, 1e-8, 1e-7],#, 1e-3, 1e-6\n",
    "    'epsilon': [0.0001, 0.001, 0.01],# , 1, 0.1\n",
    "    'learning_rate': ['constant', 'optimal', 'invscaling', 'adaptive']\n",
    "}\n",
    "# Set up grid search\n",
    "grid = GridSearchCV(sgd, parameter_space, scoring=mcc, cv=5)"
   ]
  },
  {
   "cell_type": "code",
   "execution_count": 3,
   "metadata": {
    "colab": {
     "base_uri": "https://localhost:8080/"
    },
    "id": "WbCAKSMAPH3P",
    "outputId": "6b7133c7-ed57-407e-c481-54d348d3ab3b"
   },
   "outputs": [],
   "source": [
    "# %%time\n",
    "# # Fit models\n",
    "# grid_result = grid.fit(X_train, y_train)"
   ]
  },
  {
   "cell_type": "code",
   "execution_count": 79,
   "metadata": {
    "colab": {
     "base_uri": "https://localhost:8080/"
    },
    "id": "0i3O43lRPH3Q",
    "outputId": "e6f12a55-6eaa-4456-cb2c-46a7b99de5f0"
   },
   "outputs": [
    {
     "name": "stdout",
     "output_type": "stream",
     "text": [
      "Best parameters found:\n",
      " {'alpha': 0.0001, 'epsilon': 0.01, 'learning_rate': 'optimal', 'loss': 'huber', 'penalty': 'l2', 'tol': 1e-09} \n",
      "\n",
      "Baseline Accuracy:\t80.45\n",
      "Tuned Accuracy:\t\t15.3\n"
     ]
    }
   ],
   "source": [
    "# Show best parameters\n",
    "print('Best parameters found:\\n', grid_result.best_params_, '\\n')\n",
    "# Get accuracy scores\n",
    "baseScore = round(baseline.score(X_test, y_test)*100, 2)\n",
    "score = round(grid_result.score(X_test, y_test)*100, 2)\n",
    "print(f\"Baseline Accuracy:\\t{baseScore}\")\n",
    "print(f\"Tuned Accuracy:\\t\\t{score}\")"
   ]
  },
  {
   "cell_type": "markdown",
   "metadata": {
    "id": "5IZoFlExil1K"
   },
   "source": [
    "Evaluate tuned parameters"
   ]
  },
  {
   "cell_type": "code",
   "execution_count": 80,
   "metadata": {
    "colab": {
     "base_uri": "https://localhost:8080/",
     "height": 453
    },
    "id": "l5qB4wKlO0Hw",
    "outputId": "96a03c34-b356-499a-c5b2-cd745d9ec603"
   },
   "outputs": [
    {
     "name": "stdout",
     "output_type": "stream",
     "text": [
      "[[9527 4534]\n",
      " [  35  223]]\n"
     ]
    },
    {
     "data": {
      "image/png": "[encoded data removed]",
      "text/plain": [
       "<Figure size 432x288 with 2 Axes>"
      ]
     },
     "metadata": {
      "needs_background": "light"
     },
     "output_type": "display_data"
    },
    {
     "name": "stdout",
     "output_type": "stream",
     "text": [
      "Accuracy:  68.09\n",
      "F1-Score:  0.0889\n",
      "Precision: 0.0469\n",
      "Recall:    0.8643\n",
      "MCC:       0.153\n",
      "AUC:       0.7709\n",
      "CPU times: user 403 ms, sys: 200 ms, total: 603 ms\n",
      "Wall time: 407 ms\n"
     ]
    }
   ],
   "source": [
    "%%time\n",
    "# Load libraries\n",
    "from sklearn.linear_model import SGDClassifier\n",
    "\n",
    "# Create classification model\n",
    "sgd = SGDClassifier(class_weight='balanced',\n",
    "                    alpha=0.0001, epsilon=0.01, learning_rate='optimal',\n",
    "                    loss='huber', penalty='l2', tol=1e-9,\n",
    "                    max_iter=2000,\n",
    "                    early_stopping=True,\n",
    "                    random_state=42)\n",
    "\n",
    "# Fit model\n",
    "sgd.fit(X_train, y_train)\n",
    "\n",
    "# Evaluate model\n",
    "get_model_metrics('SGD', sgd)"
   ]
  },
  {
   "cell_type": "code",
   "execution_count": 80,
   "metadata": {
    "id": "X9KoR0hzPSgG"
   },
   "outputs": [],
   "source": []
  },
  {
   "cell_type": "code",
   "execution_count": 80,
   "metadata": {
    "id": "OiyNw4_qil_2"
   },
   "outputs": [],
   "source": []
  },
  {
   "cell_type": "markdown",
   "metadata": {
    "id": "VAKWy99NTZMP"
   },
   "source": [
    "## Hyperparameter Tuning using multiple metrics"
   ]
  },
  {
   "cell_type": "code",
   "execution_count": 81,
   "metadata": {
    "id": "FrOjjEDjTjnf"
   },
   "outputs": [],
   "source": [
    "# Set up metrics to use for scoring\n",
    "mcc = make_scorer(matthews_corrcoef)\n",
    "scoring = {'MCC': mcc, 'Recall': 'recall', 'AUC': 'roc_auc'}"
   ]
  },
  {
   "cell_type": "markdown",
   "metadata": {
    "id": "ia3egba_Uxzd"
   },
   "source": [
    "### Logistic Regression"
   ]
  },
  {
   "cell_type": "code",
   "execution_count": 82,
   "metadata": {
    "id": "tGDF0F-YThyI"
   },
   "outputs": [],
   "source": [
    "# Create classifier\n",
    "logit = LogisticRegression(class_weight='balanced',\n",
    "                           random_state=42, max_iter=500)\n",
    "\n",
    "# Get a baseline model\n",
    "baseline = logit.fit(X_train, y_train)\n",
    "\n",
    "# Create range of candidate penalty hyperparameter values\n",
    "parameter_space = {\n",
    "    'penalty': ['l2', 'l1'], #'none', \n",
    "    'tol': [1e-7, 1e-5], #, 1e-3\n",
    "    'C': [0.1, 1], #, 10\n",
    "    'solver': ['liblinear', 'lbfgs', 'sag', 'saga']\n",
    "}\n",
    "# Set up grid search\n",
    "grid = GridSearchCV(logit, parameter_space, scoring=scoring, cv=5,\n",
    "                    refit='MCC', return_train_score=True)"
   ]
  },
  {
   "cell_type": "code",
   "execution_count": 4,
   "metadata": {
    "colab": {
     "base_uri": "https://localhost:8080/"
    },
    "id": "LTIUE2zZThyJ",
    "outputId": "57c948e4-6594-4725-ce3e-57cb567b05b8"
   },
   "outputs": [],
   "source": [
    "# %%time\n",
    "# # Fit models\n",
    "# grid_result = grid.fit(X_train, y_train)"
   ]
  },
  {
   "cell_type": "code",
   "execution_count": 84,
   "metadata": {
    "colab": {
     "base_uri": "https://localhost:8080/"
    },
    "id": "cZpina01ThyJ",
    "outputId": "c65b46bf-6873-4fc9-9c3c-d4e5a6cca8cc"
   },
   "outputs": [
    {
     "name": "stdout",
     "output_type": "stream",
     "text": [
      "Best parameters found:\n",
      " {'C': 0.1, 'penalty': 'l2', 'solver': 'lbfgs', 'tol': 1e-07} \n",
      "\n",
      "Baseline Accuracy:\t74.03\n",
      "Tuned Accuracy:\t\t16.54\n"
     ]
    }
   ],
   "source": [
    "# Show best parameters\n",
    "print('Best parameters found:\\n', grid_result.best_params_, '\\n')\n",
    "# Get accuracy scores\n",
    "baseScore = round(baseline.score(X_test, y_test)*100, 2)\n",
    "score = round(grid_result.score(X_test, y_test)*100, 2)\n",
    "print(f\"Baseline Accuracy:\\t{baseScore}\")\n",
    "print(f\"Tuned Accuracy:\\t\\t{score}\")"
   ]
  },
  {
   "cell_type": "markdown",
   "metadata": {
    "id": "5jUtA5PtjCWf"
   },
   "source": [
    "Evaluate tuned parameters"
   ]
  },
  {
   "cell_type": "code",
   "execution_count": 85,
   "metadata": {
    "colab": {
     "base_uri": "https://localhost:8080/",
     "height": 453
    },
    "id": "O8URVbnhm1sA",
    "outputId": "73821215-c6e8-4331-e1d1-03ad4de51248"
   },
   "outputs": [
    {
     "name": "stdout",
     "output_type": "stream",
     "text": [
      "[[10387  3674]\n",
      " [   48   210]]\n"
     ]
    },
    {
     "data": {
      "image/png": "[encoded data removed]",
      "text/plain": [
       "<Figure size 432x288 with 2 Axes>"
      ]
     },
     "metadata": {
      "needs_background": "light"
     },
     "output_type": "display_data"
    },
    {
     "name": "stdout",
     "output_type": "stream",
     "text": [
      "Accuracy:  74.01\n",
      "F1-Score:  0.1014\n",
      "Precision: 0.0541\n",
      "Recall:    0.814\n",
      "MCC:       0.1653\n",
      "AUC:       0.7763\n",
      "CPU times: user 496 ms, sys: 166 ms, total: 662 ms\n",
      "Wall time: 482 ms\n"
     ]
    }
   ],
   "source": [
    "%%time\n",
    "# Create logistic regression\n",
    "logit = LogisticRegression(class_weight='balanced',\n",
    "                           penalty='l2', solver='liblinear', \n",
    "                           tol=1e-7, C=0.1,\n",
    "                           random_state=42, max_iter=500)\n",
    "# Train model\n",
    "logit.fit(X_train, y_train)\n",
    "\n",
    "# Evaluate model\n",
    "get_model_metrics('LogReg', logit)"
   ]
  },
  {
   "cell_type": "code",
   "execution_count": 85,
   "metadata": {
    "id": "59GXtTtam1sB"
   },
   "outputs": [],
   "source": []
  },
  {
   "cell_type": "markdown",
   "metadata": {
    "id": "cQ_P6qvCU4mY"
   },
   "source": [
    "### Linear SVC"
   ]
  },
  {
   "cell_type": "code",
   "execution_count": 86,
   "metadata": {
    "colab": {
     "base_uri": "https://localhost:8080/"
    },
    "id": "cgtXS7mbU4mZ",
    "outputId": "19203916-76e1-4cf4-caa4-1c160b53bdf1"
   },
   "outputs": [
    {
     "name": "stderr",
     "output_type": "stream",
     "text": [
      "/usr/local/lib/python3.7/dist-packages/sklearn/svm/_base.py:1208: ConvergenceWarning: Liblinear failed to converge, increase the number of iterations.\n",
      "  ConvergenceWarning,\n"
     ]
    }
   ],
   "source": [
    "# Create classifier\n",
    "linSVC = LinearSVC(class_weight='balanced',\n",
    "                   max_iter=2000,\n",
    "                   random_state=42)\n",
    "\n",
    "# Get a baseline model\n",
    "baseline = linSVC.fit(X_train, y_train)\n",
    "\n",
    "# Create range of candidate penalty hyperparameter values\n",
    "parameter_space = {\n",
    "    'penalty': ['l2', 'l1'],\n",
    "    'loss': ['squared_hinge'], #'hinge', \n",
    "    'dual': [True, False],\n",
    "    'tol': [1e-8, 1e-6, 1e-4],\n",
    "    'C': [1, 10, 100]\n",
    "}\n",
    "# Evaluate tuned parameters\n",
    "grid = GridSearchCV(linSVC, parameter_space, scoring=scoring, cv=5,\n",
    "                    refit='MCC', return_train_score=True)"
   ]
  },
  {
   "cell_type": "code",
   "execution_count": 5,
   "metadata": {
    "colab": {
     "base_uri": "https://localhost:8080/"
    },
    "id": "DbZ_pVj8U4ma",
    "outputId": "a1f58cd4-bef5-4337-c2f0-78e224c1fb7a"
   },
   "outputs": [],
   "source": [
    "# %%time\n",
    "# # Fit models\n",
    "# grid_result = grid.fit(X_train, y_train)"
   ]
  },
  {
   "cell_type": "code",
   "execution_count": 88,
   "metadata": {
    "colab": {
     "base_uri": "https://localhost:8080/"
    },
    "id": "YMMnXSwgU4ma",
    "outputId": "85af6a6a-5fab-48c8-d483-e9d30663c63d"
   },
   "outputs": [
    {
     "name": "stdout",
     "output_type": "stream",
     "text": [
      "Best parameters found:\n",
      " {'C': 10, 'dual': False, 'loss': 'squared_hinge', 'penalty': 'l2', 'tol': 1e-08} \n",
      "\n",
      "Baseline Accuracy:\t73.55\n",
      "Tuned Accuracy:\t\t16.36\n"
     ]
    }
   ],
   "source": [
    "# Show best parameters\n",
    "print('Best parameters found:\\n', grid_result.best_params_, '\\n')\n",
    "# Get accuracy scores\n",
    "baseScore = round(baseline.score(X_test, y_test)*100, 2)\n",
    "score = round(grid_result.score(X_test, y_test)*100, 2)\n",
    "print(f\"Baseline Accuracy:\\t{baseScore}\")\n",
    "print(f\"Tuned Accuracy:\\t\\t{score}\")"
   ]
  },
  {
   "cell_type": "markdown",
   "metadata": {
    "id": "eUh5RhvIj8cJ"
   },
   "source": [
    "Evaluate tuned parameters"
   ]
  },
  {
   "cell_type": "code",
   "execution_count": 89,
   "metadata": {
    "colab": {
     "base_uri": "https://localhost:8080/",
     "height": 453
    },
    "id": "i37Qroitezq8",
    "outputId": "7ed0efdb-fe9c-4905-d727-e4257c68fce0"
   },
   "outputs": [
    {
     "name": "stdout",
     "output_type": "stream",
     "text": [
      "[[10269  3792]\n",
      " [   46   212]]\n"
     ]
    },
    {
     "data": {
      "image/png": "[encoded data removed]",
      "text/plain": [
       "<Figure size 432x288 with 2 Axes>"
      ]
     },
     "metadata": {
      "needs_background": "light"
     },
     "output_type": "display_data"
    },
    {
     "name": "stdout",
     "output_type": "stream",
     "text": [
      "Accuracy:  73.2\n",
      "F1-Score:  0.0995\n",
      "Precision: 0.0529\n",
      "Recall:    0.8217\n",
      "MCC:       0.1636\n",
      "AUC:       0.776\n",
      "CPU times: user 553 ms, sys: 164 ms, total: 717 ms\n",
      "Wall time: 538 ms\n"
     ]
    }
   ],
   "source": [
    "%%time\n",
    "# Create classification model\n",
    "linSVC = LinearSVC(class_weight='balanced',\n",
    "                   max_iter=2500, random_state=42,\n",
    "                   C=10, dual=False, loss='squared_hinge', \n",
    "                   penalty='l2', tol=1e-7)\n",
    "\n",
    "# Fit model\n",
    "linSVC.fit(X_train, y_train)\n",
    "\n",
    "# Evaluate model\n",
    "get_model_metrics('LinSVC', linSVC)"
   ]
  },
  {
   "cell_type": "code",
   "execution_count": 89,
   "metadata": {
    "id": "J8Rrlmufezq8"
   },
   "outputs": [],
   "source": []
  },
  {
   "cell_type": "markdown",
   "metadata": {
    "id": "XVVZvRCOfd18"
   },
   "source": [
    "### Support Vector Classifier (SVC)"
   ]
  },
  {
   "cell_type": "code",
   "execution_count": 90,
   "metadata": {
    "id": "pEJ4DudNfd18"
   },
   "outputs": [],
   "source": [
    "# Create classifier\n",
    "svc = SVC(class_weight='balanced',\n",
    "          random_state=42)\n",
    "\n",
    "# Get a baseline model\n",
    "baseline = svc.fit(X_train, y_train)\n",
    "\n",
    "# Create range of candidate penalty hyperparameter values\n",
    "parameter_space = {\n",
    "    'kernel': ['linear'],# 'poly', 'rbf', 'sigmoid'] # follow up w/other params\n",
    "    'C': [10, 100], #0.1, 1, 1000\n",
    "    # 'gamma': ['scale', 'auto'],\n",
    "    # 'shrinking': [True, False],\n",
    "    # 'probability': [True, False],\n",
    "    'tol': [1e-3, 1e-2]#, 1e-4, 0.1]\n",
    "}\n",
    "# Set up grid search\n",
    "grid = GridSearchCV(svc, parameter_space, scoring=scoring, cv=5,\n",
    "                    refit='MCC', return_train_score=True)\n",
    "# grid = RandomizedSearchCV(svc, parameter_space, scoring=scoring, cv=5, \n",
    "#                           refit='MCC', return_train_score=True,\n",
    "#                           n_iter=30, random_state=42)"
   ]
  },
  {
   "cell_type": "code",
   "execution_count": 91,
   "metadata": {
    "colab": {
     "base_uri": "https://localhost:8080/"
    },
    "id": "NyORJ6stfd19",
    "outputId": "d595e425-935e-42a2-f185-53572700690b"
   },
   "outputs": [
    {
     "name": "stdout",
     "output_type": "stream",
     "text": [
      "CPU times: user 24min 17s, sys: 2.59 s, total: 24min 20s\n",
      "Wall time: 24min 12s\n"
     ]
    }
   ],
   "source": [
    "%%time\n",
    "# Fit models\n",
    "grid_result = grid.fit(X_train, y_train)"
   ]
  },
  {
   "cell_type": "code",
   "execution_count": 92,
   "metadata": {
    "colab": {
     "base_uri": "https://localhost:8080/"
    },
    "id": "pIRZLLywfd19",
    "outputId": "9639b06d-7fad-409e-a544-f9d9c35c1d48"
   },
   "outputs": [
    {
     "name": "stdout",
     "output_type": "stream",
     "text": [
      "Best parameters found:\n",
      " {'C': 100, 'kernel': 'linear', 'tol': 0.01} \n",
      "\n",
      "Baseline Accuracy:\t75.75\n",
      "Tuned Accuracy:\t\t16.17\n"
     ]
    }
   ],
   "source": [
    "# Show best parameters\n",
    "print('Best parameters found:\\n', grid_result.best_params_, '\\n')\n",
    "# Get accuracy scores\n",
    "baseScore = round(baseline.score(X_test, y_test)*100, 2)\n",
    "score = round(grid_result.score(X_test, y_test)*100, 2)\n",
    "print(f\"Baseline Accuracy:\\t{baseScore}\")\n",
    "print(f\"Tuned Accuracy:\\t\\t{score}\")"
   ]
  },
  {
   "cell_type": "markdown",
   "metadata": {
    "id": "OYk7r-nPkK1D"
   },
   "source": [
    "Evaluate tuned parameters"
   ]
  },
  {
   "cell_type": "code",
   "execution_count": 93,
   "metadata": {
    "colab": {
     "base_uri": "https://localhost:8080/",
     "height": 453
    },
    "id": "0YkyBc41fd19",
    "outputId": "905e6c83-de07-4804-c607-8f0003823e7b"
   },
   "outputs": [
    {
     "name": "stdout",
     "output_type": "stream",
     "text": [
      "[[10213  3848]\n",
      " [   46   212]]\n"
     ]
    },
    {
     "data": {
      "image/png": "[encoded data removed]",
      "text/plain": [
       "<Figure size 432x288 with 2 Axes>"
      ]
     },
     "metadata": {
      "needs_background": "light"
     },
     "output_type": "display_data"
    },
    {
     "name": "stdout",
     "output_type": "stream",
     "text": [
      "Accuracy:  72.81\n",
      "F1-Score:  0.0982\n",
      "Precision: 0.0522\n",
      "Recall:    0.8217\n",
      "MCC:       0.1617\n",
      "AUC:       0.774\n",
      "CPU times: user 1min 57s, sys: 183 ms, total: 1min 57s\n",
      "Wall time: 1min 56s\n"
     ]
    }
   ],
   "source": [
    "%%time\n",
    "# Create classification model\n",
    "svc = SVC(class_weight='balanced',\n",
    "          kernel='linear', C=100, tol=0.01,\n",
    "          random_state=42)\n",
    "\n",
    "# Fit model\n",
    "svc.fit(X_train, y_train)\n",
    "\n",
    "# Evaluate model\n",
    "get_model_metrics('SVC', svc)"
   ]
  },
  {
   "cell_type": "code",
   "execution_count": 93,
   "metadata": {
    "id": "k-XevNivfd19"
   },
   "outputs": [],
   "source": []
  },
  {
   "cell_type": "markdown",
   "metadata": {
    "id": "YYeo42oXiK5S"
   },
   "source": [
    "### Stochastic Gradient Descent"
   ]
  },
  {
   "cell_type": "code",
   "execution_count": 94,
   "metadata": {
    "id": "FdoTUZRJiK5T"
   },
   "outputs": [],
   "source": [
    "# Create classifier\n",
    "sgd = SGDClassifier(class_weight='balanced',\n",
    "                    max_iter=5000,\n",
    "                    early_stopping=True,\n",
    "                    random_state=42)\n",
    "\n",
    "# Get a baseline model\n",
    "baseline = sgd.fit(X_train, y_train)\n",
    "\n",
    "# Create range of candidate penalty hyperparameter values\n",
    "parameter_space = {\n",
    "    'loss': ['hinge', 'log_loss', 'log', 'modified_huber', 'squared_hinge',\n",
    "             'perceptron', 'squared_error', 'huber', 'epsilon_insensitive',\n",
    "             'squared_epsilon_insensitive'],\n",
    "    'penalty': ['l2', 'l1'],\n",
    "    'alpha': [1e-5, 1e-4, 1e-3],\n",
    "    'tol': [1e-7, 1e-5, 1e-3],\n",
    "    'epsilon': [0.001, 0.01, 0.1],\n",
    "    'learning_rate': ['constant', 'optimal', 'invscaling', 'adaptive']\n",
    "}\n",
    "# grid = GridSearchCV(sgd, parameter_space, scoring=mcc, cv=5)\n",
    "# grid = RandomizedSearchCV(logit, parameter_space, cv=5, n_iter=30, random_state=42)\n",
    "grid = GridSearchCV(sgd, parameter_space, scoring=scoring, cv=5,\n",
    "                    refit='MCC', return_train_score=True)"
   ]
  },
  {
   "cell_type": "code",
   "execution_count": 6,
   "metadata": {
    "colab": {
     "base_uri": "https://localhost:8080/"
    },
    "id": "6esUSssYiK5T",
    "outputId": "1a50ac69-e35c-4161-d43e-9d02db8fa648"
   },
   "outputs": [],
   "source": [
    "# %%time\n",
    "# # Fit models\n",
    "# grid_result = grid.fit(X_train, y_train)"
   ]
  },
  {
   "cell_type": "code",
   "execution_count": 96,
   "metadata": {
    "colab": {
     "base_uri": "https://localhost:8080/"
    },
    "id": "0YfRch10iK5T",
    "outputId": "02554f2e-0238-4538-d226-0659c3448734"
   },
   "outputs": [
    {
     "name": "stdout",
     "output_type": "stream",
     "text": [
      "Best parameters found:\n",
      " {'alpha': 0.0001, 'epsilon': 0.01, 'learning_rate': 'optimal', 'loss': 'huber', 'penalty': 'l2', 'tol': 1e-07} \n",
      "\n",
      "Baseline Accuracy:\t80.45\n",
      "Tuned Accuracy:\t\t15.3\n"
     ]
    }
   ],
   "source": [
    "# Show best parameters\n",
    "print('Best parameters found:\\n', grid_result.best_params_, '\\n')\n",
    "# Get accuracy scores\n",
    "baseScore = round(baseline.score(X_test, y_test)*100, 2)\n",
    "score = round(grid_result.score(X_test, y_test)*100, 2)\n",
    "print(f\"Baseline Accuracy:\\t{baseScore}\")\n",
    "print(f\"Tuned Accuracy:\\t\\t{score}\")"
   ]
  },
  {
   "cell_type": "markdown",
   "metadata": {
    "id": "_BREf0lrkRG3"
   },
   "source": [
    "Evaluate tuned parameters"
   ]
  },
  {
   "cell_type": "code",
   "execution_count": 97,
   "metadata": {
    "colab": {
     "base_uri": "https://localhost:8080/",
     "height": 453
    },
    "id": "6qapJYbHmuXJ",
    "outputId": "a98cfa82-e7f3-442a-e923-330da445faa5"
   },
   "outputs": [
    {
     "name": "stdout",
     "output_type": "stream",
     "text": [
      "[[9527 4534]\n",
      " [  35  223]]\n"
     ]
    },
    {
     "data": {
      "image/png": "[encoded data removed]",
      "text/plain": [
       "<Figure size 432x288 with 2 Axes>"
      ]
     },
     "metadata": {
      "needs_background": "light"
     },
     "output_type": "display_data"
    },
    {
     "name": "stdout",
     "output_type": "stream",
     "text": [
      "Accuracy:  68.09\n",
      "F1-Score:  0.0889\n",
      "Precision: 0.0469\n",
      "Recall:    0.8643\n",
      "MCC:       0.153\n",
      "AUC:       0.7709\n",
      "CPU times: user 400 ms, sys: 201 ms, total: 601 ms\n",
      "Wall time: 403 ms\n"
     ]
    }
   ],
   "source": [
    "%%time\n",
    "# Load libraries\n",
    "from sklearn.linear_model import SGDClassifier\n",
    "\n",
    "# Create classification model\n",
    "sgd = SGDClassifier(class_weight='balanced',\n",
    "                    alpha=0.0001, epsilon=0.01, learning_rate='optimal',\n",
    "                    loss='huber', penalty='l2', tol=1e-7,\n",
    "                    max_iter=2000,\n",
    "                    early_stopping=True,\n",
    "                    random_state=42)\n",
    "\n",
    "# Fit model\n",
    "sgd.fit(X_train, y_train)\n",
    "\n",
    "# Evaluate model\n",
    "get_model_metrics('SGD', sgd)"
   ]
  },
  {
   "cell_type": "markdown",
   "metadata": {
    "id": "K9-BxChLenOI"
   },
   "source": [
    "## Ensembles"
   ]
  },
  {
   "cell_type": "markdown",
   "metadata": {
    "id": "XvLTwKjPzZj5"
   },
   "source": [
    "### [Voting Classifier](https://scikit-learn.org/stable/modules/ensemble.html#voting-classifier)\n"
   ]
  },
  {
   "cell_type": "code",
   "execution_count": 98,
   "metadata": {
    "id": "EHJEfTHXBupN"
   },
   "outputs": [],
   "source": [
    "from sklearn.ensemble import VotingClassifier\n",
    "# split the full train set into train and validation sets\n",
    "X_train_sub, X_val, y_train_sub, y_val = train_test_split(X_train, y_train, \n",
    "                                                          test_size=0.33, \n",
    "                                                          random_state=42)"
   ]
  },
  {
   "cell_type": "code",
   "execution_count": 99,
   "metadata": {
    "id": "8SttPpQJBupO"
   },
   "outputs": [],
   "source": [
    "# set up a collection of base models to include\n",
    "def get_models():\n",
    "\tmodels = list()\n",
    "\tmodels.append(('LogReg', logit))\n",
    "\tmodels.append(('LinSVC', linSVC))\n",
    "\tmodels.append(('SVC', svc))\n",
    "\tmodels.append(('SGD', sgd)) \n",
    "\t# models.append(('LGBM', lgbm)) \n",
    "\t# models.append(('LDA', lda)) \n",
    "\t# models.append(('GNB', nBayes)) \n",
    "\t# models.append(('DT', decisiontree)) \n",
    "\t# models.append(('KNN', knn)) \n",
    "\t# models.append(('MLP', mlp)) \n",
    "\t# models.append(('XGBC', xgbc)) \n",
    "\t# models.append(('AdaB', adaboost)) \n",
    "\t# models.append(('RF', rfClass)) \n",
    "\t# models.append(('GBC', gbc)) \n",
    " \n",
    "\treturn models"
   ]
  },
  {
   "cell_type": "markdown",
   "metadata": {
    "id": "9_LY2Cz19S0C"
   },
   "source": [
    "#### Voting using AUC metric:"
   ]
  },
  {
   "cell_type": "code",
   "execution_count": 100,
   "metadata": {
    "id": "Lm8Hsk7Gk6o6"
   },
   "outputs": [],
   "source": [
    "# evaluate each base model\n",
    "def evaluate_models(models, X_train, X_val, y_train, y_val):\n",
    "\t# fit and evaluate the models\n",
    "\tscores = list()\n",
    "\tfor name, model in models:\n",
    "\t\t# fit the model\n",
    "\t\tmodel.fit(X_train, y_train)\n",
    "\t\t# evaluate the model\n",
    "\t\tyhat = model.predict(X_val)\n",
    "\t\tauc = roc_auc_score(y_val, yhat, average='weighted')\n",
    "\t\t# store the performance\n",
    "\t\tscores.append(auc)\n",
    "\t\t# report model performance\n",
    "\treturn scores"
   ]
  },
  {
   "cell_type": "code",
   "execution_count": 101,
   "metadata": {
    "colab": {
     "base_uri": "https://localhost:8080/"
    },
    "id": "dAjvAZb4mGIJ",
    "outputId": "37a9ea7e-e590-46ad-fda7-1352beb86b38"
   },
   "outputs": [
    {
     "name": "stdout",
     "output_type": "stream",
     "text": [
      "[0.7770317259780631, 0.7819073560682706, 0.7897198343182219, 0.7731051636076935]\n",
      "Weighted AUC: 77.462\n",
      "CPU times: user 2min 58s, sys: 929 ms, total: 2min 59s\n",
      "Wall time: 2min 57s\n"
     ]
    }
   ],
   "source": [
    "%%time \n",
    "# create the base models\n",
    "models = get_models()\n",
    "# fit and evaluate each model\n",
    "scores = evaluate_models(models, X_train_sub, X_val, y_train_sub, y_val)\n",
    "print(scores)\n",
    "# create the ensemble\n",
    "ensemble = VotingClassifier(estimators=models, voting='hard', weights=scores)\n",
    "# fit the ensemble on the training dataset\n",
    "ensemble.fit(X_train, y_train)\n",
    "# make predictions on test set\n",
    "yhat = ensemble.predict(X_test)\n",
    "# evaluate predictions\n",
    "score = roc_auc_score(y_test, yhat, average='weighted')\n",
    "print('Weighted AUC: %.3f' % (score*100))"
   ]
  },
  {
   "cell_type": "code",
   "execution_count": 102,
   "metadata": {
    "colab": {
     "base_uri": "https://localhost:8080/",
     "height": 516
    },
    "id": "vVdmLLqXnAYp",
    "outputId": "67f1ace2-b78c-451d-80fb-b5a11b82e447"
   },
   "outputs": [
    {
     "name": "stdout",
     "output_type": "stream",
     "text": [
      "[[10230  3831]\n",
      " [   46   212]]\n"
     ]
    },
    {
     "data": {
      "image/png": "[encoded data removed]",
      "text/plain": [
       "<Figure size 432x288 with 2 Axes>"
      ]
     },
     "metadata": {
      "needs_background": "light"
     },
     "output_type": "display_data"
    },
    {
     "name": "stdout",
     "output_type": "stream",
     "text": [
      "Accuracy:  72.92\n",
      "F1-Score:  0.0986\n",
      "Precision: 0.0524\n",
      "Recall:    0.8217\n",
      "MCC:       0.1623\n",
      "AUC:       0.7746\n",
      "CPU times: user 5.71 s, sys: 219 ms, total: 5.93 s\n",
      "Wall time: 5.68 s\n"
     ]
    },
    {
     "data": {
      "text/html": [
       "\n",
       "  <div id=\"df-b814461f-ba6f-4df5-a9fe-dc5a67916742\">\n",
       "    <div class=\"colab-df-container\">\n",
       "      <div>\n",
       "<style scoped>\n",
       "    .dataframe tbody tr th:only-of-type {\n",
       "        vertical-align: middle;\n",
       "    }\n",
       "\n",
       "    .dataframe tbody tr th {\n",
       "        vertical-align: top;\n",
       "    }\n",
       "\n",
       "    .dataframe thead th {\n",
       "        text-align: right;\n",
       "    }\n",
       "</style>\n",
       "<table border=\"1\" class=\"dataframe\">\n",
       "  <thead>\n",
       "    <tr style=\"text-align: right;\">\n",
       "      <th></th>\n",
       "      <th>Model</th>\n",
       "      <th>Accuracy</th>\n",
       "      <th>F1_Score</th>\n",
       "      <th>Precision</th>\n",
       "      <th>Recall</th>\n",
       "      <th>MCC</th>\n",
       "      <th>AUC</th>\n",
       "    </tr>\n",
       "  </thead>\n",
       "  <tbody>\n",
       "    <tr>\n",
       "      <th>0</th>\n",
       "      <td>Ensemble_AUC</td>\n",
       "      <td>72.92</td>\n",
       "      <td>0.0986</td>\n",
       "      <td>0.0524</td>\n",
       "      <td>0.8217</td>\n",
       "      <td>0.1623</td>\n",
       "      <td>0.7746</td>\n",
       "    </tr>\n",
       "  </tbody>\n",
       "</table>\n",
       "</div>\n",
       "      <button class=\"colab-df-convert\" onclick=\"convertToInteractive('df-b814461f-ba6f-4df5-a9fe-dc5a67916742')\"\n",
       "              title=\"Convert this dataframe to an interactive table.\"\n",
       "              style=\"display:none;\">\n",
       "        \n",
       "  <svg xmlns=\"http://www.w3.org/2000/svg\" height=\"24px\"viewBox=\"0 0 24 24\"\n",
       "       width=\"24px\">\n",
       "    <path d=\"M0 0h24v24H0V0z\" fill=\"none\"/>\n",
       "    <path d=\"M18.56 5.44l.94 2.06.94-2.06 2.06-.94-2.06-.94-.94-2.06-.94 2.06-2.06.94zm-11 1L8.5 8.5l.94-2.06 2.06-.94-2.06-.94L8.5 2.5l-.94 2.06-2.06.94zm10 10l.94 2.06.94-2.06 2.06-.94-2.06-.94-.94-2.06-.94 2.06-2.06.94z\"/><path d=\"M17.41 7.96l-1.37-1.37c-.4-.4-.92-.59-1.43-.59-.52 0-1.04.2-1.43.59L10.3 9.45l-7.72 7.72c-.78.78-.78 2.05 0 2.83L4 21.41c.39.39.9.59 1.41.59.51 0 1.02-.2 1.41-.59l7.78-7.78 2.81-2.81c.8-.78.8-2.07 0-2.86zM5.41 20L4 18.59l7.72-7.72 1.47 1.35L5.41 20z\"/>\n",
       "  </svg>\n",
       "      </button>\n",
       "      \n",
       "  <style>\n",
       "    .colab-df-container {\n",
       "      display:flex;\n",
       "      flex-wrap:wrap;\n",
       "      gap: 12px;\n",
       "    }\n",
       "\n",
       "    .colab-df-convert {\n",
       "      background-color: #E8F0FE;\n",
       "      border: none;\n",
       "      border-radius: 50%;\n",
       "      cursor: pointer;\n",
       "      display: none;\n",
       "      fill: #1967D2;\n",
       "      height: 32px;\n",
       "      padding: 0 0 0 0;\n",
       "      width: 32px;\n",
       "    }\n",
       "\n",
       "    .colab-df-convert:hover {\n",
       "      background-color: #E2EBFA;\n",
       "      box-shadow: 0px 1px 2px rgba(60, 64, 67, 0.3), 0px 1px 3px 1px rgba(60, 64, 67, 0.15);\n",
       "      fill: #174EA6;\n",
       "    }\n",
       "\n",
       "    [theme=dark] .colab-df-convert {\n",
       "      background-color: #3B4455;\n",
       "      fill: #D2E3FC;\n",
       "    }\n",
       "\n",
       "    [theme=dark] .colab-df-convert:hover {\n",
       "      background-color: #434B5C;\n",
       "      box-shadow: 0px 1px 3px 1px rgba(0, 0, 0, 0.15);\n",
       "      filter: drop-shadow(0px 1px 2px rgba(0, 0, 0, 0.3));\n",
       "      fill: #FFFFFF;\n",
       "    }\n",
       "  </style>\n",
       "\n",
       "      <script>\n",
       "        const buttonEl =\n",
       "          document.querySelector('#df-b814461f-ba6f-4df5-a9fe-dc5a67916742 button.colab-df-convert');\n",
       "        buttonEl.style.display =\n",
       "          google.colab.kernel.accessAllowed ? 'block' : 'none';\n",
       "\n",
       "        async function convertToInteractive(key) {\n",
       "          const element = document.querySelector('#df-b814461f-ba6f-4df5-a9fe-dc5a67916742');\n",
       "          const dataTable =\n",
       "            await google.colab.kernel.invokeFunction('convertToInteractive',\n",
       "                                                     [key], {});\n",
       "          if (!dataTable) return;\n",
       "\n",
       "          const docLinkHtml = 'Like what you see? Visit the ' +\n",
       "            '<a target=\"_blank\" href=https://colab.research.google.com/notebooks/data_table.ipynb>data table notebook</a>'\n",
       "            + ' to learn more about interactive tables.';\n",
       "          element.innerHTML = '';\n",
       "          dataTable['output_type'] = 'display_data';\n",
       "          await google.colab.output.renderOutput(dataTable, element);\n",
       "          const docLink = document.createElement('div');\n",
       "          docLink.innerHTML = docLinkHtml;\n",
       "          element.appendChild(docLink);\n",
       "        }\n",
       "      </script>\n",
       "    </div>\n",
       "  </div>\n",
       "  "
      ],
      "text/plain": [
       "          Model  Accuracy  F1_Score  Precision  Recall     MCC     AUC\n",
       "0  Ensemble_AUC     72.92    0.0986     0.0524  0.8217  0.1623  0.7746"
      ]
     },
     "execution_count": 102,
     "metadata": {},
     "output_type": "execute_result"
    }
   ],
   "source": [
    "%%time\n",
    "# Evaluate model\n",
    "get_model_metrics('Ensemble_AUC', ensemble)"
   ]
  },
  {
   "cell_type": "markdown",
   "metadata": {
    "id": "-kkytRDl81I-"
   },
   "source": [
    "#### Voting using Recall  metric:"
   ]
  },
  {
   "cell_type": "code",
   "execution_count": 103,
   "metadata": {
    "id": "fafZWAO_80Z7"
   },
   "outputs": [],
   "source": [
    "# evaluate each base model\n",
    "def evaluate_models(models, X_train, X_val, y_train, y_val):\n",
    "\t# fit and evaluate the models\n",
    "\tscores = list()\n",
    "\tfor name, model in models:\n",
    "\t\t# fit the model\n",
    "\t\tmodel.fit(X_train, y_train)\n",
    "\t\t# evaluate the model\n",
    "\t\tyhat = model.predict(X_val)\n",
    "\t\trec = recall_score(y_val, yhat)\n",
    "\t\t# store the performance\n",
    "\t\tscores.append(rec)\n",
    "\t\t# report model performance\n",
    "\treturn scores"
   ]
  },
  {
   "cell_type": "code",
   "execution_count": 104,
   "metadata": {
    "colab": {
     "base_uri": "https://localhost:8080/"
    },
    "id": "Q-6FPcVW80Z8",
    "outputId": "d70d146f-b8c1-4800-8558-87c84d7b7d5e"
   },
   "outputs": [
    {
     "name": "stdout",
     "output_type": "stream",
     "text": [
      "[0.837696335078534, 0.8534031413612565, 0.8743455497382199, 0.7958115183246073]\n",
      "Weighted Recall: 82.171\n",
      "CPU times: user 3min 8s, sys: 1.01 s, total: 3min 9s\n",
      "Wall time: 3min 7s\n"
     ]
    }
   ],
   "source": [
    "%%time \n",
    "# create the base models\n",
    "models = get_models()\n",
    "# fit and evaluate each model\n",
    "scores = evaluate_models(models, X_train_sub, X_val, y_train_sub, y_val)\n",
    "print(scores)\n",
    "# create the ensemble\n",
    "ensemble = VotingClassifier(estimators=models, voting='hard', weights=scores)\n",
    "# fit the ensemble on the training dataset\n",
    "ensemble.fit(X_train, y_train)\n",
    "# make predictions on test set\n",
    "yhat = ensemble.predict(X_test)\n",
    "# evaluate predictions\n",
    "score = recall_score(y_test, yhat)\n",
    "print('Weighted Recall: %.3f' % (score*100))"
   ]
  },
  {
   "cell_type": "code",
   "execution_count": 105,
   "metadata": {
    "colab": {
     "base_uri": "https://localhost:8080/",
     "height": 516
    },
    "id": "pXnEP4q79O3a",
    "outputId": "2079cd91-1dd3-42ee-8d38-33a59e167a25"
   },
   "outputs": [
    {
     "name": "stdout",
     "output_type": "stream",
     "text": [
      "[[10290  3771]\n",
      " [   46   212]]\n"
     ]
    },
    {
     "data": {
      "image/png": "[encoded data removed]",
      "text/plain": [
       "<Figure size 432x288 with 2 Axes>"
      ]
     },
     "metadata": {
      "needs_background": "light"
     },
     "output_type": "display_data"
    },
    {
     "name": "stdout",
     "output_type": "stream",
     "text": [
      "Accuracy:  73.34\n",
      "F1-Score:  0.1\n",
      "Precision: 0.0532\n",
      "Recall:    0.8217\n",
      "MCC:       0.1643\n",
      "AUC:       0.7768\n",
      "CPU times: user 5.71 s, sys: 227 ms, total: 5.93 s\n",
      "Wall time: 5.68 s\n"
     ]
    },
    {
     "data": {
      "text/html": [
       "\n",
       "  <div id=\"df-912595d3-3196-48ab-8755-544ac788a1fa\">\n",
       "    <div class=\"colab-df-container\">\n",
       "      <div>\n",
       "<style scoped>\n",
       "    .dataframe tbody tr th:only-of-type {\n",
       "        vertical-align: middle;\n",
       "    }\n",
       "\n",
       "    .dataframe tbody tr th {\n",
       "        vertical-align: top;\n",
       "    }\n",
       "\n",
       "    .dataframe thead th {\n",
       "        text-align: right;\n",
       "    }\n",
       "</style>\n",
       "<table border=\"1\" class=\"dataframe\">\n",
       "  <thead>\n",
       "    <tr style=\"text-align: right;\">\n",
       "      <th></th>\n",
       "      <th>Model</th>\n",
       "      <th>Accuracy</th>\n",
       "      <th>F1_Score</th>\n",
       "      <th>Precision</th>\n",
       "      <th>Recall</th>\n",
       "      <th>MCC</th>\n",
       "      <th>AUC</th>\n",
       "    </tr>\n",
       "  </thead>\n",
       "  <tbody>\n",
       "    <tr>\n",
       "      <th>0</th>\n",
       "      <td>Ensemble_Recall</td>\n",
       "      <td>73.34</td>\n",
       "      <td>0.1</td>\n",
       "      <td>0.0532</td>\n",
       "      <td>0.8217</td>\n",
       "      <td>0.1643</td>\n",
       "      <td>0.7768</td>\n",
       "    </tr>\n",
       "  </tbody>\n",
       "</table>\n",
       "</div>\n",
       "      <button class=\"colab-df-convert\" onclick=\"convertToInteractive('df-912595d3-3196-48ab-8755-544ac788a1fa')\"\n",
       "              title=\"Convert this dataframe to an interactive table.\"\n",
       "              style=\"display:none;\">\n",
       "        \n",
       "  <svg xmlns=\"http://www.w3.org/2000/svg\" height=\"24px\"viewBox=\"0 0 24 24\"\n",
       "       width=\"24px\">\n",
       "    <path d=\"M0 0h24v24H0V0z\" fill=\"none\"/>\n",
       "    <path d=\"M18.56 5.44l.94 2.06.94-2.06 2.06-.94-2.06-.94-.94-2.06-.94 2.06-2.06.94zm-11 1L8.5 8.5l.94-2.06 2.06-.94-2.06-.94L8.5 2.5l-.94 2.06-2.06.94zm10 10l.94 2.06.94-2.06 2.06-.94-2.06-.94-.94-2.06-.94 2.06-2.06.94z\"/><path d=\"M17.41 7.96l-1.37-1.37c-.4-.4-.92-.59-1.43-.59-.52 0-1.04.2-1.43.59L10.3 9.45l-7.72 7.72c-.78.78-.78 2.05 0 2.83L4 21.41c.39.39.9.59 1.41.59.51 0 1.02-.2 1.41-.59l7.78-7.78 2.81-2.81c.8-.78.8-2.07 0-2.86zM5.41 20L4 18.59l7.72-7.72 1.47 1.35L5.41 20z\"/>\n",
       "  </svg>\n",
       "      </button>\n",
       "      \n",
       "  <style>\n",
       "    .colab-df-container {\n",
       "      display:flex;\n",
       "      flex-wrap:wrap;\n",
       "      gap: 12px;\n",
       "    }\n",
       "\n",
       "    .colab-df-convert {\n",
       "      background-color: #E8F0FE;\n",
       "      border: none;\n",
       "      border-radius: 50%;\n",
       "      cursor: pointer;\n",
       "      display: none;\n",
       "      fill: #1967D2;\n",
       "      height: 32px;\n",
       "      padding: 0 0 0 0;\n",
       "      width: 32px;\n",
       "    }\n",
       "\n",
       "    .colab-df-convert:hover {\n",
       "      background-color: #E2EBFA;\n",
       "      box-shadow: 0px 1px 2px rgba(60, 64, 67, 0.3), 0px 1px 3px 1px rgba(60, 64, 67, 0.15);\n",
       "      fill: #174EA6;\n",
       "    }\n",
       "\n",
       "    [theme=dark] .colab-df-convert {\n",
       "      background-color: #3B4455;\n",
       "      fill: #D2E3FC;\n",
       "    }\n",
       "\n",
       "    [theme=dark] .colab-df-convert:hover {\n",
       "      background-color: #434B5C;\n",
       "      box-shadow: 0px 1px 3px 1px rgba(0, 0, 0, 0.15);\n",
       "      filter: drop-shadow(0px 1px 2px rgba(0, 0, 0, 0.3));\n",
       "      fill: #FFFFFF;\n",
       "    }\n",
       "  </style>\n",
       "\n",
       "      <script>\n",
       "        const buttonEl =\n",
       "          document.querySelector('#df-912595d3-3196-48ab-8755-544ac788a1fa button.colab-df-convert');\n",
       "        buttonEl.style.display =\n",
       "          google.colab.kernel.accessAllowed ? 'block' : 'none';\n",
       "\n",
       "        async function convertToInteractive(key) {\n",
       "          const element = document.querySelector('#df-912595d3-3196-48ab-8755-544ac788a1fa');\n",
       "          const dataTable =\n",
       "            await google.colab.kernel.invokeFunction('convertToInteractive',\n",
       "                                                     [key], {});\n",
       "          if (!dataTable) return;\n",
       "\n",
       "          const docLinkHtml = 'Like what you see? Visit the ' +\n",
       "            '<a target=\"_blank\" href=https://colab.research.google.com/notebooks/data_table.ipynb>data table notebook</a>'\n",
       "            + ' to learn more about interactive tables.';\n",
       "          element.innerHTML = '';\n",
       "          dataTable['output_type'] = 'display_data';\n",
       "          await google.colab.output.renderOutput(dataTable, element);\n",
       "          const docLink = document.createElement('div');\n",
       "          docLink.innerHTML = docLinkHtml;\n",
       "          element.appendChild(docLink);\n",
       "        }\n",
       "      </script>\n",
       "    </div>\n",
       "  </div>\n",
       "  "
      ],
      "text/plain": [
       "             Model  Accuracy  F1_Score  Precision  Recall     MCC     AUC\n",
       "0  Ensemble_Recall     73.34       0.1     0.0532  0.8217  0.1643  0.7768"
      ]
     },
     "execution_count": 105,
     "metadata": {},
     "output_type": "execute_result"
    }
   ],
   "source": [
    "%%time\n",
    "# Evaluate model\n",
    "get_model_metrics('Ensemble_Recall', ensemble)"
   ]
  },
  {
   "cell_type": "markdown",
   "metadata": {
    "id": "-LHfnvya-PMB"
   },
   "source": [
    "#### Voting using Matthews Correlation Coefficient metric:"
   ]
  },
  {
   "cell_type": "code",
   "execution_count": 106,
   "metadata": {
    "id": "PdyLfad8-NuP"
   },
   "outputs": [],
   "source": [
    "# evaluate each base model\n",
    "def evaluate_models(models, X_train, X_val, y_train, y_val):\n",
    "\t# fit and evaluate the models\n",
    "\tscores = list()\n",
    "\tfor name, model in models:\n",
    "\t\t# fit the model\n",
    "\t\tmodel.fit(X_train, y_train)\n",
    "\t\t# evaluate the model\n",
    "\t\tyhat = model.predict(X_val)\n",
    "\t\tmcc = matthews_corrcoef(y_val, yhat)\n",
    "\t\t# store the performance\n",
    "\t\tscores.append(mcc)\n",
    "\t\t# report model performance\n",
    "\treturn scores"
   ]
  },
  {
   "cell_type": "code",
   "execution_count": 107,
   "metadata": {
    "colab": {
     "base_uri": "https://localhost:8080/"
    },
    "id": "6b5QBOET-V1R",
    "outputId": "1245f7a0-ccc6-4670-b82e-66f60004c365"
   },
   "outputs": [
    {
     "name": "stdout",
     "output_type": "stream",
     "text": [
      "[0.16976509962266212, 0.17172819907162, 0.17556707027792468, 0.17384030721868218]\n",
      "Weighted MCC: 16.177\n",
      "CPU times: user 3min 5s, sys: 923 ms, total: 3min 6s\n",
      "Wall time: 3min 8s\n"
     ]
    }
   ],
   "source": [
    "%%time \n",
    "# create the base models\n",
    "models = get_models()\n",
    "# fit and evaluate each model\n",
    "scores = evaluate_models(models, X_train_sub, X_val, y_train_sub, y_val)\n",
    "print(scores)\n",
    "# create the ensemble\n",
    "ensemble = VotingClassifier(estimators=models, voting='hard', weights=scores)\n",
    "# fit the ensemble on the training dataset\n",
    "ensemble.fit(X_train, y_train)\n",
    "# make predictions on test set\n",
    "yhat = ensemble.predict(X_test)\n",
    "# evaluate predictions\n",
    "score = matthews_corrcoef(y_test, yhat)\n",
    "print('Weighted MCC: %.3f' % (score*100))"
   ]
  },
  {
   "cell_type": "code",
   "execution_count": 108,
   "metadata": {
    "colab": {
     "base_uri": "https://localhost:8080/",
     "height": 516
    },
    "id": "_2QYwQJ5-XQ2",
    "outputId": "01ae6c0e-5ef0-4e4c-fdea-a2d2f678a0d4"
   },
   "outputs": [
    {
     "name": "stdout",
     "output_type": "stream",
     "text": [
      "[[10214  3847]\n",
      " [   46   212]]\n"
     ]
    },
    {
     "data": {
      "image/png": "[encoded data removed]",
      "text/plain": [
       "<Figure size 432x288 with 2 Axes>"
      ]
     },
     "metadata": {
      "needs_background": "light"
     },
     "output_type": "display_data"
    },
    {
     "name": "stdout",
     "output_type": "stream",
     "text": [
      "Accuracy:  72.81\n",
      "F1-Score:  0.0982\n",
      "Precision: 0.0522\n",
      "Recall:    0.8217\n",
      "MCC:       0.1618\n",
      "AUC:       0.7741\n",
      "CPU times: user 5.73 s, sys: 208 ms, total: 5.94 s\n",
      "Wall time: 5.73 s\n"
     ]
    },
    {
     "data": {
      "text/html": [
       "\n",
       "  <div id=\"df-019272a7-8c2a-4ac1-b5b8-80da20684077\">\n",
       "    <div class=\"colab-df-container\">\n",
       "      <div>\n",
       "<style scoped>\n",
       "    .dataframe tbody tr th:only-of-type {\n",
       "        vertical-align: middle;\n",
       "    }\n",
       "\n",
       "    .dataframe tbody tr th {\n",
       "        vertical-align: top;\n",
       "    }\n",
       "\n",
       "    .dataframe thead th {\n",
       "        text-align: right;\n",
       "    }\n",
       "</style>\n",
       "<table border=\"1\" class=\"dataframe\">\n",
       "  <thead>\n",
       "    <tr style=\"text-align: right;\">\n",
       "      <th></th>\n",
       "      <th>Model</th>\n",
       "      <th>Accuracy</th>\n",
       "      <th>F1_Score</th>\n",
       "      <th>Precision</th>\n",
       "      <th>Recall</th>\n",
       "      <th>MCC</th>\n",
       "      <th>AUC</th>\n",
       "    </tr>\n",
       "  </thead>\n",
       "  <tbody>\n",
       "    <tr>\n",
       "      <th>0</th>\n",
       "      <td>Ensemble_MCC</td>\n",
       "      <td>72.81</td>\n",
       "      <td>0.0982</td>\n",
       "      <td>0.0522</td>\n",
       "      <td>0.8217</td>\n",
       "      <td>0.1618</td>\n",
       "      <td>0.7741</td>\n",
       "    </tr>\n",
       "  </tbody>\n",
       "</table>\n",
       "</div>\n",
       "      <button class=\"colab-df-convert\" onclick=\"convertToInteractive('df-019272a7-8c2a-4ac1-b5b8-80da20684077')\"\n",
       "              title=\"Convert this dataframe to an interactive table.\"\n",
       "              style=\"display:none;\">\n",
       "        \n",
       "  <svg xmlns=\"http://www.w3.org/2000/svg\" height=\"24px\"viewBox=\"0 0 24 24\"\n",
       "       width=\"24px\">\n",
       "    <path d=\"M0 0h24v24H0V0z\" fill=\"none\"/>\n",
       "    <path d=\"M18.56 5.44l.94 2.06.94-2.06 2.06-.94-2.06-.94-.94-2.06-.94 2.06-2.06.94zm-11 1L8.5 8.5l.94-2.06 2.06-.94-2.06-.94L8.5 2.5l-.94 2.06-2.06.94zm10 10l.94 2.06.94-2.06 2.06-.94-2.06-.94-.94-2.06-.94 2.06-2.06.94z\"/><path d=\"M17.41 7.96l-1.37-1.37c-.4-.4-.92-.59-1.43-.59-.52 0-1.04.2-1.43.59L10.3 9.45l-7.72 7.72c-.78.78-.78 2.05 0 2.83L4 21.41c.39.39.9.59 1.41.59.51 0 1.02-.2 1.41-.59l7.78-7.78 2.81-2.81c.8-.78.8-2.07 0-2.86zM5.41 20L4 18.59l7.72-7.72 1.47 1.35L5.41 20z\"/>\n",
       "  </svg>\n",
       "      </button>\n",
       "      \n",
       "  <style>\n",
       "    .colab-df-container {\n",
       "      display:flex;\n",
       "      flex-wrap:wrap;\n",
       "      gap: 12px;\n",
       "    }\n",
       "\n",
       "    .colab-df-convert {\n",
       "      background-color: #E8F0FE;\n",
       "      border: none;\n",
       "      border-radius: 50%;\n",
       "      cursor: pointer;\n",
       "      display: none;\n",
       "      fill: #1967D2;\n",
       "      height: 32px;\n",
       "      padding: 0 0 0 0;\n",
       "      width: 32px;\n",
       "    }\n",
       "\n",
       "    .colab-df-convert:hover {\n",
       "      background-color: #E2EBFA;\n",
       "      box-shadow: 0px 1px 2px rgba(60, 64, 67, 0.3), 0px 1px 3px 1px rgba(60, 64, 67, 0.15);\n",
       "      fill: #174EA6;\n",
       "    }\n",
       "\n",
       "    [theme=dark] .colab-df-convert {\n",
       "      background-color: #3B4455;\n",
       "      fill: #D2E3FC;\n",
       "    }\n",
       "\n",
       "    [theme=dark] .colab-df-convert:hover {\n",
       "      background-color: #434B5C;\n",
       "      box-shadow: 0px 1px 3px 1px rgba(0, 0, 0, 0.15);\n",
       "      filter: drop-shadow(0px 1px 2px rgba(0, 0, 0, 0.3));\n",
       "      fill: #FFFFFF;\n",
       "    }\n",
       "  </style>\n",
       "\n",
       "      <script>\n",
       "        const buttonEl =\n",
       "          document.querySelector('#df-019272a7-8c2a-4ac1-b5b8-80da20684077 button.colab-df-convert');\n",
       "        buttonEl.style.display =\n",
       "          google.colab.kernel.accessAllowed ? 'block' : 'none';\n",
       "\n",
       "        async function convertToInteractive(key) {\n",
       "          const element = document.querySelector('#df-019272a7-8c2a-4ac1-b5b8-80da20684077');\n",
       "          const dataTable =\n",
       "            await google.colab.kernel.invokeFunction('convertToInteractive',\n",
       "                                                     [key], {});\n",
       "          if (!dataTable) return;\n",
       "\n",
       "          const docLinkHtml = 'Like what you see? Visit the ' +\n",
       "            '<a target=\"_blank\" href=https://colab.research.google.com/notebooks/data_table.ipynb>data table notebook</a>'\n",
       "            + ' to learn more about interactive tables.';\n",
       "          element.innerHTML = '';\n",
       "          dataTable['output_type'] = 'display_data';\n",
       "          await google.colab.output.renderOutput(dataTable, element);\n",
       "          const docLink = document.createElement('div');\n",
       "          docLink.innerHTML = docLinkHtml;\n",
       "          element.appendChild(docLink);\n",
       "        }\n",
       "      </script>\n",
       "    </div>\n",
       "  </div>\n",
       "  "
      ],
      "text/plain": [
       "          Model  Accuracy  F1_Score  Precision  Recall     MCC     AUC\n",
       "0  Ensemble_MCC     72.81    0.0982     0.0522  0.8217  0.1618  0.7741"
      ]
     },
     "execution_count": 108,
     "metadata": {},
     "output_type": "execute_result"
    }
   ],
   "source": [
    "%%time\n",
    "# Evaluate model\n",
    "get_model_metrics('Ensemble_MCC', ensemble)"
   ]
  },
  {
   "cell_type": "markdown",
   "metadata": {
    "id": "NBZZEw86ztCI"
   },
   "source": [
    "### Stacking Classifier"
   ]
  },
  {
   "cell_type": "code",
   "execution_count": 109,
   "metadata": {
    "colab": {
     "base_uri": "https://localhost:8080/"
    },
    "id": "kSjgoQ3ZztCI",
    "outputId": "67ee1e1d-feb5-48d0-edac-bb4a0c1ecdf5"
   },
   "outputs": [
    {
     "name": "stdout",
     "output_type": "stream",
     "text": [
      "CPU times: user 8min 29s, sys: 2.67 s, total: 8min 32s\n",
      "Wall time: 8min 27s\n"
     ]
    }
   ],
   "source": [
    "%%time\n",
    "# set up estimmator for classifier\n",
    "final_estimator = LogisticRegression(class_weight='balanced')\n",
    "# create the ensemble\n",
    "stk = StackingClassifier(\n",
    "    estimators=models,\n",
    "    final_estimator=final_estimator\n",
    ")\n",
    "# fit the model\n",
    "stk.fit(X_train, y_train)"
   ]
  },
  {
   "cell_type": "code",
   "execution_count": 110,
   "metadata": {
    "colab": {
     "base_uri": "https://localhost:8080/",
     "height": 516
    },
    "id": "jZ_A5NHoztCI",
    "outputId": "6459e1b2-ee82-4aa4-8eff-702e5ec584ba"
   },
   "outputs": [
    {
     "name": "stdout",
     "output_type": "stream",
     "text": [
      "[[10296  3765]\n",
      " [   48   210]]\n"
     ]
    },
    {
     "data": {
      "image/png": "[encoded data removed]",
      "text/plain": [
       "<Figure size 432x288 with 2 Axes>"
      ]
     },
     "metadata": {
      "needs_background": "light"
     },
     "output_type": "display_data"
    },
    {
     "name": "stdout",
     "output_type": "stream",
     "text": [
      "Accuracy:  73.37\n",
      "F1-Score:  0.0992\n",
      "Precision: 0.0528\n",
      "Recall:    0.814\n",
      "MCC:       0.1622\n",
      "AUC:       0.7731\n",
      "CPU times: user 5.56 s, sys: 231 ms, total: 5.79 s\n",
      "Wall time: 5.54 s\n"
     ]
    },
    {
     "data": {
      "text/html": [
       "\n",
       "  <div id=\"df-9542e94e-3374-40a1-9bef-4c8902a8685f\">\n",
       "    <div class=\"colab-df-container\">\n",
       "      <div>\n",
       "<style scoped>\n",
       "    .dataframe tbody tr th:only-of-type {\n",
       "        vertical-align: middle;\n",
       "    }\n",
       "\n",
       "    .dataframe tbody tr th {\n",
       "        vertical-align: top;\n",
       "    }\n",
       "\n",
       "    .dataframe thead th {\n",
       "        text-align: right;\n",
       "    }\n",
       "</style>\n",
       "<table border=\"1\" class=\"dataframe\">\n",
       "  <thead>\n",
       "    <tr style=\"text-align: right;\">\n",
       "      <th></th>\n",
       "      <th>Model</th>\n",
       "      <th>Accuracy</th>\n",
       "      <th>F1_Score</th>\n",
       "      <th>Precision</th>\n",
       "      <th>Recall</th>\n",
       "      <th>MCC</th>\n",
       "      <th>AUC</th>\n",
       "    </tr>\n",
       "  </thead>\n",
       "  <tbody>\n",
       "    <tr>\n",
       "      <th>0</th>\n",
       "      <td>Stacking</td>\n",
       "      <td>73.37</td>\n",
       "      <td>0.0992</td>\n",
       "      <td>0.0528</td>\n",
       "      <td>0.814</td>\n",
       "      <td>0.1622</td>\n",
       "      <td>0.7731</td>\n",
       "    </tr>\n",
       "  </tbody>\n",
       "</table>\n",
       "</div>\n",
       "      <button class=\"colab-df-convert\" onclick=\"convertToInteractive('df-9542e94e-3374-40a1-9bef-4c8902a8685f')\"\n",
       "              title=\"Convert this dataframe to an interactive table.\"\n",
       "              style=\"display:none;\">\n",
       "        \n",
       "  <svg xmlns=\"http://www.w3.org/2000/svg\" height=\"24px\"viewBox=\"0 0 24 24\"\n",
       "       width=\"24px\">\n",
       "    <path d=\"M0 0h24v24H0V0z\" fill=\"none\"/>\n",
       "    <path d=\"M18.56 5.44l.94 2.06.94-2.06 2.06-.94-2.06-.94-.94-2.06-.94 2.06-2.06.94zm-11 1L8.5 8.5l.94-2.06 2.06-.94-2.06-.94L8.5 2.5l-.94 2.06-2.06.94zm10 10l.94 2.06.94-2.06 2.06-.94-2.06-.94-.94-2.06-.94 2.06-2.06.94z\"/><path d=\"M17.41 7.96l-1.37-1.37c-.4-.4-.92-.59-1.43-.59-.52 0-1.04.2-1.43.59L10.3 9.45l-7.72 7.72c-.78.78-.78 2.05 0 2.83L4 21.41c.39.39.9.59 1.41.59.51 0 1.02-.2 1.41-.59l7.78-7.78 2.81-2.81c.8-.78.8-2.07 0-2.86zM5.41 20L4 18.59l7.72-7.72 1.47 1.35L5.41 20z\"/>\n",
       "  </svg>\n",
       "      </button>\n",
       "      \n",
       "  <style>\n",
       "    .colab-df-container {\n",
       "      display:flex;\n",
       "      flex-wrap:wrap;\n",
       "      gap: 12px;\n",
       "    }\n",
       "\n",
       "    .colab-df-convert {\n",
       "      background-color: #E8F0FE;\n",
       "      border: none;\n",
       "      border-radius: 50%;\n",
       "      cursor: pointer;\n",
       "      display: none;\n",
       "      fill: #1967D2;\n",
       "      height: 32px;\n",
       "      padding: 0 0 0 0;\n",
       "      width: 32px;\n",
       "    }\n",
       "\n",
       "    .colab-df-convert:hover {\n",
       "      background-color: #E2EBFA;\n",
       "      box-shadow: 0px 1px 2px rgba(60, 64, 67, 0.3), 0px 1px 3px 1px rgba(60, 64, 67, 0.15);\n",
       "      fill: #174EA6;\n",
       "    }\n",
       "\n",
       "    [theme=dark] .colab-df-convert {\n",
       "      background-color: #3B4455;\n",
       "      fill: #D2E3FC;\n",
       "    }\n",
       "\n",
       "    [theme=dark] .colab-df-convert:hover {\n",
       "      background-color: #434B5C;\n",
       "      box-shadow: 0px 1px 3px 1px rgba(0, 0, 0, 0.15);\n",
       "      filter: drop-shadow(0px 1px 2px rgba(0, 0, 0, 0.3));\n",
       "      fill: #FFFFFF;\n",
       "    }\n",
       "  </style>\n",
       "\n",
       "      <script>\n",
       "        const buttonEl =\n",
       "          document.querySelector('#df-9542e94e-3374-40a1-9bef-4c8902a8685f button.colab-df-convert');\n",
       "        buttonEl.style.display =\n",
       "          google.colab.kernel.accessAllowed ? 'block' : 'none';\n",
       "\n",
       "        async function convertToInteractive(key) {\n",
       "          const element = document.querySelector('#df-9542e94e-3374-40a1-9bef-4c8902a8685f');\n",
       "          const dataTable =\n",
       "            await google.colab.kernel.invokeFunction('convertToInteractive',\n",
       "                                                     [key], {});\n",
       "          if (!dataTable) return;\n",
       "\n",
       "          const docLinkHtml = 'Like what you see? Visit the ' +\n",
       "            '<a target=\"_blank\" href=https://colab.research.google.com/notebooks/data_table.ipynb>data table notebook</a>'\n",
       "            + ' to learn more about interactive tables.';\n",
       "          element.innerHTML = '';\n",
       "          dataTable['output_type'] = 'display_data';\n",
       "          await google.colab.output.renderOutput(dataTable, element);\n",
       "          const docLink = document.createElement('div');\n",
       "          docLink.innerHTML = docLinkHtml;\n",
       "          element.appendChild(docLink);\n",
       "        }\n",
       "      </script>\n",
       "    </div>\n",
       "  </div>\n",
       "  "
      ],
      "text/plain": [
       "      Model  Accuracy  F1_Score  Precision  Recall     MCC     AUC\n",
       "0  Stacking     73.37    0.0992     0.0528   0.814  0.1622  0.7731"
      ]
     },
     "execution_count": 110,
     "metadata": {},
     "output_type": "execute_result"
    }
   ],
   "source": [
    "%%time\n",
    "# evaluate model\n",
    "get_model_metrics('Stacking', stk)"
   ]
  },
  {
   "cell_type": "markdown",
   "metadata": {
    "id": "f_JeOwvTXsoW"
   },
   "source": [
    "### Bagging Classifier"
   ]
  },
  {
   "cell_type": "code",
   "execution_count": 111,
   "metadata": {
    "colab": {
     "base_uri": "https://localhost:8080/",
     "height": 453
    },
    "id": "qENl-jC_X3Vy",
    "outputId": "c3085ce7-32b8-44f4-c142-38e6188ded60"
   },
   "outputs": [
    {
     "name": "stdout",
     "output_type": "stream",
     "text": [
      "[[10399  3662]\n",
      " [   48   210]]\n"
     ]
    },
    {
     "data": {
      "image/png": "[encoded data removed]",
      "text/plain": [
       "<Figure size 432x288 with 2 Axes>"
      ]
     },
     "metadata": {
      "needs_background": "light"
     },
     "output_type": "display_data"
    },
    {
     "name": "stdout",
     "output_type": "stream",
     "text": [
      "Accuracy:  74.09\n",
      "F1-Score:  0.1017\n",
      "Precision: 0.0542\n",
      "Recall:    0.814\n",
      "MCC:       0.1658\n",
      "AUC:       0.7768\n",
      "CPU times: user 2.46 s, sys: 111 ms, total: 2.57 s\n",
      "Wall time: 2.62 s\n"
     ]
    }
   ],
   "source": [
    "%%time \n",
    "# create the ensemble and fit model\n",
    "clf = BaggingClassifier(base_estimator=logit, n_estimators=10,\n",
    "                        random_state=42).fit(X_train, y_train)\n",
    "# evaluate model\n",
    "get_model_metrics('Ensemble_bag', clf)                    "
   ]
  },
  {
   "cell_type": "code",
   "execution_count": 114,
   "metadata": {
    "id": "3b2YjIATXvMs"
   },
   "outputs": [],
   "source": []
  }
 ],
 "metadata": {
  "colab": {
   "collapsed_sections": [],
   "name": "BreitbachScott_DSC680_Project2.ipynb",
   "provenance": [],
   "toc_visible": true
  },
  "gpuClass": "standard",
  "kernelspec": {
   "display_name": "Python 3 (ipykernel)",
   "language": "python",
   "name": "python3"
  },
  "language_info": {
   "codemirror_mode": {
    "name": "ipython",
    "version": 3
   },
   "file_extension": ".py",
   "mimetype": "text/x-python",
   "name": "python",
   "nbconvert_exporter": "python",
   "pygments_lexer": "ipython3",
   "version": "3.9.7"
  }
 },
 "nbformat": 4,
 "nbformat_minor": 4
}
